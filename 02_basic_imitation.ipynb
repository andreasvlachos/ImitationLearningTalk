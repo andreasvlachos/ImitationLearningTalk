{
 "cells": [
  {
   "cell_type": "code",
   "execution_count": 3,
   "metadata": {
    "collapsed": false,
    "deletable": true,
    "editable": true,
    "slideshow": {
     "slide_type": "skip"
    }
   },
   "outputs": [
    {
     "data": {
      "text/plain": [
       "{'progress': 'true',\n",
       " 'start_slideshow_at': 'selected',\n",
       " 'theme': 'solarized',\n",
       " 'transition': 'slide'}"
      ]
     },
     "execution_count": 3,
     "metadata": {},
     "output_type": "execute_result"
    }
   ],
   "source": [
    "from IPython.html.services.config import ConfigManager\n",
    "from IPython.paths import locate_profile\n",
    "cm = ConfigManager(profile_dir=locate_profile(get_ipython().profile))\n",
    "cm.update('livereveal', {\n",
    "              'theme': 'solarized',\n",
    "              'transition': 'slide',\n",
    "              'start_slideshow_at': 'selected',\n",
    "              'progress': 'true',\n",
    "})"
   ]
  },
  {
   "cell_type": "markdown",
   "metadata": {
    "deletable": true,
    "editable": true,
    "slideshow": {
     "slide_type": "slide"
    }
   },
   "source": [
    "<center>\n",
    "<h2>Imitation learning</h2>\n",
    "</center>"
   ]
  },
  {
   "cell_type": "markdown",
   "metadata": {
    "deletable": true,
    "editable": true,
    "slideshow": {
     "slide_type": "slide"
    }
   },
   "source": [
    "### Imitation learning for part-of-speech tagging\n",
    "\n",
    "<table style=\"float: left;\">\n",
    "<thead>\n",
    "<tr>\n",
    "<th>I</th>\n",
    "<th>can</th>\n",
    "<th>fly</th>\n",
    "</tr>\n",
    "</thead>\n",
    "<tbody>\n",
    "<tr>\n",
    "<td><span>Pronoun</span></td>\n",
    "<td><span>Modal</span></td>\n",
    "<td><span>Verb</span></td>\n",
    "</tr>\n",
    "</tbody>\n",
    "</table>"
   ]
  },
  {
   "cell_type": "markdown",
   "metadata": {
    "deletable": true,
    "editable": true,
    "slideshow": {
     "slide_type": "fragment"
    }
   },
   "source": [
    "**Q1: Transition system**?"
   ]
  },
  {
   "cell_type": "markdown",
   "metadata": {
    "deletable": true,
    "editable": true,
    "slideshow": {
     "slide_type": "fragment"
    }
   },
   "source": [
    "Label each token with a PoS tag, left-to-right"
   ]
  },
  {
   "cell_type": "markdown",
   "metadata": {
    "deletable": true,
    "editable": true,
    "slideshow": {
     "slide_type": "fragment"
    }
   },
   "source": [
    "**Q2: Task loss**?"
   ]
  },
  {
   "cell_type": "markdown",
   "metadata": {
    "deletable": true,
    "editable": true,
    "slideshow": {
     "slide_type": "fragment"
    }
   },
   "source": [
    "Hamming loss: the number of incorrectly predicted tags in a sentence"
   ]
  },
  {
   "cell_type": "markdown",
   "metadata": {
    "deletable": true,
    "editable": true,
    "slideshow": {
     "slide_type": "fragment"
    }
   },
   "source": [
    "**Q3: Expert policy**?"
   ]
  },
  {
   "cell_type": "markdown",
   "metadata": {
    "deletable": true,
    "editable": true,
    "slideshow": {
     "slide_type": "fragment"
    }
   },
   "source": [
    "For each word, return the label from the gold standard"
   ]
  },
  {
   "cell_type": "markdown",
   "metadata": {
    "deletable": true,
    "editable": true,
    "slideshow": {
     "slide_type": "slide"
    }
   },
   "source": [
    "<h3>Gold standard in search space</h3>\n",
    "\n",
    "<img src=\"images/tikz/posImitGold.png\" style=\"width:75%; float:left;\">\n",
    "<br>\n",
    "<p style=\"float:left;\">\n",
    "Three actions to complete the output\n",
    "<br>\n",
    "Expert policy replicates the gold standard\n",
    "</p>"
   ]
  },
  {
   "cell_type": "markdown",
   "metadata": {
    "deletable": true,
    "editable": true,
    "slideshow": {
     "slide_type": "subslide"
    }
   },
   "source": [
    "<h3>Training a classifier<span class=\"fragment\" data-fragment-index=\"1\"> with structure features </span></h3>\n",
    "\n",
    "<img src=\"images/tikz/posImitClassifierTraining.png\" style=\"width:75%; float:left;\">\n",
    "\n",
    "<table style=\"float:left;\">\n",
    "<thead>\n",
    "<tr>\n",
    "<th>word</th>\n",
    "<th>label</th>\n",
    "<th>features</th>\n",
    "</tr>\n",
    "</thead>\n",
    "<tbody>\n",
    "<tr>\n",
    "<td><i>I</i></td>\n",
    "<td><b>Pronoun</b></td>\n",
    "<td>token=I, ...<span class=\"fragment\" data-fragment-index=\"1\">, <font color=\"red\">prev=<b>NULL</b></font></span></td>\n",
    "</tr>\n",
    "<tr>\n",
    "<td><i>can</i></td>\n",
    "<td><b>Modal</b></td>\n",
    "<td>token=can, ...<span class=\"fragment\" data-fragment-index=\"1\">, <font color=\"red\">prev=<b>Pronoun</b></font></span></td>\n",
    "</tr>\n",
    "<tr>\n",
    "<td><i>fly</i></td>\n",
    "<td><b>Verb</b></td>\n",
    "<td>token=fly, ...<span class=\"fragment\" data-fragment-index=\"1\">, <font color=\"red\">prev=<b>Modal</b></font></span></td>\n",
    "</tr>\n",
    "</tbody>\n",
    "</table>\n",
    "\n",
    "<p style=\"float:left; font-size: 70%\" class=\"fragment\" data-fragment-index=\"2\">If logistic regression and $k$ previous tags are used, same as training a $kth$-order Maximum Entropy Markov Model (<a href=\"http://people.csail.mit.edu/mcollins/6864/slides/memm.pdf\">McCallum et al., 2000</a>)</p>"
   ]
  },
  {
   "cell_type": "markdown",
   "metadata": {
    "deletable": true,
    "editable": true,
    "slideshow": {
     "slide_type": "notes"
    }
   },
   "source": [
    "The feature restricition though is needed only to be able to use dynamic programming (i.e. Viterbi) for efficient joint inference. In incremental model though this is not needed thus features can use all previous tags."
   ]
  },
  {
   "cell_type": "markdown",
   "metadata": {
    "deletable": true,
    "editable": true,
    "slideshow": {
     "slide_type": "slide"
    }
   },
   "source": [
    "### Falling off the expert trajectory"
   ]
  },
  {
   "cell_type": "markdown",
   "metadata": {
    "deletable": true,
    "editable": true,
    "slideshow": {
     "slide_type": "slide"
    }
   },
   "source": [
    "### Dagger\n",
    "\n",
    "Maybe use some of the driving images here\n",
    "\n",
    "Also talk about the meaning of the learning rate\n",
    "\n",
    "introduce *roll-in*"
   ]
  },
  {
   "cell_type": "markdown",
   "metadata": {
    "deletable": true,
    "editable": true,
    "slideshow": {
     "slide_type": "slide"
    }
   },
   "source": [
    "### Is that all?\n",
    "\n",
    "So far we looked at how to deal with previous errors, also known as exposure bias.\n",
    "\n",
    "What about the future ones?"
   ]
  },
  {
   "cell_type": "markdown",
   "metadata": {
    "deletable": true,
    "editable": true,
    "slideshow": {
     "slide_type": "slide"
    }
   },
   "source": [
    "### Training labels as costs\n",
    "\n",
    "<img src=\"images/tikz/posImitClassifierTraining.png\" style=\"width:75%; float:left;\">\n",
    "\n",
    "<table style=\"float:left;\">\n",
    "<thead>\n",
    "<tr>\n",
    "<th>word</th>\n",
    "<th><b>Pronoun</b></th>\n",
    "<th><b>Modal</b></th>\n",
    "<th><b>Verb</b></th>\n",
    "<th><b>Noun</b></th>\n",
    "<th>features</th>\n",
    "</tr>\n",
    "</thead>\n",
    "<tbody>\n",
    "<tr>\n",
    "<td><i>I</i></td>\n",
    "<td>0</td>\n",
    "<td>1</td>\n",
    "<td>1</td>\n",
    "<td>1</td>\n",
    "<td>token=I, prev=<b>NULL</b>...</td>\n",
    "</tr>\n",
    "<tr>\n",
    "<td>can</td>\n",
    "<td>1</td>\n",
    "<td>0</td>\n",
    "<td>1</td>\n",
    "<td>1</td>\n",
    "<td>token=can, prev=<b>Pronoun</b>...</td>\n",
    "</tr>\n",
    "<tr>\n",
    "<td>fly</td>\n",
    "<td>1</td>\n",
    "<td>1</td>\n",
    "<td>0</td>\n",
    "<td>1</td>\n",
    "<td>token=fly, prev=<b>Modal</b>...</td>\n",
    "</tr>\n",
    "</tbody>\n",
    "</table>"
   ]
  },
  {
   "cell_type": "markdown",
   "metadata": {
    "deletable": true,
    "editable": true,
    "slideshow": {
     "slide_type": "subslide"
    }
   },
   "source": [
    "<h3>Cost break down</h3>\n",
    "\n",
    "<img src=\"images/tikz/posImitActionCosting1.png\" style=\"width:50%\">\n",
    "<img src=\"images/tikz/posImitActionCosting2.png\" style=\"width:50%\">\n",
    "<p style=\"float:left;\">\n",
    "<ul>\n",
    "<li><i>roll-in</i> to a point in the sentence</li>\n",
    "<li>try each possible label and <i>rollout</i> till the end</li>\n",
    "<li>evaluate the complete output with the task loss</li>\n",
    "<li>If <i>roll-out</i> with expert, correct action has 0 cost, incorrect 1.</li>\n",
    "</ul>\n",
    "</p>"
   ]
  },
  {
   "cell_type": "markdown",
   "metadata": {
    "deletable": true,
    "editable": true,
    "slideshow": {
     "slide_type": "subslide"
    }
   },
   "source": [
    "### Mixed roll-outs"
   ]
  },
  {
   "cell_type": "markdown",
   "metadata": {
    "deletable": true,
    "editable": true,
    "slideshow": {
     "slide_type": "slide"
    }
   },
   "source": [
    "### DAgger with roll-outs\n",
    "\n",
    "Algorithm"
   ]
  },
  {
   "cell_type": "markdown",
   "metadata": {
    "deletable": true,
    "editable": true,
    "slideshow": {
     "slide_type": "subslide"
    }
   },
   "source": [
    "### Roll-outs\n",
    "\n",
    "First proposed in SEARN,\n",
    "\n",
    "\n",
    "also used to hybridise DAgger by Vlachos\n",
    "\n",
    "Also known as look-aheads ([Tsuruoka et al. 2011](http://www.anthology.aclweb.org/W/W11/W11-0328.pdf)) and shown to help incremental, transition-based models rival global ones.\n",
    "\n",
    "\n",
    "Very useful, but can be expensive (wait for second part how to help ourselves!)\n"
   ]
  },
  {
   "cell_type": "markdown",
   "metadata": {
    "deletable": true,
    "editable": true,
    "slideshow": {
     "slide_type": "slide"
    }
   },
   "source": [
    "### LoLS"
   ]
  },
  {
   "cell_type": "markdown",
   "metadata": {
    "slideshow": {
     "slide_type": "slide"
    }
   },
   "source": [
    "<h3>Generic imitation learning</h3>\n",
    "\n",
    "<p style=\"border:3px; border-radius: 25px; background-color:lightgrey; border-style:solid; border-color:black; padding: 0.3em; font-size: 80%\">\n",
    "\t\t\t\\begin{align}\n",
    "\t\t\t\t\t& \\textbf{Input:} \\; D_{train} = \\{(\\mathbf{x}^1,\\mathbf{y}^1)...(\\mathbf{x}^M,\\mathbf{y}^M)\\}, \\; expert\\; \\pi^{\\star}, \\; loss \\; function \\; \\ell\\\\\n",
    "\t\t\t\t\t& \\textbf{Output:} \\; classifier \\; H\\\\\n",
    "\t\t\t\t\t& training\\; examples\\; \\cal E = \\emptyset\\\\\n",
    "\t\t\t\t\t& \\mathbf{while}\\; \\text{termination condition not reached}\\; \\mathbf{do}\\\\\n",
    "\t\t\t\t\t& \\quad \\text{set} \\; rollin \\; policy \\; \\pi^{in} = mix(H,\\pi^{\\star})\\\\\n",
    "\t\t\t\t\t& \\quad \\text{set} \\; rollout \\; policy \\; \\pi^{out} = mix(H,\\pi^{\\star})\\\\\n",
    "\t\t\t\t\t& \\quad \\mathbf{for} \\; (\\mathbf{x},\\mathbf{y}) \\in D_{train} \\; \\mathbf{do}\\\\\n",
    "\t\t\t\t\t& \\quad \\quad \\text{rollin to predict} \\; \\hat y_1\\dots\\hat y_N  = \\pi^{in}(\\mathbf{x})\\\\\n",
    "\t\t\t\t\t& \\quad \\quad \\mathbf{for} \\; \\hat y_n \\in \\hat y_1\\dots\\hat y_N \\; \\mathbf{do}\\\\\n",
    "\t\t\t\t\t& \\quad \\quad \\quad \\text{extract features}\\; f=\\phi(\\mathbf{x},\\hat y_1\\dots \\hat y_n) \\\\\n",
    "\t\t\t\t\t& \\quad \\quad \\quad \\text{rollout to obtain costs}\\; c \\; \\text{for all possible actions using}\\; \\ell\\;  \\\\\n",
    "\t\t\t\t\t& \\quad \\quad \\quad \\cal E = \\cal E \\cup (f,c)\\\\\n",
    "\t\t\t\t\t& \\quad \\text{learn} \\; H\\; \\text{from}\\; \\cal E\\\\\n",
    "\t\t\t\t\t\\end{align}\n",
    "\t\t\t\t</p>"
   ]
  },
  {
   "cell_type": "markdown",
   "metadata": {
    "deletable": true,
    "editable": true,
    "slideshow": {
     "slide_type": "subslide"
    }
   },
   "source": [
    "### Comparison\n",
    "\n",
    "SEARN, DAgger, V-DAgger and LoLS\n",
    "\n",
    "Goodman style"
   ]
  },
  {
   "cell_type": "markdown",
   "metadata": {
    "collapsed": true,
    "deletable": true,
    "editable": true,
    "slideshow": {
     "slide_type": "slide"
    }
   },
   "source": [
    "### Summary so far"
   ]
  },
  {
   "cell_type": "code",
   "execution_count": null,
   "metadata": {
    "collapsed": true
   },
   "outputs": [],
   "source": []
  }
 ],
 "metadata": {
  "celltoolbar": "Slideshow",
  "kernelspec": {
   "display_name": "Python 3",
   "language": "python",
   "name": "python3"
  },
  "language_info": {
   "codemirror_mode": {
    "name": "ipython",
    "version": 3
   },
   "file_extension": ".py",
   "mimetype": "text/x-python",
   "name": "python",
   "nbconvert_exporter": "python",
   "pygments_lexer": "ipython3",
   "version": "3.5.2"
  }
 },
 "nbformat": 4,
 "nbformat_minor": 2
}
