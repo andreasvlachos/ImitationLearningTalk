{
 "cells": [
  {
   "cell_type": "markdown",
   "metadata": {
    "deletable": true,
    "editable": true,
    "slideshow": {
     "slide_type": "slide"
    }
   },
   "source": [
    "### First part recap ###\n",
    "\n",
    "Imitation Learning<br><br>\n",
    "\n",
    "**Meta-learning** for action-based models: <br>\n",
    "improve classifier by generating training from demonstrations "
   ]
  },
  {
   "cell_type": "markdown",
   "metadata": {
    "deletable": true,
    "editable": true,
    "slideshow": {
     "slide_type": "subslide"
    }
   },
   "source": [
    "### Rollin ###\n",
    "\n",
    "For each training instance:\n",
    "- construct an action sequence,\n",
    "- incrementally transform initial to terminal state.\n",
    "\n",
    "\n",
    "- Available actions wrt transition system.\n",
    "<center>\n",
    "<img src=\"images/IL_rollin.png\">\n",
    "</center>"
   ]
  },
  {
   "cell_type": "markdown",
   "metadata": {
    "deletable": true,
    "editable": true,
    "slideshow": {
     "slide_type": "subslide"
    }
   },
   "source": [
    "### Rollin ###\n",
    "\n",
    "For each training instance:\n",
    "- construct an action sequence,\n",
    "- incrementally transform initial to terminal state.\n",
    "\n",
    "\n",
    "- Available actions wrt transition system.\n",
    "<center>\n",
    "<img src=\"images/IL_rollin_zoom.png\">\n",
    "</center>"
   ]
  },
  {
   "cell_type": "markdown",
   "metadata": {
    "deletable": true,
    "editable": true,
    "slideshow": {
     "slide_type": "subslide"
    }
   },
   "source": [
    "### Rollin ###\n",
    "\n",
    "Can rollin with <font color=\"blue\">classifier</font>, <font color=\"green\">expert policy</font>, or a mix.\n",
    "\n",
    "<center>\n",
    "<img src=\"images/IL_rollin_classifier.png\">\n",
    "<img src=\"images/IL_rollin_expert.png\">\n",
    "<img src=\"images/IL_rollin_mix.png\">\n",
    "</center>"
   ]
  },
  {
   "cell_type": "markdown",
   "metadata": {
    "deletable": true,
    "editable": true,
    "slideshow": {
     "slide_type": "subslide"
    }
   },
   "source": [
    "### Explore ###\n",
    "\n",
    "At each timestep:\n",
    "- explore alternative actions w.r.t transition system.\n",
    "<br><br>\n",
    "<center>\n",
    "<img src=\"images/IL_explore.png\">\n",
    "</center>"
   ]
  },
  {
   "cell_type": "markdown",
   "metadata": {
    "deletable": true,
    "editable": true,
    "slideshow": {
     "slide_type": "subslide"
    }
   },
   "source": [
    "### Explore ###\n",
    "\n",
    "Create a new training instance (feature vector):\n",
    "- cost alternative actions,\n",
    "- e.g. DAgger\n",
    "<br><br>\n",
    "<center>\n",
    "<img src=\"images/IL_explore_loss.png\">\n",
    "</center>"
   ]
  },
  {
   "cell_type": "markdown",
   "metadata": {
    "deletable": true,
    "editable": true,
    "slideshow": {
     "slide_type": "subslide"
    }
   },
   "source": [
    "### Rollout ###\n",
    "\n",
    "Or perform rollouts to cost the actions:\n",
    "- can use non-decomposable loss functions,\n",
    "- e.g. V-DAgger, SEARN, LOLS\n",
    "<br><br>\n",
    "<center>\n",
    "<img src=\"images/IL_rollout.png\">\n",
    "</center>"
   ]
  },
  {
   "cell_type": "markdown",
   "metadata": {
    "deletable": true,
    "editable": true,
    "slideshow": {
     "slide_type": "subslide"
    }
   },
   "source": [
    "### Rollin ###\n",
    "\n",
    "Can rollout with <font color=\"blue\">classifier</font>, <font color=\"green\">expert policy</font>, or a mix.\n",
    "<br><br>\n",
    "<center>\n",
    "<img src=\"images/IL_rollout_classifier.png\">\n",
    "<img src=\"images/IL_rollout_expert.png\">\n",
    "<img src=\"images/IL_rollout_mix.png\">\n",
    "</center>"
   ]
  },
  {
   "cell_type": "markdown",
   "metadata": {
    "deletable": true,
    "editable": true,
    "slideshow": {
     "slide_type": "subslide"
    }
   },
   "source": [
    "### Part 2: NLP Applications and practical advice\n",
    "\n",
    "- Applications:\n",
    "    - dependency parsing \n",
    "    - natural language generation\n",
    "    - semantic parsing"
   ]
  },
  {
   "cell_type": "markdown",
   "metadata": {
    "deletable": true,
    "editable": true,
    "slideshow": {
     "slide_type": "fragment"
    }
   },
   "source": [
    "- Practical advice\n",
    "    - making things faster\n",
    "    - debugging"
   ]
  },
  {
   "cell_type": "markdown",
   "metadata": {
    "deletable": true,
    "editable": true,
    "slideshow": {
     "slide_type": "slide"
    }
   },
   "source": [
    "<center>\n",
    "<h2>Applying Imitation Learning to Dependency Parsing</h2>\n",
    "<h3>[Goldberg and Nivre 2012](http://www.aclweb.org/anthology/C12-1059)</h3>\n",
    "</center>"
   ]
  },
  {
   "cell_type": "markdown",
   "metadata": {
    "collapsed": true,
    "deletable": true,
    "editable": true,
    "slideshow": {
     "slide_type": "subslide"
    }
   },
   "source": [
    "### Dependency parsing ###\n",
    "\n",
    "<img src=\"images/toBeAnimated/depParse1.png\">\n",
    "\n",
    "To represent the syntax of a sentence as directed labeled arcs between words.\n",
    "- Labels represent dependencies between words."
   ]
  },
  {
   "cell_type": "markdown",
   "metadata": {
    "deletable": true,
    "editable": true,
    "slideshow": {
     "slide_type": "slide"
    }
   },
   "source": [
    "### DAgger Reminder ###\n",
    "\n",
    "<p style=\"border:3px; border-radius: 25px; background-color:lightgrey; border-style:solid; border-color:black; padding: 0.3em; font-size: 75%\">\n",
    "\\begin{align}\n",
    "& \\textbf{Input:} \\; D_{train} = \\{(\\mathbf{x}^1,\\mathbf{y}^1)...(\\mathbf{x}^M,\\mathbf{y}^M)\\}, \\; expert\\; \\pi^{\\star}, \\; loss \\; function \\; L,\\\\\n",
    "& classifier \\; H,\\; training\\; examples\\; \\cal E = \\emptyset, \\; expert\\; probability\\; \\beta=1\\\\\n",
    "& \\mathbf{while}\\; \\text{termination condition not reached}\\; \\mathbf{do}\\\\\n",
    "& \\quad \\color{red}{\\text{set} \\; rollin \\; policy \\; \\pi^{in} = (1-\\beta) \\; H + \\beta \\pi^{\\star}}\\\\\n",
    "& \\quad \\mathbf{for} \\; (\\mathbf{x},\\mathbf{y}) \\in D_{train} \\; \\mathbf{do}\\\\\n",
    "& \\quad \\quad \\color{red}{\\text{rollin to predict} \\; \\hat \\alpha_1\\dots\\hat \\alpha_T  = \\pi^{in}(\\mathbf{x},\\mathbf{y})}\\\\\n",
    "& \\quad \\quad \\mathbf{for} \\; \\hat \\alpha_t \\in \\hat \\alpha_1\\dots\\hat \\alpha_T \\; \\mathbf{do}\\\\\n",
    "& \\quad \\quad \\quad \\color{red}{\\text{ask expert for } \\underline{\\text{a set of best actions}}\\; \\{\\alpha_{1}^{\\star}\\dots\\alpha_{k}^{\\star}\\} = \\pi^{\\star}(\\mathbf{x},S_{t-1})} \\\\\n",
    "& \\quad \\quad \\quad \\text{extract } features=\\phi(\\mathbf{x},S_{t-1}) \\\\\n",
    "& \\quad \\quad \\quad \\cal E = \\cal E \\cup (features,\\alpha^{\\star})\\\\\n",
    "& \\quad \\text{learn classifier} \\; \\text{from}\\; \\cal E\\\\\n",
    "& \\quad \\text{decrease} \\; \\beta\\\\\n",
    "\\end{align}\n",
    "</p>"
   ]
  },
  {
   "cell_type": "markdown",
   "metadata": {
    "deletable": true,
    "editable": true,
    "slideshow": {
     "slide_type": "subslide"
    }
   },
   "source": [
    "To apply Imitation Learning on any task, we need to define:\n",
    "- Transition\n",
    "- Loss function\n",
    "- Expert policy"
   ]
  },
  {
   "cell_type": "markdown",
   "metadata": {
    "deletable": true,
    "editable": true,
    "slideshow": {
     "slide_type": "subslide"
    }
   },
   "source": [
    "### Transition system? ###\n",
    "\n",
    "We can assume any transition-based system (e.g. Arc-Eager).\n",
    "\n",
    "<span class=\"fragment\" data-fragment-index=\"1\"> <b>State:</b> arcs, stack, and buffer.</span>\n",
    "<br>\n",
    "<br>\n",
    "<span class=\"fragment\" data-fragment-index=\"2\"> <b>Action space:</b> <br> <span style=\"font-variant: small-caps;\">Shift, Reduce, Arc-Left</span>, and <span style=\"font-variant: small-caps;\">Arc-Right.</span></span>\n",
    "<ul>\n",
    "<li class=\"fragment\" data-fragment-index=\"3\"><span style=\"font-variant: small-caps;\">Arc-Left</span> / <span style=\"font-variant: small-caps;\">Arc-Right</span> combine with arc labels, </li>\n",
    "<li class=\"fragment\" data-fragment-index=\"4\"> but limited #labels in dependency parsing (~50).</li>\n",
    "</ul>"
   ]
  },
  {
   "cell_type": "markdown",
   "metadata": {
    "deletable": true,
    "editable": true,
    "slideshow": {
     "slide_type": "subslide"
    }
   },
   "source": [
    "The length of the transition sequence is variable.\n",
    "<br>\n",
    "<center>\n",
    "<img src=\"images/stateTransitExpert.png\">\n",
    "</center><br>\n",
    "<span style=\"font-variant: small-caps;\">Shift -> Shift -> Arc-Right -> Shift -> ... -> Arc-Left</span>\n",
    "<br>\n",
    "<ul>\n",
    "<li class=\"fragment\" data-fragment-index=\"2\">Bounded (but not fixed) by length of sentence. </li>\n",
    "<li class=\"fragment\" data-fragment-index=\"3\">In what task would it be fixed? <span class=\"fragment\" data-fragment-index=\"4\"><b>POS tagging!</b></li>\n",
    "</ul>"
   ]
  },
  {
   "cell_type": "markdown",
   "metadata": {
    "collapsed": false,
    "deletable": true,
    "editable": true,
    "slideshow": {
     "slide_type": "subslide"
    }
   },
   "source": [
    "<center><h3><span style=\"font-variant: small-caps;color: white\">...</span></h3><br><br>\n",
    "<img src=\"images/toBeAnimated/transitionEx_1.png\">\n",
    "</center>\n",
    "<font size=\"5\">\n",
    "<b>Stack:</b> -\n",
    "<br>\n",
    "<b>Buffer:</b> ROOT, 'economic', 'news', 'had', 'little', 'effect', 'on', 'financial', 'markets', '.'\n",
    "</font>\t"
   ]
  },
  {
   "cell_type": "markdown",
   "metadata": {
    "collapsed": false,
    "deletable": true,
    "editable": true,
    "slideshow": {
     "slide_type": "subslide"
    }
   },
   "source": [
    "<center><h3><span style=\"font-variant: small-caps;\">Shift</span></h3><br><br>\n",
    "<img src=\"images/toBeAnimated/transitionEx_1.png\">\n",
    "</center>\n",
    "<font size=\"5\">\n",
    "<b>Stack:</b> <font color=\"green\"><b><i>ROOT</i></b></font>\n",
    "<br>\n",
    "<b>Buffer:</b> 'economic', 'news', 'had', 'little', 'effect', 'on', 'financial', 'markets', '.'\n",
    "</font>\t"
   ]
  },
  {
   "cell_type": "markdown",
   "metadata": {
    "collapsed": false,
    "deletable": true,
    "editable": true,
    "slideshow": {
     "slide_type": "subslide"
    }
   },
   "source": [
    "<center><h3><span style=\"font-variant: small-caps;\">Shift</span></h3><br><br>\n",
    "<img src=\"images/toBeAnimated/transitionEx_1.png\">\n",
    "</center>\n",
    "<font size=\"5\">\n",
    "<b>Stack:</b> ROOT, <font color=\"green\"><b><i>'economic'</i></b></font>\n",
    "<br>\n",
    "<b>Buffer:</b> 'news', 'had', 'little', 'effect', 'on', 'financial', 'markets', '.'\n",
    "</font>\t"
   ]
  },
  {
   "cell_type": "markdown",
   "metadata": {
    "collapsed": false,
    "deletable": true,
    "editable": true,
    "slideshow": {
     "slide_type": "subslide"
    }
   },
   "source": [
    "<center><h3><span style=\"font-variant: small-caps;\">Arc-Left:</span> amod</h3><br><br>\n",
    "<img src=\"images/toBeAnimated/transitionEx_2.png\">\n",
    "</center>\n",
    "<font size=\"5\">\n",
    "<b>Stack:</b> ROOT\n",
    "<br>\n",
    "<b>Buffer:</b> 'news', 'had', 'little', 'effect', 'on', 'financial', 'markets', '.'\n",
    "</font>\t"
   ]
  },
  {
   "cell_type": "markdown",
   "metadata": {
    "collapsed": false,
    "deletable": true,
    "editable": true,
    "slideshow": {
     "slide_type": "subslide"
    }
   },
   "source": [
    "<center><h3><span style=\"font-variant: small-caps;\">Shift</span></h3><br><br>\n",
    "<img src=\"images/toBeAnimated/transitionEx_2.png\">\n",
    "</center>\n",
    "<font size=\"5\">\n",
    "<b>Stack:</b> ROOT, <font color=\"green\"><b><i>'news'</i></b></font>\n",
    "<br>\n",
    "<b>Buffer:</b> 'had', 'little', 'effect', 'on', 'financial', 'markets', '.'\n",
    "</font>\t"
   ]
  },
  {
   "cell_type": "markdown",
   "metadata": {
    "collapsed": false,
    "deletable": true,
    "editable": true,
    "slideshow": {
     "slide_type": "subslide"
    }
   },
   "source": [
    "<center><h3><span style=\"font-variant: small-caps;\">Arc-Left:</span> nsubj</h3><br><br>\n",
    "<img src=\"images/toBeAnimated/transitionEx_3.png\">\n",
    "</center>\n",
    "<font size=\"5\">\n",
    "<b>Stack:</b> ROOT\n",
    "<br>\n",
    "<b>Buffer:</b> 'had', 'little', 'effect', 'on', 'financial', 'markets', '.'\n",
    "</font>\t"
   ]
  },
  {
   "cell_type": "markdown",
   "metadata": {
    "collapsed": false,
    "deletable": true,
    "editable": true,
    "slideshow": {
     "slide_type": "subslide"
    }
   },
   "source": [
    "<center><h3>and so on</h3><br><br>\n",
    "<img src=\"images/toBeAnimated/depParse1.png\">\n",
    "</center>\n",
    "<font size=\"5\">\n",
    "<b>Stack:</b> ROOT\n",
    "<br>\n",
    "<b>Buffer:</b> -\n",
    "</font>\t"
   ]
  },
  {
   "cell_type": "markdown",
   "metadata": {
    "deletable": true,
    "editable": true,
    "slideshow": {
     "slide_type": "slide"
    }
   },
   "source": [
    "### Loss function? ###\n",
    "\n",
    "<b>Hamming loss:</b> given predicted arcs, how many parents and labels were incorrectly predicted?\n",
    "<br>\n",
    "<ul>\n",
    "<li class=\"fragment\" data-fragment-index=\"2\"> Directly corresponds to attachment score metrics used to evaluate dependency parsers. </li>\n",
    "<li class=\"fragment\" data-fragment-index=\"3\"> Costs dependencies, not actions directly.</li>\n",
    "<li class=\"fragment\" data-fragment-index=\"4\"> Decomposable? <span class=\"fragment\" data-fragment-index=\"5\"><b>Not with this transition model!</b> Cannot score <span style=\"font-variant: small-caps;\">Shift</span> independent of <span style=\"font-variant: small-caps;\">Arc-Right</span>!</span></li>\n",
    "</ul>"
   ]
  },
  {
   "cell_type": "markdown",
   "metadata": {
    "deletable": true,
    "editable": true,
    "slideshow": {
     "slide_type": "subslide"
    }
   },
   "source": [
    "### Expert policy? ###\n",
    "\n",
    "<center>\n",
    "<img src=\"images/oracle-delphi.jpg\">\n",
    "</center>\n",
    "\n",
    "\n",
    "Returns the best action at the current state by looking at the gold standard assuming future actions are also optimal:\n",
    "\n",
    "$$\\alpha^{\\star}=\\pi^{\\star}(S_t, \\mathbf{y}) = \\mathop{\\arg \\min}_{\\alpha \\in {\\cal A}} L(S_t(\\alpha,\\pi^{\\star}),\\mathbf{y})$$"
   ]
  },
  {
   "cell_type": "markdown",
   "metadata": {
    "deletable": true,
    "editable": true,
    "slideshow": {
     "slide_type": "subslide"
    }
   },
   "source": [
    "### How do we make an expert policy? ###\n",
    "\n",
    "We can derive a <b>static</b> transition sequence from initial to terminal state using the golden standard.<ul><li>Static expert policy.</li></ul>\n",
    "<br>\n",
    "<center>\n",
    "<span class=\"fragment\" data-fragment-index=\"1\" style=\"font-variant: small-caps;\">Shift -> Shift -> Arc-Right -> Shift -> ... -> Arc-Left</span>\n",
    "<br>\n",
    "</center>"
   ]
  },
  {
   "cell_type": "markdown",
   "metadata": {
    "deletable": true,
    "editable": true,
    "slideshow": {
     "slide_type": "subslide"
    }
   },
   "source": [
    "Static expert assumes previous actions (rollin) are optimal,<ul><li>or that optimal action independent of rollin actions.</li></ul>\n",
    "\n",
    "<center>\n",
    "<img src=\"images/stateTransit.png\" width=\"90%\">\n",
    "</center>"
   ]
  },
  {
   "cell_type": "markdown",
   "metadata": {
    "deletable": true,
    "editable": true,
    "slideshow": {
     "slide_type": "fragment"
    }
   },
   "source": [
    "<center>\n",
    "<img src=\"images/stateTransitErrorPart.png\" width=\"90%\">\n",
    "</center>"
   ]
  },
  {
   "cell_type": "markdown",
   "metadata": {
    "deletable": true,
    "editable": true,
    "slideshow": {
     "slide_type": "fragment"
    }
   },
   "source": [
    "Static expert has not encountered this state before.<ul><li class=\"fragment\" data-fragment-index=\"10\">Cannot know which is the optimal action. </li><li class=\"fragment\" data-fragment-index=\"11\"> May default to an action (e.g. <span style=\"font-variant: small-caps;\">Shift</span>).</li><ul>"
   ]
  },
  {
   "cell_type": "markdown",
   "metadata": {
    "deletable": true,
    "editable": true,
    "slideshow": {
     "slide_type": "subslide"
    }
   },
   "source": [
    "A static expert may be sufficient for tasks where we do not care whether the previous actions were optimal.\n",
    "<ul><li class=\"fragment\" data-fragment-index=\"1\"> What would such a task be? <span class=\"fragment\" data-fragment-index=\"2\"> <b>POS tagging.</b></span></li></ul>"
   ]
  },
  {
   "cell_type": "markdown",
   "metadata": {
    "deletable": true,
    "editable": true,
    "slideshow": {
     "slide_type": "fragment"
    }
   },
   "source": [
    "<table style=\"border-style: hidden; border-collapse: collapse; padding: 50px\"><tr><th>I</th> \n",
    "<th>studied</th>\n",
    "<th>in</th>\n",
    "<th>London</th>\n",
    "<th>with</th>\n",
    "<th>Sebastian</th>\n",
    "<th>Riedel</th></tr><tr>\n",
    "<td>PRP</td>\n",
    "<td>VBD</td>\n",
    "<td>DET</td>\n",
    "<td>NNP</td>\n",
    "<td><font color=\"red\"><b>VBD</b></font></td>\n",
    "<td>NNP</td>\n",
    "<td>NNP</td></tr></table>\n",
    "<br>\n",
    "- If the previous word is tagged incorrectly, the expert policy's suggestion remains the <b>same</b> and <b>optimal</b>!"
   ]
  },
  {
   "cell_type": "markdown",
   "metadata": {
    "deletable": true,
    "editable": true,
    "slideshow": {
     "slide_type": "subslide"
    }
   },
   "source": [
    "### Rollin mistakes in dependency parsing ###\n",
    "\n",
    "Let's assume that we rollin using the classifier."
   ]
  },
  {
   "cell_type": "markdown",
   "metadata": {
    "deletable": true,
    "editable": true,
    "slideshow": {
     "slide_type": "subslide"
    }
   },
   "source": [
    "<center><h3><span style=\"font-variant: small-caps; color: green;\">Arc-Right:</span> iobj ?</h3><br><br>\n",
    "<img src=\"images/toBeAnimated/depParse_mistake_1.png\">\n",
    "</center>\n",
    "<font size=\"5\">\n",
    "<b>Stack:</b> 'wrote'\n",
    "<br>\n",
    "<b>Buffer:</b> 'her', 'a', 'letter', '.'\n",
    "</font>\t"
   ]
  },
  {
   "cell_type": "markdown",
   "metadata": {
    "deletable": true,
    "editable": true,
    "slideshow": {
     "slide_type": "subslide"
    }
   },
   "source": [
    "<center><h3><span style=\"font-variant: small-caps; color: red;\">Shift</span></h3><br><br>\n",
    "<img src=\"images/toBeAnimated/depParse_mistake_2.png\">\n",
    "</center>\n",
    "<font size=\"5\">\n",
    "<b>Stack:</b> 'wrote', <font color=\"green\"><b><i>'her'</i></b></font>\n",
    "<br>\n",
    "<b>Buffer:</b> 'a', 'letter', '.'\n",
    "</font>\t"
   ]
  },
  {
   "cell_type": "markdown",
   "metadata": {
    "deletable": true,
    "editable": true,
    "slideshow": {
     "slide_type": "subslide"
    }
   },
   "source": [
    "<center><h3>Default: <span style=\"font-variant: small-caps;\">Shift</span></h3><br><br>\n",
    "<img src=\"images/toBeAnimated/depParse_mistake_2.png\">\n",
    "</center>\n",
    "<font size=\"5\">\n",
    "<b>Stack:</b> 'wrote', 'her', <font color=\"green\"><b><i>'a'</i></b></font>\n",
    "<br>\n",
    "<b>Buffer:</b> 'letter', '.'\n",
    "</font>\t"
   ]
  },
  {
   "cell_type": "markdown",
   "metadata": {
    "deletable": true,
    "editable": true,
    "slideshow": {
     "slide_type": "subslide"
    }
   },
   "source": [
    "<center><h3><span style=\"font-variant: small-caps;\">Arc-Left: </span>det</h3><br><br>\n",
    "<img src=\"images/toBeAnimated/depParse3.png\">\n",
    "</center>\n",
    "<font size=\"5\">\n",
    "<b>Stack:</b> 'wrote', 'her'\n",
    "<br>\n",
    "<b>Buffer:</b> 'letter', '.'\n",
    "</font>\t"
   ]
  },
  {
   "cell_type": "markdown",
   "metadata": {
    "deletable": true,
    "editable": true,
    "slideshow": {
     "slide_type": "subslide"
    }
   },
   "source": [
    "<center><h3>Default: <span style=\"font-variant: small-caps;\">Shift</span></h3><br><br>\n",
    "<img src=\"images/toBeAnimated/depParse3.png\">\n",
    "</center>\n",
    "<font size=\"5\">\n",
    "<b>Stack:</b> 'wrote', 'her', <font color=\"green\"><b><i>'letter'</i></b></font>\n",
    "<br>\n",
    "<b>Buffer:</b> '.'\n",
    "</font>\t"
   ]
  },
  {
   "cell_type": "markdown",
   "metadata": {
    "deletable": true,
    "editable": true,
    "slideshow": {
     "slide_type": "subslide"
    }
   },
   "source": [
    "<br><br><center><h3>Default: <span style=\"font-variant: small-caps;\">Shift</span></h3><br><br>\n",
    "<img src=\"images/toBeAnimated/depParse3.png\">\n",
    "</center>\n",
    "<font size=\"5\">\n",
    "<b>Stack:</b> 'wrote', 'her', 'letter', <font color=\"green\"><b><i>'.'</i></b></font>\n",
    "<br>\n",
    "<b>Buffer:</b> -\n",
    "</font>\t"
   ]
  },
  {
   "cell_type": "markdown",
   "metadata": {
    "deletable": true,
    "editable": true,
    "slideshow": {
     "slide_type": "fragment"
    }
   },
   "source": [
    "Static expert policy cannot recover from errors in the rollin."
   ]
  },
  {
   "cell_type": "markdown",
   "metadata": {
    "deletable": true,
    "editable": true,
    "slideshow": {
     "slide_type": "subslide"
    }
   },
   "source": [
    "### Also, what if there are multiple correct transitions? ###\n",
    "\n",
    "<img src=\"images/toBeAnimated/depParse_2.png\">\n",
    "<font size=\"5\">\n",
    "<b>Stack:</b> 'her'\n",
    "<br>\n",
    "<b>Buffer:</b> 'a', 'letter', '.'\n",
    "</font>\t\n",
    "\n",
    "Two possible actions: <span style=\"font-variant: small-caps;\">Reduce</span> 'her' / <span style=\"font-variant: small-caps;\">Shift</span> 'a'\n",
    "\n",
    "<span class=\"fragment\" data-fragment-index=\"1\">Static expert policy arbitarilly choses. </span>\n",
    "<ul>\n",
    "<li class=\"fragment\" data-fragment-index=\"2\"> But chosing any one action indirectly labels the alternative actions as incorrect!</li>\n",
    "<li class=\"fragment\" data-fragment-index=\"3\"> Leads to noise in the training signal.</li>\n",
    "</ul>"
   ]
  },
  {
   "cell_type": "markdown",
   "metadata": {
    "deletable": true,
    "editable": true,
    "slideshow": {
     "slide_type": "slide"
    }
   },
   "source": [
    "### Dynamic expert policy ###\n",
    "Determines best action, by considering the previous actions.<ul><li class=\"fragment\" data-fragment-index=\"1\">Can recover from errors.</li><li class=\"fragment\" data-fragment-index=\"2\">Allows for multiple optimal actions at each time-step.</li><ul>"
   ]
  },
  {
   "cell_type": "markdown",
   "metadata": {
    "deletable": true,
    "editable": true,
    "slideshow": {
     "slide_type": "subslide"
    }
   },
   "source": [
    "### Reachable terminal state ###\n",
    "\n",
    "Reachable terminal state:\n",
    "- Can be reached through a sequence of expert actions $\\alpha_1^{\\star}\\dots \\alpha_T^{\\star}$, and\n",
    "- no further actions can be taken at that state."
   ]
  },
  {
   "cell_type": "markdown",
   "metadata": {
    "deletable": true,
    "editable": true,
    "slideshow": {
     "slide_type": "fragment"
    }
   },
   "source": [
    "- For an optimal reachable terminal state, $L(S_{final}, \\mathbf{y}) = 0$."
   ]
  },
  {
   "cell_type": "markdown",
   "metadata": {
    "deletable": true,
    "editable": true,
    "slideshow": {
     "slide_type": "subslide"
    }
   },
   "source": [
    "### How does a dynamic expert policy work? ###\n",
    "\n",
    "For each possible action at a time-step:\n",
    "<ul><li style=\"font-variant: small-caps; color: white;\">...</li></ul>\n",
    "<br>\n",
    "<center><h3><span style=\"font-variant: small-caps; color: white;\">...</span></h3>\n",
    "<img src=\"images/toBeAnimated/depParse3.png\">\n",
    "</center>\n",
    "<font size=\"5\">\n",
    "<b>Stack:</b> 'wrote', 'her'\n",
    "<br>\n",
    "<b>Buffer:</b> 'letter', '.'\n",
    "</font>\t"
   ]
  },
  {
   "cell_type": "markdown",
   "metadata": {
    "deletable": true,
    "editable": true,
    "slideshow": {
     "slide_type": "subslide"
    }
   },
   "source": [
    "### How does a dynamic expert policy work? ###\n",
    "\n",
    "For each possible action at a time-step:\n",
    "<ul><li style=\"font-variant: small-caps;\">Arc-Left? Arc-Right? Reduce? Shift?</li></ul>\n",
    "<br>\n",
    "<center>\n",
    "<img src=\"images/expertPolicyRollOut1.png\">\n",
    "</center>\n",
    "<font size=\"5\">\n",
    "<b>Stack:</b> 'wrote', 'her'\n",
    "<br>\n",
    "<b>Buffer:</b> 'letter', '.'\n",
    "</font>\t"
   ]
  },
  {
   "cell_type": "markdown",
   "metadata": {
    "deletable": true,
    "editable": true,
    "slideshow": {
     "slide_type": "subslide"
    }
   },
   "source": [
    "### How does a dynamic expert policy work? ###\n",
    "\n",
    "For each possible action at a time-step:\n",
    "<ul><li style=\"font-variant: small-caps;\">Arc-Left? Arc-Right? Reduce? Shift?</li>\n",
    "<br>\n",
    "<li>Determine the reachable terminal state.</li>\n",
    "<li class=\"fragment\" data-fragment-index=\"2\">Use full rollout with expert?</li></ul>\n",
    "<br><br><br><br><br>"
   ]
  },
  {
   "cell_type": "markdown",
   "metadata": {
    "deletable": true,
    "editable": true,
    "slideshow": {
     "slide_type": "subslide"
    }
   },
   "source": [
    "<center><h3><span style=\"font-variant: small-caps;\">Arc-Left: </span>det?</h3><br><br>\n",
    "<img src=\"images/expertPolicyRoll2.png\">\n",
    "</center>\n",
    "<font size=\"5\">\n",
    "<b>Stack:</b> 'wrote',\n",
    "<br>\n",
    "<b>Buffer:</b> 'letter', '.'\n",
    "</font>\t"
   ]
  },
  {
   "cell_type": "markdown",
   "metadata": {
    "deletable": true,
    "editable": true,
    "slideshow": {
     "slide_type": "subslide"
    }
   },
   "source": [
    "<center><h3><span style=\"font-variant: small-caps;\">Arc-Right: </span>dobj</h3><br><br>\n",
    "<img src=\"images/expertPolicyRoll3.png\">\n",
    "</center>\n",
    "<font size=\"5\">\n",
    "<b>Stack:</b> 'wrote',\n",
    "<br>\n",
    "<b>Buffer:</b> '.'\n",
    "</font>\t"
   ]
  },
  {
   "cell_type": "markdown",
   "metadata": {
    "deletable": true,
    "editable": true,
    "slideshow": {
     "slide_type": "subslide"
    }
   },
   "source": [
    "<center><h3><span style=\"font-variant: small-caps;\">Arc-Right: </span>p</h3><br><br>\n",
    "<img src=\"images/expertPolicyRoll4.png\">\n",
    "</center>\n",
    "<font size=\"5\">\n",
    "<b>Stack:</b> 'wrote',\n",
    "<br>\n",
    "<b>Buffer:</b> -\n",
    "</font>\t"
   ]
  },
  {
   "cell_type": "markdown",
   "metadata": {
    "deletable": true,
    "editable": true,
    "slideshow": {
     "slide_type": "subslide"
    }
   },
   "source": [
    "<img src=\"images/determReachStates.png\">"
   ]
  },
  {
   "cell_type": "markdown",
   "metadata": {
    "deletable": true,
    "editable": true,
    "slideshow": {
     "slide_type": "subslide"
    }
   },
   "source": [
    "<center>\n",
    "<img src=\"images/determReachStatesScored.png\">\n",
    "</center>"
   ]
  },
  {
   "cell_type": "markdown",
   "metadata": {
    "deletable": true,
    "editable": true,
    "slideshow": {
     "slide_type": "subslide"
    }
   },
   "source": [
    "<center>\n",
    "<img src=\"images/determReachStatesScoredBest.png\">\n",
    "</center>"
   ]
  },
  {
   "cell_type": "markdown",
   "metadata": {
    "deletable": true,
    "editable": true,
    "slideshow": {
     "slide_type": "subslide"
    }
   },
   "source": [
    "### Full rollouts may be expensive ###\n",
    "\n",
    "Instead of full expert rollout, we may use heuristics!\n",
    "- i.e. can we estimate how an action will effect the reachable terminal state?"
   ]
  },
  {
   "cell_type": "markdown",
   "metadata": {
    "deletable": true,
    "editable": true,
    "slideshow": {
     "slide_type": "subslide"
    }
   },
   "source": [
    "<center><h3><span style=\"font-variant: small-caps;\">Arc-Right:</span> det?</h3>\n",
    "<img src=\"images/expertPolicyRollOut_5.png\" width=\"70%\">\n",
    "</center>\n",
    "<font size=\"5\">\n",
    "<b>Stack:</b> 'wrote', 'her'\n",
    "<br>\n",
    "<b>Buffer:</b> '.'\n",
    "</font>"
   ]
  },
  {
   "cell_type": "markdown",
   "metadata": {
    "deletable": true,
    "editable": true,
    "slideshow": {
     "slide_type": "fragment"
    }
   },
   "source": [
    "<center>\n",
    "<img src=\"images/dep_goldMissed.png\" width=\"70%\">\n",
    "</center>"
   ]
  },
  {
   "cell_type": "markdown",
   "metadata": {
    "deletable": true,
    "editable": true,
    "slideshow": {
     "slide_type": "slide"
    }
   },
   "source": [
    "### Results<h5>[Goldberg and Nivre 2012](http://www.aclweb.org/anthology/C12-1059)</h5>\n",
    "<img src=\"images/dependResultBars.png\">"
   ]
  }
 ],
 "metadata": {
  "celltoolbar": "Slideshow",
  "kernelspec": {
   "display_name": "Python 3",
   "language": "python",
   "name": "python3"
  },
  "language_info": {
   "codemirror_mode": {
    "name": "ipython",
    "version": 3
   },
   "file_extension": ".py",
   "mimetype": "text/x-python",
   "name": "python",
   "nbconvert_exporter": "python",
   "pygments_lexer": "ipython3",
   "version": "3.5.2"
  },
  "livereveal": {
   "height": 768,
   "start_slideshow_at": "selected",
   "theme": "solarized",
   "transition": "fade",
   "width": 1024
  }
 },
 "nbformat": 4,
 "nbformat_minor": 2
}
