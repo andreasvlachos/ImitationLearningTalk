{
 "cells": [
  {
   "cell_type": "markdown",
   "metadata": {
    "deletable": true,
    "editable": true,
    "slideshow": {
     "slide_type": "slide"
    }
   },
   "source": [
    "### First part recap ###\n",
    "\n",
    "Imitation Learning<br><br>\n",
    "\n",
    "**Meta-learning**: better classifier by generating better training data from demonstrations. \n",
    "\n",
    "- rollin/outs\n",
    "- DAgger algorithm\n",
    "- DAgger with rollouts and LoLS"
   ]
  },
  {
   "cell_type": "markdown",
   "metadata": {
    "deletable": true,
    "editable": true,
    "slideshow": {
     "slide_type": "subslide"
    }
   },
   "source": [
    "### Part 2: NLP Applications and practical advice\n",
    "\n",
    "- Applications:\n",
    "    - dependency parsing \n",
    "    - natural language generation\n",
    "    - semantic parsing"
   ]
  },
  {
   "cell_type": "markdown",
   "metadata": {
    "deletable": true,
    "editable": true,
    "slideshow": {
     "slide_type": "fragment"
    }
   },
   "source": [
    "- Practical advice\n",
    "    - making things faster\n",
    "    - debugging"
   ]
  },
  {
   "cell_type": "markdown",
   "metadata": {
    "deletable": true,
    "editable": true,
    "slideshow": {
     "slide_type": "slide"
    }
   },
   "source": [
    "<center>\n",
    "<h2>Applying Imitation Learning on Dependency Parsing</h2>\n",
    "</center>"
   ]
  },
  {
   "cell_type": "markdown",
   "metadata": {
    "collapsed": true,
    "deletable": true,
    "editable": true,
    "slideshow": {
     "slide_type": "subslide"
    }
   },
   "source": [
    "### Dependency parsing ###\n",
    "\n",
    "<img src=\"images/toBeAnimated/depParse1.png\">\n",
    "\n",
    "To represent the syntax of a sentence as directed labeled arcs between words.\n",
    "- Labels represent dependencies between words."
   ]
  },
  {
   "cell_type": "markdown",
   "metadata": {
    "deletable": true,
    "editable": true,
    "slideshow": {
     "slide_type": "slide"
    }
   },
   "source": [
    "###  Applying Imitation Learning ###\n",
    "\n",
    "[Goldberg and Nivre 2012](http://www.aclweb.org/anthology/C12-1059) proposed an Imitation Learning system for dependency parsing.\n",
    "- Very similar to DAgger."
   ]
  },
  {
   "cell_type": "markdown",
   "metadata": {
    "deletable": true,
    "editable": true,
    "slideshow": {
     "slide_type": "slide"
    }
   },
   "source": [
    "### DAgger Reminder ###\n",
    "\n",
    "<p style=\"border:3px; border-radius: 25px; background-color:lightgrey; border-style:solid; border-color:black; padding: 0.3em; font-size: 75%\">\n",
    "\\begin{align}\n",
    "& \\textbf{Input:} \\; D_{train} = \\{(\\mathbf{x}^1,\\mathbf{y}^1)...(\\mathbf{x}^M,\\mathbf{y}^M)\\}, \\; expert\\; \\pi^{\\star}, \\; loss \\; function \\; L,\\\\\n",
    "& classifier \\; H,\\; training\\; examples\\; \\cal E = \\emptyset, \\; expert\\; probability\\; \\beta=1\\\\\n",
    "& \\mathbf{while}\\; \\text{termination condition not reached}\\; \\mathbf{do}\\\\\n",
    "& \\quad \\color{blue}{\\text{set} \\; rollin \\; policy \\; \\pi^{in} = \\beta \\; H + (1-\\beta)\\pi^{\\star}}\\\\\n",
    "& \\quad \\mathbf{for} \\; (\\mathbf{x},\\mathbf{y}) \\in D_{train} \\; \\mathbf{do}\\\\\n",
    "& \\quad \\quad \\color{blue}{\\text{rollin to predict} \\; \\hat \\alpha_1\\dots\\hat \\alpha_T  = \\pi^{in}(\\mathbf{x},\\mathbf{y})}\\\\\n",
    "& \\quad \\quad \\mathbf{for} \\; \\hat \\alpha_t \\in \\hat \\alpha_1\\dots\\hat \\alpha_T \\; \\mathbf{do}\\\\\n",
    "& \\quad \\quad \\quad \\color{blue}{\\text{ask expert for } \\underline{\\text{a set of best actions}}\\; \\{\\alpha_{1}^{\\star}\\dots\\alpha_{k}^{\\star}\\} = \\pi^{\\star}(\\mathbf{x},S_{t-1})} \\\\\n",
    "& \\quad \\quad \\quad \\text{extract } features=\\phi(\\mathbf{x},S_{t-1}) \\\\\n",
    "& \\quad \\quad \\quad \\cal E = \\cal E \\cup (features,\\alpha^{\\star})\\\\\n",
    "& \\quad \\text{learn classifier} \\; \\text{from}\\; \\cal E\\\\\n",
    "& \\quad \\text{decrease} \\; \\beta\\\\\n",
    "\\end{align}\n",
    "</p>\n",
    "\n",
    "Multi-label classification<ul><li>The expert policy may return multiple correct actions.</li></ul>"
   ]
  },
  {
   "cell_type": "markdown",
   "metadata": {
    "deletable": true,
    "editable": true,
    "slideshow": {
     "slide_type": "subslide"
    }
   },
   "source": [
    "To apply Imitation Learning on any task, we need to define:\n",
    "- Transition\n",
    "- Loss function\n",
    "- Expert policy"
   ]
  },
  {
   "cell_type": "markdown",
   "metadata": {
    "deletable": true,
    "editable": true,
    "slideshow": {
     "slide_type": "subslide"
    }
   },
   "source": [
    "### Transition system? ###\n",
    "\n",
    "We can assume any transition-based system (e.g. Arc-Eager).\n",
    "\n",
    "<span class=\"fragment\" data-fragment-index=\"1\"> <b>State:</b> arcs, stack, and buffer.</span>\n",
    "<br>\n",
    "<br>\n",
    "<span class=\"fragment\" data-fragment-index=\"2\"> <b>Action space:</b> <br> <span style=\"font-variant: small-caps;\">Shift, Reduce, Arc-Left</span>, and <span style=\"font-variant: small-caps;\">Arc-Right.</span></span>\n",
    "<ul>\n",
    "<li class=\"fragment\" data-fragment-index=\"3\"><span style=\"font-variant: small-caps;\">Arc-Left</span> / <span style=\"font-variant: small-caps;\">Arc-Right</span> combine with arc labels, </li>\n",
    "<li class=\"fragment\" data-fragment-index=\"4\"> but limited #labels in dependency parsing (~50).</li>\n",
    "</ul>"
   ]
  },
  {
   "cell_type": "markdown",
   "metadata": {
    "deletable": true,
    "editable": true,
    "slideshow": {
     "slide_type": "subslide"
    }
   },
   "source": [
    "The length of the transition sequence is variable.\n",
    "<br>\n",
    "<br>\n",
    "<span style=\"font-variant: small-caps;\">Shift -> Shift -> Arc-Right -> Shift -> ... -> Arc-Left</span>\n",
    "<br>\n",
    "<ul>\n",
    "<li class=\"fragment\" data-fragment-index=\"2\"> In proportion to the length of the sentence. </li>\n",
    "<li class=\"fragment\" data-fragment-index=\"3\">But not fixed.<br>  In what task would it be fixed? <span class=\"fragment\" data-fragment-index=\"4\"><b>POS tagging!</b></li>\n",
    "</ul>"
   ]
  },
  {
   "cell_type": "markdown",
   "metadata": {
    "collapsed": false,
    "deletable": true,
    "editable": true,
    "slideshow": {
     "slide_type": "subslide"
    }
   },
   "source": [
    "### Transition-based dependency parsing in action! ###\n",
    "\n",
    "<br>\n",
    "<img src=\"images/toBeAnimated/transitionEx_1.png\">\n",
    "\n",
    "<small>\t\n",
    "<b>Stack:</b> -\n",
    "<br>\n",
    "<b>Buffer:</b> ROOT, 'economic', 'news', 'had', 'little', 'effect', 'on', 'financial', 'markets', '.'\n",
    "</small>\t"
   ]
  },
  {
   "cell_type": "markdown",
   "metadata": {
    "collapsed": false,
    "deletable": true,
    "editable": true,
    "slideshow": {
     "slide_type": "subslide"
    }
   },
   "source": [
    "### Transition-based dependency parsing in action! ###\n",
    "\n",
    "<center><h3><span style=\"font-variant: small-caps;\">Shift</span></h3>\n",
    "<img src=\"images/toBeAnimated/transitionEx_1.png\">\n",
    "</center>\n",
    "<small>\t\n",
    "<b>Stack:</b> ROOT\n",
    "<br>\n",
    "<b>Buffer:</b> 'economic', 'news', 'had', 'little', 'effect', 'on', 'financial', 'markets', '.'\n",
    "</small>\t"
   ]
  },
  {
   "cell_type": "markdown",
   "metadata": {
    "collapsed": false,
    "deletable": true,
    "editable": true,
    "slideshow": {
     "slide_type": "subslide"
    }
   },
   "source": [
    "### Transition-based dependency parsing in action! ###\n",
    "\n",
    "<center><h3><span style=\"font-variant: small-caps;\">Shift</span></h3>\n",
    "<img src=\"images/toBeAnimated/transitionEx_1.png\">\n",
    "</center>\n",
    "<small>\t\n",
    "<b>Stack:</b> ROOT, 'economic'\n",
    "<br>\n",
    "<b>Buffer:</b> 'news', 'had', 'little', 'effect', 'on', 'financial', 'markets', '.'\n",
    "</small>\t"
   ]
  },
  {
   "cell_type": "markdown",
   "metadata": {
    "collapsed": false,
    "deletable": true,
    "editable": true,
    "slideshow": {
     "slide_type": "subslide"
    }
   },
   "source": [
    "### Transition-based dependency parsing in action! ###\n",
    "\n",
    "<center><h3><span style=\"font-variant: small-caps;\">Arc-Left:</span> amod</h3>\n",
    "<img src=\"images/toBeAnimated/transitionEx_2.png\">\n",
    "</center>\n",
    "<small>\t\n",
    "<b>Stack:</b> ROOT\n",
    "<br>\n",
    "<b>Buffer:</b> 'news', 'had', 'little', 'effect', 'on', 'financial', 'markets', '.'\n",
    "</small>\t"
   ]
  },
  {
   "cell_type": "markdown",
   "metadata": {
    "collapsed": false,
    "deletable": true,
    "editable": true,
    "slideshow": {
     "slide_type": "subslide"
    }
   },
   "source": [
    "### Transition-based dependency parsing in action! ###\n",
    "\n",
    "<center><h3><span style=\"font-variant: small-caps;\">Shift</span></h3>\n",
    "<img src=\"images/toBeAnimated/transitionEx_2.png\">\n",
    "</center>\n",
    "<small>\t\n",
    "<b>Stack:</b> ROOT, 'news'\n",
    "<br>\n",
    "<b>Buffer:</b> 'had', 'little', 'effect', 'on', 'financial', 'markets', '.'\n",
    "</small>\t"
   ]
  },
  {
   "cell_type": "markdown",
   "metadata": {
    "collapsed": false,
    "deletable": true,
    "editable": true,
    "slideshow": {
     "slide_type": "subslide"
    }
   },
   "source": [
    "### Transition-based dependency parsing in action! ###\n",
    "\n",
    "<center><h3><span style=\"font-variant: small-caps;\">Arc-Left:</span> nsubj</h3>\n",
    "<img src=\"images/toBeAnimated/transitionEx_3.png\">\n",
    "</center>\n",
    "<small>\t\n",
    "<b>Stack:</b> ROOT\n",
    "<br>\n",
    "<b>Buffer:</b>'had', 'little', 'effect', 'on', 'financial', 'markets', '.'\n",
    "</small>\t"
   ]
  },
  {
   "cell_type": "markdown",
   "metadata": {
    "collapsed": false,
    "deletable": true,
    "editable": true,
    "slideshow": {
     "slide_type": "subslide"
    }
   },
   "source": [
    "### Transition-based dependency parsing in action! ###\n",
    "\n",
    "<center><h3>and so on</h3>\n",
    "<img src=\"images/toBeAnimated/depParse1.png\">\n",
    "</center>\n",
    "<small>\t\n",
    "<b>Stack:</b> ROOT\n",
    "<br>\n",
    "<b>Buffer:</b> -\n",
    "</small>\t"
   ]
  },
  {
   "cell_type": "markdown",
   "metadata": {
    "deletable": true,
    "editable": true,
    "slideshow": {
     "slide_type": "subslide"
    }
   },
   "source": [
    "### Loss function? ###\n",
    "\n",
    "<b>Hamming loss:</b> given predicted arcs, how many parents were incorrectly predicted?\n",
    "<br>\n",
    "<ul>\n",
    "<li class=\"fragment\" data-fragment-index=\"2\"> Directly corresponds to attachment score metrics used to evaluate dependency parsers. </li>\n",
    "<li class=\"fragment\" data-fragment-index=\"3\"> Decomposable? <span class=\"fragment\" data-fragment-index=\"4\"><b>Not with this transition model!</b> Cannot score <span style=\"font-variant: small-caps;\">Shift</span> independent of <span style=\"font-variant: small-caps;\">Arc-Right</span>!</span></li>\n",
    "</ul>"
   ]
  },
  {
   "cell_type": "markdown",
   "metadata": {
    "deletable": true,
    "editable": true,
    "slideshow": {
     "slide_type": "subslide"
    }
   },
   "source": [
    "### Expert policy? ###\n",
    "\n",
    "<center>\n",
    "<img src=\"images/oracle-delphi.jpg\">\n",
    "</center>\n",
    "\n",
    "\n",
    "Returns the best action at the current state by looking at the gold standard assuming future actions are also optimal:\n",
    "\n",
    "$$\\alpha^{\\star}=\\pi^{\\star}(S_t, \\mathbf{y}) = \\mathop{\\arg \\min}_{\\alpha \\in {\\cal A}} L(S_t(\\alpha,\\pi^{\\star}),\\mathbf{y})$$"
   ]
  },
  {
   "cell_type": "markdown",
   "metadata": {
    "deletable": true,
    "editable": true,
    "slideshow": {
     "slide_type": "subslide"
    }
   },
   "source": [
    "### How do we make an expert policy? ###\n",
    "\n",
    "We can derive a <b>static</b> transition sequence from initial to terminal state using the golden standard.\n",
    "- Static expert policy.\n",
    "<br>\n",
    "<br>\n",
    "<center>\n",
    "<span class=\"fragment\" data-fragment-index=\"1\" style=\"font-variant: small-caps;\">Shift -> Shift -> Arc-Right -> Shift -> ... -> Arc-Left</span>\n",
    "<br>\n",
    "</center>"
   ]
  },
  {
   "cell_type": "markdown",
   "metadata": {
    "deletable": true,
    "editable": true,
    "slideshow": {
     "slide_type": "subslide"
    }
   },
   "source": [
    "However, a static expert policy is only optimal on states visited through the static transition sequence.\n",
    "- i.e. it assumes the previous actions (rollin) are optimal.\n",
    "\n",
    "<center>\n",
    "<img src=\"images/stateTransit.png\">\n",
    "</center>"
   ]
  },
  {
   "cell_type": "markdown",
   "metadata": {
    "deletable": true,
    "editable": true,
    "slideshow": {
     "slide_type": "subslide"
    }
   },
   "source": [
    "A static expert policy may be sufficient for tasks where we do not care whether the previous actions were optimal.\n",
    "<ul>\n",
    "<li class=\"fragment\" data-fragment-index=\"1\"> What would such a task be? <span class=\"fragment\" data-fragment-index=\"2\"> <b>POS tagging.</b></span></li>"
   ]
  },
  {
   "cell_type": "markdown",
   "metadata": {
    "deletable": true,
    "editable": true,
    "slideshow": {
     "slide_type": "fragment"
    }
   },
   "source": [
    "<table class=\"fragment\" data-fragment-index=\"1\" style=\"font-size:80%; border-style: hidden; border-collapse: collapse; padding: 50px\">\n",
    "<thead>\n",
    "<tr>\n",
    "<th>I</th> \n",
    "<th>studied</th>\n",
    "<th>in</th>\n",
    "<th>London</th>\n",
    "<th>with</th>\n",
    "<th>Sebastian</th>\n",
    "<th>Riedel</th>\n",
    "</tr>\n",
    "</thead>\n",
    "<tbody>\n",
    "<tr>\n",
    "<td>PRP</td>\n",
    "<td>VBD</td>\n",
    "<td>DET</td>\n",
    "<td>NNP</td>\n",
    "<td><font color=\"red\"><b>VBD</b></font></td>\n",
    "<td>NNP</td>\n",
    "<td>NNP</td>\n",
    "</tr>\n",
    "</tbody>\n",
    "</table>\n",
    "<br>\n",
    "- If the previous word is tagged incorrectly, the expert policy's suggestion remains the <b>same</b> and <b>optimal</b>!"
   ]
  },
  {
   "cell_type": "markdown",
   "metadata": {
    "deletable": true,
    "editable": true,
    "slideshow": {
     "slide_type": "subslide"
    }
   },
   "source": [
    "### Rollin mistakes in dependency parsing ###\n",
    "\n",
    "Let's assume that we rollin using the classifier."
   ]
  },
  {
   "cell_type": "markdown",
   "metadata": {
    "deletable": true,
    "editable": true,
    "slideshow": {
     "slide_type": "fragment"
    }
   },
   "source": [
    "<img src=\"images/stateTransitError.png\">"
   ]
  },
  {
   "cell_type": "markdown",
   "metadata": {
    "deletable": true,
    "editable": true,
    "slideshow": {
     "slide_type": "fragment"
    }
   },
   "source": [
    "The static policy has not encountered this state before.\n",
    "<ul>\n",
    "<li class=\"fragment\" data-fragment-index=\"10\"> Cannot know which action will lead to the optimal terminal state. </li>\n",
    "<li class=\"fragment\" data-fragment-index=\"11\"> May default to an action (e.g. <span style=\"font-variant: small-caps;\">Shift</span>). </li>\n",
    "<ul>"
   ]
  },
  {
   "cell_type": "markdown",
   "metadata": {
    "deletable": true,
    "editable": true,
    "slideshow": {
     "slide_type": "subslide"
    }
   },
   "source": [
    "<center><h3><span style=\"font-variant: small-caps; color: green;\">Arc-Right:</span> iobj ?</h3>\n",
    "<img src=\"images/toBeAnimated/depParse_mistake_1.png\">\n",
    "</center>\n",
    "<small>\t\n",
    "<b>Stack:</b> 'wrote'\n",
    "<br>\n",
    "<b>Buffer:</b> 'her', 'a', 'letter', '.'\n",
    "</small>\t"
   ]
  },
  {
   "cell_type": "markdown",
   "metadata": {
    "deletable": true,
    "editable": true,
    "slideshow": {
     "slide_type": "subslide"
    }
   },
   "source": [
    "<center><h3><span style=\"font-variant: small-caps; color: red;\">Shift</span></h3>\n",
    "<img src=\"images/toBeAnimated/depParse_mistake_2.png\">\n",
    "</center>\n",
    "<small>\t\n",
    "<b>Stack:</b> 'wrote', 'her'\n",
    "<br>\n",
    "<b>Buffer:</b> 'a', 'letter', '.'\n",
    "</small>\t"
   ]
  },
  {
   "cell_type": "markdown",
   "metadata": {
    "deletable": true,
    "editable": true,
    "slideshow": {
     "slide_type": "subslide"
    }
   },
   "source": [
    "<center><h3>Default: <span style=\"font-variant: small-caps;\">Shift</span></h3>\n",
    "<img src=\"images/toBeAnimated/depParse_mistake_2.png\">\n",
    "</center>\n",
    "<small>\t\n",
    "<b>Stack:</b> 'wrote', 'her', 'a'\n",
    "<br>\n",
    "<b>Buffer:</b> 'letter', '.'\n",
    "</small>\t"
   ]
  },
  {
   "cell_type": "markdown",
   "metadata": {
    "deletable": true,
    "editable": true,
    "slideshow": {
     "slide_type": "subslide"
    }
   },
   "source": [
    "<center><h3><span style=\"font-variant: small-caps;\">Arc-Left: </span>det</h3>\n",
    "<img src=\"images/toBeAnimated/depParse3.png\">\n",
    "</center>\n",
    "<small>\t\n",
    "<b>Stack:</b> 'wrote', 'her'\n",
    "<br>\n",
    "<b>Buffer:</b> 'letter', '.'\n",
    "</small>\t"
   ]
  },
  {
   "cell_type": "markdown",
   "metadata": {
    "deletable": true,
    "editable": true,
    "slideshow": {
     "slide_type": "subslide"
    }
   },
   "source": [
    "<center><h3>Default: <span style=\"font-variant: small-caps;\">Shift</span></h3>\n",
    "<img src=\"images/toBeAnimated/depParse3.png\">\n",
    "</center>\n",
    "<small>\n",
    "<b>Stack:</b> 'wrote', 'her', 'letter'\n",
    "<br>\n",
    "<b>Buffer:</b> '.'\n",
    "</small>"
   ]
  },
  {
   "cell_type": "markdown",
   "metadata": {
    "deletable": true,
    "editable": true,
    "slideshow": {
     "slide_type": "subslide"
    }
   },
   "source": [
    "<center><h3>Default: <span style=\"font-variant: small-caps;\">Shift</span></h3>\n",
    "<img src=\"images/toBeAnimated/depParse3.png\">\n",
    "</center>\n",
    "<small>\t\n",
    "<b>Stack:</b> 'wrote', 'her', 'letter', '.'\n",
    "<br>\n",
    "<b>Buffer:</b> -\n",
    "</small>\t"
   ]
  },
  {
   "cell_type": "markdown",
   "metadata": {
    "deletable": true,
    "editable": true,
    "slideshow": {
     "slide_type": "fragment"
    }
   },
   "source": [
    "Static expert policy cannot recover from errors in the rollin."
   ]
  },
  {
   "cell_type": "markdown",
   "metadata": {
    "deletable": true,
    "editable": true,
    "slideshow": {
     "slide_type": "subslide"
    }
   },
   "source": [
    "### Also, what if there are multiple correct transitions? ###\n",
    "\n",
    "<img src=\"images/toBeAnimated/depParse_2.png\">\n",
    "<small>\t\n",
    "<b>Stack:</b> 'her'\n",
    "<br>\n",
    "<b>Buffer:</b> 'a', 'letter', '.'\n",
    "</small>\t\n",
    "\n",
    "Two possible actions: <span style=\"font-variant: small-caps;\">Reduce</span> 'her' / <span style=\"font-variant: small-caps;\">Shift</span> 'a'\n",
    "\n",
    "<span class=\"fragment\" data-fragment-index=\"1\">Static expert policy arbitarilly choses <br>(e.g. prioritize shifts over other actions). </span>\n",
    "<ul>\n",
    "<li class=\"fragment\" data-fragment-index=\"2\"> But chosing any one action indirectly labels the alternative actions as incorrect!</li>\n",
    "<li class=\"fragment\" data-fragment-index=\"3\"> Leads to noise in the training signal.</li>\n",
    "</ul>"
   ]
  },
  {
   "cell_type": "markdown",
   "metadata": {
    "deletable": true,
    "editable": true,
    "slideshow": {
     "slide_type": "subslide"
    }
   },
   "source": [
    "### Dynamic expert policy ###\n",
    "Takes into account the previous actions.<ul><li>Can recover from errors.</li></ul><br><br><span class=\"fragment\" data-fragment-index=\"1\">Allows for multiple optimal actions at each time-step.<ul><br><li class=\"fragment\" data-fragment-index=\"1\">Multi-label classification.</li></ul></span>"
   ]
  },
  {
   "cell_type": "markdown",
   "metadata": {
    "deletable": true,
    "editable": true,
    "slideshow": {
     "slide_type": "subslide"
    }
   },
   "source": [
    "### Reachable terminal state ###\n",
    "\n",
    "Reachable terminal state:\n",
    "- Can be reached through a sequence of expert actions $\\alpha_1^{\\star}\\dots \\alpha_T^{\\star}$, and\n",
    "- no further actions can be taken at that state."
   ]
  },
  {
   "cell_type": "markdown",
   "metadata": {
    "deletable": true,
    "editable": true,
    "slideshow": {
     "slide_type": "fragment"
    }
   },
   "source": [
    "- For an optimal reachable terminal state, $L(S_{final}, \\mathbf{y}) = 0$."
   ]
  },
  {
   "cell_type": "markdown",
   "metadata": {
    "deletable": true,
    "editable": true,
    "slideshow": {
     "slide_type": "subslide"
    }
   },
   "source": [
    "### How does a dynamic expert policy work? ###\n",
    "\n",
    "For each possible action at a time-step:\n",
    "<font color=white>- determine the reachable terminal state\n",
    "  - Ideally, we can rollout using the expert policy.</font>\n",
    "<br>\n",
    "<br>\n",
    "<center>\n",
    "<img src=\"images/toBeAnimated/depParse3.png\">\n",
    "</center>\n",
    "<small>\t\n",
    "<b>Stack:</b> 'wrote', 'her'\n",
    "<br>\n",
    "<b>Buffer:</b> 'letter', '.'\n",
    "</small>\t"
   ]
  },
  {
   "cell_type": "markdown",
   "metadata": {
    "deletable": true,
    "editable": true,
    "slideshow": {
     "slide_type": "subslide"
    }
   },
   "source": [
    "### How does a dynamic expert policy work? ###\n",
    "\n",
    "For each possible action at a time-step:\n",
    "<font color=white>- determine the reachable terminal state\n",
    "  - Ideally, we can rollout using the expert policy.</font>\n",
    "<br>\n",
    "<br>\n",
    "<center><h3><span style=\"font-variant: small-caps;\">Arc-Left? Arc-Right? Reduce? Shift?</span></h3>\n",
    "<img src=\"images/expertPolicyRollOut1.png\">\n",
    "</center>\n",
    "<small>\t\n",
    "<b>Stack:</b> 'wrote', 'her'\n",
    "<br>\n",
    "<b>Buffer:</b> 'letter', '.'\n",
    "</small>\t"
   ]
  },
  {
   "cell_type": "markdown",
   "metadata": {
    "deletable": true,
    "editable": true,
    "slideshow": {
     "slide_type": "subslide"
    }
   },
   "source": [
    "### How does a dynamic expert policy work? ###\n",
    "\n",
    "For each possible action at a time-step:\n",
    "- determine the reachable terminal state\n",
    "  - Ideally, rollout using the expert policy.\n",
    "<br>\n",
    "<br>\n",
    "<center><h3><span style=\"font-variant: small-caps;\">Arc-Left: </span>det</h3>\n",
    "<img src=\"images/expertPolicyRoll2.png\">\n",
    "</center>\n",
    "<small>\t\n",
    "<b>Stack:</b> 'wrote',\n",
    "<br>\n",
    "<b>Buffer:</b> 'letter', '.'\n",
    "</small>\t"
   ]
  },
  {
   "cell_type": "markdown",
   "metadata": {
    "deletable": true,
    "editable": true,
    "slideshow": {
     "slide_type": "subslide"
    }
   },
   "source": [
    "### How does a dynamic expert policy work? ###\n",
    "\n",
    "For each possible action at a time-step:\n",
    "- determine the reachable terminal state\n",
    "  - Ideally, rollout using the expert policy.\n",
    "<br>\n",
    "<br>\n",
    "<center><h3><span style=\"font-variant: small-caps;\">Arc-Right: </span>dobj</h3>\n",
    "<img src=\"images/expertPolicyRoll3.png\">\n",
    "</center>\n",
    "<small>\t\n",
    "<b>Stack:</b> 'wrote',\n",
    "<br>\n",
    "<b>Buffer:</b> '.'\n",
    "</small>\t"
   ]
  },
  {
   "cell_type": "markdown",
   "metadata": {
    "deletable": true,
    "editable": true,
    "slideshow": {
     "slide_type": "subslide"
    }
   },
   "source": [
    "### How does a dynamic expert policy work? ###\n",
    "\n",
    "For each possible action at a time-step:\n",
    "- determine the reachable terminal state\n",
    "  - Ideally, rollout using the expert policy.\n",
    "<br>\n",
    "<br>\n",
    "<center><h3><span style=\"font-variant: small-caps;\">Arc-Right: </span>p</h3>\n",
    "<img src=\"images/expertPolicyRoll4.png\">\n",
    "</center>\n",
    "<small>\t\n",
    "<b>Stack:</b> 'wrote',\n",
    "<br>\n",
    "<b>Buffer:</b> -\n",
    "</small>\t"
   ]
  },
  {
   "cell_type": "markdown",
   "metadata": {
    "deletable": true,
    "editable": true,
    "slideshow": {
     "slide_type": "subslide"
    }
   },
   "source": [
    "### How does a dynamic expert policy work? ###\n",
    "\n",
    "For each possible action at a time-step:<ul><li>determine the reachable terminal state,</li><li><font color=white>score it according to the loss function.</font></li></ul>\n",
    "<font color=white>Return the set of actions that lead to best reachable terminal state.</font>\n",
    "<br>\n",
    "<img src=\"images/determReachStates.png\">"
   ]
  },
  {
   "cell_type": "markdown",
   "metadata": {
    "deletable": true,
    "editable": true,
    "slideshow": {
     "slide_type": "subslide"
    }
   },
   "source": [
    "### How does a dynamic expert policy work? ###\n",
    "\n",
    "For each possible action at a time-step:<ul><li>determine the reachable terminal state,</li><li>score it according to the loss function.</li></ul><font color=white>Return the best set of actions: {<span style=\"font-variant: small-caps;\">Arc-Left, Arc-Right</span>}</font>\n",
    "<br>\n",
    "<center>\n",
    "<img src=\"images/determReachStatesScored.png\">\n",
    "</center>"
   ]
  },
  {
   "cell_type": "markdown",
   "metadata": {
    "deletable": true,
    "editable": true,
    "slideshow": {
     "slide_type": "subslide"
    }
   },
   "source": [
    "### How does a dynamic expert policy work? ###\n",
    "\n",
    "For each possible action at a time-step:\n",
    "<ul><li>determine the reachable terminal state,</li><li>score it according to the loss function.</li></ul>Return the best set of actions: {<span style=\"font-variant: small-caps;\">Arc-Right</span>}\n",
    "<br>\n",
    "<center>\n",
    "<img src=\"images/determReachStatesScored.png\">\n",
    "</center>"
   ]
  },
  {
   "cell_type": "markdown",
   "metadata": {
    "deletable": true,
    "editable": true,
    "slideshow": {
     "slide_type": "subslide"
    }
   },
   "source": [
    "### Full rollouts are expensive ###\n",
    "To determine the reachable terminal state:<ul><li>Ideally, rollout using the expert policy.</li><li>Computionally expensive, use heauristics!</li></ul></ul>"
   ]
  },
  {
   "cell_type": "markdown",
   "metadata": {
    "deletable": true,
    "editable": true,
    "slideshow": {
     "slide_type": "fragment"
    }
   },
   "source": [
    "<center><h3><span style=\"font-variant: small-caps;\">Arc-Right:</span> det</h3>\n",
    "<img src=\"images/expertPolicyRollOut_5.png\" width=\"70%\">\n",
    "</center>\n",
    "<small>\n",
    "<b>Stack:</b> 'wrote', 'her'\n",
    "<br>\n",
    "<b>Buffer:</b> '.'\n",
    "</small>"
   ]
  },
  {
   "cell_type": "markdown",
   "metadata": {
    "deletable": true,
    "editable": true,
    "slideshow": {
     "slide_type": "fragment"
    }
   },
   "source": [
    "After this 'letter' cannot have 'wrote' as its head."
   ]
  },
  {
   "cell_type": "markdown",
   "metadata": {
    "deletable": true,
    "editable": true,
    "slideshow": {
     "slide_type": "subslide"
    }
   },
   "source": [
    "### Results ###\n",
    "<img src=\"images/dependResultBars.png\">"
   ]
  },
  {
   "cell_type": "markdown",
   "metadata": {
    "deletable": true,
    "editable": true,
    "slideshow": {
     "slide_type": "skip"
    }
   },
   "source": [
    "### Summary so far ### \n",
    "\n",
    "We discussed modifications to the DAgger framework.\n",
    "- Hard decay schedule after $k$ epochs when determining the roll-in and roll-out policies.\n",
    "- Using a mix of expert and learned policy during roll-outs.\n",
    "\n",
    "We showed that dynamic oracles improves on the results of static orcales."
   ]
  }
 ],
 "metadata": {
  "celltoolbar": "Slideshow",
  "kernelspec": {
   "display_name": "Python 3",
   "language": "python",
   "name": "python3"
  },
  "language_info": {
   "codemirror_mode": {
    "name": "ipython",
    "version": 3
   },
   "file_extension": ".py",
   "mimetype": "text/x-python",
   "name": "python",
   "nbconvert_exporter": "python",
   "pygments_lexer": "ipython3",
   "version": "3.5.0"
  },
  "livereveal": {
   "height": 768,
   "start_slideshow_at": "selected",
   "theme": "solarized",
   "transition": "fade",
   "width": 1024
  }
 },
 "nbformat": 4,
 "nbformat_minor": 2
}
