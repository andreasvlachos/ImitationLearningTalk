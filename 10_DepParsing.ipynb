{
 "cells": [
  {
   "cell_type": "code",
   "execution_count": 2,
   "metadata": {
    "collapsed": false,
    "deletable": true,
    "editable": true,
    "slideshow": {
     "slide_type": "skip"
    }
   },
   "outputs": [
    {
     "name": "stdout",
     "output_type": "stream",
     "text": [
      "Using matplotlib backend: Qt5Agg\n"
     ]
    },
    {
     "data": {
      "text/plain": [
       "{'progress': 'true',\n",
       " 'start_slideshow_at': 'selected',\n",
       " 'theme': 'solarized',\n",
       " 'transition': 'slide'}"
      ]
     },
     "execution_count": 2,
     "metadata": {},
     "output_type": "execute_result"
    }
   ],
   "source": [
    "%matplotlib\n",
    "from IPython.html.services.config import ConfigManager\n",
    "from IPython.paths import locate_profile\n",
    "from IPython.display import Image\n",
    "\n",
    "import sys\n",
    "sys.path.append(\"..\")\n",
    "import statnlpbook.util as util\n",
    "import statnlpbook.parsing as parsing\n",
    "from statnlpbook.transition import *\n",
    "\n",
    "cm = ConfigManager(profile_dir=locate_profile(get_ipython().profile))\n",
    "cm.update('livereveal', {\n",
    "              'theme': 'solarized',\n",
    "              'transition': 'slide',\n",
    "              'start_slideshow_at': 'selected',\n",
    "              'progress': 'true',\n",
    "})"
   ]
  },
  {
   "cell_type": "markdown",
   "metadata": {
    "deletable": true,
    "editable": true,
    "slideshow": {
     "slide_type": "slide"
    }
   },
   "source": [
    "<center>\n",
    "<h2>Transition-based dependency parsing with dynamic oracles</h2>\n",
    "</center>"
   ]
  },
  {
   "cell_type": "markdown",
   "metadata": {
    "collapsed": true,
    "deletable": true,
    "editable": true,
    "slideshow": {
     "slide_type": "subslide"
    }
   },
   "source": [
    "### Dependency parsing ###\n",
    "\n",
    "To represent the syntax of a sentence as directed labeled edges between words.\n",
    "- Where labels represent dependencies between words.\n",
    "\n",
    "The output graph should be:\n",
    "- rooted\n",
    "- acyclic\n",
    "- signle-headed\n",
    "- connected"
   ]
  },
  {
   "cell_type": "markdown",
   "metadata": {
    "collapsed": false,
    "deletable": true,
    "editable": true,
    "slideshow": {
     "slide_type": "subslide"
    }
   },
   "source": [
    "### Dependency graph example ###\n",
    "\n",
    "<img src=\"images/toBeAnimated/depParse1.png\">"
   ]
  },
  {
   "cell_type": "markdown",
   "metadata": {
    "slideshow": {
     "slide_type": "subslide"
    }
   },
   "source": [
    "### Transition-based dependency parsing ###\n",
    "\n",
    "Construct the dependency tree through a sequence of transition actions (label predictions).\n",
    "- Each action, transforms the current state until a terminal state is reached.\n",
    "- In essence, which label should we add next?\n",
    "- Trained using a gold sequence of actions. \n",
    "  - Derived from an oracle (expert policy)."
   ]
  },
  {
   "cell_type": "markdown",
   "metadata": {
    "slideshow": {
     "slide_type": "subslide"
    }
   },
   "source": [
    "### Error propagation ###\n",
    "\n",
    "The first error will confuse the classifier, since it moves the sequence to space not explored by the gold sequence of a actions.\n",
    "- More errors will likely follow."
   ]
  },
  {
   "cell_type": "markdown",
   "metadata": {
    "slideshow": {
     "slide_type": "subslide"
    }
   },
   "source": [
    "### How can Imitation Learning help with that? ### \n",
    "\n",
    "Imitation Learning addresses error propagation, by considering the interaction among the transition being considered and transitions to be predicted later in the sentence.\n",
    "- explores the search space, but avoids enumerating all possible outputs."
   ]
  },
  {
   "cell_type": "markdown",
   "metadata": {
    "slideshow": {
     "slide_type": "slide"
    }
   },
   "source": [
    "<center>\n",
    "<h2>Transition-based dependency parsing</h2>\n",
    "</center>\n"
   ]
  },
  {
   "cell_type": "markdown",
   "metadata": {
    "slideshow": {
     "slide_type": "subslide"
    }
   },
   "source": [
    "### Configurations - states ###\n",
    "\n",
    "Dependency graph\n",
    "- $x = {0,1,...N}$ are the nodes, each of them representing one of the $N$ words in the sentence\n",
    "- $a \\subseteq x \\times x \\times L$ are labeled directed arcs between the words, with labels coming from a predefined set $L$."
   ]
  },
  {
   "cell_type": "markdown",
   "metadata": {
    "slideshow": {
     "slide_type": "subslide"
    }
   },
   "source": [
    "### Configurations - states ###\n",
    "\n",
    "- Stack $S$: a last-in, first-out memory to keep track of words to process later\n",
    "- Buffer $B$: words not processed so far\n",
    "- Arcs $A$: the dependency edges predicted so far"
   ]
  },
  {
   "cell_type": "markdown",
   "metadata": {
    "slideshow": {
     "slide_type": "subslide"
    }
   },
   "source": [
    "### Transition actions ###\n",
    "\n",
    "$(S, i | B, A) > (S | i, B, A)$\n",
    "<br>\n",
    "&nbsp;&nbsp;&nbsp;&nbsp;&nbsp;&nbsp;<b>shift</b>: push the word at the top of the buffer $B$ to the stack \n",
    "\n",
    "$(S | i, B, A) > (S, B, A)$\n",
    "<br>\n",
    "&nbsp;&nbsp;&nbsp;&nbsp;&nbsp;&nbsp;<b>reduce</b>: pop the word at the top of the stack $S$ if it has a head \n",
    "\n",
    "$(S | i, j | B, A) > (S | i | j, B, A \\cup (i, j, l))$\n",
    "<br>\n",
    "&nbsp;&nbsp;&nbsp;&nbsp;&nbsp;&nbsp;<b>rightArc-label</b>: create a labeled arc from the word at the top of the stack $i$ to the word at the top of the buffer $j$\n",
    "\n",
    "$(S | i, j | B, A) > (S, j | B, A \\cup (j, i, l))$\n",
    "<br>\n",
    "&nbsp;&nbsp;&nbsp;&nbsp;&nbsp;&nbsp;<b>leftArc-label</b>: create a labeled arc from the word at the top of the buffer $j$ to the word at the top of the stack $i$, if $i$ has no head"
   ]
  },
  {
   "cell_type": "markdown",
   "metadata": {
    "collapsed": false,
    "deletable": true,
    "editable": true,
    "slideshow": {
     "slide_type": "subslide"
    }
   },
   "source": [
    "### Transition-based dependency parsing in action! ###\n",
    "\n",
    "<img src=\"images/toBeAnimated/depParse1.png\">"
   ]
  },
  {
   "cell_type": "markdown",
   "metadata": {
    "collapsed": true,
    "deletable": true,
    "editable": true,
    "slideshow": {
     "slide_type": "subslide"
    }
   },
   "source": [
    "### Alternative transition systems ###\n",
    "\n",
    "We just saw the Arc-Eager system (Nivre, 2003)\n",
    "- Arc-Standard (Nivre, 2004)\n",
    "- Easy-First (Goldberg and Elhadad, 2010)\n",
    "\n",
    "Generally for transition systems:\n",
    "- Actions should be easy to learn,\n",
    "- with easier actions occuring earlier in the sequence."
   ]
  },
  {
   "cell_type": "markdown",
   "metadata": {
    "slideshow": {
     "slide_type": "slide"
    }
   },
   "source": [
    "<center>\n",
    "<h2>Imitation Learning and Dynamic Oracles</h2>\n",
    "</center>"
   ]
  },
  {
   "cell_type": "markdown",
   "metadata": {
    "slideshow": {
     "slide_type": "subslide"
    }
   },
   "source": [
    "### Training with exploration ###\n",
    "\n",
    "Goldberg and Nivre (2013) proposed a training algorithm to learn from states that result from incorrect actions.\n",
    "- i.e. states that cannot be reached by following the gold action sequence.\n",
    "\n",
    "Mitigate the effects of error propagation.\n",
    "\n",
    "This requires an expert policy that can return the optimal action for any given state."
   ]
  },
  {
   "cell_type": "markdown",
   "metadata": {
    "slideshow": {
     "slide_type": "subslide"
    }
   },
   "source": [
    "### Is that DAgger? ###\n",
    "\n",
    "Very similar to DAgger, except:\n",
    "- The roll-in policy is parameterized by $k$ and $p$.\n",
    "  - $k$ denotes the number of initial rounds where roll-in will be exclusively the expert policy \\pi^{\\star}.\n",
    "  - $p$ is the probability of choosing the learned policy over the expert, at each time-step.\n",
    "- We may have mutliple correct actions at each time-step.\n",
    "  - Tie-breaks occur according to current prediction."
   ]
  },
  {
   "cell_type": "markdown",
   "metadata": {
    "slideshow": {
     "slide_type": "subslide"
    }
   },
   "source": [
    "### Training formulation ###\n",
    "\n",
    "<p style=\"border:3px; border-radius: 25px; background-color:lightgrey; border-style:solid; border-color:black; padding: 0.3em; font-size: 80%\">\n",
    "\\begin{align}\n",
    "& \\textbf{Input:} \\; D_{train} = \\{(\\mathbf{x}^1,\\mathbf{y}^1)...(\\mathbf{x}^M,\\mathbf{y}^M)\\}, \\; expert\\; \\pi^{\\star}, \\; loss \\; function \\; \\ell, parameters \\; p, \\; k\\\\\n",
    "& \\textbf{Output:} \\; classifier \\; H\\\\\n",
    "& \\; \\\\\n",
    "& 1 \\quad training\\; examples\\; \\cal E = \\emptyset\\\\\n",
    "& 2 \\quad \\mathbf{while}\\; \\text{termination condition not reached}\\; \\mathbf{do}\\\\\n",
    "& 3 \\quad \\quad \\mathbf{if} \\; i > k \\; \\mathbf{and} \\; Rand() < p \\; \\mathbf{then}\\\\\n",
    "& 3 \\quad \\quad \\quad \\text{set} \\; rollin \\; policy \\; \\pi^{in} = mix(H,\\pi^{\\star})\\\\\n",
    "& 3 \\quad \\quad \\mathbf{else}\\\\\n",
    "& 3 \\quad \\quad \\quad \\text{set} \\; rollin \\; policy \\; \\pi^{in} = H\\\\\n",
    "& 4 \\quad \\quad \\mathbf{for} \\; (\\mathbf{x},\\mathbf{y}) \\in D_{train} \\; \\mathbf{do}\\\\\n",
    "& 5 \\quad \\quad \\quad \\text{rollin to predict} \\; \\hat y_1\\dots\\hat y_N  = \\pi^{in}(\\mathbf{x})\\\\\n",
    "& 6 \\quad \\quad \\quad \\mathbf{for} \\; \\hat y_n \\in \\hat y_1\\dots\\hat y_N \\; \\mathbf{do}\\\\\n",
    "& 7 \\quad \\quad \\quad \\quad \\text{ask} \\pi^{in} \\text{for best action}\\; y^{\\star} = \\pi^{in}(\\hat y_1\\dots\\hat y_{n-1}, \\mathbf{x},\\mathbf{y}) \\; \\\\\n",
    "& 8 \\quad \\quad \\quad \\quad \\text{extract features}\\; f=\\phi(\\mathbf{x},\\hat y_1\\dots \\hat y_{n-1}) \\\\\n",
    "& 9 \\quad \\quad \\quad \\quad \\cal E = \\cal E \\cup (f,y^{\\star})\\\\\n",
    "& 10 \\quad \\quad \\text{learn} \\; H\\; \\text{from}\\; \\cal E\\\\\n",
    "\\end{align}\n",
    "</p>"
   ]
  },
  {
   "cell_type": "markdown",
   "metadata": {
    "slideshow": {
     "slide_type": "subslide"
    }
   },
   "source": [
    "### Types of oracles (expert policies) ###\n",
    "\n",
    "\n",
    "Static oracle\n",
    "- A function mapping each state to an optimal action (to reach the optimal terminal state).\n",
    "- Only defined for states reachable through the gold action sequence, undefined for all other states.\n",
    "- Essentially, the static oracle is the gold action sequence itself.\n",
    "\n",
    "Non-deterministic oracle\n",
    "- A function mapping each state to a set of optimal actions.\n",
    "- Only well-defined for states from which the optimal terminal state is still reachable.\n"
   ]
  },
  {
   "cell_type": "markdown",
   "metadata": {
    "slideshow": {
     "slide_type": "subslide"
    }
   },
   "source": [
    "### Dynamic oracle ###\n",
    "\n",
    "Non-deterministic and complete oracle\n",
    "- A function mapping each state to a set of optimal actions.\n",
    "- Defined for all states.\n",
    "  - Employs a cost function to measure the cost of the terminal state (if it is not optimal).\n",
    "  - In this case, Hamming loss."
   ]
  },
  {
   "cell_type": "markdown",
   "metadata": {
    "slideshow": {
     "slide_type": "subslide"
    }
   },
   "source": [
    "### Dynamic oracle example ###\n"
   ]
  },
  {
   "cell_type": "markdown",
   "metadata": {
    "slideshow": {
     "slide_type": "slide"
    }
   },
   "source": [
    "<center>\n",
    "<h2>Dependency parser experiments</h2>\n",
    "</center>"
   ]
  },
  {
   "cell_type": "markdown",
   "metadata": {
    "slideshow": {
     "slide_type": "subslide"
    }
   },
   "source": [
    "### Effect of k and p ###\n",
    "<img src=\"images/dependHeatMaps.png\">"
   ]
  },
  {
   "cell_type": "markdown",
   "metadata": {
    "slideshow": {
     "slide_type": "subslide"
    }
   },
   "source": [
    "### Results ###\n",
    "<img src=\"images/dependResults.png\">"
   ]
  },
  {
   "cell_type": "markdown",
   "metadata": {
    "slideshow": {
     "slide_type": "subslide"
    }
   },
   "source": [
    "### Summary so far ### \n",
    "\n",
    "We discussed modifications to the DAgger framework.\n",
    "- Hard decay schedule after $k$ epochs when determining the roll-in and roll-out policies.\n",
    "- Using a mix of expert and learned policy during roll-outs.\n",
    "\n",
    "We showed that dynamic oracles improves on the results of static orcales."
   ]
  }
 ],
 "metadata": {
  "celltoolbar": "Slideshow",
  "kernelspec": {
   "display_name": "Python 3",
   "language": "python",
   "name": "python3"
  },
  "language_info": {
   "codemirror_mode": {
    "name": "ipython",
    "version": 3
   },
   "file_extension": ".py",
   "mimetype": "text/x-python",
   "name": "python",
   "nbconvert_exporter": "python",
   "pygments_lexer": "ipython3",
   "version": "3.5.2"
  }
 },
 "nbformat": 4,
 "nbformat_minor": 2
}
