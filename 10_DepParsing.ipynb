{
 "cells": [
  {
   "cell_type": "code",
   "execution_count": 3,
   "metadata": {
    "collapsed": false,
    "deletable": true,
    "editable": true,
    "slideshow": {
     "slide_type": "skip"
    }
   },
   "outputs": [
    {
     "name": "stdout",
     "output_type": "stream",
     "text": [
      "Using matplotlib backend: Qt5Agg\n"
     ]
    },
    {
     "data": {
      "text/plain": [
       "{'progress': 'true',\n",
       " 'start_slideshow_at': 'selected',\n",
       " 'theme': 'solarized',\n",
       " 'transition': 'slide'}"
      ]
     },
     "execution_count": 3,
     "metadata": {},
     "output_type": "execute_result"
    }
   ],
   "source": [
    "%matplotlib\n",
    "from IPython.html.services.config import ConfigManager\n",
    "from IPython.paths import locate_profile\n",
    "from IPython.display import Image\n",
    "cm = ConfigManager(profile_dir=locate_profile(get_ipython().profile))\n",
    "cm.update('livereveal', {\n",
    "              'theme': 'solarized',\n",
    "              'transition': 'slide',\n",
    "              'start_slideshow_at': 'selected',\n",
    "              'progress': 'true',\n",
    "})"
   ]
  },
  {
   "cell_type": "markdown",
   "metadata": {
    "deletable": true,
    "editable": true,
    "slideshow": {
     "slide_type": "slide"
    }
   },
   "source": [
    "<center>\n",
    "<h2>Applying Imitation Learning on Dependency Parsing</h2>\n",
    "</center>"
   ]
  },
  {
   "cell_type": "markdown",
   "metadata": {
    "collapsed": true,
    "deletable": true,
    "editable": true,
    "slideshow": {
     "slide_type": "subslide"
    }
   },
   "source": [
    "### Dependency parsing ###\n",
    "###### ([Goldberg and Nivre 2012](http://www.aclweb.org/anthology/C12-1059), [Goldberg and Nivre 2013](https://www.aclweb.org/anthology/Q/Q13/Q13-1033.pdf)) ###### \n",
    "\n",
    "<img src=\"images/toBeAnimated/depParse1.png\">\n",
    "\n",
    "To represent the syntax of a sentence as directed labeled edges between words.\n",
    "- Where labels represent dependencies between words."
   ]
  },
  {
   "cell_type": "markdown",
   "metadata": {
    "deletable": true,
    "editable": true,
    "slideshow": {
     "slide_type": "subslide"
    }
   },
   "source": [
    "### Error propagation ###\n",
    "\n",
    "Due to greedy decoding, where the parser builds the parse while maintaining only the best hypothesis at each step.\n",
    "- The first error encountered will confuse the classifier, since it moves the sequence to space not explored by the gold sequence of actions.\n",
    "- More errors will likely follow, as the transition increasingly moves into more foreign states."
   ]
  },
  {
   "cell_type": "markdown",
   "metadata": {
    "deletable": true,
    "editable": true,
    "slideshow": {
     "slide_type": "subslide"
    }
   },
   "source": [
    "### How can Imitation Learning help with that? ### \n",
    "\n",
    "Imitation Learning addresses error propagation, by considering the interaction among the transition being considered and transitions to be predicted later in the sentence.\n",
    "- Explores the search space, but avoids enumerating all possible outputs.\n",
    "- Also learns how to recover from errors."
   ]
  },
  {
   "cell_type": "markdown",
   "metadata": {
    "deletable": true,
    "editable": true,
    "slideshow": {
     "slide_type": "subslide"
    }
   },
   "source": [
    "### Transition system? ###\n",
    "\n",
    "We can assume any transition-based system (Arc-Eager, Arc-Standard, Easy-First, etc.).\n",
    "- Each action, transforms the current state/graph until a terminal state/graph is reached.\n",
    "- In essence, which arc and label should we add next?"
   ]
  },
  {
   "cell_type": "markdown",
   "metadata": {
    "collapsed": false,
    "deletable": true,
    "editable": true,
    "slideshow": {
     "slide_type": "subslide"
    }
   },
   "source": [
    "### Transition-based dependency parsing in action! ###\n",
    "\n",
    "<img src=\"images/toBeAnimated/depParse1.png\">"
   ]
  },
  {
   "cell_type": "markdown",
   "metadata": {
    "deletable": true,
    "editable": true,
    "slideshow": {
     "slide_type": "subslide"
    }
   },
   "source": [
    "### Task loss? ###\n",
    "\n",
    "Hamming loss: the number of incorrectly predicted labeled or unlabeled dependency arcs.\n",
    "- Directly related to the attachment score metrics used to evaluate dependency parsers."
   ]
  },
  {
   "cell_type": "markdown",
   "metadata": {
    "deletable": true,
    "editable": true,
    "slideshow": {
     "slide_type": "subslide"
    }
   },
   "source": [
    "### Expert policy? ###\n",
    "\n",
    "A single static canonical sequence of actions from the initial to the terminal state.\n",
    "- Derived from the reference graph.\n",
    "\n",
    "Single static policies worked well for the Part-of-Speech tagging task."
   ]
  },
  {
   "cell_type": "markdown",
   "metadata": {
    "deletable": true,
    "editable": true,
    "slideshow": {
     "slide_type": "subslide"
    }
   },
   "source": [
    "### But what if there are multiple correct transitions? ###\n",
    "\n",
    "<img src=\"images/toBeAnimated/depParse2.png\">\n",
    "\n",
    "A static policy could arbitarilly chose a transition (e.g. prioritize shifts over other actions).\n",
    "- But this indirectly labels the alternative transition as false!"
   ]
  },
  {
   "cell_type": "markdown",
   "metadata": {
    "deletable": true,
    "editable": true,
    "slideshow": {
     "slide_type": "subslide"
    }
   },
   "source": [
    "### And what if a mistake happens? ###\n",
    "\n",
    "<img src=\"images/toBeAnimated/depParse3.png\">\n",
    "\n",
    "A static policy is not well defined in states that are not part of the gold transition."
   ]
  },
  {
   "cell_type": "markdown",
   "metadata": {
    "deletable": true,
    "editable": true,
    "slideshow": {
     "slide_type": "subslide"
    }
   },
   "source": [
    "### Dynamic policy ###\n",
    "\n",
    "Non-deterministic and complete policy\n",
    "- Allows ambiguous transitions.\n",
    "- Defined for all states.\n",
    "- Recovers from errors.\n",
    "  \n",
    "<img src=\"images/toBeAnimated/depParse4.png\">"
   ]
  },
  {
   "cell_type": "markdown",
   "metadata": {
    "slideshow": {
     "slide_type": "subslide"
    }
   },
   "source": [
    "### What is the expert policy then? ###\n",
    "\n",
    "Given a particular state, where an error may or may not have already occured:\n",
    "- We need to determine the best reachable terminal state\n",
    "  - Quite possibly not an optimal terminal state, if we have made an error before.\n",
    "  - \"Best\" according to some loss function in relation to the gold terminal state.\n",
    "\n",
    "- Return the set of transition actions that lead to that state."
   ]
  },
  {
   "cell_type": "markdown",
   "metadata": {
    "deletable": true,
    "editable": true,
    "slideshow": {
     "slide_type": "subslide"
    }
   },
   "source": [
    "### Expert policy in action! ###\n",
    "\n",
    "<img src=\"images/toBeAnimated/depParse4.png\">\n",
    "\n",
    "Cost of 1, if we use the labeled attachment score as a loss function."
   ]
  },
  {
   "cell_type": "markdown",
   "metadata": {
    "deletable": true,
    "editable": true,
    "slideshow": {
     "slide_type": "slide"
    }
   },
   "source": [
    "### Is that DAgger? ###\n",
    "\n",
    "[Goldberg and Nivre 2013](https://www.aclweb.org/anthology/Q/Q13/Q13-1033.pdf)) proposed a system that employed dynamic expert policies for dependency parsing.\n",
    "- As well as an algorithm to learn parameters by exploration.\n",
    "- Very similar to DAgger.\n",
    "  - Roll-in is a mix of the learned and expert policies, at the time-step level.\n",
    "  - There may be multiple correct actions at each time-step."
   ]
  },
  {
   "cell_type": "markdown",
   "metadata": {
    "deletable": true,
    "editable": true,
    "slideshow": {
     "slide_type": "skip"
    }
   },
   "source": [
    "### Effect of k and p ###\n",
    "<img src=\"images/dependHeatMaps.png\">"
   ]
  },
  {
   "cell_type": "markdown",
   "metadata": {
    "deletable": true,
    "editable": true,
    "slideshow": {
     "slide_type": "subslide"
    }
   },
   "source": [
    "### Results ###\n",
    "<img src=\"images/dependResults.png\">"
   ]
  },
  {
   "cell_type": "markdown",
   "metadata": {
    "deletable": true,
    "editable": true,
    "slideshow": {
     "slide_type": "skip"
    }
   },
   "source": [
    "### Summary so far ### \n",
    "\n",
    "We discussed modifications to the DAgger framework.\n",
    "- Hard decay schedule after $k$ epochs when determining the roll-in and roll-out policies.\n",
    "- Using a mix of expert and learned policy during roll-outs.\n",
    "\n",
    "We showed that dynamic oracles improves on the results of static orcales."
   ]
  }
 ],
 "metadata": {
  "celltoolbar": "Slideshow",
  "kernelspec": {
   "display_name": "Python 3",
   "language": "python",
   "name": "python3"
  },
  "language_info": {
   "codemirror_mode": {
    "name": "ipython",
    "version": 3
   },
   "file_extension": ".py",
   "mimetype": "text/x-python",
   "name": "python",
   "nbconvert_exporter": "python",
   "pygments_lexer": "ipython3",
   "version": "3.5.2"
  }
 },
 "nbformat": 4,
 "nbformat_minor": 2
}
