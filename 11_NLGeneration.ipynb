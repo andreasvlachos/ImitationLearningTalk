{
 "cells": [
  {
   "cell_type": "markdown",
   "metadata": {
    "collapsed": true,
    "deletable": true,
    "editable": true,
    "slideshow": {
     "slide_type": "slide"
    }
   },
   "source": [
    "<center>\n",
    "<h2>Applying Imitation Learning on Natural Language Generation</h2>\n",
    "</center>"
   ]
  },
  {
   "cell_type": "markdown",
   "metadata": {
    "collapsed": true,
    "deletable": true,
    "editable": true,
    "slideshow": {
     "slide_type": "subslide"
    }
   },
   "source": [
    "### Natural Language Generation <i> (concept-to-text)</i> ###### \n",
    "\n",
    "The natural language processing task of generating text from a meaning representation."
   ]
  },
  {
   "cell_type": "markdown",
   "metadata": {
    "deletable": true,
    "editable": true,
    "slideshow": {
     "slide_type": "fragment"
    }
   },
   "source": [
    "<div>\n",
    "    <div style=\"display:inline-block;\">\n",
    "        <p style=\"border:2px; border-radius: 15px; background-color:white; border-style:solid; border-color:black; padding: 0.5em; font-size: 80%; display: inline-block\">\n",
    "        \\begin{align}\n",
    "        & \\text{Predicate: INFORM}\\\\\n",
    "        & \\text{______________________}\\\\\n",
    "        & \\text{type = \"hotel\"}\\\\\n",
    "        & \\text{count = \"182\"}\\\\\n",
    "        & \\text{dogs_allowed = dont_care}\n",
    "        \\end{align}\n",
    "        </p>\n",
    "    </div>\n",
    "        <font size=\"300\">&#10143;</font>\n",
    "    <div style=\"display:inline-block; vertical-align: middle;\" >\n",
    "        <p style=\"display:block; width:400px; word-wrap:break-word;\">\n",
    "        There are _182_ _hotels_ if you _do not care_ whether dogs are allowed.\n",
    "        </p>\n",
    "    </div>\n",
    "</div>\n",
    "\n",
    "\n",
    "[Lampouras and Vlachos 2016](https://aclweb.org/anthology/C/C16/C16-1105.pdf) proposed using LOLS for natural language generation."
   ]
  },
  {
   "cell_type": "markdown",
   "metadata": {
    "deletable": true,
    "editable": true,
    "slideshow": {
     "slide_type": "subslide"
    }
   },
   "source": [
    "### Transition system? ###\n",
    "\n",
    "State: meaning representation, incomplete sentence.\n",
    "<br>\n",
    "<br>\n",
    "<span class=\"fragment\" data-fragment-index=\"1\">Action space:</span>\n",
    "<ul>\n",
    "<li class=\"fragment\" data-fragment-index=\"2\"><b>What to say?</b>: content prediction actions a<sub>c</sub>, and</li>\n",
    "<li class=\"fragment\" data-fragment-index=\"2\"><b>How to say it?</b>: word prediction actions a<sub>w</sub> .</li>\n",
    "</ul>\n",
    "<br>\n",
    "<br>\n",
    "<center>\n",
    "<span class=\"fragment\" data-fragment-index=\"2\" style=\"font-variant: small-caps;\">Content -> ... -> Content -> Word ->  ... -> Word</span>\n",
    "</center>\n",
    "<br>\n",
    "<br>\n",
    "<span class=\"fragment\" data-fragment-index=\"3\">Word actions are dependent on content actions.</span>\n",
    "<ul>\n",
    "<li class=\"fragment\" data-fragment-index=\"4\">Instead, alternate between content and word actions?</li>\n",
    "</ul>"
   ]
  },
  {
   "cell_type": "markdown",
   "metadata": {
    "deletable": true,
    "editable": true,
    "slideshow": {
     "slide_type": "subslide"
    }
   },
   "source": [
    "Different classifiers are required for content and word actions.\n",
    "<ul><li class=\"fragment\" data-fragment-index=\"1\">Actually, a different word classifier per content action.</li>\n",
    "<li class=\"fragment\" data-fragment-index=\"2\">Doesn't affect imitation learning!</li>\n",
    "</ul>\n",
    "<br>\n",
    "<br>\n",
    "<span class=\"fragment\" data-fragment-index=\"3\">The length of the transition sequence is variable.</span>\n",
    "<ul><li class=\"fragment\" data-fragment-index=\"3\">Content limited by the meaning representation. </li>\n",
    "<li class=\"fragment\" data-fragment-index=\"4\">Words limited to gold standard observations.</li>\n",
    "</ul>"
   ]
  },
  {
   "cell_type": "markdown",
   "metadata": {
    "deletable": true,
    "editable": true,
    "slideshow": {
     "slide_type": "subslide"
    }
   },
   "source": [
    "### NLG transition in action! ### \n",
    "\n",
    "<img src=\"images/toBeAnimated/NLG_actionSeq1.png\">"
   ]
  },
  {
   "cell_type": "markdown",
   "metadata": {
    "deletable": true,
    "editable": true,
    "slideshow": {
     "slide_type": "subslide"
    }
   },
   "source": [
    "### NLG formulation ### \n",
    "\n",
    "\n",
    "<p style=\"border:3px; border-radius: 25px; background-color:lightgrey; border-style:solid; border-color:black; padding: 0.5em; font-size: 70%; display: inline-block\">\n",
    "\\begin{align}\n",
    "& \\textbf{Input:} \\; \\text{meaning representation} \\; MR \\; \\text{with set of attributes} \\; C, \\; \\text{attribute dictionaries} \\; D_c,\\;\\forall c \\in C\\\\\n",
    "& \\textbf{Output:} \\; \\text{action sequence} \\; A \\\\\n",
    "& \\; \\\\\n",
    "& 1 \\;\\;  \\quad \\mathbf{do} \\\\\n",
    "& 2 \\;\\;  \\quad \\quad \\text{predict attribute} \\; c ∈ C ∪ {END_{attr}} \\\\\n",
    "& 3 \\;\\;  \\quad \\quad \\text{append} \\; a_{c} \\; \\text{to} \\; A_{c} \\\\\n",
    "& 4 \\;\\;  \\quad \\quad \\text{remove} \\; c \\; \\text{from} \\; C \\\\\n",
    "& 5 \\;\\;  \\quad \\mathbf{while} \\; ac ≠ END_{attr} \\\\\n",
    "& 6 \\;\\;  \\quad \\mathbf{for} \\; a_{c} \\; in \\; A_{c} \\; \\mathbf{do} \\\\\n",
    "& 7 \\;\\;  \\quad \\quad \\mathbf{do} \\\\\n",
    "& 8 \\;\\;  \\quad \\quad \\quad \\text{predict word} \\; w ∈ D_{c} ∪ {END_{word}} \\\\\n",
    "& 9 \\;\\;  \\quad \\quad \\quad \\text{append} \\;a_{w} \\; \\text{to} \\; A_{w} \\\\\n",
    "& 10 \\; \\quad \\quad \\mathbf{while} \\; a_{w} ≠ END_{word} \\\\\n",
    "& 11 \\; \\quad A = (A_{c}, A_{w}) \\\\\n",
    "\\end{align}\n",
    "</p>"
   ]
  },
  {
   "cell_type": "markdown",
   "metadata": {
    "deletable": true,
    "editable": true,
    "slideshow": {
     "slide_type": "subslide"
    }
   },
   "source": [
    "### NLG transition in action! ### \n",
    "\n",
    "<img src=\"images/toBeAnimated/NLG_actionSeq1.png\">\n",
    "<img src=\"images/toBeAnimated/NLG_actionSeq2.png\">"
   ]
  },
  {
   "cell_type": "markdown",
   "metadata": {
    "deletable": true,
    "editable": true,
    "slideshow": {
     "slide_type": "subslide"
    }
   },
   "source": [
    "### Loss function? ###\n",
    "\n",
    "<b>BLEU:</b> % of n-grams predicted present in the gold reference(s), i.e. $L=1-BLEU(s_{final}, \\mathbf{y})$</span></li>\n",
    "\n",
    "$$\n",
    "BLEU([\\alpha_1...\\alpha_T],\\mathbf{y}) = \\prod_{n=1}^N \\frac{\\# \\text{n-grams} \\in ([\\alpha_1...\\alpha_T] \\cap \\mathbf{y})}{\\# \\text{n-grams} \\in [\\alpha_1..\\alpha_T]}\n",
    "$$\n",
    "\n",
    "Same as NLG's evaluation metric.\n",
    "<ul>\n",
    "<li class=\"fragment\" data-fragment-index=\"3\"> Decomposable? <span class=\"fragment\" data-fragment-index=\"4\"><b>No!</b> Assuming N>1 and a word-by-word predictor.</span></li>\n",
    "</ul>"
   ]
  },
  {
   "cell_type": "markdown",
   "metadata": {
    "deletable": true,
    "editable": true,
    "slideshow": {
     "slide_type": "subslide"
    }
   },
   "source": [
    "Content actions are ignored by loss function.\n",
    "- Indirectly costed by their impact on future word actions.\n",
    "<br>\n",
    "<br>\n",
    "<center>\n",
    "<span class=\"fragment\" data-fragment-index=\"2\" style=\"font-variant: small-caps;\">Content(type) -> Content(area) -> <br> \"The Place is at the city centre.\"</span>\n",
    "<br>\n",
    "<br>\n",
    "<span class=\"fragment\" data-fragment-index=\"3\" style=\"font-variant: small-caps;\">Content(area) -> Content(type) -></span> <br> <span class=\"fragment\" data-fragment-index=\"4\" style=\"font-variant: small-caps;\">\"At the city centre, you will find the Place.\"</span>\n",
    "</center>"
   ]
  },
  {
   "cell_type": "markdown",
   "metadata": {
    "deletable": true,
    "editable": true,
    "slideshow": {
     "slide_type": "subslide"
    }
   },
   "source": [
    "No explicit supervision on how each word is aligned to which attribute.\n",
    "- Evaluate how good the complete final sentence is.\n",
    "<br>\n",
    "<br>\n",
    "<br>\n",
    "<center>\n",
    "<img src=\"images/toBeAnimated/NLG_actionSeq1.png\" width=\"90%\">\n",
    "<img src=\"images/toBeAnimated/NLG_actionSeq2.png\" width=\"90%\">\n",
    "</center>"
   ]
  },
  {
   "cell_type": "markdown",
   "metadata": {
    "deletable": true,
    "editable": true,
    "slideshow": {
     "slide_type": "subslide"
    }
   },
   "source": [
    "The loss function also penalizes undesirable behaviour: \n",
    "<ul>\n",
    "<li class=\"fragment\" data-fragment-index=\"1\">Repeating the same word,</li>\n",
    "<li class=\"fragment\" data-fragment-index=\"2\">predicting content not present in the MR,</li>\n",
    "<li class=\"fragment\" data-fragment-index=\"2\">etc.</li>\n",
    "</ul>"
   ]
  },
  {
   "cell_type": "markdown",
   "metadata": {
    "deletable": true,
    "editable": true,
    "slideshow": {
     "slide_type": "subslide"
    }
   },
   "source": [
    "### Expert policy? ### \n",
    "\n",
    "If a word action should be returned:\n",
    "- Locate the word that makes the sequence best match the gold standard.\n",
    "- Ignore content actions.\n",
    "- Best match = minimize loss function.\n",
    "\n",
    "INSERT IMAGE EXAMPLE\n",
    "\n",
    "The Place is a restaurant at the side of the river.<br>\n",
    "The Place is a riverside restaurant. <br>\n",
    "The Place is a a.<br>\n",
    "The Place is a river adjacent restaurant.<br>\n",
    "The Place is a of the river.<br>"
   ]
  },
  {
   "cell_type": "markdown",
   "metadata": {
    "deletable": true,
    "editable": true,
    "slideshow": {
     "slide_type": "subslide"
    }
   },
   "source": [
    "If a content action should be returned:\n",
    "- The expert policy requires alignments between the words in the gold standards and the content.\n",
    "- However, loss function requires no explicit supervision on alignments.\n",
    "- Can employ heuristics on the gold standard to simply determine what content appears and in what order.\n",
    "\n",
    "<br>\n",
    "<br>\n",
    "<div>\n",
    "    <div style=\"display:inline-block;\">\n",
    "        <p style=\"border:2px; border-radius: 15px; background-color:white; border-style:solid; border-color:black; padding: 0.5em; font-size: 80%; display: inline-block\">\n",
    "        \\begin{align}\n",
    "        & \\text{Predicate: INFORM}\\\\\n",
    "        & \\text{______________________}\\\\\n",
    "        & \\color{blue}{\\text{type = \"hotel\"}}\\\\\n",
    "        & \\color{green}{\\text{count = \"182\"}}\\\\\n",
    "        & \\color{red}{\\text{dogs_allowed = dont_care}}\n",
    "        \\end{align}\n",
    "        </p>\n",
    "    </div>\n",
    "        <font size=\"300\">&#10143;</font>\n",
    "    <div style=\"display:inline-block; vertical-align: middle;\" >\n",
    "        <p style=\"display:block; width:400px; word-wrap:break-word;\">\n",
    "        There are <font color=\"green\">182</font> <font color=\"blue\">hotels</font> if you <font color=\"red\">do not care</font> whether dogs are allowed.\n",
    "        </p>\n",
    "    </div>\n",
    "</div>"
   ]
  },
  {
   "cell_type": "markdown",
   "metadata": {
    "deletable": true,
    "editable": true,
    "slideshow": {
     "slide_type": "subslide"
    }
   },
   "source": [
    "### Expert policy in action! ### \n",
    "\n",
    "<img src=\"images/toBeAnimated/NLG_LOLS.png\">"
   ]
  },
  {
   "cell_type": "markdown",
   "metadata": {
    "deletable": true,
    "editable": true,
    "slideshow": {
     "slide_type": "slide"
    }
   },
   "source": [
    "### Suboptimal expert policy ### \n",
    "\n",
    "The expert policy depends on naive heuristics.\n",
    "\n",
    "INSERT EXAMPLE WHERE NAIVE DOESNT WORK WELL"
   ]
  },
  {
   "cell_type": "markdown",
   "metadata": {
    "deletable": true,
    "editable": true,
    "slideshow": {
     "slide_type": "subslide"
    }
   },
   "source": [
    "### Dealing with suboptimal ### \n",
    "\n",
    "Imitation Learning approaches that rely heavily on the expert policy, can be at a disadvantage.\n",
    "- i.e. DAgger rollouts exclusively with the expert policy.\n",
    "\n",
    "Mix rollouts with classifier and expert policy.\n",
    "- LOLS\n",
    "\n",
    "No per step mix rollouts\n",
    "- "
   ]
  },
  {
   "cell_type": "markdown",
   "metadata": {
    "slideshow": {
     "slide_type": "subslide"
    }
   },
   "source": [
    "### Exponential decay schedule ###\n",
    "\n",
    "Introduced in SEARN ([Daumé III et al., 2009](http://hunch.net/~jl/projects/reductions/searn/searn.pdf))\n",
    "- Gradually move away from expert policy.\n",
    "- The costs used to train the classifiers are adjusted to their own predictions, thus teaching them to predict actions jointly"
   ]
  },
  {
   "cell_type": "markdown",
   "metadata": {
    "slideshow": {
     "slide_type": "subslide"
    }
   },
   "source": [
    "<h3>Locally Optimal Learning to Search</h3>\n",
    "\n",
    "<p style=\"border:3px; border-radius: 25px; background-color:lightgrey; border-style:solid; border-color:black; padding: 0.3em; font-size: 80%\">\n",
    "\\begin{align}\n",
    "& \\textbf{Input:} \\; D_{train} = \\{(\\mathbf{x}^1,\\mathbf{y}^1)...(\\mathbf{x}^M,\\mathbf{y}^M)\\}, \\; expert\\; \\pi^{\\star}, \\; loss \\; function \\; L, \\; \\color{blue}{learning\\; rate\\; \\beta}\\\\\n",
    "& \\text{set} \\; training\\; examples\\; \\cal E = \\emptyset\\\\\n",
    "& \\mathbf{for}\\; i = 0 \\;\\mathbf{to} \\; N\\; \\mathbf{do}\\\\\n",
    "& \\quad \\color{blue}{p = (1 - \\beta)^i}\\\\\n",
    "& \\quad \\text{set} \\; rollin \\; policy \\; \\pi^{in} = mix(H,\\pi^{\\star}, \\color{blue}{p})\\\\\n",
    "& \\quad \\text{set} \\; rollout \\; policy \\; \\pi^{out} = mix(H,\\pi^{\\star}, \\color{blue}{p})\\\\\n",
    "& \\quad \\mathbf{for} \\; (\\mathbf{x},\\mathbf{y}) \\in D_{train} \\; \\mathbf{do}\\\\\n",
    "& \\quad \\quad \\text{rollin to predict} \\; \\hat \\alpha_1\\dots\\hat \\alpha_T  = \\pi^{in}(\\mathbf{x},\\mathbf{y})\\\\\n",
    "& \\quad \\quad \\mathbf{for} \\; \\hat \\alpha_t \\in \\hat \\alpha_1\\dots\\hat \\alpha_T \\; \\mathbf{do}\\\\\n",
    "& \\quad \\quad \\quad \\text{rollout to obtain costs}\\; c \\; \\text{for all possible actions using}\\; L\\;  \\\\\n",
    "& \\quad \\quad \\quad \\text{extract features}\\; f=\\phi(\\mathbf{x},S_{t-1}) \\\\\n",
    "& \\quad \\quad \\quad \\cal E = \\cal E \\cup (f,c)\\\\\n",
    "& \\quad \\text{learn classifier} \\; \\text{from}\\; \\cal E\\\\\n",
    "\\end{align}\n",
    "</p>"
   ]
  },
  {
   "cell_type": "markdown",
   "metadata": {
    "deletable": true,
    "editable": true,
    "slideshow": {
     "slide_type": "slide"
    }
   },
   "source": [
    "### Sequence correction ### \n",
    "\n",
    "Imitation Learning can generate very noisy training instances on tasks that are heavily dependant on previous context.\n",
    "\n",
    "<img src=\"images/seqCorrection1.png\">"
   ]
  },
  {
   "cell_type": "markdown",
   "metadata": {
    "deletable": true,
    "editable": true,
    "slideshow": {
     "slide_type": "subslide"
    }
   },
   "source": [
    "To address this, we apply sequence correction before moving to the next timestep:\n",
    "- We correct all the already examined actions using π*."
   ]
  },
  {
   "cell_type": "markdown",
   "metadata": {
    "deletable": true,
    "editable": true,
    "slideshow": {
     "slide_type": "fragment"
    }
   },
   "source": [
    "- And re-predict the rest of the sequence using π<sub>i</sub>."
   ]
  },
  {
   "cell_type": "markdown",
   "metadata": {
    "deletable": true,
    "editable": true,
    "slideshow": {
     "slide_type": "fragment"
    }
   },
   "source": [
    "<img src=\"images/seqCorrection2.png\">"
   ]
  },
  {
   "cell_type": "markdown",
   "metadata": {
    "deletable": true,
    "editable": true,
    "slideshow": {
     "slide_type": "subslide"
    }
   },
   "source": [
    "If suboptimal actions are encountered further in the new sequence, sequence correction may again be performed."
   ]
  },
  {
   "cell_type": "markdown",
   "metadata": {
    "deletable": true,
    "editable": true,
    "slideshow": {
     "slide_type": "fragment"
    }
   },
   "source": [
    "Before SC, we may allow the examination of at most E actions after the first suboptimal one.\n",
    "- This will allow the predictors to learn how to recover from the mistake."
   ]
  },
  {
   "cell_type": "markdown",
   "metadata": {
    "deletable": true,
    "editable": true,
    "slideshow": {
     "slide_type": "slide"
    }
   },
   "source": [
    "### Sequence Correction results ### \n",
    "<br>\n",
    "<center>\n",
    "<img src=\"images/SF_HOTEL_analysis_loss.jpg\">\n",
    "</center>"
   ]
  },
  {
   "cell_type": "markdown",
   "metadata": {
    "deletable": true,
    "editable": true,
    "slideshow": {
     "slide_type": "subslide"
    }
   },
   "source": [
    "### Results per LOLS epoch ### \n",
    "<br>\n",
    "<center>\n",
    "<img src=\"images/NLG_policyResults.jpg\">\n",
    "</center>"
   ]
  },
  {
   "cell_type": "markdown",
   "metadata": {
    "deletable": true,
    "editable": true,
    "slideshow": {
     "slide_type": "skip"
    }
   },
   "source": [
    "### Automatic evaluation for NLG ### \n",
    "\n",
    "<center>\n",
    "<table style=\"float:center;text-align:center;color:#333; border-collapse:collapse; border-spacing: 0;\">\n",
    "<thead>\n",
    "<tr>\n",
    "<th style=\"border:1px solid transparent;\"></th>\n",
    "<th colspan=\"3\" style=\"text-align:center;border:1px solid transparent;\">SF Restaurant</th>\n",
    "<th colspan=\"3\" style=\"text-align:center;border:1px solid transparent;\">SF Hotel</th>\n",
    "</tr>\n",
    "<tr>\n",
    "<th style=\"border:1px solid transparent;\"></th>\n",
    "<th style=\"text-align:center;border:1px solid transparent;\"><b>BLEU</b></th>\n",
    "<th style=\"text-align:center;border:1px solid transparent;\"><b>ROUGE</b></th>\n",
    "<th style=\"text-align:center;border:1px solid transparent;\"><b>ERR(%)</b></th>\n",
    "<th style=\"text-align:center;border:1px solid transparent;\"><b>BLEU</b></th>\n",
    "<th style=\"text-align:center;border:1px solid transparent;\"><b>ROUGE</b></th>\n",
    "<th style=\"text-align:center;border:1px solid transparent;\"><b>ERR(%)</b></th>\n",
    "</tr>\n",
    "</thead>\n",
    "<tbody>\n",
    "<tr>\n",
    "<td style=\"border:1px solid transparent;\"><b>LSTM</b></td>\n",
    "<td style=\"text-align:center;border:1px solid transparent;\">52.97</td>\n",
    "<td style=\"text-align:center;border:1px solid transparent;\">43.52</td>\n",
    "<td style=\"text-align:center;border:1px solid transparent;\">6.29</td>\n",
    "<td style=\"text-align:center;border:1px solid transparent;\">66.37</td>\n",
    "<td style=\"text-align:center;border:1px solid transparent;\">56.19</td>\n",
    "<td style=\"text-align:center;border:1px solid transparent;\">3.99</td>\n",
    "</tr>\n",
    "<tr>\n",
    "<td style=\"border:1px solid transparent;\"><b>LOLS</b></td>\n",
    "<td style=\"text-align:center;border:1px solid transparent;\">49.44</td>\n",
    "<td style=\"text-align:center;border:1px solid transparent;\">38.52</td>\n",
    "<td style=\"text-align:center;border:1px solid transparent;\">0.58</td>\n",
    "<td style=\"text-align:center;border:1px solid transparent;\">68.65</td>\n",
    "<td style=\"text-align:center;border:1px solid transparent;\">68.37</td>\n",
    "<td style=\"text-align:center;border:1px solid transparent;\">0.52</td>\n",
    "</tr>\n",
    "</tbody>\n",
    "</table>\n",
    "</center>"
   ]
  },
  {
   "cell_type": "markdown",
   "metadata": {
    "deletable": true,
    "editable": true,
    "slideshow": {
     "slide_type": "skip"
    }
   },
   "source": [
    "### Human evaluation for NLG ### \n",
    "\n",
    "<center>\n",
    "<table style=\"float:center; color:#333; border-collapse:collapse; border-spacing: 0;\">\n",
    "<thead>\n",
    "<tr>\n",
    "<th></th>\n",
    "<th colspan=\"2\" style=\"text-align:center;\">SF Restaurant</th>\n",
    "<th colspan=\"2\" style=\"text-align:center;\">SF Hotel</th>\n",
    "</tr>\n",
    "<tr>\n",
    "<th></th>\n",
    "<th style=\"text-align:center;\"><b>Fluency</b></th>\n",
    "<th style=\"text-align:center;\"><b>Informativeness</b></th>\n",
    "<th style=\"text-align:center;\"><b>Fluency</b></th>\n",
    "<th style=\"text-align:center;\"><b>Informativeness</b></th>\n",
    "</tr>\n",
    "</thead>\n",
    "<tbody>\n",
    "<tr>\n",
    "<td><b>LSTM</b></td>\n",
    "<td style=\"text-align:center;\">4.49</td>\n",
    "<td style=\"text-align:center;\">5.29</td>\n",
    "<td style=\"text-align:center;\">4.41</td>\n",
    "<td style=\"text-align:center;\">5.36</td>\n",
    "</tr>\n",
    "<tr>\n",
    "<td><b>LOLS</b></td>\n",
    "<td style=\"text-align:center;\">4.23</td>\n",
    "<td style=\"text-align:center;\">5.36</td>\n",
    "<td style=\"text-align:center;\">4.68</td>\n",
    "<td style=\"text-align:center;\">5.19</td>\n",
    "</tr>\n",
    "</tbody>\n",
    "</table>\n",
    "</center>\n",
    "\n",
    "We performed Analysis of Variance (ANOVA) and post-hoc Tukey tests (a = 0.05); there is no statistically significant difference."
   ]
  },
  {
   "cell_type": "markdown",
   "metadata": {
    "deletable": true,
    "editable": true,
    "slideshow": {
     "slide_type": "skip"
    }
   },
   "source": [
    "### Summary so far ### \n",
    "\n",
    "We discussed modifications to the LOLS framework.\n",
    "- Exponential decay schedule when determining the roll-out policy.\n",
    "- Using sequence correction when encountering suboptimal actions.\n",
    "\n",
    "We showed that LOLS improves on the results of AROW predictors.\n",
    "- LOLS also improved on the predictors, when using random initialization of alignments."
   ]
  }
 ],
 "metadata": {
  "celltoolbar": "Slideshow",
  "kernelspec": {
   "display_name": "Python 3",
   "language": "python",
   "name": "python3"
  },
  "language_info": {
   "codemirror_mode": {
    "name": "ipython",
    "version": 3
   },
   "file_extension": ".py",
   "mimetype": "text/x-python",
   "name": "python",
   "nbconvert_exporter": "python",
   "pygments_lexer": "ipython3",
   "version": "3.5.2"
  },
  "livereveal": {
   "height": 768,
   "start_slideshow_at": "selected",
   "theme": "solarized",
   "transition": "slide",
   "width": 1024
  }
 },
 "nbformat": 4,
 "nbformat_minor": 2
}
