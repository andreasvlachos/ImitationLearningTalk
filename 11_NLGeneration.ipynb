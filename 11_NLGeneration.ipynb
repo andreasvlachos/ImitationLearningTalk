{
 "cells": [
  {
   "cell_type": "markdown",
   "metadata": {
    "collapsed": true,
    "deletable": true,
    "editable": true,
    "slideshow": {
     "slide_type": "slide"
    }
   },
   "source": [
    "<center>\n",
    "<h2>Applying Imitation Learning on Natural Language Generation</h2>\n",
    "</center>"
   ]
  },
  {
   "cell_type": "markdown",
   "metadata": {
    "collapsed": true,
    "deletable": true,
    "editable": true,
    "slideshow": {
     "slide_type": "subslide"
    }
   },
   "source": [
    "### Natural Language Generation <i> (concept-to-text)</i> ###### \n",
    "###### ([Lampouras and Vlachos 2016](https://aclweb.org/anthology/C/C16/C16-1105.pdf)) ###### \n",
    "\n",
    "The natural language processing task of generating text from a non-linguistic form.\n",
    "- e.g. a meaning representation, database records."
   ]
  },
  {
   "cell_type": "markdown",
   "metadata": {
    "deletable": true,
    "editable": true,
    "slideshow": {
     "slide_type": "fragment"
    }
   },
   "source": [
    "<div>\n",
    "    <div style=\"display:inline-block;\">\n",
    "        <p style=\"border:2px; border-radius: 15px; background-color:white; border-style:solid; border-color:black; padding: 0.5em; font-size: 80%; display: inline-block\">\n",
    "        \\begin{align}\n",
    "        & \\text{Predicate: INFORM}\\\\\n",
    "        & \\text{______________________}\\\\\n",
    "        & \\text{type = \"hotel\"}\\\\\n",
    "        & \\text{count = \"182\"}\\\\\n",
    "        & \\text{dogs_allowed = dont_care}\n",
    "        \\end{align}\n",
    "        </p>\n",
    "    </div>\n",
    "        <font size=\"300\">&#10143;</font>\n",
    "    <div style=\"display:inline-block; vertical-align: middle;\" >\n",
    "        <p style=\"display:block; width:400px; word-wrap:break-word;\">\n",
    "        There are _182_ _hotels_ if you _do not care_ whether dogs are allowed.\n",
    "        </p>\n",
    "    </div>\n",
    "</div>"
   ]
  },
  {
   "cell_type": "markdown",
   "metadata": {
    "collapsed": true,
    "deletable": true,
    "editable": true,
    "slideshow": {
     "slide_type": "skip"
    }
   },
   "source": [
    "### NLG Examples ### \n",
    "\n",
    "<br>\n",
    "<br>\n",
    "<div>\n",
    "    <div style=\"display:inline-block;\">\n",
    "        <p style=\"border:2px; border-radius: 15px; background-color:white; border-style:solid; border-color:black; padding: 0.5em; font-size: 80%; display: inline-block\">\n",
    "        \\begin{align}\n",
    "        & \\text{Predicate: ?REQUEST}\\\\\n",
    "        & \\text{______________________}\\\\\n",
    "        & \\text{pricerange}\\\\\n",
    "        \\end{align}\n",
    "        </p>\n",
    "    </div>\n",
    "    <font size=\"300\">&#10143;</font>\n",
    "    <div style=\"display:inline-block;\">\n",
    "        <p style=\"display:block; width:600px; word-wrap:break-word;\">\n",
    "        So what __price range__ are you looking for?\n",
    "        </p>\n",
    "    </div>\n",
    "</div>\n",
    "<br>\n",
    "<div>\n",
    "    <div style=\"display:inline-block;\">\n",
    "        <p style=\"border:2px; border-radius: 15px; background-color:white; border-style:solid; border-color:black; padding: 0.5em; font-size: 80%; display: inline-block\">\n",
    "        \\begin{align}\n",
    "        & \\text{Predicate: ?SELECT}\\\\\n",
    "        & \\text{______________________}\\\\\n",
    "        & \\text{kids_allowed = \\{yes, no\\}}\\\\\n",
    "        \\end{align}\n",
    "        </p>\n",
    "    </div>\n",
    "    <font size=\"300\">&#10143;</font>\n",
    "    <div style=\"display:inline-block;\">\n",
    "        <p style=\"display:block; width:600px; word-wrap:break-word;\">\n",
    "        Are you looking for a restaurant that __allows kids, or does not allow kids__?\n",
    "        </p>\n",
    "    </div>\n",
    "</div>"
   ]
  },
  {
   "cell_type": "markdown",
   "metadata": {
    "deletable": true,
    "editable": true,
    "slideshow": {
     "slide_type": "subslide"
    }
   },
   "source": [
    "### What would we like to improve? ###\n",
    "\n",
    "Statistical methods for NLG (mostly) rely on human-annotated data for training.\n",
    "- Especially on alignments between the meaning representation and reference texts.\n",
    "- Time-consuming and costly to construct.\n",
    "\n",
    "<br>\n",
    "<div>\n",
    "    <div style=\"display:inline-block;\">\n",
    "        <p style=\"border:2px; border-radius: 15px; background-color:white; border-style:solid; border-color:black; padding: 0.5em; font-size: 70%; display: inline-block\">\n",
    "        \\begin{align}\n",
    "        & \\text{Predicate: INFORM}\\\\\n",
    "        & \\text{______________________}\\\\\n",
    "        & \\text{type = \"Sanjalisco\"}\\\\\n",
    "        & \\text{good_for_meal = breakfast}\\\\\n",
    "        & \\text{near = mission}\n",
    "        \\end{align}\n",
    "        </p>\n",
    "    </div>\n",
    "    <font size=\"300\">&#10143;</font>\n",
    "    <div style=\"display:inline-block; vertical-align: middle;\">\n",
    "        <p style=\"display:block; width:400px; word-wrap:break-word;\">\n",
    "        __Sanjalisco__ is good for __breakfast__ and is near the __mission__ district.\n",
    "        </p>\n",
    "    </div>\n",
    "</div>"
   ]
  },
  {
   "cell_type": "markdown",
   "metadata": {
    "deletable": true,
    "editable": true,
    "slideshow": {
     "slide_type": "subslide"
    }
   },
   "source": [
    "### How can Imitation Learning help with that? ### \n",
    "\n",
    "We will see how Imitation Learning can be used to learn from unaligned data."
   ]
  },
  {
   "cell_type": "markdown",
   "metadata": {
    "deletable": true,
    "editable": true,
    "slideshow": {
     "slide_type": "fragment"
    }
   },
   "source": [
    "- Why unaligned data? To limit the cost of dataset construction!"
   ]
  },
  {
   "cell_type": "markdown",
   "metadata": {
    "deletable": true,
    "editable": true,
    "slideshow": {
     "slide_type": "fragment"
    }
   },
   "source": [
    "- Why Imitation Learning? It can learn from non-decomposable loss functions, and suboptimal training data!"
   ]
  },
  {
   "cell_type": "markdown",
   "metadata": {
    "deletable": true,
    "editable": true,
    "slideshow": {
     "slide_type": "subslide"
    }
   },
   "source": [
    "### Transition system? ###\n",
    "\n",
    "NLG is a complex task due to large output space.\n",
    "- The set of possible words limited to those observed from the references of the training data."
   ]
  },
  {
   "cell_type": "markdown",
   "metadata": {
    "deletable": true,
    "editable": true,
    "slideshow": {
     "slide_type": "fragment"
    }
   },
   "source": [
    "We formulate NLG as a sequence A of two types of actions:\n",
    "- content prediction actions a<sub>c</sub>, and\n",
    "- word prediction actions a<sub>w</sub>."
   ]
  },
  {
   "cell_type": "markdown",
   "metadata": {
    "deletable": true,
    "editable": true,
    "slideshow": {
     "slide_type": "subslide"
    }
   },
   "source": [
    "### NLG formulation ### \n",
    "\n",
    "\n",
    "<p style=\"border:3px; border-radius: 25px; background-color:lightgrey; border-style:solid; border-color:black; padding: 0.5em; font-size: 70%; display: inline-block\">\n",
    "\\begin{align}\n",
    "& \\textbf{Input:} \\; \\text{meaning representation} \\; MR \\; \\text{with set of attributes} \\; C, \\; \\text{attribute dictionaries} \\; D_c,\\;\\forall c \\in C\\\\\n",
    "& \\textbf{Output:} \\; \\text{action sequence} \\; A \\\\\n",
    "& \\; \\\\\n",
    "& 1 \\;\\;  \\quad \\mathbf{do} \\\\\n",
    "& 2 \\;\\;  \\quad \\quad \\text{predict attribute} \\; c ∈ C ∪ {END_{attr}} \\\\\n",
    "& 3 \\;\\;  \\quad \\quad \\text{append} \\; a_{c} \\; \\text{to} \\; A_{c} \\\\\n",
    "& 4 \\;\\;  \\quad \\quad \\text{remove} \\; c \\; \\text{from} \\; C \\\\\n",
    "& 5 \\;\\;  \\quad \\mathbf{while} \\; ac ≠ END_{attr} \\\\\n",
    "& 6 \\;\\;  \\quad \\mathbf{for} \\; a_{c} \\; in \\; A_{c} \\; \\mathbf{do} \\\\\n",
    "& 7 \\;\\;  \\quad \\quad \\mathbf{do} \\\\\n",
    "& 8 \\;\\;  \\quad \\quad \\quad \\text{predict word} \\; w ∈ D_{c} ∪ {END_{word}} \\\\\n",
    "& 9 \\;\\;  \\quad \\quad \\quad \\text{append} \\;a_{w} \\; \\text{to} \\; A_{w} \\\\\n",
    "& 10 \\; \\quad \\quad \\mathbf{while} \\; a_{w} ≠ END_{word} \\\\\n",
    "& 11 \\; \\quad A = (A_{c}, A_{w}) \\\\\n",
    "\\end{align}\n",
    "</p>"
   ]
  },
  {
   "cell_type": "markdown",
   "metadata": {
    "deletable": true,
    "editable": true,
    "slideshow": {
     "slide_type": "subslide"
    }
   },
   "source": [
    "### NLG transition in action! ### \n",
    "\n",
    "<img src=\"images/toBeAnimated/NLG_actionSeq1.png\">"
   ]
  },
  {
   "cell_type": "markdown",
   "metadata": {
    "deletable": true,
    "editable": true,
    "slideshow": {
     "slide_type": "subslide"
    }
   },
   "source": [
    "### NLG transition in action! ### \n",
    "\n",
    "<img src=\"images/toBeAnimated/NLG_actionSeq1.png\">\n",
    "<img src=\"images/toBeAnimated/NLG_actionSeq2.png\">"
   ]
  },
  {
   "cell_type": "markdown",
   "metadata": {
    "deletable": true,
    "editable": true,
    "slideshow": {
     "slide_type": "subslide"
    }
   },
   "source": [
    "### Loss function? ###\n",
    "\n",
    "We can use various loss functions (e.g. BLEU, ROUGE)."
   ]
  },
  {
   "cell_type": "markdown",
   "metadata": {
    "deletable": true,
    "editable": true,
    "slideshow": {
     "slide_type": "fragment"
    }
   },
   "source": [
    "- Content actions are ignored by the loss function, but are indirectly evaluated by their impact on future word predictions."
   ]
  },
  {
   "cell_type": "markdown",
   "metadata": {
    "deletable": true,
    "editable": true,
    "slideshow": {
     "slide_type": "fragment"
    }
   },
   "source": [
    "- The loss function also penalizes undesirable behaviour, e.g. repeating the same word, predicting attributes not in the MR."
   ]
  },
  {
   "cell_type": "markdown",
   "metadata": {
    "deletable": true,
    "editable": true,
    "slideshow": {
     "slide_type": "subslide"
    }
   },
   "source": [
    "### Expert policy? ### \n",
    "\n",
    "The expert policy π* is based on:\n",
    "- the NL references of the MR,\n",
    "- and the alignments..?"
   ]
  },
  {
   "cell_type": "markdown",
   "metadata": {
    "deletable": true,
    "editable": true,
    "slideshow": {
     "slide_type": "subslide"
    }
   },
   "source": [
    "### Alignments ### \n",
    "Training these models (independently or jointly) would be possible if we extracted data from manually aligned training references."
   ]
  },
  {
   "cell_type": "markdown",
   "metadata": {
    "deletable": true,
    "editable": true,
    "slideshow": {
     "slide_type": "fragment"
    }
   },
   "source": [
    "- However, we do not assume access to such information!"
   ]
  },
  {
   "cell_type": "markdown",
   "metadata": {
    "deletable": true,
    "editable": true,
    "slideshow": {
     "slide_type": "fragment"
    }
   },
   "source": [
    "If no alignments are available, they could be automatically calculated ([Liang et al. 2009](http://www.aclweb.org/anthology/P09-1011))."
   ]
  },
  {
   "cell_type": "markdown",
   "metadata": {
    "deletable": true,
    "editable": true,
    "slideshow": {
     "slide_type": "fragment"
    }
   },
   "source": [
    "- But Liang et al.'s model was trained on the datasets considered, and does not generalize well.\n",
    "- We will assume no access to that either."
   ]
  },
  {
   "cell_type": "markdown",
   "metadata": {
    "deletable": true,
    "editable": true,
    "slideshow": {
     "slide_type": "subslide"
    }
   },
   "source": [
    "### Using naive alignments ### \n",
    "\n",
    "References: <br>\n",
    "| X-name-1 is a | restaurant at the | side of the river. | <br>\n",
    "| X-name-1 is a | restaurant at the | riverside. | <br>\n",
    "| X-name-1 is a | restaurant by the | river that serves | Chinese. | <br>\n",
    "| X-name-1 is a | riverside | restaurant that serves | Chinese. | <br>\n",
    "| For a Chinese | restaurant, | go to X-name-1 near the | riverside. | <br>\n",
    "\n",
    "<img src=\"images/toBeAnimated/NLG_naiveExample.png\">"
   ]
  },
  {
   "cell_type": "markdown",
   "metadata": {
    "deletable": true,
    "editable": true,
    "slideshow": {
     "slide_type": "slide"
    }
   },
   "source": [
    "### Suboptimal expert policy ### \n",
    "\n",
    "Since our gold standard is naively constucted, the resulting expert policy is suboptimal."
   ]
  },
  {
   "cell_type": "markdown",
   "metadata": {
    "deletable": true,
    "editable": true,
    "slideshow": {
     "slide_type": "fragment"
    }
   },
   "source": [
    "Other potential causes of suboptimal experts are computational restraints.\n",
    "- For large action sequences we may need to limit our estimations on a subsequence."
   ]
  },
  {
   "cell_type": "markdown",
   "metadata": {
    "deletable": true,
    "editable": true,
    "slideshow": {
     "slide_type": "fragment"
    }
   },
   "source": [
    "An Imitation Learning approach that relies heavily on the expert policy, can be at a disadvantage."
   ]
  },
  {
   "cell_type": "markdown",
   "metadata": {
    "deletable": true,
    "editable": true,
    "slideshow": {
     "slide_type": "subslide"
    }
   },
   "source": [
    "### Locally Optimal Learning to Search ### \n",
    " \n",
    "LOLS can learn from suboptimal π*\n",
    "- Because it potentially performs roll-outs with π<sub>i</sub>."
   ]
  },
  {
   "cell_type": "markdown",
   "metadata": {
    "deletable": true,
    "editable": true,
    "slideshow": {
     "slide_type": "subslide"
    }
   },
   "source": [
    "LOLS can learn from non-decomposable loss functions (e.g. BLEU, ROUGE).\n",
    "- Because it only needs to evaluate complete output predictions, not individual actions."
   ]
  },
  {
   "cell_type": "markdown",
   "metadata": {
    "deletable": true,
    "editable": true,
    "slideshow": {
     "slide_type": "fragment"
    }
   },
   "source": [
    "- For NLG, this means we do not require explicit supervision on how each action is aligned, or which predictor should generate each word; we just need a way to evaluate how good the complete final sentence is."
   ]
  },
  {
   "cell_type": "markdown",
   "metadata": {
    "deletable": true,
    "editable": true,
    "slideshow": {
     "slide_type": "subslide"
    }
   },
   "source": [
    "### LOLS in action! ### \n",
    "\n",
    "<img src=\"images/toBeAnimated/NLG_LOLS.png\">"
   ]
  },
  {
   "cell_type": "markdown",
   "metadata": {
    "deletable": true,
    "editable": true,
    "slideshow": {
     "slide_type": "slide"
    }
   },
   "source": [
    "### Sequence correction ### \n",
    "\n",
    "Imitation Learning can generate very noisy training instances on tasks that are heavily dependant on previous context.\n",
    "\n",
    "<img src=\"images/seqCorrection1.png\">"
   ]
  },
  {
   "cell_type": "markdown",
   "metadata": {
    "deletable": true,
    "editable": true,
    "slideshow": {
     "slide_type": "subslide"
    }
   },
   "source": [
    "To address this, we apply sequence correction before moving to the next timestep:\n",
    "- We correct all the already examined actions using π*."
   ]
  },
  {
   "cell_type": "markdown",
   "metadata": {
    "deletable": true,
    "editable": true,
    "slideshow": {
     "slide_type": "fragment"
    }
   },
   "source": [
    "- And re-predict the rest of the sequence using π<sub>i</sub>."
   ]
  },
  {
   "cell_type": "markdown",
   "metadata": {
    "deletable": true,
    "editable": true,
    "slideshow": {
     "slide_type": "fragment"
    }
   },
   "source": [
    "<img src=\"images/seqCorrection2.png\">"
   ]
  },
  {
   "cell_type": "markdown",
   "metadata": {
    "deletable": true,
    "editable": true,
    "slideshow": {
     "slide_type": "subslide"
    }
   },
   "source": [
    "If suboptimal actions are encountered further in the new sequence, sequence correction may again be performed."
   ]
  },
  {
   "cell_type": "markdown",
   "metadata": {
    "deletable": true,
    "editable": true,
    "slideshow": {
     "slide_type": "fragment"
    }
   },
   "source": [
    "Before SC, we may allow the examination of at most E actions after the first suboptimal one.\n",
    "- This will allow the predictors to learn how to recover from the mistake."
   ]
  },
  {
   "cell_type": "markdown",
   "metadata": {
    "deletable": true,
    "editable": true,
    "slideshow": {
     "slide_type": "slide"
    }
   },
   "source": [
    "### Sequence Correction results ### \n",
    "<br>\n",
    "<center>\n",
    "<img src=\"images/SF_HOTEL_analysis_loss.jpg\">\n",
    "</center>"
   ]
  },
  {
   "cell_type": "markdown",
   "metadata": {
    "deletable": true,
    "editable": true,
    "slideshow": {
     "slide_type": "subslide"
    }
   },
   "source": [
    "### Results per LOLS epoch ### \n",
    "<br>\n",
    "<center>\n",
    "<img src=\"images/NLG_policyResults.jpg\">\n",
    "</center>"
   ]
  },
  {
   "cell_type": "markdown",
   "metadata": {
    "deletable": true,
    "editable": true,
    "slideshow": {
     "slide_type": "subslide"
    }
   },
   "source": [
    "### Automatic evaluation for NLG ### \n",
    "\n",
    "<center>\n",
    "<table style=\"float:center;text-align:center;color:#333; border-collapse:collapse; border-spacing: 0;\">\n",
    "<thead>\n",
    "<tr>\n",
    "<th style=\"border:1px solid transparent;\"></th>\n",
    "<th colspan=\"3\" style=\"text-align:center;border:1px solid transparent;\">SF Restaurant</th>\n",
    "<th colspan=\"3\" style=\"text-align:center;border:1px solid transparent;\">SF Hotel</th>\n",
    "</tr>\n",
    "<tr>\n",
    "<th style=\"border:1px solid transparent;\"></th>\n",
    "<th style=\"text-align:center;border:1px solid transparent;\"><b>BLEU</b></th>\n",
    "<th style=\"text-align:center;border:1px solid transparent;\"><b>ROUGE</b></th>\n",
    "<th style=\"text-align:center;border:1px solid transparent;\"><b>ERR(%)</b></th>\n",
    "<th style=\"text-align:center;border:1px solid transparent;\"><b>BLEU</b></th>\n",
    "<th style=\"text-align:center;border:1px solid transparent;\"><b>ROUGE</b></th>\n",
    "<th style=\"text-align:center;border:1px solid transparent;\"><b>ERR(%)</b></th>\n",
    "</tr>\n",
    "</thead>\n",
    "<tbody>\n",
    "<tr>\n",
    "<td style=\"border:1px solid transparent;\"><b>LSTM</b></td>\n",
    "<td style=\"text-align:center;border:1px solid transparent;\">52.97</td>\n",
    "<td style=\"text-align:center;border:1px solid transparent;\">43.52</td>\n",
    "<td style=\"text-align:center;border:1px solid transparent;\">6.29</td>\n",
    "<td style=\"text-align:center;border:1px solid transparent;\">66.37</td>\n",
    "<td style=\"text-align:center;border:1px solid transparent;\">56.19</td>\n",
    "<td style=\"text-align:center;border:1px solid transparent;\">3.99</td>\n",
    "</tr>\n",
    "<tr>\n",
    "<td style=\"border:1px solid transparent;\"><b>LOLS</b></td>\n",
    "<td style=\"text-align:center;border:1px solid transparent;\">49.44</td>\n",
    "<td style=\"text-align:center;border:1px solid transparent;\">38.52</td>\n",
    "<td style=\"text-align:center;border:1px solid transparent;\">0.58</td>\n",
    "<td style=\"text-align:center;border:1px solid transparent;\">68.65</td>\n",
    "<td style=\"text-align:center;border:1px solid transparent;\">68.37</td>\n",
    "<td style=\"text-align:center;border:1px solid transparent;\">0.52</td>\n",
    "</tr>\n",
    "</tbody>\n",
    "</table>\n",
    "</center>"
   ]
  },
  {
   "cell_type": "markdown",
   "metadata": {
    "deletable": true,
    "editable": true,
    "slideshow": {
     "slide_type": "subslide"
    }
   },
   "source": [
    "### Human evaluation for NLG ### \n",
    "\n",
    "<center>\n",
    "<table style=\"float:center; color:#333; border-collapse:collapse; border-spacing: 0;\">\n",
    "<thead>\n",
    "<tr>\n",
    "<th></th>\n",
    "<th colspan=\"2\" style=\"text-align:center;\">SF Restaurant</th>\n",
    "<th colspan=\"2\" style=\"text-align:center;\">SF Hotel</th>\n",
    "</tr>\n",
    "<tr>\n",
    "<th></th>\n",
    "<th style=\"text-align:center;\"><b>Fluency</b></th>\n",
    "<th style=\"text-align:center;\"><b>Informativeness</b></th>\n",
    "<th style=\"text-align:center;\"><b>Fluency</b></th>\n",
    "<th style=\"text-align:center;\"><b>Informativeness</b></th>\n",
    "</tr>\n",
    "</thead>\n",
    "<tbody>\n",
    "<tr>\n",
    "<td><b>LSTM</b></td>\n",
    "<td style=\"text-align:center;\">4.49</td>\n",
    "<td style=\"text-align:center;\">5.29</td>\n",
    "<td style=\"text-align:center;\">4.41</td>\n",
    "<td style=\"text-align:center;\">5.36</td>\n",
    "</tr>\n",
    "<tr>\n",
    "<td><b>LOLS</b></td>\n",
    "<td style=\"text-align:center;\">4.23</td>\n",
    "<td style=\"text-align:center;\">5.36</td>\n",
    "<td style=\"text-align:center;\">4.68</td>\n",
    "<td style=\"text-align:center;\">5.19</td>\n",
    "</tr>\n",
    "</tbody>\n",
    "</table>\n",
    "</center>\n",
    "\n",
    "We performed Analysis of Variance (ANOVA) and post-hoc Tukey tests (a = 0.05); there is no statistically significant difference."
   ]
  },
  {
   "cell_type": "markdown",
   "metadata": {
    "deletable": true,
    "editable": true,
    "slideshow": {
     "slide_type": "skip"
    }
   },
   "source": [
    "### Summary so far ### \n",
    "\n",
    "We discussed modifications to the LOLS framework.\n",
    "- Exponential decay schedule when determining the roll-out policy.\n",
    "- Using sequence correction when encountering suboptimal actions.\n",
    "\n",
    "We showed that LOLS improves on the results of AROW predictors.\n",
    "- LOLS also improved on the predictors, when using random initialization of alignments."
   ]
  }
 ],
 "metadata": {
  "celltoolbar": "Slideshow",
  "kernelspec": {
   "display_name": "Python 3",
   "language": "python",
   "name": "python3"
  },
  "language_info": {
   "codemirror_mode": {
    "name": "ipython",
    "version": 3
   },
   "file_extension": ".py",
   "mimetype": "text/x-python",
   "name": "python",
   "nbconvert_exporter": "python",
   "pygments_lexer": "ipython3",
   "version": "3.5.2"
  },
  "livereveal": {
   "height": 768,
   "start_slideshow_at": "selected",
   "theme": "solarized",
   "transition": "slide",
   "width": 1024
  }
 },
 "nbformat": 4,
 "nbformat_minor": 2
}
