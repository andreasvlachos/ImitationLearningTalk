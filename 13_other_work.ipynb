{
 "cells": [
  {
   "cell_type": "code",
   "execution_count": 3,
   "metadata": {
    "collapsed": false,
    "deletable": true,
    "editable": true,
    "slideshow": {
     "slide_type": "skip"
    }
   },
   "outputs": [
    {
     "name": "stdout",
     "output_type": "stream",
     "text": [
      "Using matplotlib backend: Qt5Agg\n"
     ]
    },
    {
     "data": {
      "text/plain": [
       "{'progress': 'true',\n",
       " 'start_slideshow_at': 'selected',\n",
       " 'theme': 'solarized',\n",
       " 'transition': 'slide'}"
      ]
     },
     "execution_count": 3,
     "metadata": {},
     "output_type": "execute_result"
    }
   ],
   "source": [
    "%matplotlib\n",
    "from IPython.html.services.config import ConfigManager\n",
    "from IPython.paths import locate_profile\n",
    "from IPython.display import Image\n",
    "cm = ConfigManager(profile_dir=locate_profile(get_ipython().profile))\n",
    "cm.update('livereveal', {\n",
    "              'theme': 'solarized',\n",
    "              'transition': 'slide',\n",
    "              'start_slideshow_at': 'selected',\n",
    "              'progress': 'true',\n",
    "})"
   ]
  },
  {
   "cell_type": "markdown",
   "metadata": {
    "deletable": true,
    "editable": true,
    "slideshow": {
     "slide_type": "slide"
    }
   },
   "source": [
    "<center>\n",
    "<h2>Lighning round</h2>\n",
    "<h3>brief presentation of other imitation learning related work</h3>\n",
    "</center>"
   ]
  },
  {
   "cell_type": "markdown",
   "metadata": {
    "deletable": true,
    "editable": true,
    "slideshow": {
     "slide_type": "skip"
    }
   },
   "source": [
    "### Biomedical event extraction ###\n",
    "###### (Vlachos and Craven, 2011) ###### \n",
    "\n",
    "<center>\n",
    "<img src=\"images/bioevents_results.png\">\n",
    "</center>\n",
    "\n",
    "Actions\n",
    "\n",
    "Imitation learning\n",
    "\n",
    "Loss function\n",
    "\n",
    "- State-of-the-art BioNLP event extraction (at the time!)\n",
    "- Introduced focused costing."
   ]
  },
  {
   "cell_type": "markdown",
   "metadata": {
    "deletable": true,
    "editable": true,
    "slideshow": {
     "slide_type": "subslide"
    }
   },
   "source": [
    "### Work using imitation learning in EACL 2017 ###\n",
    "\n",
    "<b>Tackling Error Propagation through Reinforcement Learning:\n",
    "A Case of Greedy Dependency Parsing</b>\n",
    "<br>\n",
    "Minh Lê and Antske Fokkens\n",
    "<br>"
   ]
  },
  {
   "cell_type": "markdown",
   "metadata": {
    "collapsed": true,
    "deletable": true,
    "editable": true,
    "slideshow": {
     "slide_type": "slide"
    }
   },
   "source": [
    "### Summary ###\n",
    "\n",
    "Discussed expert policy definitions:\n",
    "- Static vs. dynamic vs. suboptimal policies.\n",
    "\n",
    "Examined variations to exploration:\n",
    "- Early termination, and targetted and partial exploration.\n",
    "\n",
    "Showed how we can accelerate cost estimation.\n",
    "- Noise reduction and focused costing.\n",
    "\n",
    "Applied Imitation Learning on various NLP tasks.\n",
    "- Transitions, loss functions, expert policies.\n",
    "- And improve on the results!"
   ]
  }
 ],
 "metadata": {
  "celltoolbar": "Slideshow",
  "kernelspec": {
   "display_name": "Python 3",
   "language": "python",
   "name": "python3"
  },
  "language_info": {
   "codemirror_mode": {
    "name": "ipython",
    "version": 3
   },
   "file_extension": ".py",
   "mimetype": "text/x-python",
   "name": "python",
   "nbconvert_exporter": "python",
   "pygments_lexer": "ipython3",
   "version": "3.5.2"
  }
 },
 "nbformat": 4,
 "nbformat_minor": 2
}
