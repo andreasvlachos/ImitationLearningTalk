{
 "cells": [
  {
   "cell_type": "markdown",
   "metadata": {
    "deletable": true,
    "editable": true,
    "slideshow": {
     "slide_type": "slide"
    }
   },
   "source": [
    "<center>\n",
    "<h2>Preliminaries</h2>\n",
    "</center>"
   ]
  },
  {
   "cell_type": "markdown",
   "metadata": {
    "deletable": true,
    "editable": true,
    "slideshow": {
     "slide_type": "slide"
    }
   },
   "source": [
    "<h3>Structured prediction</h3>\n",
    "\n",
    "<table  style=\"border-style: hidden; border-collapse: collapse; padding: 50px\">\n",
    "<thead>\n",
    "<tr>\n",
    "<th>I</th> \n",
    "<th>studied</th>\n",
    "<th>in</th>\n",
    "<th>London</th>\n",
    "<th>with</th>\n",
    "<th>Sebastian</th>\n",
    "<th>Riedel</th>\n",
    "</tr>\n",
    "</thead>\n",
    "<tbody style=\"font-size:100%\">\n",
    "<tr>\n",
    "<td><span class=\"fragment\" data-fragment-index=\"1\">PRP</span></td>\n",
    "<td><span class=\"fragment\" data-fragment-index=\"1\">VBD</span></td>\n",
    "<td><span class=\"fragment\" data-fragment-index=\"1\">IN</span></td>\n",
    "<td><span class=\"fragment\" data-fragment-index=\"1\">NNP</span></td>\n",
    "<td><span class=\"fragment\" data-fragment-index=\"1\">IN</span></td>\n",
    "<td><span class=\"fragment\" data-fragment-index=\"1\">NNP</span></td>\n",
    "<td><span class=\"fragment\" data-fragment-index=\"1\">NNP</span></td>\n",
    "</tr>\n",
    "<tr>\n",
    "<td><span class=\"fragment\" data-fragment-index=\"2\">O</span></td>\n",
    "<td><span class=\"fragment\" data-fragment-index=\"2\">O</span></td>\n",
    "<td><span class=\"fragment\" data-fragment-index=\"2\">O</span></td>\n",
    "<td><span class=\"fragment\" data-fragment-index=\"2\">B-LOC</span></td>\n",
    "<td><span class=\"fragment\" data-fragment-index=\"2\">O</span></td>\n",
    "<td><span class=\"fragment\" data-fragment-index=\"2\">B-PER</span></td>\n",
    "<td><span class=\"fragment\" data-fragment-index=\"2\">I-PER</span></td>\n",
    "</tr>\n",
    "</tbody>\n",
    "</table>\n",
    "\n",
    "<p>\n",
    "\t\t\t\t<ul>\n",
    "  \t\t\t<li class=\"fragment\" data-fragment-index=\"1\">part of speech (PoS) tagging</li>\n",
    "  \t\t\t<li class=\"fragment\" data-fragment-index=\"2\">named entity recognition (NER)</li>\n",
    "\t\t\t\t</ul>\n",
    "\t\t\t</p>\n"
   ]
  },
  {
   "cell_type": "markdown",
   "metadata": {
    "deletable": true,
    "editable": true,
    "slideshow": {
     "slide_type": "fragment"
    }
   },
   "source": [
    "<p><b>Input:</b> a sentence $\\mathbf{x}=[x_1...x_N]$<br> <b>Output:</b> a sequence of labels $\\mathbf{y}=[y_{1}\\ldots y_{N}] \\in {\\cal Y}^N$</p>"
   ]
  },
  {
   "cell_type": "markdown",
   "metadata": {
    "deletable": true,
    "editable": true,
    "slideshow": {
     "slide_type": "subslide"
    }
   },
   "source": [
    "<h3>Structured prediction</h3>\n",
    "\n",
    "<img src=\"images/tikz/semParse.png\" style=\"width:100%;\">\n",
    "\n",
    "<p>Semantic parsing, but also syntactic parsing, semantic role labeling, question answering over knowledge bases, etc.)</p>\n",
    "<p><b>Input:</b> a sentence $\\mathbf{x}=[x_1...x_N]$<br>\n",
    "<b>Output:</b> a meaning representation graph $\\mathbf{G}=(V,E) \\in {\\cal G_{\\mathbf{x}}}$</p> "
   ]
  },
  {
   "cell_type": "markdown",
   "metadata": {
    "deletable": true,
    "editable": true,
    "slideshow": {
     "slide_type": "subslide"
    }
   },
   "source": [
    "<h3>Structured prediction</h3>\n",
    "\n",
    "<img src=\"images/nlg.png\" style=\"width:90%;\">\n",
    "\n",
    "<p>Natural language generation (NLG), but also summarization, decoding in machine translation, etc.</p>\n",
    "\n",
    "<p><b>Input:</b> a meaning representation<br>\n",
    "<b>Output:</b> $\\mathbf{w}=[w_1...w_N], w\\in {\\cal V}\\cup END, w_N=END$</p>  "
   ]
  },
  {
   "cell_type": "markdown",
   "metadata": {
    "deletable": true,
    "editable": true,
    "slideshow": {
     "slide_type": "slide"
    }
   },
   "source": [
    "### Two main paradigms\n",
    "\n",
    "Joint modeling, a.k.a: \n",
    "- global inference\n",
    "- structured models"
   ]
  },
  {
   "cell_type": "markdown",
   "metadata": {
    "deletable": true,
    "editable": true,
    "slideshow": {
     "slide_type": "fragment"
    }
   },
   "source": [
    "Incremental modeling, a.k.a:\n",
    "- local \n",
    "- greedy\n",
    "- pipeline\n",
    "- transition-based\n",
    "- history-based"
   ]
  },
  {
   "cell_type": "markdown",
   "metadata": {
    "deletable": true,
    "editable": true,
    "slideshow": {
     "slide_type": "subslide"
    }
   },
   "source": [
    "### Joint modeling\n",
    "\n",
    "A model (e.g. conditional random field) that scores complete outputs (e.g. label sequences):\n",
    "\n",
    "$$\\mathbf{\\hat y} =\\hat y_{1}\\ldots \\hat y_{N} = \\mathop{\\arg \\max}_{Y \\in {\\cal Y}^N} f(y_{1}\\ldots y_{N}, \\mathbf{x})$$\n",
    "\n",
    "<ul class=\"fragment\">\n",
    "\t\t\t\t\t<li>exhaustive exploration of the search space</li>\n",
    "\t\t\t\t\t<li>large/complex search spaces are challenging</li>\n",
    "\t\t\t\t\t<li>efficient dynamic programming restricts modelling flexibility\n",
    "\t\t\t\t\t\t(i.e. Markov assumptions)</li>\n",
    "\t\t\t\t</ul>\n"
   ]
  },
  {
   "cell_type": "markdown",
   "metadata": {
    "deletable": true,
    "editable": true,
    "slideshow": {
     "slide_type": "subslide"
    }
   },
   "source": [
    "### Incremental modeling\n",
    "\n",
    "A classifier predicting a label at a time given the previous ones:\n",
    "\n",
    "\n",
    "\\begin{align}\n",
    "\\hat y_1 &=\\mathop{\\arg \\max}_{y \\in {\\cal Y}} f(y, \\mathbf{x}),\\\\\n",
    "\\mathbf{\\hat y} = \\quad \\hat y_2 &=\\mathop{\\arg \\max}_{y \\in {\\cal Y}} f(y, \\mathbf{x}, \\hat y_1), \\cdots\\\\\n",
    "\\hat y_N &=\\mathop{\\arg \\max}_{y \\in {\\cal Y}} f(y, \\mathbf{x}, \\hat y_{1} \\ldots \\hat y_{N-1})\n",
    "\\end{align}\n",
    "\n",
    "<ul class=\"fragment\">\n",
    "\t\t\t\t\t<li>use our favourite classifier</li>\n",
    "\t\t\t\t\t<li>no restrictions on features</li>\n",
    "\t\t\t\t\t<li>prone to error propagation (i.i.d. assumption broken)</li>\n",
    "\t\t\t\t\t<li>local model not trained wrt the task-level loss</li>\n",
    "\t\t\t\t</ul>\n"
   ]
  },
  {
   "cell_type": "markdown",
   "metadata": {
    "deletable": true,
    "editable": true,
    "slideshow": {
     "slide_type": "slide"
    }
   },
   "source": [
    "### Imitation learning\n",
    "\n",
    "Improve incremental modeling to:\n",
    "- address error-propagation\n",
    "- train wrt the task-level loss function"
   ]
  },
  {
   "cell_type": "markdown",
   "metadata": {
    "deletable": true,
    "editable": true,
    "slideshow": {
     "slide_type": "fragment"
    }
   },
   "source": [
    "**Meta-learning**: use our favourite classifier and features,\n",
    "but generate better (non-i.i.d.) training data"
   ]
  },
  {
   "cell_type": "markdown",
   "metadata": {
    "deletable": true,
    "editable": true,
    "slideshow": {
     "slide_type": "fragment"
    }
   },
   "source": [
    "To apply IL we need:\n",
    "- transition system (what our classifier can do)\n",
    "- task loss (what we optimize for)\n",
    "- expert policy (the teacher to help us)"
   ]
  },
  {
   "cell_type": "markdown",
   "metadata": {
    "deletable": true,
    "editable": true,
    "slideshow": {
     "slide_type": "slide"
    }
   },
   "source": [
    "<h3>Transition system</h3>\n",
    "\n",
    "<p>The <b>actions</b> $\\cal A$ the classifier $f$ can predict and their effect on the <b>state</b> which tracks the prediction: $S_{t+1}=S_1(\\alpha_1\\ldots\\alpha_t)$</p>\n",
    "\n",
    "<img src=\"images/tikz/IncrementalStructure.png\" style=\"align:center; width:65%\">"
   ]
  },
  {
   "cell_type": "markdown",
   "metadata": {
    "deletable": true,
    "editable": true,
    "slideshow": {
     "slide_type": "subslide"
    }
   },
   "source": [
    "<h3>Transition system</h3>\n",
    "\n",
    "<p style=\"text-align: left; border:3px; border-radius: 25px; background-color:lightgrey; border-style:solid; border-color:black; padding: 0.3em; font-size: 75%\">\n",
    "\\begin{align}\n",
    "& \\textbf{Input:} \\; sentence \\; \\mathbf{x}\\\\\n",
    "& state \\; S_1=initialize(\\mathbf{x}); timestep \\; t = 1\\\\\n",
    "& \\mathbf{while}\\; S_t \\; \\text{not final}\\; \\mathbf{do}\\\\\n",
    "& \\quad action \\; \\alpha_t = \\mathop{\\arg \\max}_{\\alpha \\in {\\cal A}} f(\\alpha, \\mathbf{x})\\\\\n",
    "& \\quad S_{t+1}=S_t(\\alpha_t); t=t+1\\\\\n",
    "\\end{align}\n",
    "</p>"
   ]
  },
  {
   "cell_type": "markdown",
   "metadata": {
    "deletable": true,
    "editable": true,
    "slideshow": {
     "slide_type": "fragment"
    }
   },
   "source": [
    "<ul>\n",
    "<li><b>PoS/NER tagging?</b> <span class=\"fragment\">for each word, left-to-right, predict a PoS tag which is added to the output</span></li>\n",
    "<li class=\"fragment\"><b>NLG?</b> <span class=\"fragment\">predict a word adding it to the output until the <code>EndOfSentence</code> is predicted</span></li>\n",
    "</ul>"
   ]
  },
  {
   "cell_type": "markdown",
   "metadata": {
    "deletable": true,
    "editable": true,
    "slideshow": {
     "slide_type": "slide"
    }
   },
   "source": [
    "### Supervising the classifier\n",
    "\n",
    "What are good actions in incremental structured prediction?"
   ]
  },
  {
   "cell_type": "markdown",
   "metadata": {
    "deletable": true,
    "editable": true,
    "slideshow": {
     "slide_type": "fragment"
    }
   },
   "source": [
    "Those that reach $S_{final} = S_1(\\alpha_1\\ldots\\alpha_T)$ with low **task loss**:\n",
    "\n",
    "$$loss  = L(S_{final}, \\mathbf{y}) \\geq 0$$"
   ]
  },
  {
   "cell_type": "markdown",
   "metadata": {
    "deletable": true,
    "editable": true,
    "slideshow": {
     "slide_type": "fragment"
    }
   },
   "source": [
    "<ul>\n",
    "<li><b>PoS tagging?</b> <span class=\"fragment\">Hamming loss: number of incorrect tags</span></li>\n",
    "<li class=\"fragment\"><b>NER?</b> <span class=\"fragment\">number of false positives and false negatives</span></li>\n",
    "<li class=\"fragment\"><b>NLG?</b> <span class=\"fragment\">BLEU: % of n-grams predicted present in the gold reference(s), i.e. $L=1-BLEU(S_{final}, \\mathbf{y})$</span></li>\n",
    "</ul>"
   ]
  },
  {
   "cell_type": "markdown",
   "metadata": {
    "deletable": true,
    "editable": true,
    "slideshow": {
     "slide_type": "slide"
    }
   },
   "source": [
    "### Action assessment \n",
    "\n",
    "<table style=\"font-size:80%; border-style: hidden; border-collapse: collapse; padding: 50px\">\n",
    "<thead>\n",
    "<tr>\n",
    "<th>I</th> \n",
    "<th>studied</th>\n",
    "<th>in</th>\n",
    "<th>London</th>\n",
    "<th>with</th>\n",
    "<th>Sebastian</th>\n",
    "<th>Riedel</th>\n",
    "</tr>\n",
    "</thead>\n",
    "<tbody>\n",
    "<tr>\n",
    "<td>PRP</td>\n",
    "<td>VBD</td>\n",
    "<td>IN</td>\n",
    "<td>NNP</td>\n",
    "<td>IN</td>\n",
    "<td>NNP</td>\n",
    "<td><span class=\"fragment\" data-fragment-index=\"1\">NNP</span></td>\n",
    "</tr>\n",
    "<tr>\n",
    "<td><span class=\"fragment\" data-fragment-index=\"2\">O</span></td>\n",
    "<td><span class=\"fragment\" data-fragment-index=\"2\">O</span></td>\n",
    "<td><span class=\"fragment\" data-fragment-index=\"2\">O</span></td>\n",
    "<td><span class=\"fragment\" data-fragment-index=\"2\">B-LOC</span></td>\n",
    "<td><span class=\"fragment\" data-fragment-index=\"2\">O</span></td>\n",
    "<td><span class=\"fragment\" data-fragment-index=\"2\">B-PER</span></td>\n",
    "<td><span class=\"fragment\" data-fragment-index=\"3\">I-PER</span></td>\n",
    "</tr>\n",
    "</tbody>\n",
    "</table>\n",
    "\n",
    "<p>How many incorrect PoS tags due to $\\alpha_6$  being NNP? <span class=\"fragment\" data-fragment-index=\"1\"><b>0</b></span>\n",
    "</p>\n",
    "<p class=\"fragment\" data-fragment-index=\"2\"> How many $FP+FN$ due to $\\alpha_6$ being B-PER? <span class=\"fragment\" data-fragment-index=\"3\"><br><b>Depends!</b> If $\\alpha_7$ is</span>\n",
    "<ul class=\"fragment\" data-fragment-index=\"3\">\n",
    "<li>I-PER:  $0$ (correct)</li> \n",
    "<li>O: $2$ (1FP+1FN)</li>\n",
    "<li>B-*: $3$ (2FP+1FN)</li>\n",
    "</ul>\n",
    "</p>"
   ]
  },
  {
   "cell_type": "markdown",
   "metadata": {
    "deletable": true,
    "editable": true,
    "slideshow": {
     "slide_type": "subslide"
    }
   },
   "source": [
    "### More action assessment\n",
    "\n",
    "Can we tell how predicting a word will change our BLEU?\n",
    "$$\n",
    "BLEU([\\alpha_1...\\alpha_T],\\mathbf{y}) = \\prod_{n=1}^N \\frac{\\# \\text{n-grams} \\in ([\\alpha_1...\\alpha_T] \\cap \\mathbf{y})}{\\# \\text{n-grams} \\in [\\alpha_1..\\alpha_T]}\n",
    "$$\n",
    "<p class=\"fragment\" data-fragment-index=\"1\"><b>No</b>! (assuming N>1)</p>"
   ]
  },
  {
   "cell_type": "markdown",
   "metadata": {
    "deletable": true,
    "editable": true,
    "slideshow": {
     "slide_type": "fragment"
    }
   },
   "source": [
    "**Non-decomposable** losses wrt transition system are common!\n",
    "\n",
    "Imitation learning trains incremental models for such losses"
   ]
  },
  {
   "cell_type": "markdown",
   "metadata": {
    "deletable": true,
    "editable": true,
    "slideshow": {
     "slide_type": "fragment"
    }
   },
   "source": [
    "Affects joint models too: loss does not always decompose over the graphical model ([Tarlow and Zemel, 2012](http://www.cs.toronto.edu/~dtarlow/tarlow_zemel_aistats12.pdf))"
   ]
  },
  {
   "cell_type": "markdown",
   "metadata": {
    "deletable": true,
    "editable": true,
    "slideshow": {
     "slide_type": "skip"
    }
   },
   "source": [
    "\n",
    "Even F-score for binary classification is non-decomposable ([Narasimhan et al., 2015](http://jmlr.org/proceedings/papers/v37/narasimhana15.pdf))!"
   ]
  },
  {
   "cell_type": "markdown",
   "metadata": {
    "deletable": true,
    "editable": true,
    "slideshow": {
     "slide_type": "slide"
    }
   },
   "source": [
    "### Expert policy\n",
    "\n",
    "Returns the best action at the current state by looking at the gold standard assuming **future actions are also optimal**:\n",
    "\n",
    "$$\\alpha^{\\star}=\\pi^{\\star}(S_t, \\mathbf{y}) = \\mathop{\\arg \\min}_{\\alpha \\in {\\cal A}} L(S_t(\\alpha,\\pi^{\\star}),\\mathbf{y})$$"
   ]
  },
  {
   "cell_type": "markdown",
   "metadata": {
    "deletable": true,
    "editable": true,
    "slideshow": {
     "slide_type": "fragment"
    }
   },
   "source": [
    "<table style=\"border-style: hidden; border-collapse: collapse; padding: 50px\">\n",
    "<thead>\n",
    "<tr>\n",
    "<th>I</th> \n",
    "<th>studied</th>\n",
    "<th>in</th>\n",
    "<th>London</th>\n",
    "<th>with</th>\n",
    "<th>Sebastian</th>\n",
    "<th>Riedel</th>\n",
    "</tr>\n",
    "</thead>\n",
    "<tbody>\n",
    "<tr>\n",
    "<td>PRP</td>\n",
    "<td>VBD</td>\n",
    "<td>IN</td>\n",
    "<td>NNP</td>\n",
    "<td>IN</td>\n",
    "<td>NNP</td>\n",
    "<td>NNP</td>\n",
    "</tr>\n",
    "</tbody>\n",
    "</table>\n",
    "\n",
    "<p>PoS tagging: $\\pi^{\\star}(S_t, \\mathbf{y})= \\pi^{\\star}(S_t, [y_1...y_T])=y_t$</p>"
   ]
  },
  {
   "cell_type": "markdown",
   "metadata": {
    "deletable": true,
    "editable": true,
    "slideshow": {
     "slide_type": "fragment"
    }
   },
   "source": [
    "<p style=\"float: left;\">Only available for the training data: an expert<br>demonstrating how to perform the task </p> <a href=\"http://www.salon.com/2016/10/06/what-makes-a-good-teacher-why-certifications-and-standards-dont-guarantee-quality-educators_partner/\"><img src=\"images/english_teacher.jpg\" style=\"width:20%; float: right;\"></a>"
   ]
  },
  {
   "cell_type": "markdown",
   "metadata": {
    "deletable": true,
    "editable": true,
    "slideshow": {
     "slide_type": "subslide"
    }
   },
   "source": [
    "### Expert policy\n",
    "\n",
    "What action should $\\pi^{\\star}$ return?\n",
    "\n",
    "<table style=\"border-style: hidden; border-collapse: collapse; padding: 50px\">\n",
    "<thead>\n",
    "<tr>\n",
    "<th>I</th> \n",
    "<th>studied</th>\n",
    "<th>in</th>\n",
    "<th>London</th>\n",
    "<th>with</th>\n",
    "<th>Sebastian</th>\n",
    "<th>Riedel</th>\n",
    "</tr>\n",
    "</thead>\n",
    "<tbody>\n",
    "<tr>\n",
    "<td>O</td>\n",
    "<td>O</td>\n",
    "<td>O</td>\n",
    "<td>B-LOC</td>\n",
    "<td>O</td>\n",
    "<td>B-PER</td>\n",
    "<td><span class=\"fragment\" data-fragment-index=\"1\">I-PER</span></td>\n",
    "</tr>\n",
    "<tr class=\"fragment\" data-fragment-index=\"2\">\n",
    "<td>O</td>\n",
    "<td>O</td>\n",
    "<td>O</td>\n",
    "<td>B-LOC</td>\n",
    "<td>O</td>\n",
    "<td>O</td>\n",
    "<td><span class=\"fragment\" data-fragment-index=\"3\">O</span></td>\n",
    "</tr>\n",
    "</tbody>\n",
    "</table> "
   ]
  },
  {
   "cell_type": "markdown",
   "metadata": {
    "deletable": true,
    "editable": true,
    "slideshow": {
     "slide_type": "fragment"
    }
   },
   "source": [
    "Takes previous actions into account to be optimal (dynamic)"
   ]
  },
  {
   "cell_type": "markdown",
   "metadata": {
    "deletable": true,
    "editable": true,
    "slideshow": {
     "slide_type": "fragment"
    }
   },
   "source": [
    "Finding the optimal action can be expensive.\n",
    "\n",
    "IL can learn with sub-optimal experts!"
   ]
  },
  {
   "cell_type": "markdown",
   "metadata": {
    "deletable": true,
    "editable": true,
    "slideshow": {
     "slide_type": "slide"
    }
   },
   "source": [
    "### Cost-sensitive classification\n",
    "\n",
    "Each action has a different cost:\n",
    "\n",
    "<table style=\"border-style: hidden; border-collapse: collapse; padding: 50px\">\n",
    "<thead>\n",
    "<tr>\n",
    "<th>O</th> \n",
    "<th>B-PER</th>\n",
    "<th>I-PER</th>\n",
    "<th>B-LOC</th>\n",
    "<th>I-LOC</th>\n",
    "<th>B-ORG</th>\n",
    "<th>I-LOC</th>\n",
    "</tr>\n",
    "</thead>\n",
    "<tbody>\n",
    "<tr>\n",
    "<td>1</td>\n",
    "<td>2</td>\n",
    "<td>2</td>\n",
    "<td>0</td>\n",
    "<td>1</td>\n",
    "<td>1</td>\n",
    "<td>1</td>\n",
    "</tr>\n",
    "</tbody>\n",
    "</table>"
   ]
  },
  {
   "cell_type": "markdown",
   "metadata": {
    "deletable": true,
    "editable": true,
    "slideshow": {
     "slide_type": "fragment"
    }
   },
   "source": [
    "Learning with costs:\n",
    "- sample instances according to their cost to train any classifier ([Abe et al., 2004](http://www.hunch.net/~jl/projects/reductions/mc2/p542-Abe.pdf))\n",
    "- in error-driven learning adjust the updates in proportion to the error cost ([Crammer et al., 2006](http://jmlr.csail.mit.edu/papers/volume7/crammer06a/crammer06a.pdf))"
   ]
  },
  {
   "cell_type": "markdown",
   "metadata": {
    "deletable": true,
    "editable": true,
    "slideshow": {
     "slide_type": "skip"
    }
   },
   "source": [
    "**Multi-label classification**: multiple correct labels per-instance"
   ]
  },
  {
   "cell_type": "markdown",
   "metadata": {
    "deletable": true,
    "editable": true,
    "slideshow": {
     "slide_type": "skip"
    }
   },
   "source": [
    "**Cost-sensitive classification**: "
   ]
  },
  {
   "cell_type": "markdown",
   "metadata": {
    "deletable": true,
    "editable": true,
    "slideshow": {
     "slide_type": "skip"
    }
   },
   "source": [
    "### Imitation learning\n",
    "\n",
    "Learn an action-predicting classifier by imitating expert demonstrations\n",
    "- learn that some mistakes are worse than others\n",
    "- multiple actions can be optimal"
   ]
  }
 ],
 "metadata": {
  "celltoolbar": "Slideshow",
  "kernelspec": {
   "display_name": "Python 3",
   "language": "python",
   "name": "python3"
  },
  "language_info": {
   "codemirror_mode": {
    "name": "ipython",
    "version": 3
   },
   "file_extension": ".py",
   "mimetype": "text/x-python",
   "name": "python",
   "nbconvert_exporter": "python",
   "pygments_lexer": "ipython3",
   "version": "3.5.2"
  },
  "livereveal": {
   "height": 768,
   "start_slideshow_at": "selected",
   "theme": "solarized",
   "transition": "slide",
   "width": 1024
  }
 },
 "nbformat": 4,
 "nbformat_minor": 2
}
