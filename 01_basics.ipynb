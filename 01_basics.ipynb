{
 "cells": [
  {
   "cell_type": "code",
   "execution_count": 4,
   "metadata": {
    "collapsed": false,
    "deletable": true,
    "editable": true,
    "slideshow": {
     "slide_type": "skip"
    }
   },
   "outputs": [
    {
     "data": {
      "text/plain": [
       "{'background': '#ff0000',\n",
       " 'progress': 'true',\n",
       " 'scroll': 'true',\n",
       " 'start_slideshow_at': 'selected',\n",
       " 'theme': 'solarized',\n",
       " 'transition': 'slide'}"
      ]
     },
     "execution_count": 4,
     "metadata": {},
     "output_type": "execute_result"
    }
   ],
   "source": [
    "from IPython.html.services.config import ConfigManager\n",
    "from IPython.paths import locate_profile\n",
    "cm = ConfigManager(profile_dir=locate_profile(get_ipython().profile))\n",
    "cm.update('livereveal', {\n",
    "              'theme': 'solarized',\n",
    "              'transition': 'slide',\n",
    "              'start_slideshow_at': 'selected',\n",
    "              'progress': 'true',\n",
    "})"
   ]
  },
  {
   "cell_type": "markdown",
   "metadata": {
    "deletable": true,
    "editable": true,
    "slideshow": {
     "slide_type": "slide"
    }
   },
   "source": [
    "<center>\n",
    "<h2>Preliminaries</h2>\n",
    "</center>"
   ]
  },
  {
   "cell_type": "markdown",
   "metadata": {
    "slideshow": {
     "slide_type": "slide"
    }
   },
   "source": [
    "<h3>Structured prediction</h3>\n",
    "\n",
    "<table  style=\"border-style: hidden; border-collapse: collapse; padding: 50px\">\n",
    "<thead>\n",
    "<tr>\n",
    "<th>I</th> \n",
    "<th>studied</th>\n",
    "<th>in</th>\n",
    "<th>Sheffield</th>\n",
    "<th>with</th>\n",
    "<th>Lucia</th>\n",
    "<th>Specia</th>\n",
    "</tr>\n",
    "</thead>\n",
    "<tbody style=\"font-size:100%\">\n",
    "<tr>\n",
    "<td><span class=\"fragment\" data-fragment-index=\"1\">PRP</span></td>\n",
    "<td><span class=\"fragment\" data-fragment-index=\"1\">VBD</span></td>\n",
    "<td><span class=\"fragment\" data-fragment-index=\"1\">IN</span></td>\n",
    "<td><span class=\"fragment\" data-fragment-index=\"1\">NNP</span></td>\n",
    "<td><span class=\"fragment\" data-fragment-index=\"1\">IN</span></td>\n",
    "<td><span class=\"fragment\" data-fragment-index=\"1\">NNP</span></td>\n",
    "<td><span class=\"fragment\" data-fragment-index=\"1\">NNP</span></td>\n",
    "</tr>\n",
    "<tr>\n",
    "<td><span class=\"fragment\" data-fragment-index=\"2\">O</span></td>\n",
    "<td><span class=\"fragment\" data-fragment-index=\"2\">O</span></td>\n",
    "<td><span class=\"fragment\" data-fragment-index=\"2\">O</span></td>\n",
    "<td><span class=\"fragment\" data-fragment-index=\"2\">B-LOC</span></td>\n",
    "<td><span class=\"fragment\" data-fragment-index=\"2\">O</span></td>\n",
    "<td><span class=\"fragment\" data-fragment-index=\"2\">B-PER</span></td>\n",
    "<td><span class=\"fragment\" data-fragment-index=\"2\">I-PER</span></td>\n",
    "</tr>\n",
    "</tbody>\n",
    "</table>\n",
    "\n",
    "<p>\n",
    "\t\t\t\t<ul>\n",
    "  \t\t\t<li class=\"fragment\" data-fragment-index=\"1\">part of speech (PoS) tagging</li>\n",
    "  \t\t\t<li class=\"fragment\" data-fragment-index=\"2\">named entity recognition (NER)</li>\n",
    "\t\t\t\t</ul>\n",
    "\t\t\t</p>\n"
   ]
  },
  {
   "cell_type": "markdown",
   "metadata": {
    "slideshow": {
     "slide_type": "fragment"
    }
   },
   "source": [
    "<p><b>Input:</b> a sentence $\\mathbf{x}=[x_1...x_N]$<br> <b>Output:</b> a sequence of labels $\\mathbf{y}=[y_{1}\\ldots y_{N}] \\in {\\cal Y}^N$</p>"
   ]
  },
  {
   "cell_type": "markdown",
   "metadata": {
    "deletable": true,
    "editable": true,
    "slideshow": {
     "slide_type": "subslide"
    }
   },
   "source": [
    "<h3>Structured prediction</h3>\n",
    "\n",
    " <img src=\"images/tikz/semParse.png\" style=\"width:100%;\">\n",
    "\n",
    "<p>Semantic parsing, but also syntactic parsing, semantic role labeling, question answering over knowledge bases, etc.)</p>\n",
    "<p><b>Input:</b> a sentence $\\mathbf{x}=[x_1...x_N]$<br>\n",
    "<b>Output:</b> a meaning representation graph $\\mathbf{G}=(V,E) \\in {\\cal G_{\\mathbf{x}}}$</p> "
   ]
  },
  {
   "cell_type": "markdown",
   "metadata": {
    "deletable": true,
    "editable": true,
    "slideshow": {
     "slide_type": "subslide"
    }
   },
   "source": [
    "<h3>Structured prediction</h3>\n",
    "\n",
    "<img src=\"images/nlg.png\" style=\"width:100%;\">\n",
    "\n",
    "<p>Natural language generation (NLG), but also summarization, decoding in machine translation, etc.</p>\n",
    "\n",
    "<p><b>Input:</b> a meaning representation<br>\n",
    "<b>Output:</b> a sentence $\\mathbf{w}=[w_1...w_N], w\\in {\\cal V}\\cup END, w_N=END$</p>  "
   ]
  },
  {
   "cell_type": "markdown",
   "metadata": {
    "deletable": true,
    "editable": true,
    "slideshow": {
     "slide_type": "slide"
    }
   },
   "source": [
    "### Two main paradigms\n",
    "\n",
    "Joint modeling, a.k.a: \n",
    "- global inference\n",
    "- structured prediction"
   ]
  },
  {
   "cell_type": "markdown",
   "metadata": {
    "deletable": true,
    "editable": true,
    "slideshow": {
     "slide_type": "fragment"
    }
   },
   "source": [
    "Incremental modeling, a.k.a:\n",
    "- local \n",
    "- greedy\n",
    "- pipeline\n",
    "- transition-based\n",
    "- history-based"
   ]
  },
  {
   "cell_type": "markdown",
   "metadata": {
    "deletable": true,
    "editable": true,
    "slideshow": {
     "slide_type": "subslide"
    }
   },
   "source": [
    "### Joint modeling\n",
    "\n",
    "A model (e.g. conditional random field) that scores complete outputs (e.g. label sequences):\n",
    "\n",
    "$$\\mathbf{\\hat y} =\\hat y_{1}\\ldots \\hat y_{N} = \\mathop{\\arg \\max}_{Y \\in {\\cal Y}^N} f(y_{1}\\ldots y_{N}, \\mathbf{x})$$\n",
    "\n",
    "<ul class=\"fragment\">\n",
    "\t\t\t\t\t<li>no error propagation</li>\n",
    "\t\t\t\t\t<li>exhaustive exploration of the search space</li>\n",
    "\t\t\t\t\t<li>large/complex search spaces are challenging</li>\n",
    "\t\t\t\t\t<li>efficient dynamic programming restricts modelling flexibility\n",
    "\t\t\t\t\t\t(i.e. Markov assumptions)</li>\n",
    "\t\t\t\t</ul>\n"
   ]
  },
  {
   "cell_type": "markdown",
   "metadata": {
    "deletable": true,
    "editable": true,
    "slideshow": {
     "slide_type": "subslide"
    }
   },
   "source": [
    "### Incremental modeling\n",
    "\n",
    "A classifier that predicts one label at a time given the previous predictions:\n",
    "\n",
    "\n",
    "\\begin{align}\n",
    "\\hat y_1 &=\\mathop{\\arg \\max}_{y \\in {\\cal Y}} f(y, \\mathbf{x}),\\\\\n",
    "\\mathbf{\\hat y} = \\quad \\hat y_2 &=\\mathop{\\arg \\max}_{y \\in {\\cal Y}} f(y, \\mathbf{x}, \\hat y_1), \\cdots\\\\\n",
    "\\hat y_N &=\\mathop{\\arg \\max}_{y \\in {\\cal Y}} f(y, \\mathbf{x}, \\hat y_{1} \\ldots \\hat y_{N-1})\n",
    "\\end{align}\n",
    "\n",
    "<ul class=\"fragment\">\n",
    "\t\t\t\t\t<li>use our favourite classifier</li>\n",
    "\t\t\t\t\t<li>no restrictions on features</li>\n",
    "\t\t\t\t\t<li>prone to error propagation (i.i.d. assumption broken)</li>\n",
    "\t\t\t\t\t<li>local model not trained wrt the task-level loss</li>\n",
    "\t\t\t\t</ul>\n"
   ]
  },
  {
   "cell_type": "markdown",
   "metadata": {
    "deletable": true,
    "editable": true,
    "slideshow": {
     "slide_type": "slide"
    }
   },
   "source": [
    "### Imitation learning\n",
    "\n",
    "Improve incremental modeling to:\n",
    "- address error-propagation\n",
    "- train wrt the task-level loss function"
   ]
  },
  {
   "cell_type": "markdown",
   "metadata": {
    "deletable": true,
    "editable": true,
    "slideshow": {
     "slide_type": "fragment"
    }
   },
   "source": [
    "**Meta-learning**: use our favourite classifier and features,\n",
    "but generate better (non-i.i.d.) training data"
   ]
  },
  {
   "cell_type": "markdown",
   "metadata": {
    "deletable": true,
    "editable": true,
    "slideshow": {
     "slide_type": "fragment"
    }
   },
   "source": [
    "But let's see some basic concepts first"
   ]
  },
  {
   "cell_type": "markdown",
   "metadata": {
    "deletable": true,
    "editable": true,
    "slideshow": {
     "slide_type": "slide"
    }
   },
   "source": [
    "<h3>Transition system</h3>\n",
    "\n",
    "<p>The actions $\\cal A$ the classifier $f$ can predict from and their effect:</p>\n",
    "\n",
    "<p style=\"text-align: left; border:3px; border-radius: 25px; background-color:lightgrey; border-style:solid; border-color:black; padding: 0.3em; font-size: 80%\">\n",
    "\\begin{align}\n",
    "& \\textbf{Input:} \\; \\mathbf{x}\\\\\n",
    "& state \\; S_1=initialize(\\mathbf{x}); timestep \\; t = 1\\\\\n",
    "& \\mathbf{while}\\; S_t \\; \\text{not final}\\; \\mathbf{do}\\\\\n",
    "& \\quad action \\; \\alpha_t = \\mathop{\\arg \\max}_{\\alpha \\in {\\cal A}} f(\\alpha, \\mathbf{x})\\\\\n",
    "& \\quad S_{c+1}=update(\\alpha_t,S_t); t=t+1\\\\\n",
    "& \\textbf{Output:} \\; S_{final} = S_t\\\\\n",
    "\\end{align}\n",
    "</p>\n"
   ]
  },
  {
   "cell_type": "markdown",
   "metadata": {
    "slideshow": {
     "slide_type": "fragment"
    }
   },
   "source": [
    "<ul>\n",
    "<li><b>PoS/NER tagging?</b> <span class=\"fragment\">for each word in the sentence, left-to-right, predict a PoS tag which is added to the output</span></li>\n",
    "<li class=\"fragment\"><b>NLG?</b> <span class=\"fragment\">predict a word from the vocabulary that is added to the output until the <code>END</code></span></li>\n",
    "</ul>\n",
    "\n",
    "<p class=\"fragment\"> <b>state</b>: a data structure containing the output; so far $S=[\\alpha_1...\\alpha_T]$</p>\n",
    "<!--<p class=\"fragment\"> <b>trajectory</b>: the actions $[\\alpha_1...\\alpha_T]$ taken to reach $S_{final}$</p>-->"
   ]
  },
  {
   "cell_type": "markdown",
   "metadata": {
    "deletable": true,
    "editable": true,
    "slideshow": {
     "slide_type": "slide"
    }
   },
   "source": [
    "### Task loss\n",
    "\n",
    "Given a final state $S_{final}$, how does it compare to the gold standard?\n",
    "\n",
    "$$loss  = L(S_{final}, \\mathbf{y}) \\geq 0$$"
   ]
  },
  {
   "cell_type": "markdown",
   "metadata": {
    "slideshow": {
     "slide_type": "fragment"
    }
   },
   "source": [
    "<ul>\n",
    "<li><b>PoS tagging?</b> <span class=\"fragment\">Hamming loss: number of incorrect tags</span></li>\n",
    "<li class=\"fragment\"><b>NER?</b> <span class=\"fragment\">number of false positives and false negatives</span></li>\n",
    "<li class=\"fragment\"><b>NLG?</b> <span class=\"fragment\">BLEU: % of n-grams predicted present in the gold reference(s) ($L=1-BLEU(s_{final}, \\mathbf{y})$)</span></li>\n",
    "</ul>\n",
    "\n",
    "<p class=\"fragment\"><b>Goal:</b> models that minimize the loss on unseen data (generalization)</p>"
   ]
  },
  {
   "cell_type": "markdown",
   "metadata": {
    "deletable": true,
    "editable": true,
    "slideshow": {
     "slide_type": "slide"
    }
   },
   "source": [
    "### Decomposable loss\n",
    "\n",
    "Given a transition system, a loss is **decomposable** if the loss due to an action $\\alpha_t$ independently of the future actions $[\\alpha_{t+1}...\\alpha_T]$:\n",
    "\n",
    "$$L(S,\\mathbf{y})= \\sum_{t=1}^T \\ell(\\alpha_t, \\mathbf{y}, [\\alpha_1 ...\\alpha_{t-1}]) $$\n",
    "\n",
    "\n",
    "<table class=\"fragment\" data-fragment-index=\"1\" style=\"border-style: hidden; border-collapse: collapse; padding: 50px\">\n",
    "<thead>\n",
    "<tr>\n",
    "<th>I</th> \n",
    "<th>studied</th>\n",
    "<th>in</th>\n",
    "<th>Sheffield</th>\n",
    "<th>with</th>\n",
    "<th>Lucia</th>\n",
    "<th>Specia</th>\n",
    "</tr>\n",
    "</thead>\n",
    "<tbody style=\"font-size:100%\">\n",
    "<tr>\n",
    "<td><span class=\"fragment\" data-fragment-index=\"1\">PRP</span></td>\n",
    "<td><span class=\"fragment\" data-fragment-index=\"1\">VBD</span></td>\n",
    "<td><span class=\"fragment\" data-fragment-index=\"1\">IN</span></td>\n",
    "<td><span class=\"fragment\" data-fragment-index=\"1\">NNP</span></td>\n",
    "<td><span class=\"fragment\" data-fragment-index=\"1\">IN</span></td>\n",
    "<td><span class=\"fragment\" data-fragment-index=\"1\">NNP</span></td>\n",
    "<td><span class=\"fragment\" data-fragment-index=\"2\">NNP</span></td>\n",
    "</tr>\n",
    "<tr>\n",
    "<td><span class=\"fragment\" data-fragment-index=\"3\">O</span></td>\n",
    "<td><span class=\"fragment\" data-fragment-index=\"3\">O</span></td>\n",
    "<td><span class=\"fragment\" data-fragment-index=\"3\">O</span></td>\n",
    "<td><span class=\"fragment\" data-fragment-index=\"3\">B-LOC</span></td>\n",
    "<td><span class=\"fragment\" data-fragment-index=\"3\">O</span></td>\n",
    "<td><span class=\"fragment\" data-fragment-index=\"3\">B-PER</span></td>\n",
    "<td><span class=\"fragment\" data-fragment-index=\"4\">I-PER</span></td>\n",
    "</tr>\n",
    "</tbody>\n",
    "</table>\n",
    "\n",
    "<p class=\"fragment\" data-fragment-index=\"1\">\n",
    "Can we tell $\\ell(\\alpha_6| \\cdot)$ for\n",
    "<ul>\n",
    "<li class=\"fragment\" data-fragment-index=\"1\">PoS tagging? <span class=\"fragment\" data-fragment-index=\"2\"><b>Yes!</b> $\\ell(\\alpha_6| \\cdot)=0$ no matter $\\alpha_7$ </span></li>\n",
    "<li class=\"fragment\" data-fragment-index=\"3\">NER? <span class=\"fragment\" data-fragment-index=\"4\"><b>No!</b> If $\\alpha_7$ is</span>\n",
    "<ul class=\"fragment\" data-fragment-index=\"4\">\n",
    "<li>I-PER:  $\\ell(\\alpha_6| \\cdot)=0$ (correct)</li> \n",
    "<li>O: $\\ell(\\alpha_6| \\cdot)=2$ (1 FP and 1 FN)</li>\n",
    "<li>B-*: $\\ell(\\alpha_6| \\cdot)=3$ (2 FP and 1 FN)</li>\n",
    "</li>\n",
    "</ul>\n",
    "</ul>\n",
    "</p>\n",
    "\n"
   ]
  },
  {
   "cell_type": "markdown",
   "metadata": {
    "slideshow": {
     "slide_type": "subslide"
    }
   },
   "source": [
    "### Non-decomposable loss\n",
    "\n",
    "Is BLEU score decomposable?\n",
    "\n",
    "$$\n",
    "BLEU([\\alpha_1...\\alpha_T],\\mathbf{y}) = \\prod_{n=1}^N \\frac{\\# \\text{n-grams} \\in ([\\alpha_1...\\alpha_T] \\cap \\mathbf{y})}{\\# \\text{n-grams} \\in [\\alpha_1..\\alpha_T]}\n",
    "$$"
   ]
  },
  {
   "cell_type": "markdown",
   "metadata": {
    "slideshow": {
     "slide_type": "fragment"
    }
   },
   "source": [
    "**No**! Assuming N>1 and a word-by-word predictor."
   ]
  },
  {
   "cell_type": "markdown",
   "metadata": {
    "slideshow": {
     "slide_type": "fragment"
    }
   },
   "source": [
    "The issue of (non-)decompopsability affects joint models too, in that the loss does not always decompose over the graphical model ([Tarlow and Zemel, 2012](http://www.cs.toronto.edu/~dtarlow/tarlow_zemel_aistats12.pdf))"
   ]
  },
  {
   "cell_type": "markdown",
   "metadata": {
    "slideshow": {
     "slide_type": "fragment"
    }
   },
   "source": [
    "\n",
    "Even F-score for binary classification is non-decomposable ([Narasimhan et al., 2015](http://jmlr.org/proceedings/papers/v37/narasimhana15.pdf))!"
   ]
  },
  {
   "cell_type": "markdown",
   "metadata": {
    "deletable": true,
    "editable": true,
    "slideshow": {
     "slide_type": "skip"
    }
   },
   "source": [
    "### Supervision for inceremental structured prediction\n",
    "\n",
    "Usually what we have is labeled data, e.g.:\n",
    "\n",
    "What can we do with it?"
   ]
  },
  {
   "cell_type": "markdown",
   "metadata": {
    "deletable": true,
    "editable": true,
    "slideshow": {
     "slide_type": "slide"
    }
   },
   "source": [
    "### Expert policy\n",
    "\n",
    "A function that cheats (oracle) by looking at the labels\n",
    "\n",
    "Only available for the training data\n",
    "\n",
    "$\\pi^{\\star}$\n",
    "\n",
    "Data as demonstrator, learning from demonstrations"
   ]
  },
  {
   "cell_type": "markdown",
   "metadata": {
    "deletable": true,
    "editable": true,
    "slideshow": {
     "slide_type": "subslide"
    }
   },
   "source": [
    "### Action level supervision\n",
    "\n",
    "- labeled words in PoS tagging (obvious to infer)\n",
    "- oracle labels for transitions in dependency parsing (not so obvious)\n",
    "\n",
    "Also known as (expert) demonstrations/trajectories\n",
    "\n",
    "Show examples to reinforce the fact that we have sequence labeling\n",
    "\n",
    "it is possible to have dynamic experts use NER example"
   ]
  },
  {
   "cell_type": "markdown",
   "metadata": {
    "deletable": true,
    "editable": true,
    "slideshow": {
     "slide_type": "skip"
    }
   },
   "source": [
    "### Per-action reward\n",
    "\n",
    "Incorporate the effect a mistaken label has on the loss"
   ]
  },
  {
   "cell_type": "markdown",
   "metadata": {
    "deletable": true,
    "editable": true,
    "slideshow": {
     "slide_type": "slide"
    }
   },
   "source": [
    "### Cost-sensitive classification"
   ]
  }
 ],
 "metadata": {
  "celltoolbar": "Slideshow",
  "kernelspec": {
   "display_name": "Python 3",
   "language": "python",
   "name": "python3"
  },
  "language_info": {
   "codemirror_mode": {
    "name": "ipython",
    "version": 3
   },
   "file_extension": ".py",
   "mimetype": "text/x-python",
   "name": "python",
   "nbconvert_exporter": "python",
   "pygments_lexer": "ipython3",
   "version": "3.5.2"
  }
 },
 "nbformat": 4,
 "nbformat_minor": 2
}
