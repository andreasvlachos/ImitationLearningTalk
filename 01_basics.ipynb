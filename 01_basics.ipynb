{
 "cells": [
  {
   "cell_type": "code",
   "execution_count": 4,
   "metadata": {
    "collapsed": false,
    "deletable": true,
    "editable": true,
    "slideshow": {
     "slide_type": "skip"
    }
   },
   "outputs": [
    {
     "data": {
      "text/plain": [
       "{'progress': 'true',\n",
       " 'start_slideshow_at': 'selected',\n",
       " 'theme': 'solarized',\n",
       " 'transition': 'slide'}"
      ]
     },
     "execution_count": 4,
     "metadata": {},
     "output_type": "execute_result"
    }
   ],
   "source": [
    "from IPython.html.services.config import ConfigManager\n",
    "from IPython.paths import locate_profile\n",
    "cm = ConfigManager(profile_dir=locate_profile(get_ipython().profile))\n",
    "cm.update('livereveal', {\n",
    "              'theme': 'solarized',\n",
    "              'transition': 'slide',\n",
    "              'start_slideshow_at': 'selected',\n",
    "              'progress': 'true',\n",
    "})"
   ]
  },
  {
   "cell_type": "markdown",
   "metadata": {
    "deletable": true,
    "editable": true,
    "slideshow": {
     "slide_type": "slide"
    }
   },
   "source": [
    "<center>\n",
    "<h2>Let's start</h2>\n",
    "</center>"
   ]
  },
  {
   "cell_type": "markdown",
   "metadata": {
    "deletable": true,
    "editable": true,
    "slideshow": {
     "slide_type": "slide"
    }
   },
   "source": [
    "<h3>Structured prediction</h3>\n",
    "\n",
    "<p style=\"float: left;\">Given a sentence $\\mathbf{x}=[x_1...x_N]$,<br> predict a graph $\\mathbf{G}=(V,E)$<br></p>  <img src=\"images/tikz/semParse.png\" style=\"width:50%; float: right;\">"
   ]
  },
  {
   "cell_type": "markdown",
   "metadata": {
    "deletable": true,
    "editable": true,
    "slideshow": {
     "slide_type": "fragment"
    }
   },
   "source": [
    "<p style=\"float: left;\">Given a meaning representation,<br> predict a sentence $\\mathbf{x}=[x_1...x_N]$<br>i.e. a linear chain</p>  <img src=\"images/nlg.png\" style=\"width:50%; float: right;\">"
   ]
  },
  {
   "cell_type": "markdown",
   "metadata": {
    "slideshow": {
     "slide_type": "fragment"
    }
   },
   "source": [
    "Combinations of the two directions cover a wide range of applications: dialog systems, machine translation, etc."
   ]
  },
  {
   "cell_type": "markdown",
   "metadata": {
    "deletable": true,
    "editable": true,
    "slideshow": {
     "slide_type": "slide"
    }
   },
   "source": [
    "### Two main paradigms\n",
    "\n",
    "Joint modeling \n",
    "- global\n",
    "- structured"
   ]
  },
  {
   "cell_type": "markdown",
   "metadata": {
    "deletable": true,
    "editable": true,
    "slideshow": {
     "slide_type": "fragment"
    }
   },
   "source": [
    "Incremental modeling\n",
    "- greedy\n",
    "- pipeline\n",
    "- transition-based\n",
    "- history-based"
   ]
  },
  {
   "cell_type": "markdown",
   "metadata": {
    "deletable": true,
    "editable": true,
    "slideshow": {
     "slide_type": "subslide"
    }
   },
   "source": [
    "### Joint modeling\n",
    "\n",
    "A model (e.g. conditional random field) that scores complete outputs (e.g. label sequences):\n",
    "\n",
    "$$\\mathbf{\\hat y} =\\hat y_{1}\\ldots \\hat y_{N} = \\mathop{\\arg \\max}_{Y \\in {\\cal Y}^N} f(y_{1}\\ldots y_{N};\\mathbf{x})$$\n",
    "\n",
    "<ul class=\"fragment\">\n",
    "\t\t\t\t\t<li>no error propagation</li>\n",
    "\t\t\t\t\t<li>exhaustive exploration of the search space</li>\n",
    "\t\t\t\t\t<li>large/complex search spaces are challenging</li>\n",
    "\t\t\t\t\t<li>efficient dynamic programming restricts modelling flexibility\n",
    "\t\t\t\t\t\t(i.e. Markov assumptions)</li>\n",
    "\t\t\t\t</ul>\n"
   ]
  },
  {
   "cell_type": "markdown",
   "metadata": {
    "deletable": true,
    "editable": true,
    "slideshow": {
     "slide_type": "subslide"
    }
   },
   "source": [
    "### Incremental modeling\n",
    "\n",
    "A classifier that predicts one label at a time given the previous predictions:\n",
    "\n",
    "\n",
    "\\begin{align}\n",
    "\\hat y_1 &=\\mathop{\\arg \\max}_{y \\in {\\cal Y}} f(y;\\mathbf{x}),\\\\\n",
    "\\mathbf{\\hat y} = \\quad \\hat y_2 &=\\mathop{\\arg \\max}_{y \\in {\\cal Y}} f(y;\\mathbf{x}, \\hat y_1), \\cdots\\\\\n",
    "\\hat y_N &=\\mathop{\\arg \\max}_{y \\in {\\cal Y}} f(y;\\mathbf{x}, \\hat y_{1} \\ldots \\hat y_{N-1})\n",
    "\\end{align}\n",
    "\n",
    "<ul class=\"fragment\">\n",
    "\t\t\t\t\t<li>use our favourite classifier</li>\n",
    "\t\t\t\t\t<li>no restrictions on features</li>\n",
    "\t\t\t\t\t<li>prone to error propagation (i.i.d. assumption broken)</li>\n",
    "\t\t\t\t\t<li>local model not trained wrt the task-level loss</li>\n",
    "\t\t\t\t</ul>\n"
   ]
  },
  {
   "cell_type": "markdown",
   "metadata": {
    "deletable": true,
    "editable": true,
    "slideshow": {
     "slide_type": "slide"
    }
   },
   "source": [
    "### Imitation learning\n",
    "\n",
    "Improve incremental modeling to:\n",
    "- address error-propagation\n",
    "- train wrt the task-level loss function"
   ]
  },
  {
   "cell_type": "markdown",
   "metadata": {
    "deletable": true,
    "editable": true,
    "slideshow": {
     "slide_type": "fragment"
    }
   },
   "source": [
    "**Meta-learning**: use our favourite classifier and features,\n",
    "but generate better (non-i.i.d.) training data"
   ]
  },
  {
   "cell_type": "markdown",
   "metadata": {
    "deletable": true,
    "editable": true,
    "slideshow": {
     "slide_type": "fragment"
    }
   },
   "source": [
    "But let's see some basic concepts first"
   ]
  },
  {
   "cell_type": "markdown",
   "metadata": {
    "deletable": true,
    "editable": true,
    "slideshow": {
     "slide_type": "slide"
    }
   },
   "source": [
    "### Transition system"
   ]
  },
  {
   "cell_type": "markdown",
   "metadata": {
    "deletable": true,
    "editable": true,
    "slideshow": {
     "slide_type": "slide"
    }
   },
   "source": [
    "### Task loss\n",
    "\n",
    "Needs complete outputs\n",
    "\n",
    "mention Hamming loss and BLEU as examples"
   ]
  },
  {
   "cell_type": "markdown",
   "metadata": {
    "deletable": true,
    "editable": true,
    "slideshow": {
     "slide_type": "slide"
    }
   },
   "source": [
    "### Supervision for inceremental structured prediction\n",
    "\n",
    "Usually what we have is labeled data, e.g.:\n",
    "\n",
    "What can we do with it?"
   ]
  },
  {
   "cell_type": "markdown",
   "metadata": {
    "deletable": true,
    "editable": true,
    "slideshow": {
     "slide_type": "subslide"
    }
   },
   "source": [
    "### Expert policy\n",
    "\n",
    "A function that cheats (oracle) by looking at the labels\n",
    "\n",
    "Only available for the training data\n",
    "\n",
    "$\\pi^{\\star}$\n",
    "\n",
    "Data as demonstrator, learning from demonstrations"
   ]
  },
  {
   "cell_type": "markdown",
   "metadata": {
    "deletable": true,
    "editable": true,
    "slideshow": {
     "slide_type": "subslide"
    }
   },
   "source": [
    "### Action level supervision\n",
    "\n",
    "- labeled words in PoS tagging (obvious to infer)\n",
    "- oracle labels for transitions in dependency parsing (not so obvious)\n",
    "\n",
    "Also known as (expert) demonstrations/trajectories\n",
    "\n",
    "Show examples to reinforce the fact that we have sequence labeling\n",
    "\n",
    "it is possible to have dynamic experts"
   ]
  },
  {
   "cell_type": "markdown",
   "metadata": {
    "deletable": true,
    "editable": true,
    "slideshow": {
     "slide_type": "subslide"
    }
   },
   "source": [
    "### Per-action reward\n",
    "\n",
    "Incorporate the effect a mistaken label has on the loss"
   ]
  },
  {
   "cell_type": "markdown",
   "metadata": {
    "deletable": true,
    "editable": true,
    "slideshow": {
     "slide_type": "slide"
    }
   },
   "source": [
    "### Decomposability (or not!)"
   ]
  },
  {
   "cell_type": "markdown",
   "metadata": {
    "deletable": true,
    "editable": true,
    "slideshow": {
     "slide_type": "slide"
    }
   },
   "source": [
    "### Cost-sensitive classification"
   ]
  }
 ],
 "metadata": {
  "celltoolbar": "Slideshow",
  "kernelspec": {
   "display_name": "Python 3",
   "language": "python",
   "name": "python3"
  },
  "language_info": {
   "codemirror_mode": {
    "name": "ipython",
    "version": 3
   },
   "file_extension": ".py",
   "mimetype": "text/x-python",
   "name": "python",
   "nbconvert_exporter": "python",
   "pygments_lexer": "ipython3",
   "version": "3.5.2"
  }
 },
 "nbformat": 4,
 "nbformat_minor": 2
}
