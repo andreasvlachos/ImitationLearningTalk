{
 "cells": [
  {
   "cell_type": "code",
   "execution_count": 3,
   "metadata": {
    "collapsed": false,
    "deletable": true,
    "editable": true,
    "slideshow": {
     "slide_type": "skip"
    }
   },
   "outputs": [
    {
     "data": {
      "text/plain": [
       "{'background': '#ff0000',\n",
       " 'progress': 'true',\n",
       " 'scroll': 'true',\n",
       " 'start_slideshow_at': 'selected',\n",
       " 'theme': 'solarized',\n",
       " 'transition': 'slide'}"
      ]
     },
     "execution_count": 3,
     "metadata": {},
     "output_type": "execute_result"
    }
   ],
   "source": [
    "from IPython.html.services.config import ConfigManager\n",
    "from IPython.paths import locate_profile\n",
    "cm = ConfigManager(profile_dir=locate_profile(get_ipython().profile))\n",
    "cm.update('livereveal', {\n",
    "              'theme': 'solarized',\n",
    "              'transition': 'slide',\n",
    "              'start_slideshow_at': 'selected',\n",
    "              'progress': 'true',\n",
    "})"
   ]
  },
  {
   "cell_type": "markdown",
   "metadata": {
    "deletable": true,
    "editable": true,
    "slideshow": {
     "slide_type": "slide"
    }
   },
   "source": [
    "<center>\n",
    "<h2>Let's start</h2>\n",
    "</center>"
   ]
  },
  {
   "cell_type": "markdown",
   "metadata": {
    "slideshow": {
     "slide_type": "slide"
    }
   },
   "source": [
    "<h3>Structured prediction</h3>\n",
    "\n",
    "<table  style=\"border-style: hidden; border-collapse: collapse; padding: 50px\">\n",
    "<thead>\n",
    "<tr>\n",
    "<th>I</th> \n",
    "<th>studied</th>\n",
    "<th>in</th>\n",
    "<th>Sheffield</th>\n",
    "<th>with</th>\n",
    "<th>Lucia</th>\n",
    "<th>Specia</th>\n",
    "</tr>\n",
    "</thead>\n",
    "<tbody style=\"font-size:100%\">\n",
    "<tr>\n",
    "<td><span class=\"fragment\" data-fragment-index=\"1\">PRP</span></td>\n",
    "<td><span class=\"fragment\" data-fragment-index=\"1\">VBD</span></td>\n",
    "<td><span class=\"fragment\" data-fragment-index=\"1\">IN</span></td>\n",
    "<td><span class=\"fragment\" data-fragment-index=\"1\">NNP</span></td>\n",
    "<td><span class=\"fragment\" data-fragment-index=\"1\">IN</span></td>\n",
    "<td><span class=\"fragment\" data-fragment-index=\"1\">NNP</span></td>\n",
    "<td><span class=\"fragment\" data-fragment-index=\"1\">NNP</span></td>\n",
    "</tr>\n",
    "<tr>\n",
    "<td><span class=\"fragment\" data-fragment-index=\"2\">O</span></td>\n",
    "<td><span class=\"fragment\" data-fragment-index=\"2\">O</span></td>\n",
    "<td><span class=\"fragment\" data-fragment-index=\"2\">O</span></td>\n",
    "<td><span class=\"fragment\" data-fragment-index=\"2\">LOC</span></td>\n",
    "<td><span class=\"fragment\" data-fragment-index=\"2\">O</span></td>\n",
    "<td><span class=\"fragment\" data-fragment-index=\"2\">PER</span></td>\n",
    "<td><span class=\"fragment\" data-fragment-index=\"2\">PER</span></td>\n",
    "</tr>\n",
    "</tbody>\n",
    "</table>\n",
    "\n",
    "<p>\n",
    "\t\t\t\t<ul>\n",
    "  \t\t\t<li class=\"fragment\" data-fragment-index=\"1\">part of speech tagging</li>\n",
    "  \t\t\t<li class=\"fragment\" data-fragment-index=\"2\">named entity recognition</li>\n",
    "\t\t\t\t</ul>\n",
    "\t\t\t</p>\n"
   ]
  },
  {
   "cell_type": "markdown",
   "metadata": {
    "slideshow": {
     "slide_type": "fragment"
    }
   },
   "source": [
    "<p><b>Input:</b> a sentence $\\mathbf{x}=[x_1...x_N]$<br> <b>Output:</b> a sequence of labels $\\mathbf{y}=[y_{1}\\ldots y_{N}] \\in {\\cal Y}^N$</p>"
   ]
  },
  {
   "cell_type": "markdown",
   "metadata": {
    "deletable": true,
    "editable": true,
    "slideshow": {
     "slide_type": "subslide"
    }
   },
   "source": [
    "<h3>Structured prediction</h3>\n",
    "\n",
    " <img src=\"images/tikz/semParse.png\" style=\"width:100%;\">\n",
    "\n",
    "<p><b>Input:</b> a sentence $\\mathbf{x}=[x_1...x_N]$<br>\n",
    "<b>Output:</b> a meaning representation graph $\\mathbf{G}=(V,E) \\in {\\cal G_{\\mathbf{x}}}$</p> "
   ]
  },
  {
   "cell_type": "markdown",
   "metadata": {
    "deletable": true,
    "editable": true,
    "slideshow": {
     "slide_type": "subslide"
    }
   },
   "source": [
    "<h3>Structured prediction</h3>\n",
    "\n",
    "<img src=\"images/nlg.png\" style=\"width:100%;\">\n",
    "\n",
    "<p><b>Input:</b> a meaning representation<br>\n",
    "<b>Output:</b> a sentence $\\mathbf{w}=[w_1...w_N], w\\in {\\cal V}\\cup END, w_N=END$</p>  "
   ]
  },
  {
   "cell_type": "markdown",
   "metadata": {
    "deletable": true,
    "editable": true,
    "slideshow": {
     "slide_type": "slide"
    }
   },
   "source": [
    "### Two main paradigms\n",
    "\n",
    "Joint modeling, a.k.a: \n",
    "- global inference\n",
    "- structured prediction"
   ]
  },
  {
   "cell_type": "markdown",
   "metadata": {
    "deletable": true,
    "editable": true,
    "slideshow": {
     "slide_type": "fragment"
    }
   },
   "source": [
    "Incremental modeling, a.k.a:\n",
    "- local \n",
    "- greedy\n",
    "- pipeline\n",
    "- transition-based\n",
    "- history-based"
   ]
  },
  {
   "cell_type": "markdown",
   "metadata": {
    "deletable": true,
    "editable": true,
    "slideshow": {
     "slide_type": "subslide"
    }
   },
   "source": [
    "### Joint modeling\n",
    "\n",
    "A model (e.g. conditional random field) that scores complete outputs (e.g. label sequences):\n",
    "\n",
    "$$\\mathbf{\\hat y} =\\hat y_{1}\\ldots \\hat y_{N} = \\mathop{\\arg \\max}_{Y \\in {\\cal Y}^N} f(y_{1}\\ldots y_{N};\\mathbf{x})$$\n",
    "\n",
    "<ul class=\"fragment\">\n",
    "\t\t\t\t\t<li>no error propagation</li>\n",
    "\t\t\t\t\t<li>exhaustive exploration of the search space</li>\n",
    "\t\t\t\t\t<li>large/complex search spaces are challenging</li>\n",
    "\t\t\t\t\t<li>efficient dynamic programming restricts modelling flexibility\n",
    "\t\t\t\t\t\t(i.e. Markov assumptions)</li>\n",
    "\t\t\t\t</ul>\n"
   ]
  },
  {
   "cell_type": "markdown",
   "metadata": {
    "deletable": true,
    "editable": true,
    "slideshow": {
     "slide_type": "subslide"
    }
   },
   "source": [
    "### Incremental modeling\n",
    "\n",
    "A classifier that predicts one label at a time given the previous predictions:\n",
    "\n",
    "\n",
    "\\begin{align}\n",
    "\\hat y_1 &=\\mathop{\\arg \\max}_{y \\in {\\cal Y}} f(y;\\mathbf{x}),\\\\\n",
    "\\mathbf{\\hat y} = \\quad \\hat y_2 &=\\mathop{\\arg \\max}_{y \\in {\\cal Y}} f(y;\\mathbf{x}, \\hat y_1), \\cdots\\\\\n",
    "\\hat y_N &=\\mathop{\\arg \\max}_{y \\in {\\cal Y}} f(y;\\mathbf{x}, \\hat y_{1} \\ldots \\hat y_{N-1})\n",
    "\\end{align}\n",
    "\n",
    "<ul class=\"fragment\">\n",
    "\t\t\t\t\t<li>use our favourite classifier</li>\n",
    "\t\t\t\t\t<li>no restrictions on features</li>\n",
    "\t\t\t\t\t<li>prone to error propagation (i.i.d. assumption broken)</li>\n",
    "\t\t\t\t\t<li>local model not trained wrt the task-level loss</li>\n",
    "\t\t\t\t</ul>\n"
   ]
  },
  {
   "cell_type": "markdown",
   "metadata": {
    "deletable": true,
    "editable": true,
    "slideshow": {
     "slide_type": "slide"
    }
   },
   "source": [
    "### Imitation learning\n",
    "\n",
    "Improve incremental modeling to:\n",
    "- address error-propagation\n",
    "- train wrt the task-level loss function"
   ]
  },
  {
   "cell_type": "markdown",
   "metadata": {
    "deletable": true,
    "editable": true,
    "slideshow": {
     "slide_type": "fragment"
    }
   },
   "source": [
    "**Meta-learning**: use our favourite classifier and features,\n",
    "but generate better (non-i.i.d.) training data"
   ]
  },
  {
   "cell_type": "markdown",
   "metadata": {
    "deletable": true,
    "editable": true,
    "slideshow": {
     "slide_type": "fragment"
    }
   },
   "source": [
    "But let's see some basic concepts first"
   ]
  },
  {
   "cell_type": "markdown",
   "metadata": {
    "deletable": true,
    "editable": true,
    "slideshow": {
     "slide_type": "slide"
    }
   },
   "source": [
    "<h3>Transition system</h3>\n",
    "\n",
    "<p>The actions $\\cal A$ the classifier $f$ can predict from and their effect:</p>\n",
    "\n",
    "<p style=\"text-align: left; border:3px; border-radius: 25px; background-color:lightgrey; border-style:solid; border-color:black; padding: 0.3em; font-size: 80%\">\n",
    "\\begin{align}\n",
    "& \\textbf{Input:} \\; x\\\\\n",
    "& state \\; s=initialize(x)\\\\\n",
    "& \\mathbf{while}\\; \\text{output not completed}\\; \\mathbf{do}\\\\\n",
    "& \\quad action \\; \\hat \\alpha = \\mathop{\\arg \\max}_{\\alpha \\in {\\cal A}} f(\\alpha;x)\\\\\n",
    "& \\quad s=update(\\hat \\alpha,s)\\\\\n",
    "\\end{align}\n",
    "</p>\n"
   ]
  },
  {
   "cell_type": "markdown",
   "metadata": {
    "slideshow": {
     "slide_type": "fragment"
    }
   },
   "source": [
    "<ul>\n",
    "<li><b>PoS tagging?</b> <span class=\"fragment\">for each word in the sentence, left-to-right, predict a PoS tag which is added to the output</span></li>\n",
    "<li class=\"fragment\"><b>natural language generation?</b> <span class=\"fragment\">predict a word from the vocabulary that is added to the output until <code>END</code> is predicted</span></li>\n",
    "</ul>\n",
    "\n",
    "<p class=\"fragment\">The action sequence taken to predict a complete output is a <i>trajectory</i></p>"
   ]
  },
  {
   "cell_type": "markdown",
   "metadata": {
    "deletable": true,
    "editable": true,
    "slideshow": {
     "slide_type": "slide"
    }
   },
   "source": [
    "### Task loss\n",
    "\n",
    "Needs complete outputs\n",
    "\n",
    "mention Hamming loss and BLEU as examples\n",
    "\n",
    "Not all actions need to be evaluated by the loss, only the output."
   ]
  },
  {
   "cell_type": "markdown",
   "metadata": {
    "deletable": true,
    "editable": true,
    "slideshow": {
     "slide_type": "slide"
    }
   },
   "source": [
    "### Decomposability (or not!)"
   ]
  },
  {
   "cell_type": "markdown",
   "metadata": {
    "deletable": true,
    "editable": true,
    "slideshow": {
     "slide_type": "slide"
    }
   },
   "source": [
    "### Supervision for inceremental structured prediction\n",
    "\n",
    "Usually what we have is labeled data, e.g.:\n",
    "\n",
    "What can we do with it?"
   ]
  },
  {
   "cell_type": "markdown",
   "metadata": {
    "deletable": true,
    "editable": true,
    "slideshow": {
     "slide_type": "subslide"
    }
   },
   "source": [
    "### Expert policy\n",
    "\n",
    "A function that cheats (oracle) by looking at the labels\n",
    "\n",
    "Only available for the training data\n",
    "\n",
    "$\\pi^{\\star}$\n",
    "\n",
    "Data as demonstrator, learning from demonstrations"
   ]
  },
  {
   "cell_type": "markdown",
   "metadata": {
    "deletable": true,
    "editable": true,
    "slideshow": {
     "slide_type": "subslide"
    }
   },
   "source": [
    "### Action level supervision\n",
    "\n",
    "- labeled words in PoS tagging (obvious to infer)\n",
    "- oracle labels for transitions in dependency parsing (not so obvious)\n",
    "\n",
    "Also known as (expert) demonstrations/trajectories\n",
    "\n",
    "Show examples to reinforce the fact that we have sequence labeling\n",
    "\n",
    "it is possible to have dynamic experts"
   ]
  },
  {
   "cell_type": "markdown",
   "metadata": {
    "deletable": true,
    "editable": true,
    "slideshow": {
     "slide_type": "subslide"
    }
   },
   "source": [
    "### Per-action reward\n",
    "\n",
    "Incorporate the effect a mistaken label has on the loss"
   ]
  },
  {
   "cell_type": "markdown",
   "metadata": {
    "deletable": true,
    "editable": true,
    "slideshow": {
     "slide_type": "slide"
    }
   },
   "source": [
    "### Cost-sensitive classification"
   ]
  }
 ],
 "metadata": {
  "celltoolbar": "Slideshow",
  "kernelspec": {
   "display_name": "Python 3",
   "language": "python",
   "name": "python3"
  },
  "language_info": {
   "codemirror_mode": {
    "name": "ipython",
    "version": 3
   },
   "file_extension": ".py",
   "mimetype": "text/x-python",
   "name": "python",
   "nbconvert_exporter": "python",
   "pygments_lexer": "ipython3",
   "version": "3.5.2"
  }
 },
 "nbformat": 4,
 "nbformat_minor": 2
}
