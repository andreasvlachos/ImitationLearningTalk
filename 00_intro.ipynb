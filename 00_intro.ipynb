{
 "cells": [
  {
   "cell_type": "markdown",
   "metadata": {
    "deletable": true,
    "editable": true,
    "slideshow": {
     "slide_type": "slide"
    }
   },
   "source": [
    "<center>\n",
    "<h2>Imitation learning for structured prediction <br> in natural language processing</h2>\n",
    "<p style=\"text-align:center\">\n",
    "<a href=\"http://andreasvlachos.github.io\">Andreas Vlachos</a>, <a href=\"http://glampouras.github.io\">Gerasimos Lampouras</a><br>\n",
    "{a.vlachos,g.lampouras}@sheffield.ac.uk<br>\n",
    "<small>Department of Computer Science<br>\n",
    "University of Sheffield\n",
    "</small>\n",
    "</p>\n",
    "<p style=\"text-align:center\">\n",
    "<a href=\"http://www.riedelcastro.org/\">Sebastian Riedel</a><br>\n",
    "s.riedel@ucl.ac.uk<br>\n",
    "<small>Department of Computer Science<br>\n",
    "University College London\n",
    "</small>\n",
    "</p>\n",
    "\n",
    "<p style=\"text-align:center\"><small><a href=\"http://sheffieldnlp.github.io/ImitationLearningTutorialEACL2017/\">sheffieldnlp.github.io/ImitationLearningTutorialEACL2017/</a></small></p>\n",
    "\n",
    "</center>"
   ]
  },
  {
   "cell_type": "markdown",
   "metadata": {
    "deletable": true,
    "editable": true,
    "slideshow": {
     "slide_type": "slide"
    }
   },
   "source": [
    "### Your name sounds familiar\n",
    "\n",
    "<img src=\"images/Walter_and_Seth_Singleton.jpg\"  style=\"width:45%;\">\n",
    "\n",
    "[**Imitation**](https://en.wikipedia.org/wiki/Imitation)\n",
    "- an advanced behavior whereby an individual observes and replicates another's behavior\n",
    "- a form of social learning that leads to the development of traditions, and ultimately our culture"
   ]
  },
  {
   "cell_type": "markdown",
   "metadata": {
    "deletable": true,
    "editable": true,
    "slideshow": {
     "slide_type": "subslide"
    }
   },
   "source": [
    "<h3>Robotics</h3>\n",
    "\n",
    "<p style=\"float: left;\">Legged locomotion<br>(<a href=\"https://papers.nips.cc/paper/3154-boosting-structured-prediction-for-imitation-learning.pdf\">Rattlif et al., 2006</a>)</p>  <a href=\"http://www.bostondynamics.com/robot_littledog.html\"><img src=\"images/LittleDog_Terrain.png\" style=\"width:29%; float: right;\"></a>"
   ]
  },
  {
   "cell_type": "markdown",
   "metadata": {
    "deletable": true,
    "editable": true,
    "slideshow": {
     "slide_type": "fragment"
    }
   },
   "source": [
    "<p style=\"float: left;\">Autonomous helicopter flight <br> (<a href=\"http://heli.stanford.edu/papers/coatesabbeelng_icml2008.pdf\">Coates et al., 2008</a>)</p> <a href=\"http://www.theverge.com/2016/1/6/10721654/electric-self-flying-quadcopter-ehang-184-ces-2016\"><img src=\"images/helicopter.jpg\" style=\"width:29%; float: right;\"></a>"
   ]
  },
  {
   "cell_type": "markdown",
   "metadata": {
    "deletable": true,
    "editable": true,
    "slideshow": {
     "slide_type": "fragment"
    }
   },
   "source": [
    "And more: outdoor navigation (<a href=\"http://www.roboticsproceedings.org/rss04/p34.pdf\">Silver et al., 2008</a>), Super-Mario (<a href=\"https://www.cs.cmu.edu/~sross1/publications/Ross-AIStats11-NoRegret.pdf\">Ross et al., 2011</a>), autonomous driving (<a href=\"https://arxiv.org/abs/1605.06450\">Zhang and Cho, 2017</a>)... "
   ]
  },
  {
   "cell_type": "markdown",
   "metadata": {
    "deletable": true,
    "editable": true,
    "slideshow": {
     "slide_type": "subslide"
    }
   },
   "source": [
    "<h3>Your name sounds more(!) familiar</h3>\n",
    "\n",
    "<p style=\"float: left;\">Dynamic oracles for parsing<br>(<a href=\"http://www.aclweb.org/anthology/C12-1059\">Goldberg and Nivre, 2012 </a>)</p> \n",
    "<img src=\"images/dep.png\" style=\"width:40%; float: right;\">"
   ]
  },
  {
   "cell_type": "markdown",
   "metadata": {
    "deletable": true,
    "editable": true,
    "slideshow": {
     "slide_type": "fragment"
    }
   },
   "source": [
    "<p  style=\"float: left;\">Incremental coreference resolution<br>\n",
    "(<a href=\"http://cs.stanford.edu/people/kevclark/resources/clark-manning-acl15-entity.pdf\">Clark and Manning, 2015</a>)\n",
    "</p>\n",
    "<a href=\"http://nlp.stanford.edu/projects/coref.shtml\"><img src=\"images/corefexample.png\" style=\"width:40%; float: right;\"></a>"
   ]
  },
  {
   "cell_type": "markdown",
   "metadata": {
    "deletable": true,
    "editable": true,
    "slideshow": {
     "slide_type": "fragment"
    }
   },
   "source": [
    "<p  style=\"float: left;\">Recurrent Neural Network training<br>\n",
    "(<a href=\"https://arxiv.org/pdf/1511.06732.pdf\">Ranzato et al., 2016</a>)\n",
    "</p>\n",
    "<img src=\"images/mixer.png\" style=\"width:40%; float: right;\">"
   ]
  },
  {
   "cell_type": "markdown",
   "metadata": {
    "deletable": true,
    "editable": true,
    "slideshow": {
     "slide_type": "fragment"
    }
   },
   "source": [
    "Search-based structured prediction ([Daumé III et al., 2009](http://hunch.net/~jl/projects/reductions/searn/searn.pdf)) "
   ]
  },
  {
   "cell_type": "markdown",
   "metadata": {
    "deletable": true,
    "editable": true,
    "slideshow": {
     "slide_type": "slide"
    }
   },
   "source": [
    "### Imitation Learning in a nutshell\n",
    "\n",
    "\n",
    "<a href=\"http://www.cs.cmu.edu/~sross1/publications/Ross-AIStats11-Slides.pdf\"><img src=\"images/imitationFromRoss.png\" style=\"width:75%;\"></a>\n",
    "\n",
    "\n",
    "**Meta-learning**: better model (&asymp;policy) by generating better training data from demonstrations. "
   ]
  },
  {
   "cell_type": "markdown",
   "metadata": {
    "slideshow": {
     "slide_type": "subslide"
    }
   },
   "source": [
    "### IL vs supervised learning\n",
    "\n",
    "Yes: we also assume the gold standard structured output during training\n",
    "\n",
    "But there is more:\n",
    "- we train a classifier that predicts actions\n",
    "- the actions are not necessarily defined in the gold standard\n",
    "\n",
    "The latent actions make IL more like semi-supervised learning"
   ]
  },
  {
   "cell_type": "markdown",
   "metadata": {
    "slideshow": {
     "slide_type": "subslide"
    }
   },
   "source": [
    "### IL vs reinforcement learning\n",
    "\n",
    "learning with a teacher vs learning on your own\n",
    "\n",
    "use driving"
   ]
  },
  {
   "cell_type": "markdown",
   "metadata": {
    "slideshow": {
     "slide_type": "subslide"
    }
   },
   "source": [
    "### Why should NLP care?\n",
    "\n",
    "In NLP we use classifiers (= policy) trained on gold standard (demonstrations by experts)\n",
    "\n",
    "Imitation learning can improve them\n",
    "\n",
    "Empirical successes in a number of tasks"
   ]
  },
  {
   "cell_type": "markdown",
   "metadata": {
    "collapsed": true,
    "deletable": true,
    "editable": true,
    "slideshow": {
     "slide_type": "slide"
    }
   },
   "source": [
    "### Part 1: Imitation Learning for  Structured Prediction\n",
    "\n",
    "Basic concepts:\n",
    "  - non-decomposable loss functions\n",
    "  - cost-sensitive classification\n",
    "  \n",
    "Imitation learning algorithms:\n",
    "  - Dataset Aggregation (DAgger)\n",
    "  - Locally Optimal Learning to Search (LOLS)\n",
    "\n",
    "Interpretations and connections\n",
    "  - Reinforcement Learning\n",
    "  - Recurrent Neural Networks"
   ]
  },
  {
   "cell_type": "markdown",
   "metadata": {
    "deletable": true,
    "editable": true,
    "slideshow": {
     "slide_type": "subslide"
    }
   },
   "source": [
    "### Part 2: NLP Applications and practical advice\n",
    "\n",
    "Applications:\n",
    "  - Dependency parsing \n",
    "  - Natural language generation\n",
    "  - Semantic parsing\n",
    "  \n",
    "Practical advice\n",
    "  - Expert policy definition\n",
    "  - Accelerating cost estimation\n",
    "  - Troubleshooting"
   ]
  },
  {
   "cell_type": "markdown",
   "metadata": {
    "deletable": true,
    "editable": true,
    "slideshow": {
     "slide_type": "subslide"
    }
   },
   "source": [
    "### Outcomes\n",
    "\n",
    "- Understanding of how IL works via unified algorithmic presentations\n",
    "\n",
    "- Clarification of the connections to other learning frameworks\n",
    "\n",
    "- Familiarization with representative NLP applications\n",
    "\n",
    "- Recognizing when and how to apply IL"
   ]
  }
 ],
 "metadata": {
  "celltoolbar": "Slideshow",
  "kernelspec": {
   "display_name": "Python 3",
   "language": "python",
   "name": "python3"
  },
  "language_info": {
   "codemirror_mode": {
    "name": "ipython",
    "version": 3
   },
   "file_extension": ".py",
   "mimetype": "text/x-python",
   "name": "python",
   "nbconvert_exporter": "python",
   "pygments_lexer": "ipython3",
   "version": "3.5.2"
  },
  "livereveal": {
   "height": 768,
   "start_slideshow_at": "selected",
   "theme": "solarized",
   "transition": "slide",
   "width": 1024
  }
 },
 "nbformat": 4,
 "nbformat_minor": 2
}
