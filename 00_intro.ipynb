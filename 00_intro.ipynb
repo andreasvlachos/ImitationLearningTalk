{
 "cells": [
  {
   "cell_type": "code",
   "execution_count": 1,
   "metadata": {
    "collapsed": false,
    "deletable": true,
    "editable": true,
    "slideshow": {
     "slide_type": "skip"
    }
   },
   "outputs": [
    {
     "name": "stdout",
     "output_type": "stream",
     "text": [
      "Using matplotlib backend: TkAgg\n"
     ]
    },
    {
     "name": "stderr",
     "output_type": "stream",
     "text": [
      "/usr/local/lib/python3.5/dist-packages/IPython/html.py:14: ShimWarning: The `IPython.html` package has been deprecated. You should import from `notebook` instead. `IPython.html.widgets` has moved to `ipywidgets`.\n",
      "  \"`IPython.html.widgets` has moved to `ipywidgets`.\", ShimWarning)\n"
     ]
    },
    {
     "data": {
      "text/plain": [
       "{'progress': 'true',\n",
       " 'start_slideshow_at': 'selected',\n",
       " 'theme': 'solarized',\n",
       " 'transition': 'slide'}"
      ]
     },
     "execution_count": 1,
     "metadata": {},
     "output_type": "execute_result"
    }
   ],
   "source": [
    "%matplotlib\n",
    "from IPython.html.services.config import ConfigManager\n",
    "from IPython.paths import locate_profile\n",
    "from IPython.display import Image\n",
    "cm = ConfigManager(profile_dir=locate_profile(get_ipython().profile))\n",
    "cm.update('livereveal', {\n",
    "              'theme': 'solarized',\n",
    "              'transition': 'slide',\n",
    "              'start_slideshow_at': 'selected',\n",
    "              'progress': 'true',\n",
    "})"
   ]
  },
  {
   "cell_type": "markdown",
   "metadata": {
    "deletable": true,
    "editable": true,
    "slideshow": {
     "slide_type": "slide"
    }
   },
   "source": [
    "<center>\n",
    "<h2>Imitation learning for structured prediction <br> in natural language processing</h2>\n",
    "<p style=\"text-align:center\">\n",
    "<a href=\"http://andreasvlachos.github.io\">Andreas Vlachos</a>, <a href=\"http://glampouras.github.io\">Gerasimos Lampouras</a><br>\n",
    "{a.vlachos,g.lampouras}@sheffield.ac.uk<br>\n",
    "<small>Department of Computer Science<br>\n",
    "University of Sheffield\n",
    "</small>\n",
    "</p>\n",
    "<p style=\"text-align:center\">\n",
    "<a href=\"http://www.riedelcastro.org/\">Sebastian Riedel</a><br>\n",
    "s.riedel@ucl.ac.uk<br>\n",
    "<small>Department of Computer Science<br>\n",
    "University College London\n",
    "</small>\n",
    "</p>\n",
    "\n",
    "<p style=\"text-align:center\"><small><i>for the most recent version please visit:<br><a href=\"http://sheffieldnlp.github.io/ImitationLearningTutorialEACL2017/\">http://sheffieldnlp.github.io/ImitationLearningTutorialEACL2017/</a></i><small></p>\n",
    "\n",
    "</center>"
   ]
  },
  {
   "cell_type": "markdown",
   "metadata": {
    "deletable": true,
    "editable": true,
    "slideshow": {
     "slide_type": "slide"
    }
   },
   "source": [
    "### Your name sounds familiar\n",
    "\n",
    "![](images/Walter_and_Seth_Singleton.jpg)\n",
    "\n",
    "Imitation is an advanced behavior whereby an individual observes and replicates another's behavior. Imitation is also a form of social learning that leads to the \"development of traditions, and ultimately our culture.\n",
    "\n",
    "(https://en.wikipedia.org/wiki/Imitation)"
   ]
  },
  {
   "cell_type": "markdown",
   "metadata": {
    "deletable": true,
    "editable": true,
    "slideshow": {
     "slide_type": "subslide"
    }
   },
   "source": [
    "<h3>Robotics</h3>\n",
    "\n",
    "<p style=\"float: left;\">Legged locomotion<br>(<a href=\"https://papers.nips.cc/paper/3154-boosting-structured-prediction-for-imitation-learning.pdf\">Rattlif et al., 2006 </a>)</p>  <a href=\"http://www.bostondynamics.com/robot_littledog.html\"><img src=\"images/LittleDog_Terrain.png\" style=\"width:35%; float: right;\"></a>"
   ]
  },
  {
   "cell_type": "markdown",
   "metadata": {
    "deletable": true,
    "editable": true,
    "slideshow": {
     "slide_type": "fragment"
    }
   },
   "source": [
    "<p style=\"float: left;\">Autonomous helicopter flight <br> (<a href=\"http://heli.stanford.edu/papers/coatesabbeelng_icml2008.pdf\">Coates et al., 2008 </a>)</p> <a href=\"http://www.theverge.com/2016/1/6/10721654/electric-self-flying-quadcopter-ehang-184-ces-2016\"><img src=\"images/helicopter.jpg\" style=\"width:35%; float: right;\"></a>"
   ]
  },
  {
   "cell_type": "markdown",
   "metadata": {
    "deletable": true,
    "editable": true,
    "slideshow": {
     "slide_type": "fragment"
    }
   },
   "source": [
    "And more: outdoor navigation (<a href=\"http://www.roboticsproceedings.org/rss04/p34.pdf\">Silver et al., 2008</a>), Super-Mario (<a href=\"https://www.cs.cmu.edu/~sross1/publications/Ross-AIStats11-NoRegret.pdf\">Ross et al., 2011</a>), autonomous driving (<a href=\"https://arxiv.org/abs/1605.06450\">Zhang and Cho, 2017</a>), etc. "
   ]
  },
  {
   "cell_type": "markdown",
   "metadata": {
    "deletable": true,
    "editable": true,
    "slideshow": {
     "slide_type": "subslide"
    }
   },
   "source": [
    "<h3>Your name sounds more(!) familiar</h3>\n",
    "\n",
    "<p style=\"float: left;\">Dynamic oracles for dependency parsing<br>(<a href=\"http://www.aclweb.org/anthology/C12-1059\">Goldberg and Nivre, 2012 </a>,<br><a href=\"https://arxiv.org/pdf/1603.03793.pdf\">Ballesteros et al., 2016</a>)</p> \n",
    "<img src=\"images/dep.png\" style=\"width:40%; float: right;\">"
   ]
  },
  {
   "cell_type": "markdown",
   "metadata": {
    "deletable": true,
    "editable": true,
    "slideshow": {
     "slide_type": "fragment"
    }
   },
   "source": [
    "<p  style=\"float: left;\">Incremental coreference resolution<br>\n",
    "(<a href=\"http://cs.stanford.edu/people/kevclark/resources/clark-manning-acl15-entity.pdf\">Clark and Manning, 2015</a>)\n",
    "</p>\n",
    "<a href=\"http://nlp.stanford.edu/projects/coref.shtml\"><img src=\"images/corefexample.png\" style=\"width:40%; float: right;\"></a>"
   ]
  },
  {
   "cell_type": "markdown",
   "metadata": {
    "deletable": true,
    "editable": true,
    "slideshow": {
     "slide_type": "fragment"
    }
   },
   "source": [
    "<p  style=\"float: left;\">Sequence-level training<br>with Recurrent Neural Networks<br>\n",
    "(<a href=\"https://arxiv.org/pdf/1511.06732.pdf\">Ranzato et al., 2016</a>)\n",
    "</p>\n",
    "<img src=\"images/mixer.png\" style=\"width:40%; float: right;\">"
   ]
  },
  {
   "cell_type": "markdown",
   "metadata": {
    "deletable": true,
    "editable": true,
    "slideshow": {
     "slide_type": "fragment"
    }
   },
   "source": [
    "Used to be known as search-based structured prediction ([Daumé III, 2006](http://www.umiacs.umd.edu/~hal/docs/daume06thesis.pdf), [Daumé III et al., 2009](http://hunch.net/~jl/projects/reductions/searn/searn.pdf)) "
   ]
  },
  {
   "cell_type": "markdown",
   "metadata": {
    "deletable": true,
    "editable": true,
    "slideshow": {
     "slide_type": "slide"
    }
   },
   "source": [
    "### Imitation Learning in a nutshell\n",
    "\n",
    "- Demonstrations\n",
    "- Learning algorithm\n",
    "- Model\n",
    "\n",
    "Most of the work is in obtaining/generating the demonstrations"
   ]
  },
  {
   "cell_type": "markdown",
   "metadata": {
    "collapsed": true,
    "deletable": true,
    "editable": true,
    "slideshow": {
     "slide_type": "slide"
    }
   },
   "source": [
    "### Tutorial overview - part 1"
   ]
  },
  {
   "cell_type": "markdown",
   "metadata": {
    "deletable": true,
    "editable": true,
    "slideshow": {
     "slide_type": "subslide"
    }
   },
   "source": [
    "### Tutorial overview - part 2"
   ]
  },
  {
   "cell_type": "markdown",
   "metadata": {
    "deletable": true,
    "editable": true,
    "slideshow": {
     "slide_type": "slide"
    }
   },
   "source": [
    "### Outcomes"
   ]
  }
 ],
 "metadata": {
  "celltoolbar": "Slideshow",
  "kernelspec": {
   "display_name": "Python 3",
   "language": "python",
   "name": "python3"
  },
  "language_info": {
   "codemirror_mode": {
    "name": "ipython",
    "version": 3
   },
   "file_extension": ".py",
   "mimetype": "text/x-python",
   "name": "python",
   "nbconvert_exporter": "python",
   "pygments_lexer": "ipython3",
   "version": "3.5.2"
  }
 },
 "nbformat": 4,
 "nbformat_minor": 2
}
