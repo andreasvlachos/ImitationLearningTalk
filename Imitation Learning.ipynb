{
 "cells": [
  {
   "cell_type": "code",
   "execution_count": 6,
   "metadata": {
    "collapsed": false,
    "deletable": true,
    "editable": true,
    "slideshow": {
     "slide_type": "skip"
    }
   },
   "outputs": [
    {
     "name": "stdout",
     "output_type": "stream",
     "text": [
      "The autoreload extension is already loaded. To reload it, use:\n",
      "  %reload_ext autoreload\n"
     ]
    }
   ],
   "source": [
    "%load_ext autoreload\n",
    "%autoreload 2"
   ]
  },
  {
   "cell_type": "code",
   "execution_count": null,
   "metadata": {
    "collapsed": true,
    "deletable": true,
    "editable": true
   },
   "outputs": [],
   "source": []
  },
  {
   "cell_type": "code",
   "execution_count": 2,
   "metadata": {
    "collapsed": true,
    "deletable": true,
    "editable": true,
    "slideshow": {
     "slide_type": "skip"
    }
   },
   "outputs": [],
   "source": [
    "import il_tutorial.cost_graphs as cg\n",
    "import il_tutorial.util as util\n",
    "from IPython.display import HTML"
   ]
  },
  {
   "cell_type": "code",
   "execution_count": 3,
   "metadata": {
    "collapsed": false,
    "deletable": true,
    "editable": true,
    "slideshow": {
     "slide_type": "skip"
    }
   },
   "outputs": [
    {
     "data": {
      "text/html": [
       "<script>\n",
       "code_show=true; \n",
       "function code_toggle() {\n",
       " if (code_show){\n",
       " $('div.input').hide();\n",
       " } else {\n",
       " $('div.input').show();\n",
       " }\n",
       " code_show = !code_show\n",
       "} \n",
       "$( document ).ready(code_toggle);\n",
       "</script>\n",
       "The raw code for this IPython notebook is by default hidden for easier reading.\n",
       "To toggle on/off the raw code, click <a href=\"javascript:code_toggle()\">here</a>."
      ],
      "text/plain": [
       "<IPython.core.display.HTML object>"
      ]
     },
     "execution_count": 3,
     "metadata": {},
     "output_type": "execute_result"
    }
   ],
   "source": [
    "HTML('''<script>\n",
    "code_show=true; \n",
    "function code_toggle() {\n",
    " if (code_show){\n",
    " $('div.input').hide();\n",
    " } else {\n",
    " $('div.input').show();\n",
    " }\n",
    " code_show = !code_show\n",
    "} \n",
    "$( document ).ready(code_toggle);\n",
    "</script>\n",
    "The raw code for this IPython notebook is by default hidden for easier reading.\n",
    "To toggle on/off the raw code, click <a href=\"javascript:code_toggle()\">here</a>.''')"
   ]
  },
  {
   "cell_type": "markdown",
   "metadata": {
    "deletable": true,
    "editable": true,
    "slideshow": {
     "slide_type": "slide"
    }
   },
   "source": [
    "<center>\n",
    "<h2>Imitation learning for structured prediction <br> in natural language processing</h2>\n",
    "<p style=\"text-align:center\">\n",
    "<a href=\"http://andreasvlachos.github.io\">Andreas Vlachos</a><br>\n",
    "a.vlachos@sheffield.ac.uk<br>\n",
    "<small>Department of Computer Science<br>\n",
    "University of Sheffield\n",
    "</small>\n",
    "</p>\n",
    "<br>\n",
    "<p class=\"fragment\" style=\"text-align:center; font-size: 85%\">\n",
    "Joint work with Gerasimos Lampouras (Sheffield), Sebastian Riedel (UCL),<br> Daniel Beck (Sheffield), Jason Naradowsky (UCL), James Goodman (UCL),<br> Isabelle Augenstein (Sheffield), Stephen Clark (Cambridge),<br> Mark Craven (Wisconsin-Madison)\n",
    "</p>\n",
    "\n",
    "</center>"
   ]
  },
  {
   "cell_type": "markdown",
   "metadata": {
    "deletable": true,
    "editable": true,
    "slideshow": {
     "slide_type": "slide"
    }
   },
   "source": [
    "<h3>Structured prediction in Natural Language Processing</h3>\n",
    "\n",
    "<table  style=\"border-style: hidden; border-collapse: collapse; padding: 50px\">\n",
    "<thead>\n",
    "<tr>\n",
    "<th>I</th> \n",
    "<th>studied</th>\n",
    "<th>in</th>\n",
    "<th>London</th>\n",
    "<th>with</th>\n",
    "<th>Sebastian</th>\n",
    "<th>Riedel</th>\n",
    "</tr>\n",
    "</thead>\n",
    "<tbody style=\"font-size:100%\">\n",
    "<tr>\n",
    "<td><span class=\"fragment\" data-fragment-index=\"1\">PRP</span></td>\n",
    "<td><span class=\"fragment\" data-fragment-index=\"1\">VBD</span></td>\n",
    "<td><span class=\"fragment\" data-fragment-index=\"1\">IN</span></td>\n",
    "<td><span class=\"fragment\" data-fragment-index=\"1\">NNP</span></td>\n",
    "<td><span class=\"fragment\" data-fragment-index=\"1\">IN</span></td>\n",
    "<td><span class=\"fragment\" data-fragment-index=\"1\">NNP</span></td>\n",
    "<td><span class=\"fragment\" data-fragment-index=\"1\">NNP</span></td>\n",
    "</tr>\n",
    "<tr>\n",
    "<td><span class=\"fragment\" data-fragment-index=\"2\">O</span></td>\n",
    "<td><span class=\"fragment\" data-fragment-index=\"2\">O</span></td>\n",
    "<td><span class=\"fragment\" data-fragment-index=\"2\">O</span></td>\n",
    "<td><span class=\"fragment\" data-fragment-index=\"2\">B-LOC</span></td>\n",
    "<td><span class=\"fragment\" data-fragment-index=\"2\">O</span></td>\n",
    "<td><span class=\"fragment\" data-fragment-index=\"2\">B-PER</span></td>\n",
    "<td><span class=\"fragment\" data-fragment-index=\"2\">I-PER</span></td>\n",
    "</tr>\n",
    "</tbody>\n",
    "</table>\n",
    "\n",
    "<p>\n",
    "\t\t\t\t<ul>\n",
    "  \t\t\t<li class=\"fragment\" data-fragment-index=\"1\">part of speech (PoS) tagging</li>\n",
    "  \t\t\t<li class=\"fragment\" data-fragment-index=\"2\">named entity recognition (NER)</li>\n",
    "\t\t\t\t</ul>\n",
    "\t\t\t</p>\n"
   ]
  },
  {
   "cell_type": "markdown",
   "metadata": {
    "deletable": true,
    "editable": true,
    "slideshow": {
     "slide_type": "fragment"
    }
   },
   "source": [
    "<p><b>Input:</b> a sentence $\\mathbf{x}=[x_1...x_N]$<br> <b>Output:</b> a sequence of labels $\\mathbf{y}=[y_{1}\\ldots y_{N}] \\in {\\cal Y}^N$</p>"
   ]
  },
  {
   "cell_type": "markdown",
   "metadata": {
    "deletable": true,
    "editable": true,
    "slideshow": {
     "slide_type": "subslide"
    }
   },
   "source": [
    "<h3>More Structured Prediction</h3>\n",
    "<center>\n",
    "<img src=\"images/toBeAnimated/depParse1.png\" style=\"width:90%;\">\n",
    "\n",
    "<img class=\"fragment\" src=\"images/tikz/semParse.png\" style=\"width:60%;\">\n",
    "</center>"
   ]
  },
  {
   "cell_type": "markdown",
   "metadata": {
    "deletable": true,
    "editable": true,
    "slideshow": {
     "slide_type": "fragment"
    }
   },
   "source": [
    "<p>Syntactic parsing, semantic parsing, semantic role labeling, question answering over knowledge bases, etc.</p>\n",
    "<p><b>Input:</b> a sentence $\\mathbf{x}=[x_1...x_N]$<br>\n",
    "<b>Output:</b> a meaning representation graph $\\mathbf{G}=(V,E) \\in {\\cal G_{\\mathbf{x}}}$</p> "
   ]
  },
  {
   "cell_type": "markdown",
   "metadata": {
    "deletable": true,
    "editable": true,
    "slideshow": {
     "slide_type": "subslide"
    }
   },
   "source": [
    "<h3>More Structured Prediction</h3>\n",
    "\n",
    "<img src=\"images/nlg.png\" style=\"width:80%;\">\n",
    "\n",
    "<p>Natural language generation (NLG), but also summarization, decoding in machine translation, etc.</p>\n",
    "\n",
    "<p><b>Input:</b> a meaning representation<br>\n",
    "<b>Output:</b> $\\mathbf{w}=[w_1...w_N], w\\in {\\cal V}\\cup END, w_N=END$</p>  "
   ]
  },
  {
   "cell_type": "markdown",
   "metadata": {
    "deletable": true,
    "editable": true,
    "slideshow": {
     "slide_type": "subslide"
    }
   },
   "source": [
    "### This talk: Imitation Learning\n",
    "\n",
    "<p style=\"float: left;\">We assume gold standard<br> output for <b>supervised</b> training</p> \n",
    "<img src=\"images/tikz/StucturedPredictionDef.png\" style=\"width:35%; float: right;\">"
   ]
  },
  {
   "cell_type": "markdown",
   "metadata": {
    "deletable": true,
    "editable": true,
    "slideshow": {
     "slide_type": "fragment"
    }
   },
   "source": [
    "<p style=\"float: left;\">But we train a classifier to predict<br> <b>actions</b> constructing the output.<br><br>Actions not in gold;<br> IL is rather <b>semi-supervised</b></p> \n",
    "<img src=\"images/tikz/StucturedPrediction.png\" style=\"width:35%; float: right;\">"
   ]
  },
  {
   "cell_type": "markdown",
   "metadata": {
    "deletable": true,
    "editable": true,
    "slideshow": {
     "slide_type": "subslide"
    }
   },
   "source": [
    "### Imitation learning in a nutshell\n",
    "\n",
    "\n",
    "<a href=\"http://www.cs.cmu.edu/~sross1/publications/Ross-AIStats11-Slides.pdf\"><img src=\"images/imitationFromRoss.png\" style=\"width:75%;\"></a>\n",
    "\n",
    "\n",
    "**Meta-learning**: better model (&asymp;policy) by generating better training data from expert demonstrations. "
   ]
  },
  {
   "cell_type": "markdown",
   "metadata": {
    "deletable": true,
    "editable": true,
    "slideshow": {
     "slide_type": "subslide"
    }
   },
   "source": [
    "### Is it reinforcement learning?\n",
    "\n",
    "<p style=\"float: left;\"><b>Yes</b> (a kind of): we train a policy to<br>maximize rewards/minimize losses</p> \n",
    "<a href=\"http://www.clipartkid.com/you-never-learn-to-swear-until-you-teach-your-teenager-to-drive-d85J9Y-clipart/\"><img src=\"images/driver.jpg\" style=\"width:25%; float: right;\"></a>"
   ]
  },
  {
   "cell_type": "markdown",
   "metadata": {
    "deletable": true,
    "editable": true,
    "slideshow": {
     "slide_type": "fragment"
    }
   },
   "source": [
    "<p style=\"float: left;\">But learning is facilitated by an <b>expert</b><br></p>  <a href=\"https://www.pinterest.com/explore/affordable-driving-school/\"><img src=\"images/driving_mix.jpg\" style=\"width:30%; float: right;\"></a>"
   ]
  },
  {
   "cell_type": "markdown",
   "metadata": {
    "deletable": true,
    "editable": true,
    "slideshow": {
     "slide_type": "slide"
    }
   },
   "source": [
    "### Why should I care?\n",
    "\n",
    "In NLP we train classifiers to imitate experts in many tasks:\n",
    "- syntactic parsing ([Ballesteros et al., 2016](https://arxiv.org/pdf/1603.03793.pdf))\n",
    "- cofererence resolution ([Clark and Manning, 2015](http://cs.stanford.edu/people/kevclark/resources/clark-manning-acl15-entity.pdf))\n",
    "- semantic parsing ([Goodman et al., 2016](http://aclweb.org/anthology/P16-1001))\n",
    "- natural language generation ([Lampouras and Vlachos, 2016](https://aclweb.org/anthology/C/C16/C16-1105.pdf))\n",
    "\n",
    "Imitation learning has been used to improve accuracy in all the above with SOTA results!"
   ]
  },
  {
   "cell_type": "markdown",
   "metadata": {
    "deletable": true,
    "editable": true,
    "slideshow": {
     "slide_type": "slide"
    }
   },
   "source": [
    "### Talk structure\n",
    "\n",
    "- Structured prediction preliminaries\n",
    "- Imitation learning\n",
    "  - PoS tagging example\n",
    "  - relation to other learning paradigms\n",
    "- Applications\n",
    "  - Natural language generation\n",
    "  - Semantic parsing"
   ]
  },
  {
   "cell_type": "markdown",
   "metadata": {
    "deletable": true,
    "editable": true,
    "slideshow": {
     "slide_type": "slide"
    }
   },
   "source": [
    "<center>\n",
    "<h2>Structured Prediction Preliminaries</h2>\n",
    "</center>"
   ]
  },
  {
   "cell_type": "markdown",
   "metadata": {
    "deletable": true,
    "editable": true,
    "slideshow": {
     "slide_type": "slide"
    }
   },
   "source": [
    "### Two main paradigms\n",
    "\n",
    "Joint modeling, a.k.a: \n",
    "- global inference\n",
    "- structured models"
   ]
  },
  {
   "cell_type": "markdown",
   "metadata": {
    "deletable": true,
    "editable": true,
    "slideshow": {
     "slide_type": "fragment"
    }
   },
   "source": [
    "Incremental modeling, a.k.a:\n",
    "- local \n",
    "- greedy\n",
    "- pipeline\n",
    "- transition-based\n",
    "- history-based"
   ]
  },
  {
   "cell_type": "markdown",
   "metadata": {
    "deletable": true,
    "editable": true,
    "slideshow": {
     "slide_type": "subslide"
    }
   },
   "source": [
    "### Joint modeling\n",
    "\n",
    "A model (e.g. conditional random fields) that scores complete outputs (e.g. label sequences):\n",
    "\n",
    "$$\\mathbf{\\hat y} =\\hat y_{1}\\ldots \\hat y_{N} = \\mathop{\\arg \\max}_{Y \\in {\\cal Y}^N} f(y_{1}\\ldots y_{N}, \\mathbf{x})$$\n",
    "\n",
    "<ul class=\"fragment\">\n",
    "\t\t\t\t\t<li>exhaustive exploration of the search space</li>\n",
    "\t\t\t\t\t<li>large/complex search spaces are challenging</li>\n",
    "\t\t\t\t\t<li>efficient dynamic programming restricts modelling flexibility\n",
    "\t\t\t\t\t\t(i.e. Markov assumptions)</li>\n",
    "\t\t\t\t</ul>\n"
   ]
  },
  {
   "cell_type": "markdown",
   "metadata": {
    "deletable": true,
    "editable": true,
    "slideshow": {
     "slide_type": "subslide"
    }
   },
   "source": [
    "### Incremental modeling\n",
    "\n",
    "A classifier predicting a label at a time given the previous ones:\n",
    "\n",
    "\n",
    "\\begin{align}\n",
    "\\hat y_1 &=\\mathop{\\arg \\max}_{y \\in {\\cal Y}} f(y, \\mathbf{x}),\\\\\n",
    "\\mathbf{\\hat y} = \\quad \\hat y_2 &=\\mathop{\\arg \\max}_{y \\in {\\cal Y}} f(y, \\mathbf{x}, \\hat y_1), \\cdots\\\\\n",
    "\\hat y_N &=\\mathop{\\arg \\max}_{y \\in {\\cal Y}} f(y, \\mathbf{x}, \\hat y_{1} \\ldots \\hat y_{N-1})\n",
    "\\end{align}\n",
    "\n",
    "<ul class=\"fragment\">\n",
    "\t\t\t\t\t<li>use our favourite classifier</li>\n",
    "\t\t\t\t\t<li>no restrictions on features</li>\n",
    "\t\t\t\t\t<li>prone to error propagation (i.i.d. assumption broken)</li>\n",
    "\t\t\t\t\t<li>local model not trained wrt the task-level loss</li>\n",
    "\t\t\t\t</ul>\n"
   ]
  },
  {
   "cell_type": "markdown",
   "metadata": {
    "deletable": true,
    "editable": true,
    "slideshow": {
     "slide_type": "slide"
    }
   },
   "source": [
    "### Imitation learning\n",
    "\n",
    "Improve incremental modeling to:\n",
    "- address error-propagation\n",
    "- train wrt the task-level loss function"
   ]
  },
  {
   "cell_type": "markdown",
   "metadata": {
    "deletable": true,
    "editable": true,
    "slideshow": {
     "slide_type": "fragment"
    }
   },
   "source": [
    "**Meta-learning**: use our favourite classifier and features,\n",
    "but generate better (non-i.i.d.) training data"
   ]
  },
  {
   "cell_type": "markdown",
   "metadata": {
    "deletable": true,
    "editable": true,
    "slideshow": {
     "slide_type": "fragment"
    }
   },
   "source": [
    "To apply IL we need:\n",
    "- transition system (what our classifier can do)\n",
    "- task loss (what we optimize for)\n",
    "- expert policy (the teacher to help us)"
   ]
  },
  {
   "cell_type": "markdown",
   "metadata": {
    "deletable": true,
    "editable": true,
    "slideshow": {
     "slide_type": "slide"
    }
   },
   "source": [
    "<h3>Transition system</h3>\n",
    "\n",
    "<p>The <b>actions</b> $\\cal A$ the classifier $f$ can predict and their effect on the <b>state</b> which tracks the prediction: $S_{t+1}=S_1(\\alpha_1\\ldots\\alpha_t)$</p>\n",
    "\n",
    "<img src=\"images/tikz/IncrementalStructure.png\" style=\"align:center; width:60%\">"
   ]
  },
  {
   "cell_type": "markdown",
   "metadata": {
    "deletable": true,
    "editable": true,
    "slideshow": {
     "slide_type": "subslide"
    }
   },
   "source": [
    "<h3>Transition system</h3>\n",
    "\n",
    "<p style=\"text-align: left; border:3px; border-radius: 25px; background-color:lightgrey; border-style:solid; border-color:black; padding: 0.3em; font-size: 75%\">\n",
    "\\begin{align}\n",
    "& \\textbf{Input:} \\; sentence \\; \\mathbf{x}\\\\\n",
    "& state \\; S_1=initialize(\\mathbf{x}); timestep \\; t = 1\\\\\n",
    "& \\mathbf{while}\\; S_t \\; \\text{not final}\\; \\mathbf{do}\\\\\n",
    "& \\quad action \\; \\alpha_t = \\mathop{\\arg \\max}_{\\alpha \\in {\\cal A}} f(\\alpha, \\mathbf{x})\\\\\n",
    "& \\quad S_{t+1}=S_t(\\alpha_t); t=t+1\\\\\n",
    "\\end{align}\n",
    "</p>"
   ]
  },
  {
   "cell_type": "markdown",
   "metadata": {
    "deletable": true,
    "editable": true,
    "slideshow": {
     "slide_type": "fragment"
    }
   },
   "source": [
    "<ul>\n",
    "<li><b>PoS/NER tagging?</b> <span class=\"fragment\">for each word, left-to-right, predict a PoS/NER tag which is added to the output</span></li>\n",
    "<li class=\"fragment\"><b>NLG?</b> <span class=\"fragment\">predict a word adding it to the output until the <code>EndOfSentence</code> is predicted</span></li>\n",
    "</ul>"
   ]
  },
  {
   "cell_type": "markdown",
   "metadata": {
    "deletable": true,
    "editable": true,
    "slideshow": {
     "slide_type": "slide"
    }
   },
   "source": [
    "### Teaching the classifier\n",
    "\n",
    "What are good actions in incremental structured prediction?"
   ]
  },
  {
   "cell_type": "markdown",
   "metadata": {
    "deletable": true,
    "editable": true,
    "slideshow": {
     "slide_type": "fragment"
    }
   },
   "source": [
    "Those that reach $S_{final} = S_1(\\alpha_1\\ldots\\alpha_T)$ with low **task loss**:\n",
    "\n",
    "$$loss  = L(S_{final}, \\mathbf{y}) \\geq 0$$"
   ]
  },
  {
   "cell_type": "markdown",
   "metadata": {
    "deletable": true,
    "editable": true,
    "slideshow": {
     "slide_type": "fragment"
    }
   },
   "source": [
    "<ul>\n",
    "<li><b>PoS tagging?</b> <span class=\"fragment\">Hamming loss: number of incorrect tags</span></li>\n",
    "<li class=\"fragment\"><b>NER?</b> <span class=\"fragment\">number of false positives and false negatives</span></li>\n",
    "<li class=\"fragment\"><b>NLG?</b> <span class=\"fragment\">BLEU: % of n-grams predicted present in the gold reference(s), i.e. $L=1-BLEU(S_{final}, \\mathbf{y})$</span></li>\n",
    "</ul>"
   ]
  },
  {
   "cell_type": "markdown",
   "metadata": {
    "deletable": true,
    "editable": true,
    "slideshow": {
     "slide_type": "slide"
    }
   },
   "source": [
    "### Action assessment \n",
    "\n",
    "<table style=\"font-size:80%; border-style: hidden; border-collapse: collapse; padding: 50px\">\n",
    "<thead>\n",
    "<tr>\n",
    "<th>I</th> \n",
    "<th>studied</th>\n",
    "<th>in</th>\n",
    "<th>London</th>\n",
    "<th>with</th>\n",
    "<th>Sebastian</th>\n",
    "<th>Riedel</th>\n",
    "</tr>\n",
    "</thead>\n",
    "<tbody>\n",
    "<tr>\n",
    "<td>PRP</td>\n",
    "<td>VBD</td>\n",
    "<td>IN</td>\n",
    "<td>NNP</td>\n",
    "<td>IN</td>\n",
    "<td>NNP</td>\n",
    "<td><span class=\"fragment\" data-fragment-index=\"1\">NNP</span></td>\n",
    "</tr>\n",
    "<tr>\n",
    "<td><span class=\"fragment\" data-fragment-index=\"2\">O</span></td>\n",
    "<td><span class=\"fragment\" data-fragment-index=\"2\">O</span></td>\n",
    "<td><span class=\"fragment\" data-fragment-index=\"2\">O</span></td>\n",
    "<td><span class=\"fragment\" data-fragment-index=\"2\">B-LOC</span></td>\n",
    "<td><span class=\"fragment\" data-fragment-index=\"2\">O</span></td>\n",
    "<td><span class=\"fragment\" data-fragment-index=\"2\">B-PER</span></td>\n",
    "<td><span class=\"fragment\" data-fragment-index=\"3\">I-PER</span></td>\n",
    "</tr>\n",
    "</tbody>\n",
    "</table>\n",
    "\n",
    "<p>How many incorrect PoS tags due to $\\alpha_6$  being NNP? <span class=\"fragment\" data-fragment-index=\"1\"><b>0</b></span>\n",
    "</p>\n",
    "<p class=\"fragment\" data-fragment-index=\"2\"> How many $FP+FN$ due to $\\alpha_6$ being B-PER? <span class=\"fragment\" data-fragment-index=\"3\"><br><b>Depends!</b> If $\\alpha_7$ is</span>\n",
    "<ul class=\"fragment\" data-fragment-index=\"3\">\n",
    "<li>I-PER:  $0$ (correct)</li> \n",
    "<li>O: $2$ (1FP+1FN)</li>\n",
    "<li>B-*: $3$ (2FP+1FN)</li>\n",
    "</ul>\n",
    "</p>\n",
    "<p class=\"fragment\" data-fragment-index=\"3\">$FP+FN$ loss is <b>non-decomposable</b> wrt the transition system\n",
    "</p>"
   ]
  },
  {
   "cell_type": "markdown",
   "metadata": {
    "deletable": true,
    "editable": true,
    "slideshow": {
     "slide_type": "subslide"
    }
   },
   "source": [
    "### More action assessment\n",
    "\n",
    "Can we tell how predicting a word will change our BLEU?\n",
    "$$\n",
    "BLEU([\\alpha_1...\\alpha_T],\\mathbf{y}) = \\prod_{n=1}^N \\frac{\\# \\text{n-grams} \\in ([\\alpha_1...\\alpha_T] \\cap \\mathbf{y})}{\\# \\text{n-grams} \\in [\\alpha_1..\\alpha_T]}\n",
    "$$\n",
    "<p class=\"fragment\" data-fragment-index=\"1\"><b>No</b>! (assuming N>1)</p>"
   ]
  },
  {
   "cell_type": "markdown",
   "metadata": {
    "deletable": true,
    "editable": true,
    "slideshow": {
     "slide_type": "fragment"
    }
   },
   "source": [
    "**Non-decomposable** losses wrt transition system are common!\n",
    "\n",
    "Imitation learning trains incremental models for such losses"
   ]
  },
  {
   "cell_type": "markdown",
   "metadata": {
    "deletable": true,
    "editable": true,
    "slideshow": {
     "slide_type": "fragment"
    }
   },
   "source": [
    "Affects joint models too: loss does not always decompose over the graphical model ([Tarlow and Zemel, 2012](http://www.cs.toronto.edu/~dtarlow/tarlow_zemel_aistats12.pdf))"
   ]
  },
  {
   "cell_type": "markdown",
   "metadata": {
    "deletable": true,
    "editable": true,
    "slideshow": {
     "slide_type": "slide"
    }
   },
   "source": [
    "### Expert policy\n",
    "\n",
    "Returns the best action at the current state by looking at the gold standard assuming **future actions are also optimal**:\n",
    "\n",
    "$$\\alpha^{\\star}=\\pi^{\\star}(S_t, \\mathbf{y}) = \\mathop{\\arg \\min}_{\\alpha \\in {\\cal A}} L(S_t(\\alpha,\\pi^{\\star}),\\mathbf{y})$$"
   ]
  },
  {
   "cell_type": "markdown",
   "metadata": {
    "deletable": true,
    "editable": true,
    "slideshow": {
     "slide_type": "fragment"
    }
   },
   "source": [
    "<p style=\"float: left;\">Only available for the training data: an expert<br>demonstrating how to perform the task </p> <a href=\"http://www.salon.com/2016/10/06/what-makes-a-good-teacher-why-certifications-and-standards-dont-guarantee-quality-educators_partner/\"><img src=\"images/english_teacher.jpg\" style=\"width:25%; float: right;\"></a>"
   ]
  },
  {
   "cell_type": "markdown",
   "metadata": {
    "deletable": true,
    "editable": true,
    "slideshow": {
     "slide_type": "subslide"
    }
   },
   "source": [
    "### Expert policy\n",
    "\n",
    "What action should $\\pi^{\\star}$ return?\n",
    "\n",
    "<table style=\"border-style: hidden; border-collapse: collapse; padding: 50px\">\n",
    "<thead>\n",
    "<tr>\n",
    "<th>I</th> \n",
    "<th>studied</th>\n",
    "<th>in</th>\n",
    "<th>London</th>\n",
    "<th>with</th>\n",
    "<th>Sebastian</th>\n",
    "<th>Riedel</th>\n",
    "</tr>\n",
    "</thead>\n",
    "<tbody>\n",
    "<tr>\n",
    "<td>O</td>\n",
    "<td>O</td>\n",
    "<td>O</td>\n",
    "<td>B-LOC</td>\n",
    "<td>O</td>\n",
    "<td>B-PER</td>\n",
    "<td><span class=\"fragment\" data-fragment-index=\"1\">I-PER</span></td>\n",
    "</tr>\n",
    "<tr class=\"fragment\" data-fragment-index=\"2\">\n",
    "<td>O</td>\n",
    "<td>O</td>\n",
    "<td>O</td>\n",
    "<td>B-LOC</td>\n",
    "<td>O</td>\n",
    "<td>O</td>\n",
    "<td><span class=\"fragment\" data-fragment-index=\"3\">O</span></td>\n",
    "</tr>\n",
    "</tbody>\n",
    "</table> "
   ]
  },
  {
   "cell_type": "markdown",
   "metadata": {
    "deletable": true,
    "editable": true,
    "slideshow": {
     "slide_type": "fragment"
    }
   },
   "source": [
    "Takes previous actions into account (**dynamic** vs **static**)"
   ]
  },
  {
   "cell_type": "markdown",
   "metadata": {
    "deletable": true,
    "editable": true,
    "slideshow": {
     "slide_type": "fragment"
    }
   },
   "source": [
    "Finding the optimal action can be expensive but we can learn with **sub-optimal** experts."
   ]
  },
  {
   "cell_type": "markdown",
   "metadata": {
    "deletable": true,
    "editable": true,
    "slideshow": {
     "slide_type": "slide"
    }
   },
   "source": [
    "<center>\n",
    "<h2>Imitation learning</h2>\n",
    "</center>"
   ]
  },
  {
   "cell_type": "markdown",
   "metadata": {
    "deletable": true,
    "editable": true,
    "slideshow": {
     "slide_type": "slide"
    }
   },
   "source": [
    "### Imitation learning for part-of-speech tagging\n",
    "\n",
    "<table style=\"border-style: hidden; border-collapse: collapse; padding: 50px\">\n",
    "<thead>\n",
    "<tr>\n",
    "<th>I</th>\n",
    "<th>can</th>\n",
    "<th>fly</th>\n",
    "</tr>\n",
    "</thead>\n",
    "<tbody>\n",
    "<tr>\n",
    "<td><span>Pronoun</span></td>\n",
    "<td><span>Modal</span></td>\n",
    "<td><span>Verb</span></td>\n",
    "</tr>\n",
    "</tbody>\n",
    "</table>"
   ]
  },
  {
   "cell_type": "markdown",
   "metadata": {
    "deletable": true,
    "editable": true,
    "slideshow": {
     "slide_type": "fragment"
    }
   },
   "source": [
    " **Task loss**: <span class=\"fragment\">Hamming loss: number of incorrectly predicted tags</span>"
   ]
  },
  {
   "cell_type": "markdown",
   "metadata": {
    "deletable": true,
    "editable": true,
    "slideshow": {
     "slide_type": "fragment"
    }
   },
   "source": [
    "**Transition system**: <span class=\"fragment\">Tag each token left-to-right</span>"
   ]
  },
  {
   "cell_type": "markdown",
   "metadata": {
    "deletable": true,
    "editable": true,
    "slideshow": {
     "slide_type": "fragment"
    }
   },
   "source": [
    "**Expert policy**: <span class=\"fragment\">Return the next tag from the gold standard</span>"
   ]
  },
  {
   "cell_type": "markdown",
   "metadata": {
    "deletable": true,
    "editable": true,
    "slideshow": {
     "slide_type": "slide"
    }
   },
   "source": [
    "<h3>Gold standard in search space</h3>"
   ]
  },
  {
   "cell_type": "code",
   "execution_count": 4,
   "metadata": {
    "collapsed": false,
    "deletable": true,
    "editable": true,
    "slideshow": {
     "slide_type": "-"
    }
   },
   "outputs": [
    {
     "data": {
      "text/html": [
       "\n",
       "        <div id=\"72a6c7d2-badf-11e7-88c6-02426d5d0a97\" class=\"carousel\" data-ride=\"carousel\" data-interval=\"false\">\n",
       "          <div class=\"carousel-inner\" role=\"listbox\">\n",
       "          <div class=\"item active\"><svg baseProfile=\"full\" height=\"315.0\" version=\"1.1\" width=\"500\" xmlns=\"http://www.w3.org/2000/svg\" xmlns:ev=\"http://www.w3.org/2001/xml-events\" xmlns:xlink=\"http://www.w3.org/1999/xlink\"><defs><marker id=\"id1\" markerHeight=\"10\" markerWidth=\"10\" orient=\"auto\" refX=\"5\" refY=\"5\"><path d=\"M 0 0 L 10 5 L 0 10 z\" fill=\"blue\" /></marker></defs><text style=\"font-size:25px; font-weight:bold; font-family:Lato\" x=\"0\" y=\"50\">Noun</text><text style=\"font-size:25px; font-weight:bold; font-family:Lato\" x=\"0\" y=\"100\">Verb</text><text style=\"font-size:25px; font-weight:bold; font-family:Lato\" x=\"0\" y=\"150\">Modal</text><text style=\"font-size:25px; font-weight:bold; font-family:Lato\" x=\"0\" y=\"200\">Pronoun</text><text style=\"font-size:25px; font-weight:bold; font-family:Lato\" x=\"0\" y=\"250\">NULL</text><text style=\"font-size:25px; font-family:Lato\" x=\"100\" y=\"300\">NULL</text><text style=\"font-size:25px; font-family:Lato\" x=\"200\" y=\"300\">I</text><text style=\"font-size:25px; font-family:Lato\" x=\"300\" y=\"300\">can</text><text style=\"font-size:25px; font-family:Lato\" x=\"400\" y=\"300\">fly</text><line stroke=\"rgb(10%,10%,16%)\" stroke-dasharray=\"5 5\" x1=\"105\" x2=\"195\" y1=\"50\" y2=\"50\" /><line stroke=\"rgb(10%,10%,16%)\" stroke-dasharray=\"5 5\" x1=\"105\" x2=\"195\" y1=\"100\" y2=\"100\" /><line stroke=\"rgb(10%,10%,16%)\" stroke-dasharray=\"5 5\" x1=\"105\" x2=\"195\" y1=\"150\" y2=\"150\" /><line stroke=\"rgb(10%,10%,16%)\" stroke-dasharray=\"5 5\" x1=\"105\" x2=\"195\" y1=\"200\" y2=\"200\" /><line stroke=\"rgb(10%,10%,16%)\" stroke-dasharray=\"5 5\" x1=\"105\" x2=\"195\" y1=\"250\" y2=\"250\" /><line stroke=\"rgb(10%,10%,16%)\" stroke-dasharray=\"5 5\" x1=\"205\" x2=\"295\" y1=\"50\" y2=\"50\" /><line stroke=\"rgb(10%,10%,16%)\" stroke-dasharray=\"5 5\" x1=\"205\" x2=\"295\" y1=\"100\" y2=\"100\" /><line stroke=\"rgb(10%,10%,16%)\" stroke-dasharray=\"5 5\" x1=\"205\" x2=\"295\" y1=\"150\" y2=\"150\" /><line stroke=\"rgb(10%,10%,16%)\" stroke-dasharray=\"5 5\" x1=\"205\" x2=\"295\" y1=\"200\" y2=\"200\" /><line stroke=\"rgb(10%,10%,16%)\" stroke-dasharray=\"5 5\" x1=\"205\" x2=\"295\" y1=\"250\" y2=\"250\" /><line stroke=\"rgb(10%,10%,16%)\" stroke-dasharray=\"5 5\" x1=\"305\" x2=\"395\" y1=\"50\" y2=\"50\" /><line stroke=\"rgb(10%,10%,16%)\" stroke-dasharray=\"5 5\" x1=\"305\" x2=\"395\" y1=\"100\" y2=\"100\" /><line stroke=\"rgb(10%,10%,16%)\" stroke-dasharray=\"5 5\" x1=\"305\" x2=\"395\" y1=\"150\" y2=\"150\" /><line stroke=\"rgb(10%,10%,16%)\" stroke-dasharray=\"5 5\" x1=\"305\" x2=\"395\" y1=\"200\" y2=\"200\" /><line stroke=\"rgb(10%,10%,16%)\" stroke-dasharray=\"5 5\" x1=\"305\" x2=\"395\" y1=\"250\" y2=\"250\" /><line stroke=\"rgb(10%,10%,16%)\" stroke-dasharray=\"5 5\" x1=\"100\" x2=\"100\" y1=\"55\" y2=\"95\" /><line stroke=\"rgb(10%,10%,16%)\" stroke-dasharray=\"5 5\" x1=\"100\" x2=\"100\" y1=\"105\" y2=\"145\" /><line stroke=\"rgb(10%,10%,16%)\" stroke-dasharray=\"5 5\" x1=\"100\" x2=\"100\" y1=\"155\" y2=\"195\" /><line stroke=\"rgb(10%,10%,16%)\" stroke-dasharray=\"5 5\" x1=\"100\" x2=\"100\" y1=\"205\" y2=\"245\" /><line stroke=\"rgb(10%,10%,16%)\" stroke-dasharray=\"5 5\" x1=\"200\" x2=\"200\" y1=\"55\" y2=\"95\" /><line stroke=\"rgb(10%,10%,16%)\" stroke-dasharray=\"5 5\" x1=\"200\" x2=\"200\" y1=\"105\" y2=\"145\" /><line stroke=\"rgb(10%,10%,16%)\" stroke-dasharray=\"5 5\" x1=\"200\" x2=\"200\" y1=\"155\" y2=\"195\" /><line stroke=\"rgb(10%,10%,16%)\" stroke-dasharray=\"5 5\" x1=\"200\" x2=\"200\" y1=\"205\" y2=\"245\" /><line stroke=\"rgb(10%,10%,16%)\" stroke-dasharray=\"5 5\" x1=\"300\" x2=\"300\" y1=\"55\" y2=\"95\" /><line stroke=\"rgb(10%,10%,16%)\" stroke-dasharray=\"5 5\" x1=\"300\" x2=\"300\" y1=\"105\" y2=\"145\" /><line stroke=\"rgb(10%,10%,16%)\" stroke-dasharray=\"5 5\" x1=\"300\" x2=\"300\" y1=\"155\" y2=\"195\" /><line stroke=\"rgb(10%,10%,16%)\" stroke-dasharray=\"5 5\" x1=\"300\" x2=\"300\" y1=\"205\" y2=\"245\" /><line stroke=\"rgb(10%,10%,16%)\" stroke-dasharray=\"5 5\" x1=\"400\" x2=\"400\" y1=\"55\" y2=\"95\" /><line stroke=\"rgb(10%,10%,16%)\" stroke-dasharray=\"5 5\" x1=\"400\" x2=\"400\" y1=\"105\" y2=\"145\" /><line stroke=\"rgb(10%,10%,16%)\" stroke-dasharray=\"5 5\" x1=\"400\" x2=\"400\" y1=\"155\" y2=\"195\" /><line stroke=\"rgb(10%,10%,16%)\" stroke-dasharray=\"5 5\" x1=\"400\" x2=\"400\" y1=\"205\" y2=\"245\" /></svg></div>\n",
       "<div class=\"item\"><svg baseProfile=\"full\" height=\"315.0\" version=\"1.1\" width=\"500\" xmlns=\"http://www.w3.org/2000/svg\" xmlns:ev=\"http://www.w3.org/2001/xml-events\" xmlns:xlink=\"http://www.w3.org/1999/xlink\"><defs><marker id=\"id2\" markerHeight=\"10\" markerWidth=\"10\" orient=\"auto\" refX=\"5\" refY=\"5\"><path d=\"M 0 0 L 10 5 L 0 10 z\" fill=\"blue\" /></marker></defs><text style=\"font-size:25px; font-weight:bold; font-family:Lato\" x=\"0\" y=\"50\">Noun</text><text style=\"font-size:25px; font-weight:bold; font-family:Lato\" x=\"0\" y=\"100\">Verb</text><text style=\"font-size:25px; font-weight:bold; font-family:Lato\" x=\"0\" y=\"150\">Modal</text><text style=\"font-size:25px; font-weight:bold; font-family:Lato\" x=\"0\" y=\"200\">Pronoun</text><text style=\"font-size:25px; font-weight:bold; font-family:Lato\" x=\"0\" y=\"250\">NULL</text><text style=\"font-size:25px; font-family:Lato\" x=\"100\" y=\"300\">NULL</text><text style=\"font-size:25px; font-family:Lato\" x=\"200\" y=\"300\">I</text><text style=\"font-size:25px; font-family:Lato\" x=\"300\" y=\"300\">can</text><text style=\"font-size:25px; font-family:Lato\" x=\"400\" y=\"300\">fly</text><line marker-end=\"url(#id2)\" stroke=\"rgb(10%,10%,16%)\" stroke-width=\"2.5\" x1=\"100\" x2=\"200\" y1=\"250\" y2=\"200\" /><line stroke=\"rgb(10%,10%,16%)\" stroke-dasharray=\"5 5\" x1=\"105\" x2=\"195\" y1=\"50\" y2=\"50\" /><line stroke=\"rgb(10%,10%,16%)\" stroke-dasharray=\"5 5\" x1=\"105\" x2=\"195\" y1=\"100\" y2=\"100\" /><line stroke=\"rgb(10%,10%,16%)\" stroke-dasharray=\"5 5\" x1=\"105\" x2=\"195\" y1=\"150\" y2=\"150\" /><line stroke=\"rgb(10%,10%,16%)\" stroke-dasharray=\"5 5\" x1=\"105\" x2=\"195\" y1=\"200\" y2=\"200\" /><line stroke=\"rgb(10%,10%,16%)\" stroke-dasharray=\"5 5\" x1=\"105\" x2=\"195\" y1=\"250\" y2=\"250\" /><line stroke=\"rgb(10%,10%,16%)\" stroke-dasharray=\"5 5\" x1=\"205\" x2=\"295\" y1=\"50\" y2=\"50\" /><line stroke=\"rgb(10%,10%,16%)\" stroke-dasharray=\"5 5\" x1=\"205\" x2=\"295\" y1=\"100\" y2=\"100\" /><line stroke=\"rgb(10%,10%,16%)\" stroke-dasharray=\"5 5\" x1=\"205\" x2=\"295\" y1=\"150\" y2=\"150\" /><line stroke=\"rgb(10%,10%,16%)\" stroke-dasharray=\"5 5\" x1=\"205\" x2=\"295\" y1=\"200\" y2=\"200\" /><line stroke=\"rgb(10%,10%,16%)\" stroke-dasharray=\"5 5\" x1=\"205\" x2=\"295\" y1=\"250\" y2=\"250\" /><line stroke=\"rgb(10%,10%,16%)\" stroke-dasharray=\"5 5\" x1=\"305\" x2=\"395\" y1=\"50\" y2=\"50\" /><line stroke=\"rgb(10%,10%,16%)\" stroke-dasharray=\"5 5\" x1=\"305\" x2=\"395\" y1=\"100\" y2=\"100\" /><line stroke=\"rgb(10%,10%,16%)\" stroke-dasharray=\"5 5\" x1=\"305\" x2=\"395\" y1=\"150\" y2=\"150\" /><line stroke=\"rgb(10%,10%,16%)\" stroke-dasharray=\"5 5\" x1=\"305\" x2=\"395\" y1=\"200\" y2=\"200\" /><line stroke=\"rgb(10%,10%,16%)\" stroke-dasharray=\"5 5\" x1=\"305\" x2=\"395\" y1=\"250\" y2=\"250\" /><line stroke=\"rgb(10%,10%,16%)\" stroke-dasharray=\"5 5\" x1=\"100\" x2=\"100\" y1=\"55\" y2=\"95\" /><line stroke=\"rgb(10%,10%,16%)\" stroke-dasharray=\"5 5\" x1=\"100\" x2=\"100\" y1=\"105\" y2=\"145\" /><line stroke=\"rgb(10%,10%,16%)\" stroke-dasharray=\"5 5\" x1=\"100\" x2=\"100\" y1=\"155\" y2=\"195\" /><line stroke=\"rgb(10%,10%,16%)\" stroke-dasharray=\"5 5\" x1=\"100\" x2=\"100\" y1=\"205\" y2=\"245\" /><line stroke=\"rgb(10%,10%,16%)\" stroke-dasharray=\"5 5\" x1=\"200\" x2=\"200\" y1=\"55\" y2=\"95\" /><line stroke=\"rgb(10%,10%,16%)\" stroke-dasharray=\"5 5\" x1=\"200\" x2=\"200\" y1=\"105\" y2=\"145\" /><line stroke=\"rgb(10%,10%,16%)\" stroke-dasharray=\"5 5\" x1=\"200\" x2=\"200\" y1=\"155\" y2=\"195\" /><line stroke=\"rgb(10%,10%,16%)\" stroke-dasharray=\"5 5\" x1=\"200\" x2=\"200\" y1=\"205\" y2=\"245\" /><line stroke=\"rgb(10%,10%,16%)\" stroke-dasharray=\"5 5\" x1=\"300\" x2=\"300\" y1=\"55\" y2=\"95\" /><line stroke=\"rgb(10%,10%,16%)\" stroke-dasharray=\"5 5\" x1=\"300\" x2=\"300\" y1=\"105\" y2=\"145\" /><line stroke=\"rgb(10%,10%,16%)\" stroke-dasharray=\"5 5\" x1=\"300\" x2=\"300\" y1=\"155\" y2=\"195\" /><line stroke=\"rgb(10%,10%,16%)\" stroke-dasharray=\"5 5\" x1=\"300\" x2=\"300\" y1=\"205\" y2=\"245\" /><line stroke=\"rgb(10%,10%,16%)\" stroke-dasharray=\"5 5\" x1=\"400\" x2=\"400\" y1=\"55\" y2=\"95\" /><line stroke=\"rgb(10%,10%,16%)\" stroke-dasharray=\"5 5\" x1=\"400\" x2=\"400\" y1=\"105\" y2=\"145\" /><line stroke=\"rgb(10%,10%,16%)\" stroke-dasharray=\"5 5\" x1=\"400\" x2=\"400\" y1=\"155\" y2=\"195\" /><line stroke=\"rgb(10%,10%,16%)\" stroke-dasharray=\"5 5\" x1=\"400\" x2=\"400\" y1=\"205\" y2=\"245\" /></svg></div>\n",
       "<div class=\"item\"><svg baseProfile=\"full\" height=\"315.0\" version=\"1.1\" width=\"500\" xmlns=\"http://www.w3.org/2000/svg\" xmlns:ev=\"http://www.w3.org/2001/xml-events\" xmlns:xlink=\"http://www.w3.org/1999/xlink\"><defs><marker id=\"id3\" markerHeight=\"10\" markerWidth=\"10\" orient=\"auto\" refX=\"5\" refY=\"5\"><path d=\"M 0 0 L 10 5 L 0 10 z\" fill=\"blue\" /></marker></defs><text style=\"font-size:25px; font-weight:bold; font-family:Lato\" x=\"0\" y=\"50\">Noun</text><text style=\"font-size:25px; font-weight:bold; font-family:Lato\" x=\"0\" y=\"100\">Verb</text><text style=\"font-size:25px; font-weight:bold; font-family:Lato\" x=\"0\" y=\"150\">Modal</text><text style=\"font-size:25px; font-weight:bold; font-family:Lato\" x=\"0\" y=\"200\">Pronoun</text><text style=\"font-size:25px; font-weight:bold; font-family:Lato\" x=\"0\" y=\"250\">NULL</text><text style=\"font-size:25px; font-family:Lato\" x=\"100\" y=\"300\">NULL</text><text style=\"font-size:25px; font-family:Lato\" x=\"200\" y=\"300\">I</text><text style=\"font-size:25px; font-family:Lato\" x=\"300\" y=\"300\">can</text><text style=\"font-size:25px; font-family:Lato\" x=\"400\" y=\"300\">fly</text><line marker-end=\"url(#id3)\" stroke=\"rgb(10%,10%,16%)\" stroke-width=\"2.5\" x1=\"100\" x2=\"200\" y1=\"250\" y2=\"200\" /><line marker-end=\"url(#id3)\" stroke=\"rgb(10%,10%,16%)\" stroke-width=\"2.5\" x1=\"200\" x2=\"300\" y1=\"200\" y2=\"150\" /><line stroke=\"rgb(10%,10%,16%)\" stroke-dasharray=\"5 5\" x1=\"105\" x2=\"195\" y1=\"50\" y2=\"50\" /><line stroke=\"rgb(10%,10%,16%)\" stroke-dasharray=\"5 5\" x1=\"105\" x2=\"195\" y1=\"100\" y2=\"100\" /><line stroke=\"rgb(10%,10%,16%)\" stroke-dasharray=\"5 5\" x1=\"105\" x2=\"195\" y1=\"150\" y2=\"150\" /><line stroke=\"rgb(10%,10%,16%)\" stroke-dasharray=\"5 5\" x1=\"105\" x2=\"195\" y1=\"200\" y2=\"200\" /><line stroke=\"rgb(10%,10%,16%)\" stroke-dasharray=\"5 5\" x1=\"105\" x2=\"195\" y1=\"250\" y2=\"250\" /><line stroke=\"rgb(10%,10%,16%)\" stroke-dasharray=\"5 5\" x1=\"205\" x2=\"295\" y1=\"50\" y2=\"50\" /><line stroke=\"rgb(10%,10%,16%)\" stroke-dasharray=\"5 5\" x1=\"205\" x2=\"295\" y1=\"100\" y2=\"100\" /><line stroke=\"rgb(10%,10%,16%)\" stroke-dasharray=\"5 5\" x1=\"205\" x2=\"295\" y1=\"150\" y2=\"150\" /><line stroke=\"rgb(10%,10%,16%)\" stroke-dasharray=\"5 5\" x1=\"205\" x2=\"295\" y1=\"200\" y2=\"200\" /><line stroke=\"rgb(10%,10%,16%)\" stroke-dasharray=\"5 5\" x1=\"205\" x2=\"295\" y1=\"250\" y2=\"250\" /><line stroke=\"rgb(10%,10%,16%)\" stroke-dasharray=\"5 5\" x1=\"305\" x2=\"395\" y1=\"50\" y2=\"50\" /><line stroke=\"rgb(10%,10%,16%)\" stroke-dasharray=\"5 5\" x1=\"305\" x2=\"395\" y1=\"100\" y2=\"100\" /><line stroke=\"rgb(10%,10%,16%)\" stroke-dasharray=\"5 5\" x1=\"305\" x2=\"395\" y1=\"150\" y2=\"150\" /><line stroke=\"rgb(10%,10%,16%)\" stroke-dasharray=\"5 5\" x1=\"305\" x2=\"395\" y1=\"200\" y2=\"200\" /><line stroke=\"rgb(10%,10%,16%)\" stroke-dasharray=\"5 5\" x1=\"305\" x2=\"395\" y1=\"250\" y2=\"250\" /><line stroke=\"rgb(10%,10%,16%)\" stroke-dasharray=\"5 5\" x1=\"100\" x2=\"100\" y1=\"55\" y2=\"95\" /><line stroke=\"rgb(10%,10%,16%)\" stroke-dasharray=\"5 5\" x1=\"100\" x2=\"100\" y1=\"105\" y2=\"145\" /><line stroke=\"rgb(10%,10%,16%)\" stroke-dasharray=\"5 5\" x1=\"100\" x2=\"100\" y1=\"155\" y2=\"195\" /><line stroke=\"rgb(10%,10%,16%)\" stroke-dasharray=\"5 5\" x1=\"100\" x2=\"100\" y1=\"205\" y2=\"245\" /><line stroke=\"rgb(10%,10%,16%)\" stroke-dasharray=\"5 5\" x1=\"200\" x2=\"200\" y1=\"55\" y2=\"95\" /><line stroke=\"rgb(10%,10%,16%)\" stroke-dasharray=\"5 5\" x1=\"200\" x2=\"200\" y1=\"105\" y2=\"145\" /><line stroke=\"rgb(10%,10%,16%)\" stroke-dasharray=\"5 5\" x1=\"200\" x2=\"200\" y1=\"155\" y2=\"195\" /><line stroke=\"rgb(10%,10%,16%)\" stroke-dasharray=\"5 5\" x1=\"200\" x2=\"200\" y1=\"205\" y2=\"245\" /><line stroke=\"rgb(10%,10%,16%)\" stroke-dasharray=\"5 5\" x1=\"300\" x2=\"300\" y1=\"55\" y2=\"95\" /><line stroke=\"rgb(10%,10%,16%)\" stroke-dasharray=\"5 5\" x1=\"300\" x2=\"300\" y1=\"105\" y2=\"145\" /><line stroke=\"rgb(10%,10%,16%)\" stroke-dasharray=\"5 5\" x1=\"300\" x2=\"300\" y1=\"155\" y2=\"195\" /><line stroke=\"rgb(10%,10%,16%)\" stroke-dasharray=\"5 5\" x1=\"300\" x2=\"300\" y1=\"205\" y2=\"245\" /><line stroke=\"rgb(10%,10%,16%)\" stroke-dasharray=\"5 5\" x1=\"400\" x2=\"400\" y1=\"55\" y2=\"95\" /><line stroke=\"rgb(10%,10%,16%)\" stroke-dasharray=\"5 5\" x1=\"400\" x2=\"400\" y1=\"105\" y2=\"145\" /><line stroke=\"rgb(10%,10%,16%)\" stroke-dasharray=\"5 5\" x1=\"400\" x2=\"400\" y1=\"155\" y2=\"195\" /><line stroke=\"rgb(10%,10%,16%)\" stroke-dasharray=\"5 5\" x1=\"400\" x2=\"400\" y1=\"205\" y2=\"245\" /></svg></div>\n",
       "<div class=\"item\"><svg baseProfile=\"full\" height=\"315.0\" version=\"1.1\" width=\"500\" xmlns=\"http://www.w3.org/2000/svg\" xmlns:ev=\"http://www.w3.org/2001/xml-events\" xmlns:xlink=\"http://www.w3.org/1999/xlink\"><defs><marker id=\"id4\" markerHeight=\"10\" markerWidth=\"10\" orient=\"auto\" refX=\"5\" refY=\"5\"><path d=\"M 0 0 L 10 5 L 0 10 z\" fill=\"blue\" /></marker></defs><text style=\"font-size:25px; font-weight:bold; font-family:Lato\" x=\"0\" y=\"50\">Noun</text><text style=\"font-size:25px; font-weight:bold; font-family:Lato\" x=\"0\" y=\"100\">Verb</text><text style=\"font-size:25px; font-weight:bold; font-family:Lato\" x=\"0\" y=\"150\">Modal</text><text style=\"font-size:25px; font-weight:bold; font-family:Lato\" x=\"0\" y=\"200\">Pronoun</text><text style=\"font-size:25px; font-weight:bold; font-family:Lato\" x=\"0\" y=\"250\">NULL</text><text style=\"font-size:25px; font-family:Lato\" x=\"100\" y=\"300\">NULL</text><text style=\"font-size:25px; font-family:Lato\" x=\"200\" y=\"300\">I</text><text style=\"font-size:25px; font-family:Lato\" x=\"300\" y=\"300\">can</text><text style=\"font-size:25px; font-family:Lato\" x=\"400\" y=\"300\">fly</text><line marker-end=\"url(#id4)\" stroke=\"rgb(10%,10%,16%)\" stroke-width=\"2.5\" x1=\"100\" x2=\"200\" y1=\"250\" y2=\"200\" /><line marker-end=\"url(#id4)\" stroke=\"rgb(10%,10%,16%)\" stroke-width=\"2.5\" x1=\"200\" x2=\"300\" y1=\"200\" y2=\"150\" /><line marker-end=\"url(#id4)\" stroke=\"rgb(10%,10%,16%)\" stroke-width=\"2.5\" x1=\"300\" x2=\"400\" y1=\"150\" y2=\"100\" /><line stroke=\"rgb(10%,10%,16%)\" stroke-dasharray=\"5 5\" x1=\"105\" x2=\"195\" y1=\"50\" y2=\"50\" /><line stroke=\"rgb(10%,10%,16%)\" stroke-dasharray=\"5 5\" x1=\"105\" x2=\"195\" y1=\"100\" y2=\"100\" /><line stroke=\"rgb(10%,10%,16%)\" stroke-dasharray=\"5 5\" x1=\"105\" x2=\"195\" y1=\"150\" y2=\"150\" /><line stroke=\"rgb(10%,10%,16%)\" stroke-dasharray=\"5 5\" x1=\"105\" x2=\"195\" y1=\"200\" y2=\"200\" /><line stroke=\"rgb(10%,10%,16%)\" stroke-dasharray=\"5 5\" x1=\"105\" x2=\"195\" y1=\"250\" y2=\"250\" /><line stroke=\"rgb(10%,10%,16%)\" stroke-dasharray=\"5 5\" x1=\"205\" x2=\"295\" y1=\"50\" y2=\"50\" /><line stroke=\"rgb(10%,10%,16%)\" stroke-dasharray=\"5 5\" x1=\"205\" x2=\"295\" y1=\"100\" y2=\"100\" /><line stroke=\"rgb(10%,10%,16%)\" stroke-dasharray=\"5 5\" x1=\"205\" x2=\"295\" y1=\"150\" y2=\"150\" /><line stroke=\"rgb(10%,10%,16%)\" stroke-dasharray=\"5 5\" x1=\"205\" x2=\"295\" y1=\"200\" y2=\"200\" /><line stroke=\"rgb(10%,10%,16%)\" stroke-dasharray=\"5 5\" x1=\"205\" x2=\"295\" y1=\"250\" y2=\"250\" /><line stroke=\"rgb(10%,10%,16%)\" stroke-dasharray=\"5 5\" x1=\"305\" x2=\"395\" y1=\"50\" y2=\"50\" /><line stroke=\"rgb(10%,10%,16%)\" stroke-dasharray=\"5 5\" x1=\"305\" x2=\"395\" y1=\"100\" y2=\"100\" /><line stroke=\"rgb(10%,10%,16%)\" stroke-dasharray=\"5 5\" x1=\"305\" x2=\"395\" y1=\"150\" y2=\"150\" /><line stroke=\"rgb(10%,10%,16%)\" stroke-dasharray=\"5 5\" x1=\"305\" x2=\"395\" y1=\"200\" y2=\"200\" /><line stroke=\"rgb(10%,10%,16%)\" stroke-dasharray=\"5 5\" x1=\"305\" x2=\"395\" y1=\"250\" y2=\"250\" /><line stroke=\"rgb(10%,10%,16%)\" stroke-dasharray=\"5 5\" x1=\"100\" x2=\"100\" y1=\"55\" y2=\"95\" /><line stroke=\"rgb(10%,10%,16%)\" stroke-dasharray=\"5 5\" x1=\"100\" x2=\"100\" y1=\"105\" y2=\"145\" /><line stroke=\"rgb(10%,10%,16%)\" stroke-dasharray=\"5 5\" x1=\"100\" x2=\"100\" y1=\"155\" y2=\"195\" /><line stroke=\"rgb(10%,10%,16%)\" stroke-dasharray=\"5 5\" x1=\"100\" x2=\"100\" y1=\"205\" y2=\"245\" /><line stroke=\"rgb(10%,10%,16%)\" stroke-dasharray=\"5 5\" x1=\"200\" x2=\"200\" y1=\"55\" y2=\"95\" /><line stroke=\"rgb(10%,10%,16%)\" stroke-dasharray=\"5 5\" x1=\"200\" x2=\"200\" y1=\"105\" y2=\"145\" /><line stroke=\"rgb(10%,10%,16%)\" stroke-dasharray=\"5 5\" x1=\"200\" x2=\"200\" y1=\"155\" y2=\"195\" /><line stroke=\"rgb(10%,10%,16%)\" stroke-dasharray=\"5 5\" x1=\"200\" x2=\"200\" y1=\"205\" y2=\"245\" /><line stroke=\"rgb(10%,10%,16%)\" stroke-dasharray=\"5 5\" x1=\"300\" x2=\"300\" y1=\"55\" y2=\"95\" /><line stroke=\"rgb(10%,10%,16%)\" stroke-dasharray=\"5 5\" x1=\"300\" x2=\"300\" y1=\"105\" y2=\"145\" /><line stroke=\"rgb(10%,10%,16%)\" stroke-dasharray=\"5 5\" x1=\"300\" x2=\"300\" y1=\"155\" y2=\"195\" /><line stroke=\"rgb(10%,10%,16%)\" stroke-dasharray=\"5 5\" x1=\"300\" x2=\"300\" y1=\"205\" y2=\"245\" /><line stroke=\"rgb(10%,10%,16%)\" stroke-dasharray=\"5 5\" x1=\"400\" x2=\"400\" y1=\"55\" y2=\"95\" /><line stroke=\"rgb(10%,10%,16%)\" stroke-dasharray=\"5 5\" x1=\"400\" x2=\"400\" y1=\"105\" y2=\"145\" /><line stroke=\"rgb(10%,10%,16%)\" stroke-dasharray=\"5 5\" x1=\"400\" x2=\"400\" y1=\"155\" y2=\"195\" /><line stroke=\"rgb(10%,10%,16%)\" stroke-dasharray=\"5 5\" x1=\"400\" x2=\"400\" y1=\"205\" y2=\"245\" /></svg></div>\n",
       "          </div>\n",
       "          <!-- Controls -->\n",
       "          <a href=\"#72a6c7d2-badf-11e7-88c6-02426d5d0a97\" role=\"button2\" data-slide=\"prev\">Previous</a>\n",
       "          &nbsp\n",
       "          <a  href=\"#72a6c7d2-badf-11e7-88c6-02426d5d0a97\" role=\"button2\" data-slide=\"next\">Next</a>\n",
       "        </div>\n",
       "        "
      ],
      "text/plain": [
       "<il_tutorial.util.Carousel at 0x7fdfb45a3240>"
      ]
     },
     "execution_count": 4,
     "metadata": {},
     "output_type": "execute_result"
    }
   ],
   "source": [
    "paths = [[],[(0,4),(1,3)],[(0,4),(1,3),(2,2)],[(0,4),(1,3),(2,2),(3,1)]]\n",
    "rows = ['Noun', 'Verb', 'Modal', 'Pronoun','NULL']\n",
    "columns = ['NULL','I', 'can', 'fly']\n",
    "cbs = []\n",
    "for path in paths:\n",
    "    cbs.append(cg.draw_cost_breakdown(rows, columns, path))\n",
    "util.Carousel(cbs)"
   ]
  },
  {
   "cell_type": "markdown",
   "metadata": {
    "deletable": true,
    "editable": true,
    "slideshow": {
     "slide_type": "fragment"
    }
   },
   "source": [
    "<p>\n",
    "<ul>\n",
    "<li>Three actions to complete the output</li>\n",
    "<li>Expert policy replicates the gold standard</li>\n",
    "</ul>\n",
    "</p>"
   ]
  },
  {
   "cell_type": "markdown",
   "metadata": {
    "deletable": true,
    "editable": true,
    "slideshow": {
     "slide_type": "slide"
    }
   },
   "source": [
    "<h3>Training a classifier<span class=\"fragment\" data-fragment-index=\"1\"> with structure features </span></h3>"
   ]
  },
  {
   "cell_type": "code",
   "execution_count": 5,
   "metadata": {
    "collapsed": false,
    "deletable": true,
    "editable": true,
    "slideshow": {
     "slide_type": "-"
    }
   },
   "outputs": [
    {
     "data": {
      "text/html": [
       "<svg baseProfile=\"full\" height=\"315.0\" version=\"1.1\" width=\"500\" xmlns=\"http://www.w3.org/2000/svg\" xmlns:ev=\"http://www.w3.org/2001/xml-events\" xmlns:xlink=\"http://www.w3.org/1999/xlink\"><defs><marker id=\"id5\" markerHeight=\"10\" markerWidth=\"10\" orient=\"auto\" refX=\"5\" refY=\"5\"><path d=\"M 0 0 L 10 5 L 0 10 z\" fill=\"blue\" /></marker></defs><text style=\"font-size:25px; font-weight:bold; font-family:Lato\" x=\"0\" y=\"50\">Noun</text><text style=\"font-size:25px; font-weight:bold; font-family:Lato\" x=\"0\" y=\"100\">Verb</text><text style=\"font-size:25px; font-weight:bold; font-family:Lato\" x=\"0\" y=\"150\">Modal</text><text style=\"font-size:25px; font-weight:bold; font-family:Lato\" x=\"0\" y=\"200\">Pronoun</text><text style=\"font-size:25px; font-weight:bold; font-family:Lato\" x=\"0\" y=\"250\">NULL</text><text style=\"font-size:25px; font-family:Lato\" x=\"100\" y=\"300\">NULL</text><text style=\"font-size:25px; font-family:Lato\" x=\"200\" y=\"300\">I</text><text style=\"font-size:25px; font-family:Lato\" x=\"300\" y=\"300\">can</text><text style=\"font-size:25px; font-family:Lato\" x=\"400\" y=\"300\">fly</text><line marker-end=\"url(#id5)\" stroke=\"rgb(10%,10%,16%)\" stroke-width=\"2.5\" x1=\"100\" x2=\"200\" y1=\"250\" y2=\"200\" /><line marker-end=\"url(#id5)\" stroke=\"rgb(10%,10%,16%)\" stroke-width=\"2.5\" x1=\"200\" x2=\"300\" y1=\"200\" y2=\"150\" /><line marker-end=\"url(#id5)\" stroke=\"rgb(10%,10%,16%)\" stroke-width=\"2.5\" x1=\"300\" x2=\"400\" y1=\"150\" y2=\"100\" /><line stroke=\"rgb(10%,10%,16%)\" stroke-dasharray=\"5 5\" x1=\"105\" x2=\"195\" y1=\"50\" y2=\"50\" /><line stroke=\"rgb(10%,10%,16%)\" stroke-dasharray=\"5 5\" x1=\"105\" x2=\"195\" y1=\"100\" y2=\"100\" /><line stroke=\"rgb(10%,10%,16%)\" stroke-dasharray=\"5 5\" x1=\"105\" x2=\"195\" y1=\"150\" y2=\"150\" /><line stroke=\"rgb(10%,10%,16%)\" stroke-dasharray=\"5 5\" x1=\"105\" x2=\"195\" y1=\"200\" y2=\"200\" /><line stroke=\"rgb(10%,10%,16%)\" stroke-dasharray=\"5 5\" x1=\"105\" x2=\"195\" y1=\"250\" y2=\"250\" /><line stroke=\"rgb(10%,10%,16%)\" stroke-dasharray=\"5 5\" x1=\"205\" x2=\"295\" y1=\"50\" y2=\"50\" /><line stroke=\"rgb(10%,10%,16%)\" stroke-dasharray=\"5 5\" x1=\"205\" x2=\"295\" y1=\"100\" y2=\"100\" /><line stroke=\"rgb(10%,10%,16%)\" stroke-dasharray=\"5 5\" x1=\"205\" x2=\"295\" y1=\"150\" y2=\"150\" /><line stroke=\"rgb(10%,10%,16%)\" stroke-dasharray=\"5 5\" x1=\"205\" x2=\"295\" y1=\"200\" y2=\"200\" /><line stroke=\"rgb(10%,10%,16%)\" stroke-dasharray=\"5 5\" x1=\"205\" x2=\"295\" y1=\"250\" y2=\"250\" /><line stroke=\"rgb(10%,10%,16%)\" stroke-dasharray=\"5 5\" x1=\"305\" x2=\"395\" y1=\"50\" y2=\"50\" /><line stroke=\"rgb(10%,10%,16%)\" stroke-dasharray=\"5 5\" x1=\"305\" x2=\"395\" y1=\"100\" y2=\"100\" /><line stroke=\"rgb(10%,10%,16%)\" stroke-dasharray=\"5 5\" x1=\"305\" x2=\"395\" y1=\"150\" y2=\"150\" /><line stroke=\"rgb(10%,10%,16%)\" stroke-dasharray=\"5 5\" x1=\"305\" x2=\"395\" y1=\"200\" y2=\"200\" /><line stroke=\"rgb(10%,10%,16%)\" stroke-dasharray=\"5 5\" x1=\"305\" x2=\"395\" y1=\"250\" y2=\"250\" /><line stroke=\"rgb(10%,10%,16%)\" stroke-dasharray=\"5 5\" x1=\"100\" x2=\"100\" y1=\"55\" y2=\"95\" /><line stroke=\"rgb(10%,10%,16%)\" stroke-dasharray=\"5 5\" x1=\"100\" x2=\"100\" y1=\"105\" y2=\"145\" /><line stroke=\"rgb(10%,10%,16%)\" stroke-dasharray=\"5 5\" x1=\"100\" x2=\"100\" y1=\"155\" y2=\"195\" /><line stroke=\"rgb(10%,10%,16%)\" stroke-dasharray=\"5 5\" x1=\"100\" x2=\"100\" y1=\"205\" y2=\"245\" /><line stroke=\"rgb(10%,10%,16%)\" stroke-dasharray=\"5 5\" x1=\"200\" x2=\"200\" y1=\"55\" y2=\"95\" /><line stroke=\"rgb(10%,10%,16%)\" stroke-dasharray=\"5 5\" x1=\"200\" x2=\"200\" y1=\"105\" y2=\"145\" /><line stroke=\"rgb(10%,10%,16%)\" stroke-dasharray=\"5 5\" x1=\"200\" x2=\"200\" y1=\"155\" y2=\"195\" /><line stroke=\"rgb(10%,10%,16%)\" stroke-dasharray=\"5 5\" x1=\"200\" x2=\"200\" y1=\"205\" y2=\"245\" /><line stroke=\"rgb(10%,10%,16%)\" stroke-dasharray=\"5 5\" x1=\"300\" x2=\"300\" y1=\"55\" y2=\"95\" /><line stroke=\"rgb(10%,10%,16%)\" stroke-dasharray=\"5 5\" x1=\"300\" x2=\"300\" y1=\"105\" y2=\"145\" /><line stroke=\"rgb(10%,10%,16%)\" stroke-dasharray=\"5 5\" x1=\"300\" x2=\"300\" y1=\"155\" y2=\"195\" /><line stroke=\"rgb(10%,10%,16%)\" stroke-dasharray=\"5 5\" x1=\"300\" x2=\"300\" y1=\"205\" y2=\"245\" /><line stroke=\"rgb(10%,10%,16%)\" stroke-dasharray=\"5 5\" x1=\"400\" x2=\"400\" y1=\"55\" y2=\"95\" /><line stroke=\"rgb(10%,10%,16%)\" stroke-dasharray=\"5 5\" x1=\"400\" x2=\"400\" y1=\"105\" y2=\"145\" /><line stroke=\"rgb(10%,10%,16%)\" stroke-dasharray=\"5 5\" x1=\"400\" x2=\"400\" y1=\"155\" y2=\"195\" /><line stroke=\"rgb(10%,10%,16%)\" stroke-dasharray=\"5 5\" x1=\"400\" x2=\"400\" y1=\"205\" y2=\"245\" /></svg>"
      ],
      "text/plain": [
       "<IPython.core.display.HTML object>"
      ]
     },
     "execution_count": 5,
     "metadata": {},
     "output_type": "execute_result"
    }
   ],
   "source": [
    "gold_path = [(0,4),(1,3),(2,2),(3,1)]\n",
    "cb_gold = cg.draw_cost_breakdown(rows, columns, gold_path)\n",
    "cb_gold"
   ]
  },
  {
   "cell_type": "markdown",
   "metadata": {
    "deletable": true,
    "editable": true,
    "slideshow": {
     "slide_type": "-"
    }
   },
   "source": [
    "<table style=\"font-size:100%; border-style:hidden; border-collapse:collapse; padding:50px; float:left;\">\n",
    "<thead>\n",
    "<tr>\n",
    "<th>timestep</th>\n",
    "<th>label ($\\alpha_t$)</th>\n",
    "<th>features ($\\phi(S_{t-1},\\mathbf{x})$)</th>\n",
    "</tr>\n",
    "</thead>\n",
    "<tbody>\n",
    "<tr>\n",
    "<td> $t=1$ </td>\n",
    "<td><b>Pronoun</b></td>\n",
    "<td>token=I, ...<span class=\"fragment\" data-fragment-index=\"1\">, prev=<b>NULL</b></span></td>\n",
    "</tr>\n",
    "<tr>\n",
    "<td> $t=2$ </td>\n",
    "<td><b>Modal</b></td>\n",
    "<td>token=can, ...<span class=\"fragment\" data-fragment-index=\"1\">, prev=<b>Pronoun</b></span></td>\n",
    "</tr>\n",
    "<tr>\n",
    "<td> $t=3$ </td>\n",
    "<td><b>Verb</b></td>\n",
    "<td>token=fly, ...<span class=\"fragment\" data-fragment-index=\"1\">, prev=<b>Modal</b></span></td>\n",
    "</tr>\n",
    "</tbody>\n",
    "</table>"
   ]
  },
  {
   "cell_type": "markdown",
   "metadata": {
    "deletable": true,
    "editable": true,
    "slideshow": {
     "slide_type": "subslide"
    }
   },
   "source": [
    "### Algorithm\n",
    "\n",
    "<p style=\"border:3px; border-radius: 25px; background-color:lightgrey; border-style:solid; border-color:black; padding: 0.3em; font-size: 80%\">\n",
    "\\begin{align}\n",
    "& \\textbf{Input:} \\; D_{train} = \\{(\\mathbf{x}^1,\\mathbf{y}^1)...(\\mathbf{x}^M,\\mathbf{y}^M)\\}, \\; \\text{expert}\\; \\pi^{\\star}, \\; \\text{classifier} \\; H\\\\\n",
    "& \\text{set training examples}\\; \\cal E = \\emptyset\\\\\n",
    "& \\mathbf{for} \\; (\\mathbf{x},\\mathbf{y}) \\in D_{train} \\; \\mathbf{do}\\\\\n",
    "& \\quad \\text{generate expert trajectory} \\; \\alpha_1^{\\star}\\dots \\alpha_T^{\\star}  = \\pi^{\\star}(\\mathbf{x},\\mathbf{y})\\\\\n",
    "& \\quad \\mathbf{for} \\; \\alpha^{\\star}_t \\in \\alpha_1^{\\star}\\dots \\alpha_T^{\\star} \\; \\mathbf{do}\\\\\n",
    "& \\quad \\quad \\text{extract features}\\; \\mathit{feat}=\\phi(\\mathbf{x},S_{t-1}) \\\\\n",
    "& \\quad \\quad \\cal E = \\cal E \\cup (\\mathit{feat},\\alpha^{\\star}_t)\\\\\n",
    "& \\text{learn} \\; H\\; \\text{from}\\; \\cal E\\\\\n",
    "\\end{align}\n",
    "</p>"
   ]
  },
  {
   "cell_type": "markdown",
   "metadata": {
    "deletable": true,
    "editable": true,
    "slideshow": {
     "slide_type": "slide"
    }
   },
   "source": [
    "### Exposure bias"
   ]
  },
  {
   "cell_type": "code",
   "execution_count": 6,
   "metadata": {
    "collapsed": false,
    "deletable": true,
    "editable": true,
    "slideshow": {
     "slide_type": "-"
    }
   },
   "outputs": [
    {
     "data": {
      "text/html": [
       "\n",
       "        <div id=\"7c68e05c-badf-11e7-88c6-02426d5d0a97\" class=\"carousel\" data-ride=\"carousel\" data-interval=\"false\">\n",
       "          <div class=\"carousel-inner\" role=\"listbox\">\n",
       "          <div class=\"item active\"><svg baseProfile=\"full\" height=\"315.0\" version=\"1.1\" width=\"500\" xmlns=\"http://www.w3.org/2000/svg\" xmlns:ev=\"http://www.w3.org/2001/xml-events\" xmlns:xlink=\"http://www.w3.org/1999/xlink\"><defs><marker id=\"id5\" markerHeight=\"10\" markerWidth=\"10\" orient=\"auto\" refX=\"5\" refY=\"5\"><path d=\"M 0 0 L 10 5 L 0 10 z\" fill=\"blue\" /></marker></defs><text style=\"font-size:25px; font-weight:bold; font-family:Lato\" x=\"0\" y=\"50\">Noun</text><text style=\"font-size:25px; font-weight:bold; font-family:Lato\" x=\"0\" y=\"100\">Verb</text><text style=\"font-size:25px; font-weight:bold; font-family:Lato\" x=\"0\" y=\"150\">Modal</text><text style=\"font-size:25px; font-weight:bold; font-family:Lato\" x=\"0\" y=\"200\">Pronoun</text><text style=\"font-size:25px; font-weight:bold; font-family:Lato\" x=\"0\" y=\"250\">NULL</text><text style=\"font-size:25px; font-family:Lato\" x=\"100\" y=\"300\">NULL</text><text style=\"font-size:25px; font-family:Lato\" x=\"200\" y=\"300\">I</text><text style=\"font-size:25px; font-family:Lato\" x=\"300\" y=\"300\">can</text><text style=\"font-size:25px; font-family:Lato\" x=\"400\" y=\"300\">fly</text><line marker-end=\"url(#id5)\" stroke=\"rgb(10%,10%,16%)\" stroke-width=\"2.5\" x1=\"100\" x2=\"200\" y1=\"250\" y2=\"200\" /><line marker-end=\"url(#id5)\" stroke=\"rgb(10%,10%,16%)\" stroke-width=\"2.5\" x1=\"200\" x2=\"300\" y1=\"200\" y2=\"150\" /><line marker-end=\"url(#id5)\" stroke=\"rgb(10%,10%,16%)\" stroke-width=\"2.5\" x1=\"300\" x2=\"400\" y1=\"150\" y2=\"100\" /><line stroke=\"rgb(10%,10%,16%)\" stroke-dasharray=\"5 5\" x1=\"105\" x2=\"195\" y1=\"50\" y2=\"50\" /><line stroke=\"rgb(10%,10%,16%)\" stroke-dasharray=\"5 5\" x1=\"105\" x2=\"195\" y1=\"100\" y2=\"100\" /><line stroke=\"rgb(10%,10%,16%)\" stroke-dasharray=\"5 5\" x1=\"105\" x2=\"195\" y1=\"150\" y2=\"150\" /><line stroke=\"rgb(10%,10%,16%)\" stroke-dasharray=\"5 5\" x1=\"105\" x2=\"195\" y1=\"200\" y2=\"200\" /><line stroke=\"rgb(10%,10%,16%)\" stroke-dasharray=\"5 5\" x1=\"105\" x2=\"195\" y1=\"250\" y2=\"250\" /><line stroke=\"rgb(10%,10%,16%)\" stroke-dasharray=\"5 5\" x1=\"205\" x2=\"295\" y1=\"50\" y2=\"50\" /><line stroke=\"rgb(10%,10%,16%)\" stroke-dasharray=\"5 5\" x1=\"205\" x2=\"295\" y1=\"100\" y2=\"100\" /><line stroke=\"rgb(10%,10%,16%)\" stroke-dasharray=\"5 5\" x1=\"205\" x2=\"295\" y1=\"150\" y2=\"150\" /><line stroke=\"rgb(10%,10%,16%)\" stroke-dasharray=\"5 5\" x1=\"205\" x2=\"295\" y1=\"200\" y2=\"200\" /><line stroke=\"rgb(10%,10%,16%)\" stroke-dasharray=\"5 5\" x1=\"205\" x2=\"295\" y1=\"250\" y2=\"250\" /><line stroke=\"rgb(10%,10%,16%)\" stroke-dasharray=\"5 5\" x1=\"305\" x2=\"395\" y1=\"50\" y2=\"50\" /><line stroke=\"rgb(10%,10%,16%)\" stroke-dasharray=\"5 5\" x1=\"305\" x2=\"395\" y1=\"100\" y2=\"100\" /><line stroke=\"rgb(10%,10%,16%)\" stroke-dasharray=\"5 5\" x1=\"305\" x2=\"395\" y1=\"150\" y2=\"150\" /><line stroke=\"rgb(10%,10%,16%)\" stroke-dasharray=\"5 5\" x1=\"305\" x2=\"395\" y1=\"200\" y2=\"200\" /><line stroke=\"rgb(10%,10%,16%)\" stroke-dasharray=\"5 5\" x1=\"305\" x2=\"395\" y1=\"250\" y2=\"250\" /><line stroke=\"rgb(10%,10%,16%)\" stroke-dasharray=\"5 5\" x1=\"100\" x2=\"100\" y1=\"55\" y2=\"95\" /><line stroke=\"rgb(10%,10%,16%)\" stroke-dasharray=\"5 5\" x1=\"100\" x2=\"100\" y1=\"105\" y2=\"145\" /><line stroke=\"rgb(10%,10%,16%)\" stroke-dasharray=\"5 5\" x1=\"100\" x2=\"100\" y1=\"155\" y2=\"195\" /><line stroke=\"rgb(10%,10%,16%)\" stroke-dasharray=\"5 5\" x1=\"100\" x2=\"100\" y1=\"205\" y2=\"245\" /><line stroke=\"rgb(10%,10%,16%)\" stroke-dasharray=\"5 5\" x1=\"200\" x2=\"200\" y1=\"55\" y2=\"95\" /><line stroke=\"rgb(10%,10%,16%)\" stroke-dasharray=\"5 5\" x1=\"200\" x2=\"200\" y1=\"105\" y2=\"145\" /><line stroke=\"rgb(10%,10%,16%)\" stroke-dasharray=\"5 5\" x1=\"200\" x2=\"200\" y1=\"155\" y2=\"195\" /><line stroke=\"rgb(10%,10%,16%)\" stroke-dasharray=\"5 5\" x1=\"200\" x2=\"200\" y1=\"205\" y2=\"245\" /><line stroke=\"rgb(10%,10%,16%)\" stroke-dasharray=\"5 5\" x1=\"300\" x2=\"300\" y1=\"55\" y2=\"95\" /><line stroke=\"rgb(10%,10%,16%)\" stroke-dasharray=\"5 5\" x1=\"300\" x2=\"300\" y1=\"105\" y2=\"145\" /><line stroke=\"rgb(10%,10%,16%)\" stroke-dasharray=\"5 5\" x1=\"300\" x2=\"300\" y1=\"155\" y2=\"195\" /><line stroke=\"rgb(10%,10%,16%)\" stroke-dasharray=\"5 5\" x1=\"300\" x2=\"300\" y1=\"205\" y2=\"245\" /><line stroke=\"rgb(10%,10%,16%)\" stroke-dasharray=\"5 5\" x1=\"400\" x2=\"400\" y1=\"55\" y2=\"95\" /><line stroke=\"rgb(10%,10%,16%)\" stroke-dasharray=\"5 5\" x1=\"400\" x2=\"400\" y1=\"105\" y2=\"145\" /><line stroke=\"rgb(10%,10%,16%)\" stroke-dasharray=\"5 5\" x1=\"400\" x2=\"400\" y1=\"155\" y2=\"195\" /><line stroke=\"rgb(10%,10%,16%)\" stroke-dasharray=\"5 5\" x1=\"400\" x2=\"400\" y1=\"205\" y2=\"245\" /></svg></div>\n",
       "<div class=\"item\"><svg baseProfile=\"full\" height=\"315.0\" version=\"1.1\" width=\"500\" xmlns=\"http://www.w3.org/2000/svg\" xmlns:ev=\"http://www.w3.org/2001/xml-events\" xmlns:xlink=\"http://www.w3.org/1999/xlink\"><defs><marker id=\"id6\" markerHeight=\"10\" markerWidth=\"10\" orient=\"auto\" refX=\"5\" refY=\"5\"><path d=\"M 0 0 L 10 5 L 0 10 z\" fill=\"blue\" /></marker></defs><text style=\"font-size:25px; font-weight:bold; font-family:Lato\" x=\"0\" y=\"50\">Noun</text><text style=\"font-size:25px; font-weight:bold; font-family:Lato\" x=\"0\" y=\"100\">Verb</text><text style=\"font-size:25px; font-weight:bold; font-family:Lato\" x=\"0\" y=\"150\">Modal</text><text style=\"font-size:25px; font-weight:bold; font-family:Lato\" x=\"0\" y=\"200\">Pronoun</text><text style=\"font-size:25px; font-weight:bold; font-family:Lato\" x=\"0\" y=\"250\">NULL</text><text style=\"font-size:25px; font-family:Lato\" x=\"100\" y=\"300\">NULL</text><text style=\"font-size:25px; font-family:Lato\" x=\"200\" y=\"300\">I</text><text style=\"font-size:25px; font-family:Lato\" x=\"300\" y=\"300\">can</text><text style=\"font-size:25px; font-family:Lato\" x=\"400\" y=\"300\">fly</text><line marker-end=\"url(#id6)\" stroke=\"rgb(10%,10%,16%)\" stroke-width=\"2.5\" x1=\"100\" x2=\"200\" y1=\"250\" y2=\"200\" /><line marker-end=\"url(#id6)\" stroke=\"rgb(10%,10%,16%)\" stroke-width=\"2.5\" x1=\"200\" x2=\"300\" y1=\"200\" y2=\"100\" /><line stroke=\"rgb(10%,10%,16%)\" stroke-dasharray=\"5 5\" x1=\"105\" x2=\"195\" y1=\"50\" y2=\"50\" /><line stroke=\"rgb(10%,10%,16%)\" stroke-dasharray=\"5 5\" x1=\"105\" x2=\"195\" y1=\"100\" y2=\"100\" /><line stroke=\"rgb(10%,10%,16%)\" stroke-dasharray=\"5 5\" x1=\"105\" x2=\"195\" y1=\"150\" y2=\"150\" /><line stroke=\"rgb(10%,10%,16%)\" stroke-dasharray=\"5 5\" x1=\"105\" x2=\"195\" y1=\"200\" y2=\"200\" /><line stroke=\"rgb(10%,10%,16%)\" stroke-dasharray=\"5 5\" x1=\"105\" x2=\"195\" y1=\"250\" y2=\"250\" /><line stroke=\"rgb(10%,10%,16%)\" stroke-dasharray=\"5 5\" x1=\"205\" x2=\"295\" y1=\"50\" y2=\"50\" /><line stroke=\"rgb(10%,10%,16%)\" stroke-dasharray=\"5 5\" x1=\"205\" x2=\"295\" y1=\"100\" y2=\"100\" /><line stroke=\"rgb(10%,10%,16%)\" stroke-dasharray=\"5 5\" x1=\"205\" x2=\"295\" y1=\"150\" y2=\"150\" /><line stroke=\"rgb(10%,10%,16%)\" stroke-dasharray=\"5 5\" x1=\"205\" x2=\"295\" y1=\"200\" y2=\"200\" /><line stroke=\"rgb(10%,10%,16%)\" stroke-dasharray=\"5 5\" x1=\"205\" x2=\"295\" y1=\"250\" y2=\"250\" /><line stroke=\"rgb(10%,10%,16%)\" stroke-dasharray=\"5 5\" x1=\"305\" x2=\"395\" y1=\"50\" y2=\"50\" /><line stroke=\"rgb(10%,10%,16%)\" stroke-dasharray=\"5 5\" x1=\"305\" x2=\"395\" y1=\"100\" y2=\"100\" /><line stroke=\"rgb(10%,10%,16%)\" stroke-dasharray=\"5 5\" x1=\"305\" x2=\"395\" y1=\"150\" y2=\"150\" /><line stroke=\"rgb(10%,10%,16%)\" stroke-dasharray=\"5 5\" x1=\"305\" x2=\"395\" y1=\"200\" y2=\"200\" /><line stroke=\"rgb(10%,10%,16%)\" stroke-dasharray=\"5 5\" x1=\"305\" x2=\"395\" y1=\"250\" y2=\"250\" /><line stroke=\"rgb(10%,10%,16%)\" stroke-dasharray=\"5 5\" x1=\"100\" x2=\"100\" y1=\"55\" y2=\"95\" /><line stroke=\"rgb(10%,10%,16%)\" stroke-dasharray=\"5 5\" x1=\"100\" x2=\"100\" y1=\"105\" y2=\"145\" /><line stroke=\"rgb(10%,10%,16%)\" stroke-dasharray=\"5 5\" x1=\"100\" x2=\"100\" y1=\"155\" y2=\"195\" /><line stroke=\"rgb(10%,10%,16%)\" stroke-dasharray=\"5 5\" x1=\"100\" x2=\"100\" y1=\"205\" y2=\"245\" /><line stroke=\"rgb(10%,10%,16%)\" stroke-dasharray=\"5 5\" x1=\"200\" x2=\"200\" y1=\"55\" y2=\"95\" /><line stroke=\"rgb(10%,10%,16%)\" stroke-dasharray=\"5 5\" x1=\"200\" x2=\"200\" y1=\"105\" y2=\"145\" /><line stroke=\"rgb(10%,10%,16%)\" stroke-dasharray=\"5 5\" x1=\"200\" x2=\"200\" y1=\"155\" y2=\"195\" /><line stroke=\"rgb(10%,10%,16%)\" stroke-dasharray=\"5 5\" x1=\"200\" x2=\"200\" y1=\"205\" y2=\"245\" /><line stroke=\"rgb(10%,10%,16%)\" stroke-dasharray=\"5 5\" x1=\"300\" x2=\"300\" y1=\"55\" y2=\"95\" /><line stroke=\"rgb(10%,10%,16%)\" stroke-dasharray=\"5 5\" x1=\"300\" x2=\"300\" y1=\"105\" y2=\"145\" /><line stroke=\"rgb(10%,10%,16%)\" stroke-dasharray=\"5 5\" x1=\"300\" x2=\"300\" y1=\"155\" y2=\"195\" /><line stroke=\"rgb(10%,10%,16%)\" stroke-dasharray=\"5 5\" x1=\"300\" x2=\"300\" y1=\"205\" y2=\"245\" /><line stroke=\"rgb(10%,10%,16%)\" stroke-dasharray=\"5 5\" x1=\"400\" x2=\"400\" y1=\"55\" y2=\"95\" /><line stroke=\"rgb(10%,10%,16%)\" stroke-dasharray=\"5 5\" x1=\"400\" x2=\"400\" y1=\"105\" y2=\"145\" /><line stroke=\"rgb(10%,10%,16%)\" stroke-dasharray=\"5 5\" x1=\"400\" x2=\"400\" y1=\"155\" y2=\"195\" /><line stroke=\"rgb(10%,10%,16%)\" stroke-dasharray=\"5 5\" x1=\"400\" x2=\"400\" y1=\"205\" y2=\"245\" /></svg></div>\n",
       "          </div>\n",
       "          <!-- Controls -->\n",
       "          <a href=\"#7c68e05c-badf-11e7-88c6-02426d5d0a97\" role=\"button2\" data-slide=\"prev\">Previous</a>\n",
       "          &nbsp\n",
       "          <a  href=\"#7c68e05c-badf-11e7-88c6-02426d5d0a97\" role=\"button2\" data-slide=\"next\">Next</a>\n",
       "        </div>\n",
       "        "
      ],
      "text/plain": [
       "<il_tutorial.util.Carousel at 0x7fdfb4538780>"
      ]
     },
     "execution_count": 6,
     "metadata": {},
     "output_type": "execute_result"
    }
   ],
   "source": [
    "wrong_path = [(0,4),(1,3),(2,1)]\n",
    "cb_wrong = cg.draw_cost_breakdown(rows, columns, wrong_path)\n",
    "util.Carousel([cb_gold, cb_wrong])"
   ]
  },
  {
   "cell_type": "markdown",
   "metadata": {
    "deletable": true,
    "editable": true,
    "slideshow": {
     "slide_type": "fragment"
    }
   },
   "source": [
    "<p style=\"float: left; font-size: 80%\">We had seen: &nbsp;&nbsp; \n",
    "<table style=\"float: left; border-style: hidden; border-collapse: collapse; font-size: 80%\">\n",
    "<thead>\n",
    "<tr>\n",
    "<th>timestep</th>\n",
    "<th>label</th>\n",
    "<th>features</th>\n",
    "</tr>\n",
    "</thead>\n",
    "<tbody>\n",
    "<tr>\n",
    "<td>t=3</td>\n",
    "<td><b>Verb</b></td>\n",
    "<td>token=fly,..., prev=<b>Modal</b></td>\n",
    "</tr>\n",
    "</tbody>\n",
    "</table>\n",
    "</p>"
   ]
  },
  {
   "cell_type": "markdown",
   "metadata": {
    "deletable": true,
    "editable": true,
    "slideshow": {
     "slide_type": "fragment"
    }
   },
   "source": [
    "<p style=\"float: left; font-size: 80%\">but not: &nbsp;&nbsp;\n",
    "<table style=\"float: left; border-style: hidden; border-collapse: collapse; font-size: 80%\">\n",
    "<thead>\n",
    "<tr>\n",
    "<th>timestep</th>\n",
    "<th>label</th>\n",
    "<th>features</th>\n",
    "</tr>\n",
    "</thead>\n",
    "<tbody>\n",
    "<tr>\n",
    "<td>t=3</td>\n",
    "<td><b>Verb</b></td>\n",
    "<td>token=fly,..., <span style=\"color:red\">prev=<b>Verb</b></span></td>\n",
    "</tr>\n",
    "</tbody>\n",
    "</table></p>"
   ]
  },
  {
   "cell_type": "markdown",
   "metadata": {
    "deletable": true,
    "editable": true,
    "slideshow": {
     "slide_type": "subslide"
    }
   },
   "source": [
    "### Addressing exposure with Rollins\n",
    "\n",
    "<p style=\"float: left;\">Allow the classifier to guide the learning<br></p>  <a href=\"https://www.pinterest.com/explore/affordable-driving-school/\"><img src=\"images/driving_mix.jpg\" style=\"width:35%; float: right;\"></a>"
   ]
  },
  {
   "cell_type": "markdown",
   "metadata": {
    "deletable": true,
    "editable": true,
    "slideshow": {
     "slide_type": "fragment"
    }
   },
   "source": [
    "Define a **rollin** policy that sometimes uses the expert $\\pi^{\\star}$ and other times the classifier $H$:\n",
    "\n",
    "$$\\pi^{in} = \\beta\\pi^{\\star} + (1-\\beta)H$$"
   ]
  },
  {
   "cell_type": "markdown",
   "metadata": {
    "deletable": true,
    "editable": true,
    "slideshow": {
     "slide_type": "slide"
    }
   },
   "source": [
    "### DAgger algorithm\n",
    "\n",
    "<p style=\"border:3px; border-radius: 25px; background-color:lightgrey; border-style:solid; border-color:black; padding: 0.3em; font-size: 80%\">\n",
    "\\begin{align}\n",
    "& \\textbf{Input:} \\; D_{train} = \\{(\\mathbf{x}^1,\\mathbf{y}^1)...(\\mathbf{x}^M,\\mathbf{y}^M)\\}, \\; \\text{expert}\\; \\pi^{\\star}, \\; \\text{classifier} \\; H\\\\\n",
    "& \\text{set training examples}\\; \\cal E = \\emptyset ,\\; \\color{red}{\\pi^{\\star}\\; \\mathrm{probability}\\; \\beta=1}\\\\\n",
    "& \\mathbf{while}\\; \\text{termination condition not reached}\\; \\mathbf{do}\\\\\n",
    "& \\quad \\color{red}{\\text{set rollin policy} \\; \\pi^{in} = \\beta\\pi^{\\star} + (1-\\beta)H}\\\\\n",
    "& \\quad \\mathbf{for} \\; (\\mathbf{x},\\mathbf{y}) \\in D_{train} \\; \\mathbf{do}\\\\\n",
    "& \\quad \\quad \\color{red}{\\text{generate trajectory} \\; \\hat \\alpha_1\\dots\\hat \\alpha_T  = \\pi^{in}(\\mathbf{x},\\mathbf{y})}\\\\\n",
    "& \\quad \\quad \\mathbf{for} \\; \\hat \\alpha_t \\in \\hat \\alpha_1\\dots\\hat \\alpha_T \\; \\mathbf{do}\\\\\n",
    "& \\quad \\quad \\quad \\color{red}{\\text{ask expert for best action}\\; \\alpha^{\\star} = \\pi^{\\star}(\\mathbf{x}, \\mathbf{y},S_{t-1})} \\\\\n",
    "& \\quad \\quad \\quad \\text{extract features} \\; \\mathit{feat}=\\phi(\\mathbf{x},S_{t-1}) \\\\\n",
    "& \\quad \\quad \\quad \\cal E = \\cal E \\cup (\\mathit{feat},\\alpha^{\\star})\\\\\n",
    "& \\quad \\text{learn}\\; H \\; \\text{from}\\; \\cal E\\\\\n",
    "& \\quad \\color{red}{\\text{decrease} \\; \\beta}\\\\\n",
    "\\end{align}\n",
    "</p>"
   ]
  },
  {
   "cell_type": "markdown",
   "metadata": {
    "deletable": true,
    "editable": true,
    "slideshow": {
     "slide_type": "subslide"
    }
   },
   "source": [
    "### DAgger algorithm ([Ross et al., 2011](http://www.cs.cmu.edu/~sross1/publications/Ross-AIStats11-NoRegret.pdf))\n",
    "\n",
    "- first iteration is standard classification training\n",
    "- subsequent ones generate training examples from non-expert trajectories\n",
    "- task loss is implicitly considered via the expert\n",
    "- DAgger: the Datasets in each iteration are Aggregated"
   ]
  },
  {
   "cell_type": "markdown",
   "metadata": {
    "deletable": true,
    "editable": true,
    "slideshow": {
     "slide_type": "fragment"
    }
   },
   "source": [
    "**rollins** help recover from previous mistakes. How do we learn the future impact of a mistake?"
   ]
  },
  {
   "cell_type": "markdown",
   "metadata": {
    "deletable": true,
    "editable": true,
    "slideshow": {
     "slide_type": "fragment"
    }
   },
   "source": [
    "**rollout**: try each action available and see what happens when future actions are taken by mixing the classifier and the expert"
   ]
  },
  {
   "cell_type": "markdown",
   "metadata": {
    "deletable": true,
    "editable": true,
    "slideshow": {
     "slide_type": "slide"
    }
   },
   "source": [
    "### Training labels as costs"
   ]
  },
  {
   "cell_type": "code",
   "execution_count": 15,
   "metadata": {
    "collapsed": false,
    "deletable": true,
    "editable": true,
    "slideshow": {
     "slide_type": "-"
    }
   },
   "outputs": [
    {
     "data": {
      "text/html": [
       "<svg baseProfile=\"full\" height=\"315.0\" version=\"1.1\" width=\"500\" xmlns=\"http://www.w3.org/2000/svg\" xmlns:ev=\"http://www.w3.org/2001/xml-events\" xmlns:xlink=\"http://www.w3.org/1999/xlink\"><defs><marker id=\"id21\" markerHeight=\"10\" markerWidth=\"10\" orient=\"auto\" refX=\"5\" refY=\"5\"><path d=\"M 0 0 L 10 5 L 0 10 z\" fill=\"blue\" /></marker></defs><text style=\"font-size:25px; font-weight:bold; font-family:Lato\" x=\"0\" y=\"50\">Noun</text><text style=\"font-size:25px; font-weight:bold; font-family:Lato\" x=\"0\" y=\"100\">Verb</text><text style=\"font-size:25px; font-weight:bold; font-family:Lato\" x=\"0\" y=\"150\">Modal</text><text style=\"font-size:25px; font-weight:bold; font-family:Lato\" x=\"0\" y=\"200\">Pronoun</text><text style=\"font-size:25px; font-weight:bold; font-family:Lato\" x=\"0\" y=\"250\">NULL</text><text style=\"font-size:25px; font-family:Lato\" x=\"100\" y=\"300\">NULL</text><text style=\"font-size:25px; font-family:Lato\" x=\"200\" y=\"300\">I</text><text style=\"font-size:25px; font-family:Lato\" x=\"300\" y=\"300\">can</text><text style=\"font-size:25px; font-family:Lato\" x=\"400\" y=\"300\">fly</text><line marker-end=\"url(#id21)\" stroke=\"rgb(10%,10%,16%)\" stroke-width=\"2.5\" x1=\"100\" x2=\"200\" y1=\"250\" y2=\"200\" /><line marker-end=\"url(#id21)\" stroke=\"rgb(10%,10%,16%)\" stroke-width=\"2.5\" x1=\"200\" x2=\"300\" y1=\"200\" y2=\"150\" /><line marker-end=\"url(#id21)\" stroke=\"rgb(10%,10%,16%)\" stroke-width=\"2.5\" x1=\"300\" x2=\"400\" y1=\"150\" y2=\"100\" /><line stroke=\"rgb(10%,10%,16%)\" stroke-dasharray=\"5 5\" x1=\"105\" x2=\"195\" y1=\"50\" y2=\"50\" /><line stroke=\"rgb(10%,10%,16%)\" stroke-dasharray=\"5 5\" x1=\"105\" x2=\"195\" y1=\"100\" y2=\"100\" /><line stroke=\"rgb(10%,10%,16%)\" stroke-dasharray=\"5 5\" x1=\"105\" x2=\"195\" y1=\"150\" y2=\"150\" /><line stroke=\"rgb(10%,10%,16%)\" stroke-dasharray=\"5 5\" x1=\"105\" x2=\"195\" y1=\"200\" y2=\"200\" /><line stroke=\"rgb(10%,10%,16%)\" stroke-dasharray=\"5 5\" x1=\"105\" x2=\"195\" y1=\"250\" y2=\"250\" /><line stroke=\"rgb(10%,10%,16%)\" stroke-dasharray=\"5 5\" x1=\"205\" x2=\"295\" y1=\"50\" y2=\"50\" /><line stroke=\"rgb(10%,10%,16%)\" stroke-dasharray=\"5 5\" x1=\"205\" x2=\"295\" y1=\"100\" y2=\"100\" /><line stroke=\"rgb(10%,10%,16%)\" stroke-dasharray=\"5 5\" x1=\"205\" x2=\"295\" y1=\"150\" y2=\"150\" /><line stroke=\"rgb(10%,10%,16%)\" stroke-dasharray=\"5 5\" x1=\"205\" x2=\"295\" y1=\"200\" y2=\"200\" /><line stroke=\"rgb(10%,10%,16%)\" stroke-dasharray=\"5 5\" x1=\"205\" x2=\"295\" y1=\"250\" y2=\"250\" /><line stroke=\"rgb(10%,10%,16%)\" stroke-dasharray=\"5 5\" x1=\"305\" x2=\"395\" y1=\"50\" y2=\"50\" /><line stroke=\"rgb(10%,10%,16%)\" stroke-dasharray=\"5 5\" x1=\"305\" x2=\"395\" y1=\"100\" y2=\"100\" /><line stroke=\"rgb(10%,10%,16%)\" stroke-dasharray=\"5 5\" x1=\"305\" x2=\"395\" y1=\"150\" y2=\"150\" /><line stroke=\"rgb(10%,10%,16%)\" stroke-dasharray=\"5 5\" x1=\"305\" x2=\"395\" y1=\"200\" y2=\"200\" /><line stroke=\"rgb(10%,10%,16%)\" stroke-dasharray=\"5 5\" x1=\"305\" x2=\"395\" y1=\"250\" y2=\"250\" /><line stroke=\"rgb(10%,10%,16%)\" stroke-dasharray=\"5 5\" x1=\"100\" x2=\"100\" y1=\"55\" y2=\"95\" /><line stroke=\"rgb(10%,10%,16%)\" stroke-dasharray=\"5 5\" x1=\"100\" x2=\"100\" y1=\"105\" y2=\"145\" /><line stroke=\"rgb(10%,10%,16%)\" stroke-dasharray=\"5 5\" x1=\"100\" x2=\"100\" y1=\"155\" y2=\"195\" /><line stroke=\"rgb(10%,10%,16%)\" stroke-dasharray=\"5 5\" x1=\"100\" x2=\"100\" y1=\"205\" y2=\"245\" /><line stroke=\"rgb(10%,10%,16%)\" stroke-dasharray=\"5 5\" x1=\"200\" x2=\"200\" y1=\"55\" y2=\"95\" /><line stroke=\"rgb(10%,10%,16%)\" stroke-dasharray=\"5 5\" x1=\"200\" x2=\"200\" y1=\"105\" y2=\"145\" /><line stroke=\"rgb(10%,10%,16%)\" stroke-dasharray=\"5 5\" x1=\"200\" x2=\"200\" y1=\"155\" y2=\"195\" /><line stroke=\"rgb(10%,10%,16%)\" stroke-dasharray=\"5 5\" x1=\"200\" x2=\"200\" y1=\"205\" y2=\"245\" /><line stroke=\"rgb(10%,10%,16%)\" stroke-dasharray=\"5 5\" x1=\"300\" x2=\"300\" y1=\"55\" y2=\"95\" /><line stroke=\"rgb(10%,10%,16%)\" stroke-dasharray=\"5 5\" x1=\"300\" x2=\"300\" y1=\"105\" y2=\"145\" /><line stroke=\"rgb(10%,10%,16%)\" stroke-dasharray=\"5 5\" x1=\"300\" x2=\"300\" y1=\"155\" y2=\"195\" /><line stroke=\"rgb(10%,10%,16%)\" stroke-dasharray=\"5 5\" x1=\"300\" x2=\"300\" y1=\"205\" y2=\"245\" /><line stroke=\"rgb(10%,10%,16%)\" stroke-dasharray=\"5 5\" x1=\"400\" x2=\"400\" y1=\"55\" y2=\"95\" /><line stroke=\"rgb(10%,10%,16%)\" stroke-dasharray=\"5 5\" x1=\"400\" x2=\"400\" y1=\"105\" y2=\"145\" /><line stroke=\"rgb(10%,10%,16%)\" stroke-dasharray=\"5 5\" x1=\"400\" x2=\"400\" y1=\"155\" y2=\"195\" /><line stroke=\"rgb(10%,10%,16%)\" stroke-dasharray=\"5 5\" x1=\"400\" x2=\"400\" y1=\"205\" y2=\"245\" /></svg>"
      ],
      "text/plain": [
       "<IPython.core.display.HTML object>"
      ]
     },
     "execution_count": 15,
     "metadata": {},
     "output_type": "execute_result"
    }
   ],
   "source": [
    "gold_path = [(0,4),(1,3),(2,2),(3,1)]\n",
    "cb_gold = cg.draw_cost_breakdown(rows, columns, gold_path)\n",
    "cb_gold"
   ]
  },
  {
   "cell_type": "markdown",
   "metadata": {
    "deletable": true,
    "editable": true,
    "slideshow": {
     "slide_type": "-"
    }
   },
   "source": [
    "<table style=\"float: left; border-style: hidden; border-collapse: collapse; float:left;\">\n",
    "<thead>\n",
    "<tr>\n",
    "<th>timestep</th>\n",
    "<th><b>Pronoun</b></th>\n",
    "<th><b>Modal</b></th>\n",
    "<th><b>Verb</b></th>\n",
    "<th><b>Noun</b></th>\n",
    "<th>features</th>\n",
    "</tr>\n",
    "</thead>\n",
    "<tbody>\n",
    "<tr>\n",
    "<td>t=1</td>\n",
    "<td>0</td>\n",
    "<td>1</td>\n",
    "<td>1</td>\n",
    "<td>1</td>\n",
    "<td>token=I, prev=<b>NULL</b>...</td>\n",
    "</tr>\n",
    "<tr>\n",
    "<td>t=2</td>\n",
    "<td>1</td>\n",
    "<td>0</td>\n",
    "<td>1</td>\n",
    "<td>1</td>\n",
    "<td>token=can, prev=<b>Pronoun</b>...</td>\n",
    "</tr>\n",
    "<tr>\n",
    "<td>t=3</td>\n",
    "<td>1</td>\n",
    "<td>1</td>\n",
    "<td>0</td>\n",
    "<td>1</td>\n",
    "<td>token=fly, prev=<b>Modal</b>...</td>\n",
    "</tr>\n",
    "</tbody>\n",
    "</table>"
   ]
  },
  {
   "cell_type": "markdown",
   "metadata": {
    "deletable": true,
    "editable": true,
    "slideshow": {
     "slide_type": "subslide"
    }
   },
   "source": [
    "<h3>Cost break down</h3>"
   ]
  },
  {
   "cell_type": "code",
   "execution_count": 16,
   "metadata": {
    "collapsed": false,
    "deletable": true,
    "editable": true,
    "slideshow": {
     "slide_type": "-"
    }
   },
   "outputs": [
    {
     "data": {
      "text/html": [
       "\n",
       "        <div id=\"64ce1738-bb10-11e7-88c6-02426d5d0a97\" class=\"carousel\" data-ride=\"carousel\" data-interval=\"false\">\n",
       "          <div class=\"carousel-inner\" role=\"listbox\">\n",
       "          <div class=\"item active\"><svg baseProfile=\"full\" height=\"315.0\" version=\"1.1\" width=\"500\" xmlns=\"http://www.w3.org/2000/svg\" xmlns:ev=\"http://www.w3.org/2001/xml-events\" xmlns:xlink=\"http://www.w3.org/1999/xlink\"><defs><marker id=\"id22\" markerHeight=\"10\" markerWidth=\"10\" orient=\"auto\" refX=\"5\" refY=\"5\"><path d=\"M 0 0 L 10 5 L 0 10 z\" fill=\"blue\" /></marker></defs><text style=\"font-size:25px; font-weight:bold; font-family:Lato\" x=\"0\" y=\"50\">Noun</text><text style=\"font-size:25px; font-weight:bold; font-family:Lato\" x=\"0\" y=\"100\">Verb</text><text style=\"font-size:25px; font-weight:bold; font-family:Lato\" x=\"0\" y=\"150\">Modal</text><text style=\"font-size:25px; font-weight:bold; font-family:Lato\" x=\"0\" y=\"200\">Pronoun</text><text style=\"font-size:25px; font-weight:bold; font-family:Lato\" x=\"0\" y=\"250\">NULL</text><text style=\"font-size:25px; font-family:Lato\" x=\"100\" y=\"300\">NULL</text><text style=\"font-size:25px; font-family:Lato\" x=\"200\" y=\"300\">I</text><text style=\"font-size:25px; font-family:Lato\" x=\"300\" y=\"300\">can</text><text style=\"font-size:25px; font-family:Lato\" x=\"400\" y=\"300\">fly</text><line marker-end=\"url(#id22)\" stroke=\"rgb(10%,10%,16%)\" stroke-width=\"2.5\" x1=\"100\" x2=\"200\" y1=\"250\" y2=\"200\" /><text style=\"font-size:25px; font-weight:bold; font-family:Lato\" x=\"185\" y=\"185\">rollin</text><line stroke=\"rgb(10%,10%,16%)\" stroke-dasharray=\"5 5\" x1=\"105\" x2=\"195\" y1=\"50\" y2=\"50\" /><line stroke=\"rgb(10%,10%,16%)\" stroke-dasharray=\"5 5\" x1=\"105\" x2=\"195\" y1=\"100\" y2=\"100\" /><line stroke=\"rgb(10%,10%,16%)\" stroke-dasharray=\"5 5\" x1=\"105\" x2=\"195\" y1=\"150\" y2=\"150\" /><line stroke=\"rgb(10%,10%,16%)\" stroke-dasharray=\"5 5\" x1=\"105\" x2=\"195\" y1=\"200\" y2=\"200\" /><line stroke=\"rgb(10%,10%,16%)\" stroke-dasharray=\"5 5\" x1=\"105\" x2=\"195\" y1=\"250\" y2=\"250\" /><line stroke=\"rgb(10%,10%,16%)\" stroke-dasharray=\"5 5\" x1=\"205\" x2=\"295\" y1=\"50\" y2=\"50\" /><line stroke=\"rgb(10%,10%,16%)\" stroke-dasharray=\"5 5\" x1=\"205\" x2=\"295\" y1=\"100\" y2=\"100\" /><line stroke=\"rgb(10%,10%,16%)\" stroke-dasharray=\"5 5\" x1=\"205\" x2=\"295\" y1=\"150\" y2=\"150\" /><line stroke=\"rgb(10%,10%,16%)\" stroke-dasharray=\"5 5\" x1=\"205\" x2=\"295\" y1=\"200\" y2=\"200\" /><line stroke=\"rgb(10%,10%,16%)\" stroke-dasharray=\"5 5\" x1=\"205\" x2=\"295\" y1=\"250\" y2=\"250\" /><line stroke=\"rgb(10%,10%,16%)\" stroke-dasharray=\"5 5\" x1=\"305\" x2=\"395\" y1=\"50\" y2=\"50\" /><line stroke=\"rgb(10%,10%,16%)\" stroke-dasharray=\"5 5\" x1=\"305\" x2=\"395\" y1=\"100\" y2=\"100\" /><line stroke=\"rgb(10%,10%,16%)\" stroke-dasharray=\"5 5\" x1=\"305\" x2=\"395\" y1=\"150\" y2=\"150\" /><line stroke=\"rgb(10%,10%,16%)\" stroke-dasharray=\"5 5\" x1=\"305\" x2=\"395\" y1=\"200\" y2=\"200\" /><line stroke=\"rgb(10%,10%,16%)\" stroke-dasharray=\"5 5\" x1=\"305\" x2=\"395\" y1=\"250\" y2=\"250\" /><line stroke=\"rgb(10%,10%,16%)\" stroke-dasharray=\"5 5\" x1=\"100\" x2=\"100\" y1=\"55\" y2=\"95\" /><line stroke=\"rgb(10%,10%,16%)\" stroke-dasharray=\"5 5\" x1=\"100\" x2=\"100\" y1=\"105\" y2=\"145\" /><line stroke=\"rgb(10%,10%,16%)\" stroke-dasharray=\"5 5\" x1=\"100\" x2=\"100\" y1=\"155\" y2=\"195\" /><line stroke=\"rgb(10%,10%,16%)\" stroke-dasharray=\"5 5\" x1=\"100\" x2=\"100\" y1=\"205\" y2=\"245\" /><line stroke=\"rgb(10%,10%,16%)\" stroke-dasharray=\"5 5\" x1=\"200\" x2=\"200\" y1=\"55\" y2=\"95\" /><line stroke=\"rgb(10%,10%,16%)\" stroke-dasharray=\"5 5\" x1=\"200\" x2=\"200\" y1=\"105\" y2=\"145\" /><line stroke=\"rgb(10%,10%,16%)\" stroke-dasharray=\"5 5\" x1=\"200\" x2=\"200\" y1=\"155\" y2=\"195\" /><line stroke=\"rgb(10%,10%,16%)\" stroke-dasharray=\"5 5\" x1=\"200\" x2=\"200\" y1=\"205\" y2=\"245\" /><line stroke=\"rgb(10%,10%,16%)\" stroke-dasharray=\"5 5\" x1=\"300\" x2=\"300\" y1=\"55\" y2=\"95\" /><line stroke=\"rgb(10%,10%,16%)\" stroke-dasharray=\"5 5\" x1=\"300\" x2=\"300\" y1=\"105\" y2=\"145\" /><line stroke=\"rgb(10%,10%,16%)\" stroke-dasharray=\"5 5\" x1=\"300\" x2=\"300\" y1=\"155\" y2=\"195\" /><line stroke=\"rgb(10%,10%,16%)\" stroke-dasharray=\"5 5\" x1=\"300\" x2=\"300\" y1=\"205\" y2=\"245\" /><line stroke=\"rgb(10%,10%,16%)\" stroke-dasharray=\"5 5\" x1=\"400\" x2=\"400\" y1=\"55\" y2=\"95\" /><line stroke=\"rgb(10%,10%,16%)\" stroke-dasharray=\"5 5\" x1=\"400\" x2=\"400\" y1=\"105\" y2=\"145\" /><line stroke=\"rgb(10%,10%,16%)\" stroke-dasharray=\"5 5\" x1=\"400\" x2=\"400\" y1=\"155\" y2=\"195\" /><line stroke=\"rgb(10%,10%,16%)\" stroke-dasharray=\"5 5\" x1=\"400\" x2=\"400\" y1=\"205\" y2=\"245\" /></svg></div>\n",
       "<div class=\"item\"><svg baseProfile=\"full\" height=\"315.0\" version=\"1.1\" width=\"500\" xmlns=\"http://www.w3.org/2000/svg\" xmlns:ev=\"http://www.w3.org/2001/xml-events\" xmlns:xlink=\"http://www.w3.org/1999/xlink\"><defs><marker id=\"id23\" markerHeight=\"10\" markerWidth=\"10\" orient=\"auto\" refX=\"5\" refY=\"5\"><path d=\"M 0 0 L 10 5 L 0 10 z\" fill=\"blue\" /></marker></defs><text style=\"font-size:25px; font-weight:bold; font-family:Lato\" x=\"0\" y=\"50\">Noun</text><text style=\"font-size:25px; font-weight:bold; font-family:Lato\" x=\"0\" y=\"100\">Verb</text><text style=\"font-size:25px; font-weight:bold; font-family:Lato\" x=\"0\" y=\"150\">Modal</text><text style=\"font-size:25px; font-weight:bold; font-family:Lato\" x=\"0\" y=\"200\">Pronoun</text><text style=\"font-size:25px; font-weight:bold; font-family:Lato\" x=\"0\" y=\"250\">NULL</text><text style=\"font-size:25px; font-family:Lato\" x=\"100\" y=\"300\">NULL</text><text style=\"font-size:25px; font-family:Lato\" x=\"200\" y=\"300\">I</text><text style=\"font-size:25px; font-family:Lato\" x=\"300\" y=\"300\">can</text><text style=\"font-size:25px; font-family:Lato\" x=\"400\" y=\"300\">fly</text><line marker-end=\"url(#id23)\" stroke=\"rgb(10%,10%,16%)\" stroke-width=\"2.5\" x1=\"100\" x2=\"200\" y1=\"250\" y2=\"200\" /><line marker-end=\"url(#id23)\" stroke=\"rgb(10%,10%,16%)\" stroke-width=\"2.5\" x1=\"200\" x2=\"300\" y1=\"200\" y2=\"50\" /><text style=\"font-size:25px; font-weight:bold; font-family:Lato\" x=\"185\" y=\"185\">rollin</text><text style=\"font-size:25px; font-weight:bold; font-family:Lato\" x=\"285\" y=\"35\">explore</text><line stroke=\"rgb(10%,10%,16%)\" stroke-dasharray=\"5 5\" x1=\"105\" x2=\"195\" y1=\"50\" y2=\"50\" /><line stroke=\"rgb(10%,10%,16%)\" stroke-dasharray=\"5 5\" x1=\"105\" x2=\"195\" y1=\"100\" y2=\"100\" /><line stroke=\"rgb(10%,10%,16%)\" stroke-dasharray=\"5 5\" x1=\"105\" x2=\"195\" y1=\"150\" y2=\"150\" /><line stroke=\"rgb(10%,10%,16%)\" stroke-dasharray=\"5 5\" x1=\"105\" x2=\"195\" y1=\"200\" y2=\"200\" /><line stroke=\"rgb(10%,10%,16%)\" stroke-dasharray=\"5 5\" x1=\"105\" x2=\"195\" y1=\"250\" y2=\"250\" /><line stroke=\"rgb(10%,10%,16%)\" stroke-dasharray=\"5 5\" x1=\"205\" x2=\"295\" y1=\"50\" y2=\"50\" /><line stroke=\"rgb(10%,10%,16%)\" stroke-dasharray=\"5 5\" x1=\"205\" x2=\"295\" y1=\"100\" y2=\"100\" /><line stroke=\"rgb(10%,10%,16%)\" stroke-dasharray=\"5 5\" x1=\"205\" x2=\"295\" y1=\"150\" y2=\"150\" /><line stroke=\"rgb(10%,10%,16%)\" stroke-dasharray=\"5 5\" x1=\"205\" x2=\"295\" y1=\"200\" y2=\"200\" /><line stroke=\"rgb(10%,10%,16%)\" stroke-dasharray=\"5 5\" x1=\"205\" x2=\"295\" y1=\"250\" y2=\"250\" /><line stroke=\"rgb(10%,10%,16%)\" stroke-dasharray=\"5 5\" x1=\"305\" x2=\"395\" y1=\"50\" y2=\"50\" /><line stroke=\"rgb(10%,10%,16%)\" stroke-dasharray=\"5 5\" x1=\"305\" x2=\"395\" y1=\"100\" y2=\"100\" /><line stroke=\"rgb(10%,10%,16%)\" stroke-dasharray=\"5 5\" x1=\"305\" x2=\"395\" y1=\"150\" y2=\"150\" /><line stroke=\"rgb(10%,10%,16%)\" stroke-dasharray=\"5 5\" x1=\"305\" x2=\"395\" y1=\"200\" y2=\"200\" /><line stroke=\"rgb(10%,10%,16%)\" stroke-dasharray=\"5 5\" x1=\"305\" x2=\"395\" y1=\"250\" y2=\"250\" /><line stroke=\"rgb(10%,10%,16%)\" stroke-dasharray=\"5 5\" x1=\"100\" x2=\"100\" y1=\"55\" y2=\"95\" /><line stroke=\"rgb(10%,10%,16%)\" stroke-dasharray=\"5 5\" x1=\"100\" x2=\"100\" y1=\"105\" y2=\"145\" /><line stroke=\"rgb(10%,10%,16%)\" stroke-dasharray=\"5 5\" x1=\"100\" x2=\"100\" y1=\"155\" y2=\"195\" /><line stroke=\"rgb(10%,10%,16%)\" stroke-dasharray=\"5 5\" x1=\"100\" x2=\"100\" y1=\"205\" y2=\"245\" /><line stroke=\"rgb(10%,10%,16%)\" stroke-dasharray=\"5 5\" x1=\"200\" x2=\"200\" y1=\"55\" y2=\"95\" /><line stroke=\"rgb(10%,10%,16%)\" stroke-dasharray=\"5 5\" x1=\"200\" x2=\"200\" y1=\"105\" y2=\"145\" /><line stroke=\"rgb(10%,10%,16%)\" stroke-dasharray=\"5 5\" x1=\"200\" x2=\"200\" y1=\"155\" y2=\"195\" /><line stroke=\"rgb(10%,10%,16%)\" stroke-dasharray=\"5 5\" x1=\"200\" x2=\"200\" y1=\"205\" y2=\"245\" /><line stroke=\"rgb(10%,10%,16%)\" stroke-dasharray=\"5 5\" x1=\"300\" x2=\"300\" y1=\"55\" y2=\"95\" /><line stroke=\"rgb(10%,10%,16%)\" stroke-dasharray=\"5 5\" x1=\"300\" x2=\"300\" y1=\"105\" y2=\"145\" /><line stroke=\"rgb(10%,10%,16%)\" stroke-dasharray=\"5 5\" x1=\"300\" x2=\"300\" y1=\"155\" y2=\"195\" /><line stroke=\"rgb(10%,10%,16%)\" stroke-dasharray=\"5 5\" x1=\"300\" x2=\"300\" y1=\"205\" y2=\"245\" /><line stroke=\"rgb(10%,10%,16%)\" stroke-dasharray=\"5 5\" x1=\"400\" x2=\"400\" y1=\"55\" y2=\"95\" /><line stroke=\"rgb(10%,10%,16%)\" stroke-dasharray=\"5 5\" x1=\"400\" x2=\"400\" y1=\"105\" y2=\"145\" /><line stroke=\"rgb(10%,10%,16%)\" stroke-dasharray=\"5 5\" x1=\"400\" x2=\"400\" y1=\"155\" y2=\"195\" /><line stroke=\"rgb(10%,10%,16%)\" stroke-dasharray=\"5 5\" x1=\"400\" x2=\"400\" y1=\"205\" y2=\"245\" /></svg></div>\n",
       "<div class=\"item\"><svg baseProfile=\"full\" height=\"315.0\" version=\"1.1\" width=\"500\" xmlns=\"http://www.w3.org/2000/svg\" xmlns:ev=\"http://www.w3.org/2001/xml-events\" xmlns:xlink=\"http://www.w3.org/1999/xlink\"><defs><marker id=\"id24\" markerHeight=\"10\" markerWidth=\"10\" orient=\"auto\" refX=\"5\" refY=\"5\"><path d=\"M 0 0 L 10 5 L 0 10 z\" fill=\"blue\" /></marker></defs><text style=\"font-size:25px; font-weight:bold; font-family:Lato\" x=\"0\" y=\"50\">Noun</text><text style=\"font-size:25px; font-weight:bold; font-family:Lato\" x=\"0\" y=\"100\">Verb</text><text style=\"font-size:25px; font-weight:bold; font-family:Lato\" x=\"0\" y=\"150\">Modal</text><text style=\"font-size:25px; font-weight:bold; font-family:Lato\" x=\"0\" y=\"200\">Pronoun</text><text style=\"font-size:25px; font-weight:bold; font-family:Lato\" x=\"0\" y=\"250\">NULL</text><text style=\"font-size:25px; font-family:Lato\" x=\"100\" y=\"300\">NULL</text><text style=\"font-size:25px; font-family:Lato\" x=\"200\" y=\"300\">I</text><text style=\"font-size:25px; font-family:Lato\" x=\"300\" y=\"300\">can</text><text style=\"font-size:25px; font-family:Lato\" x=\"400\" y=\"300\">fly</text><line marker-end=\"url(#id24)\" stroke=\"rgb(10%,10%,16%)\" stroke-width=\"2.5\" x1=\"100\" x2=\"200\" y1=\"250\" y2=\"200\" /><line marker-end=\"url(#id24)\" stroke=\"rgb(10%,10%,16%)\" stroke-width=\"2.5\" x1=\"200\" x2=\"300\" y1=\"200\" y2=\"50\" /><line marker-end=\"url(#id24)\" stroke=\"rgb(10%,10%,16%)\" stroke-width=\"2.5\" x1=\"300\" x2=\"400\" y1=\"50\" y2=\"100\" /><text style=\"font-size:25px; font-weight:bold; font-family:Lato\" x=\"185\" y=\"185\">rollin</text><text style=\"font-size:25px; font-weight:bold; font-family:Lato\" x=\"285\" y=\"35\">explore</text><text style=\"font-size:25px; font-weight:bold; font-family:Lato\" x=\"385\" y=\"35\">rollout</text><line stroke=\"rgb(10%,10%,16%)\" stroke-dasharray=\"5 5\" x1=\"105\" x2=\"195\" y1=\"50\" y2=\"50\" /><line stroke=\"rgb(10%,10%,16%)\" stroke-dasharray=\"5 5\" x1=\"105\" x2=\"195\" y1=\"100\" y2=\"100\" /><line stroke=\"rgb(10%,10%,16%)\" stroke-dasharray=\"5 5\" x1=\"105\" x2=\"195\" y1=\"150\" y2=\"150\" /><line stroke=\"rgb(10%,10%,16%)\" stroke-dasharray=\"5 5\" x1=\"105\" x2=\"195\" y1=\"200\" y2=\"200\" /><line stroke=\"rgb(10%,10%,16%)\" stroke-dasharray=\"5 5\" x1=\"105\" x2=\"195\" y1=\"250\" y2=\"250\" /><line stroke=\"rgb(10%,10%,16%)\" stroke-dasharray=\"5 5\" x1=\"205\" x2=\"295\" y1=\"50\" y2=\"50\" /><line stroke=\"rgb(10%,10%,16%)\" stroke-dasharray=\"5 5\" x1=\"205\" x2=\"295\" y1=\"100\" y2=\"100\" /><line stroke=\"rgb(10%,10%,16%)\" stroke-dasharray=\"5 5\" x1=\"205\" x2=\"295\" y1=\"150\" y2=\"150\" /><line stroke=\"rgb(10%,10%,16%)\" stroke-dasharray=\"5 5\" x1=\"205\" x2=\"295\" y1=\"200\" y2=\"200\" /><line stroke=\"rgb(10%,10%,16%)\" stroke-dasharray=\"5 5\" x1=\"205\" x2=\"295\" y1=\"250\" y2=\"250\" /><line stroke=\"rgb(10%,10%,16%)\" stroke-dasharray=\"5 5\" x1=\"305\" x2=\"395\" y1=\"50\" y2=\"50\" /><line stroke=\"rgb(10%,10%,16%)\" stroke-dasharray=\"5 5\" x1=\"305\" x2=\"395\" y1=\"100\" y2=\"100\" /><line stroke=\"rgb(10%,10%,16%)\" stroke-dasharray=\"5 5\" x1=\"305\" x2=\"395\" y1=\"150\" y2=\"150\" /><line stroke=\"rgb(10%,10%,16%)\" stroke-dasharray=\"5 5\" x1=\"305\" x2=\"395\" y1=\"200\" y2=\"200\" /><line stroke=\"rgb(10%,10%,16%)\" stroke-dasharray=\"5 5\" x1=\"305\" x2=\"395\" y1=\"250\" y2=\"250\" /><line stroke=\"rgb(10%,10%,16%)\" stroke-dasharray=\"5 5\" x1=\"100\" x2=\"100\" y1=\"55\" y2=\"95\" /><line stroke=\"rgb(10%,10%,16%)\" stroke-dasharray=\"5 5\" x1=\"100\" x2=\"100\" y1=\"105\" y2=\"145\" /><line stroke=\"rgb(10%,10%,16%)\" stroke-dasharray=\"5 5\" x1=\"100\" x2=\"100\" y1=\"155\" y2=\"195\" /><line stroke=\"rgb(10%,10%,16%)\" stroke-dasharray=\"5 5\" x1=\"100\" x2=\"100\" y1=\"205\" y2=\"245\" /><line stroke=\"rgb(10%,10%,16%)\" stroke-dasharray=\"5 5\" x1=\"200\" x2=\"200\" y1=\"55\" y2=\"95\" /><line stroke=\"rgb(10%,10%,16%)\" stroke-dasharray=\"5 5\" x1=\"200\" x2=\"200\" y1=\"105\" y2=\"145\" /><line stroke=\"rgb(10%,10%,16%)\" stroke-dasharray=\"5 5\" x1=\"200\" x2=\"200\" y1=\"155\" y2=\"195\" /><line stroke=\"rgb(10%,10%,16%)\" stroke-dasharray=\"5 5\" x1=\"200\" x2=\"200\" y1=\"205\" y2=\"245\" /><line stroke=\"rgb(10%,10%,16%)\" stroke-dasharray=\"5 5\" x1=\"300\" x2=\"300\" y1=\"55\" y2=\"95\" /><line stroke=\"rgb(10%,10%,16%)\" stroke-dasharray=\"5 5\" x1=\"300\" x2=\"300\" y1=\"105\" y2=\"145\" /><line stroke=\"rgb(10%,10%,16%)\" stroke-dasharray=\"5 5\" x1=\"300\" x2=\"300\" y1=\"155\" y2=\"195\" /><line stroke=\"rgb(10%,10%,16%)\" stroke-dasharray=\"5 5\" x1=\"300\" x2=\"300\" y1=\"205\" y2=\"245\" /><line stroke=\"rgb(10%,10%,16%)\" stroke-dasharray=\"5 5\" x1=\"400\" x2=\"400\" y1=\"55\" y2=\"95\" /><line stroke=\"rgb(10%,10%,16%)\" stroke-dasharray=\"5 5\" x1=\"400\" x2=\"400\" y1=\"105\" y2=\"145\" /><line stroke=\"rgb(10%,10%,16%)\" stroke-dasharray=\"5 5\" x1=\"400\" x2=\"400\" y1=\"155\" y2=\"195\" /><line stroke=\"rgb(10%,10%,16%)\" stroke-dasharray=\"5 5\" x1=\"400\" x2=\"400\" y1=\"205\" y2=\"245\" /></svg></div>\n",
       "<div class=\"item\"><svg baseProfile=\"full\" height=\"315.0\" version=\"1.1\" width=\"500\" xmlns=\"http://www.w3.org/2000/svg\" xmlns:ev=\"http://www.w3.org/2001/xml-events\" xmlns:xlink=\"http://www.w3.org/1999/xlink\"><defs><marker id=\"id25\" markerHeight=\"10\" markerWidth=\"10\" orient=\"auto\" refX=\"5\" refY=\"5\"><path d=\"M 0 0 L 10 5 L 0 10 z\" fill=\"blue\" /></marker></defs><text style=\"font-size:25px; font-weight:bold; font-family:Lato\" x=\"0\" y=\"50\">Noun</text><text style=\"font-size:25px; font-weight:bold; font-family:Lato\" x=\"0\" y=\"100\">Verb</text><text style=\"font-size:25px; font-weight:bold; font-family:Lato\" x=\"0\" y=\"150\">Modal</text><text style=\"font-size:25px; font-weight:bold; font-family:Lato\" x=\"0\" y=\"200\">Pronoun</text><text style=\"font-size:25px; font-weight:bold; font-family:Lato\" x=\"0\" y=\"250\">NULL</text><text style=\"font-size:25px; font-family:Lato\" x=\"100\" y=\"300\">NULL</text><text style=\"font-size:25px; font-family:Lato\" x=\"200\" y=\"300\">I</text><text style=\"font-size:25px; font-family:Lato\" x=\"300\" y=\"300\">can</text><text style=\"font-size:25px; font-family:Lato\" x=\"400\" y=\"300\">fly</text><line marker-end=\"url(#id25)\" stroke=\"rgb(10%,10%,16%)\" stroke-width=\"2.5\" x1=\"100\" x2=\"200\" y1=\"250\" y2=\"200\" /><line marker-end=\"url(#id25)\" stroke=\"rgb(10%,10%,16%)\" stroke-width=\"2.5\" x1=\"200\" x2=\"300\" y1=\"200\" y2=\"50\" /><line marker-end=\"url(#id25)\" stroke=\"rgb(10%,10%,16%)\" stroke-width=\"2.5\" x1=\"300\" x2=\"400\" y1=\"50\" y2=\"100\" /><text style=\"font-size:25px; font-weight:bold; font-family:Lato\" x=\"410\" y=\"100\">cost = 1</text><text style=\"font-size:25px; font-weight:bold; font-family:Lato\" x=\"185\" y=\"185\">rollin</text><text style=\"font-size:25px; font-weight:bold; font-family:Lato\" x=\"285\" y=\"35\">explore</text><text style=\"font-size:25px; font-weight:bold; font-family:Lato\" x=\"385\" y=\"35\">rollout</text><line stroke=\"rgb(10%,10%,16%)\" stroke-dasharray=\"5 5\" x1=\"105\" x2=\"195\" y1=\"50\" y2=\"50\" /><line stroke=\"rgb(10%,10%,16%)\" stroke-dasharray=\"5 5\" x1=\"105\" x2=\"195\" y1=\"100\" y2=\"100\" /><line stroke=\"rgb(10%,10%,16%)\" stroke-dasharray=\"5 5\" x1=\"105\" x2=\"195\" y1=\"150\" y2=\"150\" /><line stroke=\"rgb(10%,10%,16%)\" stroke-dasharray=\"5 5\" x1=\"105\" x2=\"195\" y1=\"200\" y2=\"200\" /><line stroke=\"rgb(10%,10%,16%)\" stroke-dasharray=\"5 5\" x1=\"105\" x2=\"195\" y1=\"250\" y2=\"250\" /><line stroke=\"rgb(10%,10%,16%)\" stroke-dasharray=\"5 5\" x1=\"205\" x2=\"295\" y1=\"50\" y2=\"50\" /><line stroke=\"rgb(10%,10%,16%)\" stroke-dasharray=\"5 5\" x1=\"205\" x2=\"295\" y1=\"100\" y2=\"100\" /><line stroke=\"rgb(10%,10%,16%)\" stroke-dasharray=\"5 5\" x1=\"205\" x2=\"295\" y1=\"150\" y2=\"150\" /><line stroke=\"rgb(10%,10%,16%)\" stroke-dasharray=\"5 5\" x1=\"205\" x2=\"295\" y1=\"200\" y2=\"200\" /><line stroke=\"rgb(10%,10%,16%)\" stroke-dasharray=\"5 5\" x1=\"205\" x2=\"295\" y1=\"250\" y2=\"250\" /><line stroke=\"rgb(10%,10%,16%)\" stroke-dasharray=\"5 5\" x1=\"305\" x2=\"395\" y1=\"50\" y2=\"50\" /><line stroke=\"rgb(10%,10%,16%)\" stroke-dasharray=\"5 5\" x1=\"305\" x2=\"395\" y1=\"100\" y2=\"100\" /><line stroke=\"rgb(10%,10%,16%)\" stroke-dasharray=\"5 5\" x1=\"305\" x2=\"395\" y1=\"150\" y2=\"150\" /><line stroke=\"rgb(10%,10%,16%)\" stroke-dasharray=\"5 5\" x1=\"305\" x2=\"395\" y1=\"200\" y2=\"200\" /><line stroke=\"rgb(10%,10%,16%)\" stroke-dasharray=\"5 5\" x1=\"305\" x2=\"395\" y1=\"250\" y2=\"250\" /><line stroke=\"rgb(10%,10%,16%)\" stroke-dasharray=\"5 5\" x1=\"100\" x2=\"100\" y1=\"55\" y2=\"95\" /><line stroke=\"rgb(10%,10%,16%)\" stroke-dasharray=\"5 5\" x1=\"100\" x2=\"100\" y1=\"105\" y2=\"145\" /><line stroke=\"rgb(10%,10%,16%)\" stroke-dasharray=\"5 5\" x1=\"100\" x2=\"100\" y1=\"155\" y2=\"195\" /><line stroke=\"rgb(10%,10%,16%)\" stroke-dasharray=\"5 5\" x1=\"100\" x2=\"100\" y1=\"205\" y2=\"245\" /><line stroke=\"rgb(10%,10%,16%)\" stroke-dasharray=\"5 5\" x1=\"200\" x2=\"200\" y1=\"55\" y2=\"95\" /><line stroke=\"rgb(10%,10%,16%)\" stroke-dasharray=\"5 5\" x1=\"200\" x2=\"200\" y1=\"105\" y2=\"145\" /><line stroke=\"rgb(10%,10%,16%)\" stroke-dasharray=\"5 5\" x1=\"200\" x2=\"200\" y1=\"155\" y2=\"195\" /><line stroke=\"rgb(10%,10%,16%)\" stroke-dasharray=\"5 5\" x1=\"200\" x2=\"200\" y1=\"205\" y2=\"245\" /><line stroke=\"rgb(10%,10%,16%)\" stroke-dasharray=\"5 5\" x1=\"300\" x2=\"300\" y1=\"55\" y2=\"95\" /><line stroke=\"rgb(10%,10%,16%)\" stroke-dasharray=\"5 5\" x1=\"300\" x2=\"300\" y1=\"105\" y2=\"145\" /><line stroke=\"rgb(10%,10%,16%)\" stroke-dasharray=\"5 5\" x1=\"300\" x2=\"300\" y1=\"155\" y2=\"195\" /><line stroke=\"rgb(10%,10%,16%)\" stroke-dasharray=\"5 5\" x1=\"300\" x2=\"300\" y1=\"205\" y2=\"245\" /><line stroke=\"rgb(10%,10%,16%)\" stroke-dasharray=\"5 5\" x1=\"400\" x2=\"400\" y1=\"55\" y2=\"95\" /><line stroke=\"rgb(10%,10%,16%)\" stroke-dasharray=\"5 5\" x1=\"400\" x2=\"400\" y1=\"105\" y2=\"145\" /><line stroke=\"rgb(10%,10%,16%)\" stroke-dasharray=\"5 5\" x1=\"400\" x2=\"400\" y1=\"155\" y2=\"195\" /><line stroke=\"rgb(10%,10%,16%)\" stroke-dasharray=\"5 5\" x1=\"400\" x2=\"400\" y1=\"205\" y2=\"245\" /></svg></div>\n",
       "<div class=\"item\"><svg baseProfile=\"full\" height=\"315.0\" version=\"1.1\" width=\"500\" xmlns=\"http://www.w3.org/2000/svg\" xmlns:ev=\"http://www.w3.org/2001/xml-events\" xmlns:xlink=\"http://www.w3.org/1999/xlink\"><defs><marker id=\"id26\" markerHeight=\"10\" markerWidth=\"10\" orient=\"auto\" refX=\"5\" refY=\"5\"><path d=\"M 0 0 L 10 5 L 0 10 z\" fill=\"blue\" /></marker></defs><text style=\"font-size:25px; font-weight:bold; font-family:Lato\" x=\"0\" y=\"50\">Noun</text><text style=\"font-size:25px; font-weight:bold; font-family:Lato\" x=\"0\" y=\"100\">Verb</text><text style=\"font-size:25px; font-weight:bold; font-family:Lato\" x=\"0\" y=\"150\">Modal</text><text style=\"font-size:25px; font-weight:bold; font-family:Lato\" x=\"0\" y=\"200\">Pronoun</text><text style=\"font-size:25px; font-weight:bold; font-family:Lato\" x=\"0\" y=\"250\">NULL</text><text style=\"font-size:25px; font-family:Lato\" x=\"100\" y=\"300\">NULL</text><text style=\"font-size:25px; font-family:Lato\" x=\"200\" y=\"300\">I</text><text style=\"font-size:25px; font-family:Lato\" x=\"300\" y=\"300\">can</text><text style=\"font-size:25px; font-family:Lato\" x=\"400\" y=\"300\">fly</text><line marker-end=\"url(#id26)\" stroke=\"rgb(10%,10%,16%)\" stroke-width=\"2.5\" x1=\"100\" x2=\"200\" y1=\"250\" y2=\"200\" /><line marker-end=\"url(#id26)\" stroke=\"rgb(10%,10%,16%)\" stroke-width=\"2.5\" x1=\"200\" x2=\"300\" y1=\"200\" y2=\"100\" /><line marker-end=\"url(#id26)\" stroke=\"rgb(10%,10%,16%)\" stroke-width=\"2.5\" x1=\"300\" x2=\"400\" y1=\"100\" y2=\"100\" /><text style=\"font-size:25px; font-weight:bold; font-family:Lato\" x=\"410\" y=\"100\">cost = 1</text><text style=\"font-size:25px; font-weight:bold; font-family:Lato\" x=\"185\" y=\"185\">rollin</text><text style=\"font-size:25px; font-weight:bold; font-family:Lato\" x=\"285\" y=\"85\">explore</text><text style=\"font-size:25px; font-weight:bold; font-family:Lato\" x=\"385\" y=\"35\">rollout</text><line stroke=\"rgb(10%,10%,16%)\" stroke-dasharray=\"5 5\" x1=\"105\" x2=\"195\" y1=\"50\" y2=\"50\" /><line stroke=\"rgb(10%,10%,16%)\" stroke-dasharray=\"5 5\" x1=\"105\" x2=\"195\" y1=\"100\" y2=\"100\" /><line stroke=\"rgb(10%,10%,16%)\" stroke-dasharray=\"5 5\" x1=\"105\" x2=\"195\" y1=\"150\" y2=\"150\" /><line stroke=\"rgb(10%,10%,16%)\" stroke-dasharray=\"5 5\" x1=\"105\" x2=\"195\" y1=\"200\" y2=\"200\" /><line stroke=\"rgb(10%,10%,16%)\" stroke-dasharray=\"5 5\" x1=\"105\" x2=\"195\" y1=\"250\" y2=\"250\" /><line stroke=\"rgb(10%,10%,16%)\" stroke-dasharray=\"5 5\" x1=\"205\" x2=\"295\" y1=\"50\" y2=\"50\" /><line stroke=\"rgb(10%,10%,16%)\" stroke-dasharray=\"5 5\" x1=\"205\" x2=\"295\" y1=\"100\" y2=\"100\" /><line stroke=\"rgb(10%,10%,16%)\" stroke-dasharray=\"5 5\" x1=\"205\" x2=\"295\" y1=\"150\" y2=\"150\" /><line stroke=\"rgb(10%,10%,16%)\" stroke-dasharray=\"5 5\" x1=\"205\" x2=\"295\" y1=\"200\" y2=\"200\" /><line stroke=\"rgb(10%,10%,16%)\" stroke-dasharray=\"5 5\" x1=\"205\" x2=\"295\" y1=\"250\" y2=\"250\" /><line stroke=\"rgb(10%,10%,16%)\" stroke-dasharray=\"5 5\" x1=\"305\" x2=\"395\" y1=\"50\" y2=\"50\" /><line stroke=\"rgb(10%,10%,16%)\" stroke-dasharray=\"5 5\" x1=\"305\" x2=\"395\" y1=\"100\" y2=\"100\" /><line stroke=\"rgb(10%,10%,16%)\" stroke-dasharray=\"5 5\" x1=\"305\" x2=\"395\" y1=\"150\" y2=\"150\" /><line stroke=\"rgb(10%,10%,16%)\" stroke-dasharray=\"5 5\" x1=\"305\" x2=\"395\" y1=\"200\" y2=\"200\" /><line stroke=\"rgb(10%,10%,16%)\" stroke-dasharray=\"5 5\" x1=\"305\" x2=\"395\" y1=\"250\" y2=\"250\" /><line stroke=\"rgb(10%,10%,16%)\" stroke-dasharray=\"5 5\" x1=\"100\" x2=\"100\" y1=\"55\" y2=\"95\" /><line stroke=\"rgb(10%,10%,16%)\" stroke-dasharray=\"5 5\" x1=\"100\" x2=\"100\" y1=\"105\" y2=\"145\" /><line stroke=\"rgb(10%,10%,16%)\" stroke-dasharray=\"5 5\" x1=\"100\" x2=\"100\" y1=\"155\" y2=\"195\" /><line stroke=\"rgb(10%,10%,16%)\" stroke-dasharray=\"5 5\" x1=\"100\" x2=\"100\" y1=\"205\" y2=\"245\" /><line stroke=\"rgb(10%,10%,16%)\" stroke-dasharray=\"5 5\" x1=\"200\" x2=\"200\" y1=\"55\" y2=\"95\" /><line stroke=\"rgb(10%,10%,16%)\" stroke-dasharray=\"5 5\" x1=\"200\" x2=\"200\" y1=\"105\" y2=\"145\" /><line stroke=\"rgb(10%,10%,16%)\" stroke-dasharray=\"5 5\" x1=\"200\" x2=\"200\" y1=\"155\" y2=\"195\" /><line stroke=\"rgb(10%,10%,16%)\" stroke-dasharray=\"5 5\" x1=\"200\" x2=\"200\" y1=\"205\" y2=\"245\" /><line stroke=\"rgb(10%,10%,16%)\" stroke-dasharray=\"5 5\" x1=\"300\" x2=\"300\" y1=\"55\" y2=\"95\" /><line stroke=\"rgb(10%,10%,16%)\" stroke-dasharray=\"5 5\" x1=\"300\" x2=\"300\" y1=\"105\" y2=\"145\" /><line stroke=\"rgb(10%,10%,16%)\" stroke-dasharray=\"5 5\" x1=\"300\" x2=\"300\" y1=\"155\" y2=\"195\" /><line stroke=\"rgb(10%,10%,16%)\" stroke-dasharray=\"5 5\" x1=\"300\" x2=\"300\" y1=\"205\" y2=\"245\" /><line stroke=\"rgb(10%,10%,16%)\" stroke-dasharray=\"5 5\" x1=\"400\" x2=\"400\" y1=\"55\" y2=\"95\" /><line stroke=\"rgb(10%,10%,16%)\" stroke-dasharray=\"5 5\" x1=\"400\" x2=\"400\" y1=\"105\" y2=\"145\" /><line stroke=\"rgb(10%,10%,16%)\" stroke-dasharray=\"5 5\" x1=\"400\" x2=\"400\" y1=\"155\" y2=\"195\" /><line stroke=\"rgb(10%,10%,16%)\" stroke-dasharray=\"5 5\" x1=\"400\" x2=\"400\" y1=\"205\" y2=\"245\" /></svg></div>\n",
       "<div class=\"item\"><svg baseProfile=\"full\" height=\"315.0\" version=\"1.1\" width=\"500\" xmlns=\"http://www.w3.org/2000/svg\" xmlns:ev=\"http://www.w3.org/2001/xml-events\" xmlns:xlink=\"http://www.w3.org/1999/xlink\"><defs><marker id=\"id27\" markerHeight=\"10\" markerWidth=\"10\" orient=\"auto\" refX=\"5\" refY=\"5\"><path d=\"M 0 0 L 10 5 L 0 10 z\" fill=\"blue\" /></marker></defs><text style=\"font-size:25px; font-weight:bold; font-family:Lato\" x=\"0\" y=\"50\">Noun</text><text style=\"font-size:25px; font-weight:bold; font-family:Lato\" x=\"0\" y=\"100\">Verb</text><text style=\"font-size:25px; font-weight:bold; font-family:Lato\" x=\"0\" y=\"150\">Modal</text><text style=\"font-size:25px; font-weight:bold; font-family:Lato\" x=\"0\" y=\"200\">Pronoun</text><text style=\"font-size:25px; font-weight:bold; font-family:Lato\" x=\"0\" y=\"250\">NULL</text><text style=\"font-size:25px; font-family:Lato\" x=\"100\" y=\"300\">NULL</text><text style=\"font-size:25px; font-family:Lato\" x=\"200\" y=\"300\">I</text><text style=\"font-size:25px; font-family:Lato\" x=\"300\" y=\"300\">can</text><text style=\"font-size:25px; font-family:Lato\" x=\"400\" y=\"300\">fly</text><line marker-end=\"url(#id27)\" stroke=\"rgb(10%,10%,16%)\" stroke-width=\"2.5\" x1=\"100\" x2=\"200\" y1=\"250\" y2=\"200\" /><line marker-end=\"url(#id27)\" stroke=\"rgb(10%,10%,16%)\" stroke-width=\"2.5\" x1=\"200\" x2=\"300\" y1=\"200\" y2=\"150\" /><line marker-end=\"url(#id27)\" stroke=\"rgb(10%,10%,16%)\" stroke-width=\"2.5\" x1=\"300\" x2=\"400\" y1=\"150\" y2=\"100\" /><text style=\"font-size:25px; font-weight:bold; font-family:Lato\" x=\"410\" y=\"100\">cost = 0</text><text style=\"font-size:25px; font-weight:bold; font-family:Lato\" x=\"185\" y=\"185\">rollin</text><text style=\"font-size:25px; font-weight:bold; font-family:Lato\" x=\"285\" y=\"135\">explore</text><text style=\"font-size:25px; font-weight:bold; font-family:Lato\" x=\"385\" y=\"35\">rollout</text><line stroke=\"rgb(10%,10%,16%)\" stroke-dasharray=\"5 5\" x1=\"105\" x2=\"195\" y1=\"50\" y2=\"50\" /><line stroke=\"rgb(10%,10%,16%)\" stroke-dasharray=\"5 5\" x1=\"105\" x2=\"195\" y1=\"100\" y2=\"100\" /><line stroke=\"rgb(10%,10%,16%)\" stroke-dasharray=\"5 5\" x1=\"105\" x2=\"195\" y1=\"150\" y2=\"150\" /><line stroke=\"rgb(10%,10%,16%)\" stroke-dasharray=\"5 5\" x1=\"105\" x2=\"195\" y1=\"200\" y2=\"200\" /><line stroke=\"rgb(10%,10%,16%)\" stroke-dasharray=\"5 5\" x1=\"105\" x2=\"195\" y1=\"250\" y2=\"250\" /><line stroke=\"rgb(10%,10%,16%)\" stroke-dasharray=\"5 5\" x1=\"205\" x2=\"295\" y1=\"50\" y2=\"50\" /><line stroke=\"rgb(10%,10%,16%)\" stroke-dasharray=\"5 5\" x1=\"205\" x2=\"295\" y1=\"100\" y2=\"100\" /><line stroke=\"rgb(10%,10%,16%)\" stroke-dasharray=\"5 5\" x1=\"205\" x2=\"295\" y1=\"150\" y2=\"150\" /><line stroke=\"rgb(10%,10%,16%)\" stroke-dasharray=\"5 5\" x1=\"205\" x2=\"295\" y1=\"200\" y2=\"200\" /><line stroke=\"rgb(10%,10%,16%)\" stroke-dasharray=\"5 5\" x1=\"205\" x2=\"295\" y1=\"250\" y2=\"250\" /><line stroke=\"rgb(10%,10%,16%)\" stroke-dasharray=\"5 5\" x1=\"305\" x2=\"395\" y1=\"50\" y2=\"50\" /><line stroke=\"rgb(10%,10%,16%)\" stroke-dasharray=\"5 5\" x1=\"305\" x2=\"395\" y1=\"100\" y2=\"100\" /><line stroke=\"rgb(10%,10%,16%)\" stroke-dasharray=\"5 5\" x1=\"305\" x2=\"395\" y1=\"150\" y2=\"150\" /><line stroke=\"rgb(10%,10%,16%)\" stroke-dasharray=\"5 5\" x1=\"305\" x2=\"395\" y1=\"200\" y2=\"200\" /><line stroke=\"rgb(10%,10%,16%)\" stroke-dasharray=\"5 5\" x1=\"305\" x2=\"395\" y1=\"250\" y2=\"250\" /><line stroke=\"rgb(10%,10%,16%)\" stroke-dasharray=\"5 5\" x1=\"100\" x2=\"100\" y1=\"55\" y2=\"95\" /><line stroke=\"rgb(10%,10%,16%)\" stroke-dasharray=\"5 5\" x1=\"100\" x2=\"100\" y1=\"105\" y2=\"145\" /><line stroke=\"rgb(10%,10%,16%)\" stroke-dasharray=\"5 5\" x1=\"100\" x2=\"100\" y1=\"155\" y2=\"195\" /><line stroke=\"rgb(10%,10%,16%)\" stroke-dasharray=\"5 5\" x1=\"100\" x2=\"100\" y1=\"205\" y2=\"245\" /><line stroke=\"rgb(10%,10%,16%)\" stroke-dasharray=\"5 5\" x1=\"200\" x2=\"200\" y1=\"55\" y2=\"95\" /><line stroke=\"rgb(10%,10%,16%)\" stroke-dasharray=\"5 5\" x1=\"200\" x2=\"200\" y1=\"105\" y2=\"145\" /><line stroke=\"rgb(10%,10%,16%)\" stroke-dasharray=\"5 5\" x1=\"200\" x2=\"200\" y1=\"155\" y2=\"195\" /><line stroke=\"rgb(10%,10%,16%)\" stroke-dasharray=\"5 5\" x1=\"200\" x2=\"200\" y1=\"205\" y2=\"245\" /><line stroke=\"rgb(10%,10%,16%)\" stroke-dasharray=\"5 5\" x1=\"300\" x2=\"300\" y1=\"55\" y2=\"95\" /><line stroke=\"rgb(10%,10%,16%)\" stroke-dasharray=\"5 5\" x1=\"300\" x2=\"300\" y1=\"105\" y2=\"145\" /><line stroke=\"rgb(10%,10%,16%)\" stroke-dasharray=\"5 5\" x1=\"300\" x2=\"300\" y1=\"155\" y2=\"195\" /><line stroke=\"rgb(10%,10%,16%)\" stroke-dasharray=\"5 5\" x1=\"300\" x2=\"300\" y1=\"205\" y2=\"245\" /><line stroke=\"rgb(10%,10%,16%)\" stroke-dasharray=\"5 5\" x1=\"400\" x2=\"400\" y1=\"55\" y2=\"95\" /><line stroke=\"rgb(10%,10%,16%)\" stroke-dasharray=\"5 5\" x1=\"400\" x2=\"400\" y1=\"105\" y2=\"145\" /><line stroke=\"rgb(10%,10%,16%)\" stroke-dasharray=\"5 5\" x1=\"400\" x2=\"400\" y1=\"155\" y2=\"195\" /><line stroke=\"rgb(10%,10%,16%)\" stroke-dasharray=\"5 5\" x1=\"400\" x2=\"400\" y1=\"205\" y2=\"245\" /></svg></div>\n",
       "<div class=\"item\"><svg baseProfile=\"full\" height=\"315.0\" version=\"1.1\" width=\"500\" xmlns=\"http://www.w3.org/2000/svg\" xmlns:ev=\"http://www.w3.org/2001/xml-events\" xmlns:xlink=\"http://www.w3.org/1999/xlink\"><defs><marker id=\"id28\" markerHeight=\"10\" markerWidth=\"10\" orient=\"auto\" refX=\"5\" refY=\"5\"><path d=\"M 0 0 L 10 5 L 0 10 z\" fill=\"blue\" /></marker></defs><text style=\"font-size:25px; font-weight:bold; font-family:Lato\" x=\"0\" y=\"50\">Noun</text><text style=\"font-size:25px; font-weight:bold; font-family:Lato\" x=\"0\" y=\"100\">Verb</text><text style=\"font-size:25px; font-weight:bold; font-family:Lato\" x=\"0\" y=\"150\">Modal</text><text style=\"font-size:25px; font-weight:bold; font-family:Lato\" x=\"0\" y=\"200\">Pronoun</text><text style=\"font-size:25px; font-weight:bold; font-family:Lato\" x=\"0\" y=\"250\">NULL</text><text style=\"font-size:25px; font-family:Lato\" x=\"100\" y=\"300\">NULL</text><text style=\"font-size:25px; font-family:Lato\" x=\"200\" y=\"300\">I</text><text style=\"font-size:25px; font-family:Lato\" x=\"300\" y=\"300\">can</text><text style=\"font-size:25px; font-family:Lato\" x=\"400\" y=\"300\">fly</text><line marker-end=\"url(#id28)\" stroke=\"rgb(10%,10%,16%)\" stroke-width=\"2.5\" x1=\"100\" x2=\"200\" y1=\"250\" y2=\"200\" /><line marker-end=\"url(#id28)\" stroke=\"rgb(10%,10%,16%)\" stroke-width=\"2.5\" x1=\"200\" x2=\"300\" y1=\"200\" y2=\"200\" /><line marker-end=\"url(#id28)\" stroke=\"rgb(10%,10%,16%)\" stroke-width=\"2.5\" x1=\"300\" x2=\"400\" y1=\"200\" y2=\"100\" /><text style=\"font-size:25px; font-weight:bold; font-family:Lato\" x=\"410\" y=\"100\">cost = 1</text><text style=\"font-size:25px; font-weight:bold; font-family:Lato\" x=\"185\" y=\"185\">rollin</text><text style=\"font-size:25px; font-weight:bold; font-family:Lato\" x=\"285\" y=\"185\">explore</text><text style=\"font-size:25px; font-weight:bold; font-family:Lato\" x=\"385\" y=\"35\">rollout</text><line stroke=\"rgb(10%,10%,16%)\" stroke-dasharray=\"5 5\" x1=\"105\" x2=\"195\" y1=\"50\" y2=\"50\" /><line stroke=\"rgb(10%,10%,16%)\" stroke-dasharray=\"5 5\" x1=\"105\" x2=\"195\" y1=\"100\" y2=\"100\" /><line stroke=\"rgb(10%,10%,16%)\" stroke-dasharray=\"5 5\" x1=\"105\" x2=\"195\" y1=\"150\" y2=\"150\" /><line stroke=\"rgb(10%,10%,16%)\" stroke-dasharray=\"5 5\" x1=\"105\" x2=\"195\" y1=\"200\" y2=\"200\" /><line stroke=\"rgb(10%,10%,16%)\" stroke-dasharray=\"5 5\" x1=\"105\" x2=\"195\" y1=\"250\" y2=\"250\" /><line stroke=\"rgb(10%,10%,16%)\" stroke-dasharray=\"5 5\" x1=\"205\" x2=\"295\" y1=\"50\" y2=\"50\" /><line stroke=\"rgb(10%,10%,16%)\" stroke-dasharray=\"5 5\" x1=\"205\" x2=\"295\" y1=\"100\" y2=\"100\" /><line stroke=\"rgb(10%,10%,16%)\" stroke-dasharray=\"5 5\" x1=\"205\" x2=\"295\" y1=\"150\" y2=\"150\" /><line stroke=\"rgb(10%,10%,16%)\" stroke-dasharray=\"5 5\" x1=\"205\" x2=\"295\" y1=\"200\" y2=\"200\" /><line stroke=\"rgb(10%,10%,16%)\" stroke-dasharray=\"5 5\" x1=\"205\" x2=\"295\" y1=\"250\" y2=\"250\" /><line stroke=\"rgb(10%,10%,16%)\" stroke-dasharray=\"5 5\" x1=\"305\" x2=\"395\" y1=\"50\" y2=\"50\" /><line stroke=\"rgb(10%,10%,16%)\" stroke-dasharray=\"5 5\" x1=\"305\" x2=\"395\" y1=\"100\" y2=\"100\" /><line stroke=\"rgb(10%,10%,16%)\" stroke-dasharray=\"5 5\" x1=\"305\" x2=\"395\" y1=\"150\" y2=\"150\" /><line stroke=\"rgb(10%,10%,16%)\" stroke-dasharray=\"5 5\" x1=\"305\" x2=\"395\" y1=\"200\" y2=\"200\" /><line stroke=\"rgb(10%,10%,16%)\" stroke-dasharray=\"5 5\" x1=\"305\" x2=\"395\" y1=\"250\" y2=\"250\" /><line stroke=\"rgb(10%,10%,16%)\" stroke-dasharray=\"5 5\" x1=\"100\" x2=\"100\" y1=\"55\" y2=\"95\" /><line stroke=\"rgb(10%,10%,16%)\" stroke-dasharray=\"5 5\" x1=\"100\" x2=\"100\" y1=\"105\" y2=\"145\" /><line stroke=\"rgb(10%,10%,16%)\" stroke-dasharray=\"5 5\" x1=\"100\" x2=\"100\" y1=\"155\" y2=\"195\" /><line stroke=\"rgb(10%,10%,16%)\" stroke-dasharray=\"5 5\" x1=\"100\" x2=\"100\" y1=\"205\" y2=\"245\" /><line stroke=\"rgb(10%,10%,16%)\" stroke-dasharray=\"5 5\" x1=\"200\" x2=\"200\" y1=\"55\" y2=\"95\" /><line stroke=\"rgb(10%,10%,16%)\" stroke-dasharray=\"5 5\" x1=\"200\" x2=\"200\" y1=\"105\" y2=\"145\" /><line stroke=\"rgb(10%,10%,16%)\" stroke-dasharray=\"5 5\" x1=\"200\" x2=\"200\" y1=\"155\" y2=\"195\" /><line stroke=\"rgb(10%,10%,16%)\" stroke-dasharray=\"5 5\" x1=\"200\" x2=\"200\" y1=\"205\" y2=\"245\" /><line stroke=\"rgb(10%,10%,16%)\" stroke-dasharray=\"5 5\" x1=\"300\" x2=\"300\" y1=\"55\" y2=\"95\" /><line stroke=\"rgb(10%,10%,16%)\" stroke-dasharray=\"5 5\" x1=\"300\" x2=\"300\" y1=\"105\" y2=\"145\" /><line stroke=\"rgb(10%,10%,16%)\" stroke-dasharray=\"5 5\" x1=\"300\" x2=\"300\" y1=\"155\" y2=\"195\" /><line stroke=\"rgb(10%,10%,16%)\" stroke-dasharray=\"5 5\" x1=\"300\" x2=\"300\" y1=\"205\" y2=\"245\" /><line stroke=\"rgb(10%,10%,16%)\" stroke-dasharray=\"5 5\" x1=\"400\" x2=\"400\" y1=\"55\" y2=\"95\" /><line stroke=\"rgb(10%,10%,16%)\" stroke-dasharray=\"5 5\" x1=\"400\" x2=\"400\" y1=\"105\" y2=\"145\" /><line stroke=\"rgb(10%,10%,16%)\" stroke-dasharray=\"5 5\" x1=\"400\" x2=\"400\" y1=\"155\" y2=\"195\" /><line stroke=\"rgb(10%,10%,16%)\" stroke-dasharray=\"5 5\" x1=\"400\" x2=\"400\" y1=\"205\" y2=\"245\" /></svg></div>\n",
       "          </div>\n",
       "          <!-- Controls -->\n",
       "          <a href=\"#64ce1738-bb10-11e7-88c6-02426d5d0a97\" role=\"button2\" data-slide=\"prev\">Previous</a>\n",
       "          &nbsp\n",
       "          <a  href=\"#64ce1738-bb10-11e7-88c6-02426d5d0a97\" role=\"button2\" data-slide=\"next\">Next</a>\n",
       "        </div>\n",
       "        "
      ],
      "text/plain": [
       "<il_tutorial.util.Carousel at 0x7fdfb44ecb70>"
      ]
     },
     "execution_count": 16,
     "metadata": {},
     "output_type": "execute_result"
    }
   ],
   "source": [
    "p = gold_path.copy()\n",
    "cost = 1\n",
    "cb_costs = []\n",
    "cb_costs.append(cg.draw_cost_breakdown(rows, columns, [(0,4),(1,3)], roll_in_cell=p[1]))\n",
    "cb_costs.append(cg.draw_cost_breakdown(rows, columns, [(0,4),(1,3),(2,0)], roll_in_cell=p[1], explore_cell=(2,0)))\n",
    "cb_costs.append(cg.draw_cost_breakdown(rows, columns, [(0,4),(1,3),(2,0),(3,1)], roll_in_cell=p[1], explore_cell=(2,0),roll_out_cell=(3,0)))\n",
    "cb_costs.append(cg.draw_cost_breakdown(rows, columns, [(0,4),(1,3),(2,0),(3,1)], cost, p[3], roll_in_cell=p[1], explore_cell=(2,0),roll_out_cell=(3,0)))\n",
    "for i in range(1,4):\n",
    "    p = gold_path.copy()\n",
    "    p[2] = (gold_path[2][0],i)\n",
    "    if p == gold_path:\n",
    "        cost = 0\n",
    "    else:\n",
    "        cost = 1\n",
    "    cb_costs.append(cg.draw_cost_breakdown(rows, columns, p, cost, p[3], roll_in_cell=p[1],roll_out_cell=(3,0), explore_cell=p[2]))\n",
    "util.Carousel(cb_costs)"
   ]
  },
  {
   "cell_type": "markdown",
   "metadata": {
    "deletable": true,
    "editable": true,
    "slideshow": {
     "slide_type": "fragment"
    }
   },
   "source": [
    "<table style=\"border-style: hidden; border-collapse: collapse; font-size: 90%\">\n",
    "<thead>\n",
    "<tr>\n",
    "<th>step</th>\n",
    "<th><b>Pronoun</b></th>\n",
    "<th><b>Modal</b></th>\n",
    "<th><b>Verb</b></th>\n",
    "<th><b>Noun</b></th>\n",
    "<th>features</th>\n",
    "</tr>\n",
    "</thead>\n",
    "<tbody>\n",
    "<tr>\n",
    "<td>t=2</td>\n",
    "<td>1</td>\n",
    "<td>0</td>\n",
    "<td>1</td>\n",
    "<td>1</td>\n",
    "<td>token=can, prev=<b>Pronoun</b>...</td>\n",
    "</tr>\n",
    "</tbody>\n",
    "</table>\n",
    "<ul style=\"font-size: 90%\">\n",
    "<li><b>rollin</b> to a step in the sentence</li>\n",
    "<li><b>explore</b> each action: <b>rollout</b> and cost with task loss</li>\n",
    "</ul>"
   ]
  },
  {
   "cell_type": "markdown",
   "metadata": {
    "deletable": true,
    "editable": true,
    "slideshow": {
     "slide_type": "subslide"
    }
   },
   "source": [
    "### Mixed rollouts\n",
    "\n",
    "<p>\n",
    "$$\\pi^{out} = \\beta\\pi^{\\star} + (1-\\beta)H$$\n",
    "</p>"
   ]
  },
  {
   "cell_type": "code",
   "execution_count": 9,
   "metadata": {
    "collapsed": false,
    "deletable": true,
    "editable": true,
    "scrolled": true,
    "slideshow": {
     "slide_type": "-"
    }
   },
   "outputs": [
    {
     "data": {
      "text/html": [
       "\n",
       "        <div id=\"8e3a0cfc-badf-11e7-88c6-02426d5d0a97\" class=\"carousel\" data-ride=\"carousel\" data-interval=\"false\">\n",
       "          <div class=\"carousel-inner\" role=\"listbox\">\n",
       "          <div class=\"item active\"><svg baseProfile=\"full\" height=\"315.0\" version=\"1.1\" width=\"500\" xmlns=\"http://www.w3.org/2000/svg\" xmlns:ev=\"http://www.w3.org/2001/xml-events\" xmlns:xlink=\"http://www.w3.org/1999/xlink\"><defs><marker id=\"id14\" markerHeight=\"10\" markerWidth=\"10\" orient=\"auto\" refX=\"5\" refY=\"5\"><path d=\"M 0 0 L 10 5 L 0 10 z\" fill=\"blue\" /></marker></defs><text style=\"font-size:25px; font-weight:bold; font-family:Lato\" x=\"0\" y=\"50\">Noun</text><text style=\"font-size:25px; font-weight:bold; font-family:Lato\" x=\"0\" y=\"100\">Verb</text><text style=\"font-size:25px; font-weight:bold; font-family:Lato\" x=\"0\" y=\"150\">Modal</text><text style=\"font-size:25px; font-weight:bold; font-family:Lato\" x=\"0\" y=\"200\">Pronoun</text><text style=\"font-size:25px; font-weight:bold; font-family:Lato\" x=\"0\" y=\"250\">NULL</text><text style=\"font-size:25px; font-family:Lato\" x=\"100\" y=\"300\">NULL</text><text style=\"font-size:25px; font-family:Lato\" x=\"200\" y=\"300\">I</text><text style=\"font-size:25px; font-family:Lato\" x=\"300\" y=\"300\">can</text><text style=\"font-size:25px; font-family:Lato\" x=\"400\" y=\"300\">fly</text><line marker-end=\"url(#id14)\" stroke=\"rgb(10%,10%,16%)\" stroke-width=\"2.5\" x1=\"100\" x2=\"200\" y1=\"250\" y2=\"200\" /><text style=\"font-size:25px; font-weight:bold; font-family:Lato\" x=\"185\" y=\"185\">rollin</text><line stroke=\"rgb(10%,10%,16%)\" stroke-dasharray=\"5 5\" x1=\"105\" x2=\"195\" y1=\"50\" y2=\"50\" /><line stroke=\"rgb(10%,10%,16%)\" stroke-dasharray=\"5 5\" x1=\"105\" x2=\"195\" y1=\"100\" y2=\"100\" /><line stroke=\"rgb(10%,10%,16%)\" stroke-dasharray=\"5 5\" x1=\"105\" x2=\"195\" y1=\"150\" y2=\"150\" /><line stroke=\"rgb(10%,10%,16%)\" stroke-dasharray=\"5 5\" x1=\"105\" x2=\"195\" y1=\"200\" y2=\"200\" /><line stroke=\"rgb(10%,10%,16%)\" stroke-dasharray=\"5 5\" x1=\"105\" x2=\"195\" y1=\"250\" y2=\"250\" /><line stroke=\"rgb(10%,10%,16%)\" stroke-dasharray=\"5 5\" x1=\"205\" x2=\"295\" y1=\"50\" y2=\"50\" /><line stroke=\"rgb(10%,10%,16%)\" stroke-dasharray=\"5 5\" x1=\"205\" x2=\"295\" y1=\"100\" y2=\"100\" /><line stroke=\"rgb(10%,10%,16%)\" stroke-dasharray=\"5 5\" x1=\"205\" x2=\"295\" y1=\"150\" y2=\"150\" /><line stroke=\"rgb(10%,10%,16%)\" stroke-dasharray=\"5 5\" x1=\"205\" x2=\"295\" y1=\"200\" y2=\"200\" /><line stroke=\"rgb(10%,10%,16%)\" stroke-dasharray=\"5 5\" x1=\"205\" x2=\"295\" y1=\"250\" y2=\"250\" /><line stroke=\"rgb(10%,10%,16%)\" stroke-dasharray=\"5 5\" x1=\"305\" x2=\"395\" y1=\"50\" y2=\"50\" /><line stroke=\"rgb(10%,10%,16%)\" stroke-dasharray=\"5 5\" x1=\"305\" x2=\"395\" y1=\"100\" y2=\"100\" /><line stroke=\"rgb(10%,10%,16%)\" stroke-dasharray=\"5 5\" x1=\"305\" x2=\"395\" y1=\"150\" y2=\"150\" /><line stroke=\"rgb(10%,10%,16%)\" stroke-dasharray=\"5 5\" x1=\"305\" x2=\"395\" y1=\"200\" y2=\"200\" /><line stroke=\"rgb(10%,10%,16%)\" stroke-dasharray=\"5 5\" x1=\"305\" x2=\"395\" y1=\"250\" y2=\"250\" /><line stroke=\"rgb(10%,10%,16%)\" stroke-dasharray=\"5 5\" x1=\"100\" x2=\"100\" y1=\"55\" y2=\"95\" /><line stroke=\"rgb(10%,10%,16%)\" stroke-dasharray=\"5 5\" x1=\"100\" x2=\"100\" y1=\"105\" y2=\"145\" /><line stroke=\"rgb(10%,10%,16%)\" stroke-dasharray=\"5 5\" x1=\"100\" x2=\"100\" y1=\"155\" y2=\"195\" /><line stroke=\"rgb(10%,10%,16%)\" stroke-dasharray=\"5 5\" x1=\"100\" x2=\"100\" y1=\"205\" y2=\"245\" /><line stroke=\"rgb(10%,10%,16%)\" stroke-dasharray=\"5 5\" x1=\"200\" x2=\"200\" y1=\"55\" y2=\"95\" /><line stroke=\"rgb(10%,10%,16%)\" stroke-dasharray=\"5 5\" x1=\"200\" x2=\"200\" y1=\"105\" y2=\"145\" /><line stroke=\"rgb(10%,10%,16%)\" stroke-dasharray=\"5 5\" x1=\"200\" x2=\"200\" y1=\"155\" y2=\"195\" /><line stroke=\"rgb(10%,10%,16%)\" stroke-dasharray=\"5 5\" x1=\"200\" x2=\"200\" y1=\"205\" y2=\"245\" /><line stroke=\"rgb(10%,10%,16%)\" stroke-dasharray=\"5 5\" x1=\"300\" x2=\"300\" y1=\"55\" y2=\"95\" /><line stroke=\"rgb(10%,10%,16%)\" stroke-dasharray=\"5 5\" x1=\"300\" x2=\"300\" y1=\"105\" y2=\"145\" /><line stroke=\"rgb(10%,10%,16%)\" stroke-dasharray=\"5 5\" x1=\"300\" x2=\"300\" y1=\"155\" y2=\"195\" /><line stroke=\"rgb(10%,10%,16%)\" stroke-dasharray=\"5 5\" x1=\"300\" x2=\"300\" y1=\"205\" y2=\"245\" /><line stroke=\"rgb(10%,10%,16%)\" stroke-dasharray=\"5 5\" x1=\"400\" x2=\"400\" y1=\"55\" y2=\"95\" /><line stroke=\"rgb(10%,10%,16%)\" stroke-dasharray=\"5 5\" x1=\"400\" x2=\"400\" y1=\"105\" y2=\"145\" /><line stroke=\"rgb(10%,10%,16%)\" stroke-dasharray=\"5 5\" x1=\"400\" x2=\"400\" y1=\"155\" y2=\"195\" /><line stroke=\"rgb(10%,10%,16%)\" stroke-dasharray=\"5 5\" x1=\"400\" x2=\"400\" y1=\"205\" y2=\"245\" /></svg></div>\n",
       "<div class=\"item\"><svg baseProfile=\"full\" height=\"315.0\" version=\"1.1\" width=\"500\" xmlns=\"http://www.w3.org/2000/svg\" xmlns:ev=\"http://www.w3.org/2001/xml-events\" xmlns:xlink=\"http://www.w3.org/1999/xlink\"><defs><marker id=\"id15\" markerHeight=\"10\" markerWidth=\"10\" orient=\"auto\" refX=\"5\" refY=\"5\"><path d=\"M 0 0 L 10 5 L 0 10 z\" fill=\"blue\" /></marker></defs><text style=\"font-size:25px; font-weight:bold; font-family:Lato\" x=\"0\" y=\"50\">Noun</text><text style=\"font-size:25px; font-weight:bold; font-family:Lato\" x=\"0\" y=\"100\">Verb</text><text style=\"font-size:25px; font-weight:bold; font-family:Lato\" x=\"0\" y=\"150\">Modal</text><text style=\"font-size:25px; font-weight:bold; font-family:Lato\" x=\"0\" y=\"200\">Pronoun</text><text style=\"font-size:25px; font-weight:bold; font-family:Lato\" x=\"0\" y=\"250\">NULL</text><text style=\"font-size:25px; font-family:Lato\" x=\"100\" y=\"300\">NULL</text><text style=\"font-size:25px; font-family:Lato\" x=\"200\" y=\"300\">I</text><text style=\"font-size:25px; font-family:Lato\" x=\"300\" y=\"300\">can</text><text style=\"font-size:25px; font-family:Lato\" x=\"400\" y=\"300\">fly</text><line marker-end=\"url(#id15)\" stroke=\"rgb(10%,10%,16%)\" stroke-width=\"2.5\" x1=\"100\" x2=\"200\" y1=\"250\" y2=\"200\" /><line marker-end=\"url(#id15)\" stroke=\"rgb(10%,10%,16%)\" stroke-width=\"2.5\" x1=\"200\" x2=\"300\" y1=\"200\" y2=\"50\" /><text style=\"font-size:25px; font-weight:bold; font-family:Lato\" x=\"185\" y=\"185\">rollin</text><text style=\"font-size:25px; font-weight:bold; font-family:Lato\" x=\"285\" y=\"35\">explore</text><line stroke=\"rgb(10%,10%,16%)\" stroke-dasharray=\"5 5\" x1=\"105\" x2=\"195\" y1=\"50\" y2=\"50\" /><line stroke=\"rgb(10%,10%,16%)\" stroke-dasharray=\"5 5\" x1=\"105\" x2=\"195\" y1=\"100\" y2=\"100\" /><line stroke=\"rgb(10%,10%,16%)\" stroke-dasharray=\"5 5\" x1=\"105\" x2=\"195\" y1=\"150\" y2=\"150\" /><line stroke=\"rgb(10%,10%,16%)\" stroke-dasharray=\"5 5\" x1=\"105\" x2=\"195\" y1=\"200\" y2=\"200\" /><line stroke=\"rgb(10%,10%,16%)\" stroke-dasharray=\"5 5\" x1=\"105\" x2=\"195\" y1=\"250\" y2=\"250\" /><line stroke=\"rgb(10%,10%,16%)\" stroke-dasharray=\"5 5\" x1=\"205\" x2=\"295\" y1=\"50\" y2=\"50\" /><line stroke=\"rgb(10%,10%,16%)\" stroke-dasharray=\"5 5\" x1=\"205\" x2=\"295\" y1=\"100\" y2=\"100\" /><line stroke=\"rgb(10%,10%,16%)\" stroke-dasharray=\"5 5\" x1=\"205\" x2=\"295\" y1=\"150\" y2=\"150\" /><line stroke=\"rgb(10%,10%,16%)\" stroke-dasharray=\"5 5\" x1=\"205\" x2=\"295\" y1=\"200\" y2=\"200\" /><line stroke=\"rgb(10%,10%,16%)\" stroke-dasharray=\"5 5\" x1=\"205\" x2=\"295\" y1=\"250\" y2=\"250\" /><line stroke=\"rgb(10%,10%,16%)\" stroke-dasharray=\"5 5\" x1=\"305\" x2=\"395\" y1=\"50\" y2=\"50\" /><line stroke=\"rgb(10%,10%,16%)\" stroke-dasharray=\"5 5\" x1=\"305\" x2=\"395\" y1=\"100\" y2=\"100\" /><line stroke=\"rgb(10%,10%,16%)\" stroke-dasharray=\"5 5\" x1=\"305\" x2=\"395\" y1=\"150\" y2=\"150\" /><line stroke=\"rgb(10%,10%,16%)\" stroke-dasharray=\"5 5\" x1=\"305\" x2=\"395\" y1=\"200\" y2=\"200\" /><line stroke=\"rgb(10%,10%,16%)\" stroke-dasharray=\"5 5\" x1=\"305\" x2=\"395\" y1=\"250\" y2=\"250\" /><line stroke=\"rgb(10%,10%,16%)\" stroke-dasharray=\"5 5\" x1=\"100\" x2=\"100\" y1=\"55\" y2=\"95\" /><line stroke=\"rgb(10%,10%,16%)\" stroke-dasharray=\"5 5\" x1=\"100\" x2=\"100\" y1=\"105\" y2=\"145\" /><line stroke=\"rgb(10%,10%,16%)\" stroke-dasharray=\"5 5\" x1=\"100\" x2=\"100\" y1=\"155\" y2=\"195\" /><line stroke=\"rgb(10%,10%,16%)\" stroke-dasharray=\"5 5\" x1=\"100\" x2=\"100\" y1=\"205\" y2=\"245\" /><line stroke=\"rgb(10%,10%,16%)\" stroke-dasharray=\"5 5\" x1=\"200\" x2=\"200\" y1=\"55\" y2=\"95\" /><line stroke=\"rgb(10%,10%,16%)\" stroke-dasharray=\"5 5\" x1=\"200\" x2=\"200\" y1=\"105\" y2=\"145\" /><line stroke=\"rgb(10%,10%,16%)\" stroke-dasharray=\"5 5\" x1=\"200\" x2=\"200\" y1=\"155\" y2=\"195\" /><line stroke=\"rgb(10%,10%,16%)\" stroke-dasharray=\"5 5\" x1=\"200\" x2=\"200\" y1=\"205\" y2=\"245\" /><line stroke=\"rgb(10%,10%,16%)\" stroke-dasharray=\"5 5\" x1=\"300\" x2=\"300\" y1=\"55\" y2=\"95\" /><line stroke=\"rgb(10%,10%,16%)\" stroke-dasharray=\"5 5\" x1=\"300\" x2=\"300\" y1=\"105\" y2=\"145\" /><line stroke=\"rgb(10%,10%,16%)\" stroke-dasharray=\"5 5\" x1=\"300\" x2=\"300\" y1=\"155\" y2=\"195\" /><line stroke=\"rgb(10%,10%,16%)\" stroke-dasharray=\"5 5\" x1=\"300\" x2=\"300\" y1=\"205\" y2=\"245\" /><line stroke=\"rgb(10%,10%,16%)\" stroke-dasharray=\"5 5\" x1=\"400\" x2=\"400\" y1=\"55\" y2=\"95\" /><line stroke=\"rgb(10%,10%,16%)\" stroke-dasharray=\"5 5\" x1=\"400\" x2=\"400\" y1=\"105\" y2=\"145\" /><line stroke=\"rgb(10%,10%,16%)\" stroke-dasharray=\"5 5\" x1=\"400\" x2=\"400\" y1=\"155\" y2=\"195\" /><line stroke=\"rgb(10%,10%,16%)\" stroke-dasharray=\"5 5\" x1=\"400\" x2=\"400\" y1=\"205\" y2=\"245\" /></svg></div>\n",
       "<div class=\"item\"><svg baseProfile=\"full\" height=\"315.0\" version=\"1.1\" width=\"500\" xmlns=\"http://www.w3.org/2000/svg\" xmlns:ev=\"http://www.w3.org/2001/xml-events\" xmlns:xlink=\"http://www.w3.org/1999/xlink\"><defs><marker id=\"id16\" markerHeight=\"10\" markerWidth=\"10\" orient=\"auto\" refX=\"5\" refY=\"5\"><path d=\"M 0 0 L 10 5 L 0 10 z\" fill=\"blue\" /></marker></defs><text style=\"font-size:25px; font-weight:bold; font-family:Lato\" x=\"0\" y=\"50\">Noun</text><text style=\"font-size:25px; font-weight:bold; font-family:Lato\" x=\"0\" y=\"100\">Verb</text><text style=\"font-size:25px; font-weight:bold; font-family:Lato\" x=\"0\" y=\"150\">Modal</text><text style=\"font-size:25px; font-weight:bold; font-family:Lato\" x=\"0\" y=\"200\">Pronoun</text><text style=\"font-size:25px; font-weight:bold; font-family:Lato\" x=\"0\" y=\"250\">NULL</text><text style=\"font-size:25px; font-family:Lato\" x=\"100\" y=\"300\">NULL</text><text style=\"font-size:25px; font-family:Lato\" x=\"200\" y=\"300\">I</text><text style=\"font-size:25px; font-family:Lato\" x=\"300\" y=\"300\">can</text><text style=\"font-size:25px; font-family:Lato\" x=\"400\" y=\"300\">fly</text><line marker-end=\"url(#id16)\" stroke=\"rgb(10%,10%,16%)\" stroke-width=\"2.5\" x1=\"100\" x2=\"200\" y1=\"250\" y2=\"200\" /><line marker-end=\"url(#id16)\" stroke=\"rgb(10%,10%,16%)\" stroke-width=\"2.5\" x1=\"200\" x2=\"300\" y1=\"200\" y2=\"50\" /><line marker-end=\"url(#id16)\" stroke=\"rgb(10%,10%,16%)\" stroke-width=\"2.5\" x1=\"300\" x2=\"400\" y1=\"50\" y2=\"100\" /><text style=\"font-size:25px; font-weight:bold; font-family:Lato\" x=\"410\" y=\"100\">cost = 1</text><text style=\"font-size:25px; font-weight:bold; font-family:Lato\" x=\"185\" y=\"185\">rollin</text><text style=\"font-size:25px; font-weight:bold; font-family:Lato\" x=\"285\" y=\"35\">explore</text><text style=\"font-size:25px; font-weight:bold; font-family:Lato\" x=\"385\" y=\"35\">rollout</text><line stroke=\"rgb(10%,10%,16%)\" stroke-dasharray=\"5 5\" x1=\"105\" x2=\"195\" y1=\"50\" y2=\"50\" /><line stroke=\"rgb(10%,10%,16%)\" stroke-dasharray=\"5 5\" x1=\"105\" x2=\"195\" y1=\"100\" y2=\"100\" /><line stroke=\"rgb(10%,10%,16%)\" stroke-dasharray=\"5 5\" x1=\"105\" x2=\"195\" y1=\"150\" y2=\"150\" /><line stroke=\"rgb(10%,10%,16%)\" stroke-dasharray=\"5 5\" x1=\"105\" x2=\"195\" y1=\"200\" y2=\"200\" /><line stroke=\"rgb(10%,10%,16%)\" stroke-dasharray=\"5 5\" x1=\"105\" x2=\"195\" y1=\"250\" y2=\"250\" /><line stroke=\"rgb(10%,10%,16%)\" stroke-dasharray=\"5 5\" x1=\"205\" x2=\"295\" y1=\"50\" y2=\"50\" /><line stroke=\"rgb(10%,10%,16%)\" stroke-dasharray=\"5 5\" x1=\"205\" x2=\"295\" y1=\"100\" y2=\"100\" /><line stroke=\"rgb(10%,10%,16%)\" stroke-dasharray=\"5 5\" x1=\"205\" x2=\"295\" y1=\"150\" y2=\"150\" /><line stroke=\"rgb(10%,10%,16%)\" stroke-dasharray=\"5 5\" x1=\"205\" x2=\"295\" y1=\"200\" y2=\"200\" /><line stroke=\"rgb(10%,10%,16%)\" stroke-dasharray=\"5 5\" x1=\"205\" x2=\"295\" y1=\"250\" y2=\"250\" /><line stroke=\"rgb(10%,10%,16%)\" stroke-dasharray=\"5 5\" x1=\"305\" x2=\"395\" y1=\"50\" y2=\"50\" /><line stroke=\"rgb(10%,10%,16%)\" stroke-dasharray=\"5 5\" x1=\"305\" x2=\"395\" y1=\"100\" y2=\"100\" /><line stroke=\"rgb(10%,10%,16%)\" stroke-dasharray=\"5 5\" x1=\"305\" x2=\"395\" y1=\"150\" y2=\"150\" /><line stroke=\"rgb(10%,10%,16%)\" stroke-dasharray=\"5 5\" x1=\"305\" x2=\"395\" y1=\"200\" y2=\"200\" /><line stroke=\"rgb(10%,10%,16%)\" stroke-dasharray=\"5 5\" x1=\"305\" x2=\"395\" y1=\"250\" y2=\"250\" /><line stroke=\"rgb(10%,10%,16%)\" stroke-dasharray=\"5 5\" x1=\"100\" x2=\"100\" y1=\"55\" y2=\"95\" /><line stroke=\"rgb(10%,10%,16%)\" stroke-dasharray=\"5 5\" x1=\"100\" x2=\"100\" y1=\"105\" y2=\"145\" /><line stroke=\"rgb(10%,10%,16%)\" stroke-dasharray=\"5 5\" x1=\"100\" x2=\"100\" y1=\"155\" y2=\"195\" /><line stroke=\"rgb(10%,10%,16%)\" stroke-dasharray=\"5 5\" x1=\"100\" x2=\"100\" y1=\"205\" y2=\"245\" /><line stroke=\"rgb(10%,10%,16%)\" stroke-dasharray=\"5 5\" x1=\"200\" x2=\"200\" y1=\"55\" y2=\"95\" /><line stroke=\"rgb(10%,10%,16%)\" stroke-dasharray=\"5 5\" x1=\"200\" x2=\"200\" y1=\"105\" y2=\"145\" /><line stroke=\"rgb(10%,10%,16%)\" stroke-dasharray=\"5 5\" x1=\"200\" x2=\"200\" y1=\"155\" y2=\"195\" /><line stroke=\"rgb(10%,10%,16%)\" stroke-dasharray=\"5 5\" x1=\"200\" x2=\"200\" y1=\"205\" y2=\"245\" /><line stroke=\"rgb(10%,10%,16%)\" stroke-dasharray=\"5 5\" x1=\"300\" x2=\"300\" y1=\"55\" y2=\"95\" /><line stroke=\"rgb(10%,10%,16%)\" stroke-dasharray=\"5 5\" x1=\"300\" x2=\"300\" y1=\"105\" y2=\"145\" /><line stroke=\"rgb(10%,10%,16%)\" stroke-dasharray=\"5 5\" x1=\"300\" x2=\"300\" y1=\"155\" y2=\"195\" /><line stroke=\"rgb(10%,10%,16%)\" stroke-dasharray=\"5 5\" x1=\"300\" x2=\"300\" y1=\"205\" y2=\"245\" /><line stroke=\"rgb(10%,10%,16%)\" stroke-dasharray=\"5 5\" x1=\"400\" x2=\"400\" y1=\"55\" y2=\"95\" /><line stroke=\"rgb(10%,10%,16%)\" stroke-dasharray=\"5 5\" x1=\"400\" x2=\"400\" y1=\"105\" y2=\"145\" /><line stroke=\"rgb(10%,10%,16%)\" stroke-dasharray=\"5 5\" x1=\"400\" x2=\"400\" y1=\"155\" y2=\"195\" /><line stroke=\"rgb(10%,10%,16%)\" stroke-dasharray=\"5 5\" x1=\"400\" x2=\"400\" y1=\"205\" y2=\"245\" /></svg></div>\n",
       "<div class=\"item\"><svg baseProfile=\"full\" height=\"315.0\" version=\"1.1\" width=\"500\" xmlns=\"http://www.w3.org/2000/svg\" xmlns:ev=\"http://www.w3.org/2001/xml-events\" xmlns:xlink=\"http://www.w3.org/1999/xlink\"><defs><marker id=\"id17\" markerHeight=\"10\" markerWidth=\"10\" orient=\"auto\" refX=\"5\" refY=\"5\"><path d=\"M 0 0 L 10 5 L 0 10 z\" fill=\"blue\" /></marker></defs><text style=\"font-size:25px; font-weight:bold; font-family:Lato\" x=\"0\" y=\"50\">Noun</text><text style=\"font-size:25px; font-weight:bold; font-family:Lato\" x=\"0\" y=\"100\">Verb</text><text style=\"font-size:25px; font-weight:bold; font-family:Lato\" x=\"0\" y=\"150\">Modal</text><text style=\"font-size:25px; font-weight:bold; font-family:Lato\" x=\"0\" y=\"200\">Pronoun</text><text style=\"font-size:25px; font-weight:bold; font-family:Lato\" x=\"0\" y=\"250\">NULL</text><text style=\"font-size:25px; font-family:Lato\" x=\"100\" y=\"300\">NULL</text><text style=\"font-size:25px; font-family:Lato\" x=\"200\" y=\"300\">I</text><text style=\"font-size:25px; font-family:Lato\" x=\"300\" y=\"300\">can</text><text style=\"font-size:25px; font-family:Lato\" x=\"400\" y=\"300\">fly</text><line marker-end=\"url(#id17)\" stroke=\"rgb(10%,10%,16%)\" stroke-width=\"2.5\" x1=\"100\" x2=\"200\" y1=\"250\" y2=\"200\" /><line marker-end=\"url(#id17)\" stroke=\"rgb(10%,10%,16%)\" stroke-width=\"2.5\" x1=\"200\" x2=\"300\" y1=\"200\" y2=\"100\" /><line marker-end=\"url(#id17)\" stroke=\"rgb(10%,10%,16%)\" stroke-width=\"2.5\" x1=\"300\" x2=\"400\" y1=\"100\" y2=\"50\" /><text style=\"font-size:25px; font-weight:bold; font-family:Lato\" x=\"410\" y=\"50\">cost = 2</text><text style=\"font-size:25px; font-weight:bold; font-family:Lato\" x=\"185\" y=\"185\">rollin</text><text style=\"font-size:25px; font-weight:bold; font-family:Lato\" x=\"285\" y=\"85\">explore</text><text style=\"font-size:25px; font-weight:bold; font-family:Lato\" x=\"385\" y=\"35\">rollout</text><line stroke=\"rgb(10%,10%,16%)\" stroke-dasharray=\"5 5\" x1=\"105\" x2=\"195\" y1=\"50\" y2=\"50\" /><line stroke=\"rgb(10%,10%,16%)\" stroke-dasharray=\"5 5\" x1=\"105\" x2=\"195\" y1=\"100\" y2=\"100\" /><line stroke=\"rgb(10%,10%,16%)\" stroke-dasharray=\"5 5\" x1=\"105\" x2=\"195\" y1=\"150\" y2=\"150\" /><line stroke=\"rgb(10%,10%,16%)\" stroke-dasharray=\"5 5\" x1=\"105\" x2=\"195\" y1=\"200\" y2=\"200\" /><line stroke=\"rgb(10%,10%,16%)\" stroke-dasharray=\"5 5\" x1=\"105\" x2=\"195\" y1=\"250\" y2=\"250\" /><line stroke=\"rgb(10%,10%,16%)\" stroke-dasharray=\"5 5\" x1=\"205\" x2=\"295\" y1=\"50\" y2=\"50\" /><line stroke=\"rgb(10%,10%,16%)\" stroke-dasharray=\"5 5\" x1=\"205\" x2=\"295\" y1=\"100\" y2=\"100\" /><line stroke=\"rgb(10%,10%,16%)\" stroke-dasharray=\"5 5\" x1=\"205\" x2=\"295\" y1=\"150\" y2=\"150\" /><line stroke=\"rgb(10%,10%,16%)\" stroke-dasharray=\"5 5\" x1=\"205\" x2=\"295\" y1=\"200\" y2=\"200\" /><line stroke=\"rgb(10%,10%,16%)\" stroke-dasharray=\"5 5\" x1=\"205\" x2=\"295\" y1=\"250\" y2=\"250\" /><line stroke=\"rgb(10%,10%,16%)\" stroke-dasharray=\"5 5\" x1=\"305\" x2=\"395\" y1=\"50\" y2=\"50\" /><line stroke=\"rgb(10%,10%,16%)\" stroke-dasharray=\"5 5\" x1=\"305\" x2=\"395\" y1=\"100\" y2=\"100\" /><line stroke=\"rgb(10%,10%,16%)\" stroke-dasharray=\"5 5\" x1=\"305\" x2=\"395\" y1=\"150\" y2=\"150\" /><line stroke=\"rgb(10%,10%,16%)\" stroke-dasharray=\"5 5\" x1=\"305\" x2=\"395\" y1=\"200\" y2=\"200\" /><line stroke=\"rgb(10%,10%,16%)\" stroke-dasharray=\"5 5\" x1=\"305\" x2=\"395\" y1=\"250\" y2=\"250\" /><line stroke=\"rgb(10%,10%,16%)\" stroke-dasharray=\"5 5\" x1=\"100\" x2=\"100\" y1=\"55\" y2=\"95\" /><line stroke=\"rgb(10%,10%,16%)\" stroke-dasharray=\"5 5\" x1=\"100\" x2=\"100\" y1=\"105\" y2=\"145\" /><line stroke=\"rgb(10%,10%,16%)\" stroke-dasharray=\"5 5\" x1=\"100\" x2=\"100\" y1=\"155\" y2=\"195\" /><line stroke=\"rgb(10%,10%,16%)\" stroke-dasharray=\"5 5\" x1=\"100\" x2=\"100\" y1=\"205\" y2=\"245\" /><line stroke=\"rgb(10%,10%,16%)\" stroke-dasharray=\"5 5\" x1=\"200\" x2=\"200\" y1=\"55\" y2=\"95\" /><line stroke=\"rgb(10%,10%,16%)\" stroke-dasharray=\"5 5\" x1=\"200\" x2=\"200\" y1=\"105\" y2=\"145\" /><line stroke=\"rgb(10%,10%,16%)\" stroke-dasharray=\"5 5\" x1=\"200\" x2=\"200\" y1=\"155\" y2=\"195\" /><line stroke=\"rgb(10%,10%,16%)\" stroke-dasharray=\"5 5\" x1=\"200\" x2=\"200\" y1=\"205\" y2=\"245\" /><line stroke=\"rgb(10%,10%,16%)\" stroke-dasharray=\"5 5\" x1=\"300\" x2=\"300\" y1=\"55\" y2=\"95\" /><line stroke=\"rgb(10%,10%,16%)\" stroke-dasharray=\"5 5\" x1=\"300\" x2=\"300\" y1=\"105\" y2=\"145\" /><line stroke=\"rgb(10%,10%,16%)\" stroke-dasharray=\"5 5\" x1=\"300\" x2=\"300\" y1=\"155\" y2=\"195\" /><line stroke=\"rgb(10%,10%,16%)\" stroke-dasharray=\"5 5\" x1=\"300\" x2=\"300\" y1=\"205\" y2=\"245\" /><line stroke=\"rgb(10%,10%,16%)\" stroke-dasharray=\"5 5\" x1=\"400\" x2=\"400\" y1=\"55\" y2=\"95\" /><line stroke=\"rgb(10%,10%,16%)\" stroke-dasharray=\"5 5\" x1=\"400\" x2=\"400\" y1=\"105\" y2=\"145\" /><line stroke=\"rgb(10%,10%,16%)\" stroke-dasharray=\"5 5\" x1=\"400\" x2=\"400\" y1=\"155\" y2=\"195\" /><line stroke=\"rgb(10%,10%,16%)\" stroke-dasharray=\"5 5\" x1=\"400\" x2=\"400\" y1=\"205\" y2=\"245\" /></svg></div>\n",
       "<div class=\"item\"><svg baseProfile=\"full\" height=\"315.0\" version=\"1.1\" width=\"500\" xmlns=\"http://www.w3.org/2000/svg\" xmlns:ev=\"http://www.w3.org/2001/xml-events\" xmlns:xlink=\"http://www.w3.org/1999/xlink\"><defs><marker id=\"id18\" markerHeight=\"10\" markerWidth=\"10\" orient=\"auto\" refX=\"5\" refY=\"5\"><path d=\"M 0 0 L 10 5 L 0 10 z\" fill=\"blue\" /></marker></defs><text style=\"font-size:25px; font-weight:bold; font-family:Lato\" x=\"0\" y=\"50\">Noun</text><text style=\"font-size:25px; font-weight:bold; font-family:Lato\" x=\"0\" y=\"100\">Verb</text><text style=\"font-size:25px; font-weight:bold; font-family:Lato\" x=\"0\" y=\"150\">Modal</text><text style=\"font-size:25px; font-weight:bold; font-family:Lato\" x=\"0\" y=\"200\">Pronoun</text><text style=\"font-size:25px; font-weight:bold; font-family:Lato\" x=\"0\" y=\"250\">NULL</text><text style=\"font-size:25px; font-family:Lato\" x=\"100\" y=\"300\">NULL</text><text style=\"font-size:25px; font-family:Lato\" x=\"200\" y=\"300\">I</text><text style=\"font-size:25px; font-family:Lato\" x=\"300\" y=\"300\">can</text><text style=\"font-size:25px; font-family:Lato\" x=\"400\" y=\"300\">fly</text><line marker-end=\"url(#id18)\" stroke=\"rgb(10%,10%,16%)\" stroke-width=\"2.5\" x1=\"100\" x2=\"200\" y1=\"250\" y2=\"200\" /><line marker-end=\"url(#id18)\" stroke=\"rgb(10%,10%,16%)\" stroke-width=\"2.5\" x1=\"200\" x2=\"300\" y1=\"200\" y2=\"150\" /><line marker-end=\"url(#id18)\" stroke=\"rgb(10%,10%,16%)\" stroke-width=\"2.5\" x1=\"300\" x2=\"400\" y1=\"150\" y2=\"100\" /><text style=\"font-size:25px; font-weight:bold; font-family:Lato\" x=\"410\" y=\"100\">cost = 0</text><text style=\"font-size:25px; font-weight:bold; font-family:Lato\" x=\"185\" y=\"185\">rollin</text><text style=\"font-size:25px; font-weight:bold; font-family:Lato\" x=\"285\" y=\"135\">explore</text><text style=\"font-size:25px; font-weight:bold; font-family:Lato\" x=\"385\" y=\"35\">rollout</text><line stroke=\"rgb(10%,10%,16%)\" stroke-dasharray=\"5 5\" x1=\"105\" x2=\"195\" y1=\"50\" y2=\"50\" /><line stroke=\"rgb(10%,10%,16%)\" stroke-dasharray=\"5 5\" x1=\"105\" x2=\"195\" y1=\"100\" y2=\"100\" /><line stroke=\"rgb(10%,10%,16%)\" stroke-dasharray=\"5 5\" x1=\"105\" x2=\"195\" y1=\"150\" y2=\"150\" /><line stroke=\"rgb(10%,10%,16%)\" stroke-dasharray=\"5 5\" x1=\"105\" x2=\"195\" y1=\"200\" y2=\"200\" /><line stroke=\"rgb(10%,10%,16%)\" stroke-dasharray=\"5 5\" x1=\"105\" x2=\"195\" y1=\"250\" y2=\"250\" /><line stroke=\"rgb(10%,10%,16%)\" stroke-dasharray=\"5 5\" x1=\"205\" x2=\"295\" y1=\"50\" y2=\"50\" /><line stroke=\"rgb(10%,10%,16%)\" stroke-dasharray=\"5 5\" x1=\"205\" x2=\"295\" y1=\"100\" y2=\"100\" /><line stroke=\"rgb(10%,10%,16%)\" stroke-dasharray=\"5 5\" x1=\"205\" x2=\"295\" y1=\"150\" y2=\"150\" /><line stroke=\"rgb(10%,10%,16%)\" stroke-dasharray=\"5 5\" x1=\"205\" x2=\"295\" y1=\"200\" y2=\"200\" /><line stroke=\"rgb(10%,10%,16%)\" stroke-dasharray=\"5 5\" x1=\"205\" x2=\"295\" y1=\"250\" y2=\"250\" /><line stroke=\"rgb(10%,10%,16%)\" stroke-dasharray=\"5 5\" x1=\"305\" x2=\"395\" y1=\"50\" y2=\"50\" /><line stroke=\"rgb(10%,10%,16%)\" stroke-dasharray=\"5 5\" x1=\"305\" x2=\"395\" y1=\"100\" y2=\"100\" /><line stroke=\"rgb(10%,10%,16%)\" stroke-dasharray=\"5 5\" x1=\"305\" x2=\"395\" y1=\"150\" y2=\"150\" /><line stroke=\"rgb(10%,10%,16%)\" stroke-dasharray=\"5 5\" x1=\"305\" x2=\"395\" y1=\"200\" y2=\"200\" /><line stroke=\"rgb(10%,10%,16%)\" stroke-dasharray=\"5 5\" x1=\"305\" x2=\"395\" y1=\"250\" y2=\"250\" /><line stroke=\"rgb(10%,10%,16%)\" stroke-dasharray=\"5 5\" x1=\"100\" x2=\"100\" y1=\"55\" y2=\"95\" /><line stroke=\"rgb(10%,10%,16%)\" stroke-dasharray=\"5 5\" x1=\"100\" x2=\"100\" y1=\"105\" y2=\"145\" /><line stroke=\"rgb(10%,10%,16%)\" stroke-dasharray=\"5 5\" x1=\"100\" x2=\"100\" y1=\"155\" y2=\"195\" /><line stroke=\"rgb(10%,10%,16%)\" stroke-dasharray=\"5 5\" x1=\"100\" x2=\"100\" y1=\"205\" y2=\"245\" /><line stroke=\"rgb(10%,10%,16%)\" stroke-dasharray=\"5 5\" x1=\"200\" x2=\"200\" y1=\"55\" y2=\"95\" /><line stroke=\"rgb(10%,10%,16%)\" stroke-dasharray=\"5 5\" x1=\"200\" x2=\"200\" y1=\"105\" y2=\"145\" /><line stroke=\"rgb(10%,10%,16%)\" stroke-dasharray=\"5 5\" x1=\"200\" x2=\"200\" y1=\"155\" y2=\"195\" /><line stroke=\"rgb(10%,10%,16%)\" stroke-dasharray=\"5 5\" x1=\"200\" x2=\"200\" y1=\"205\" y2=\"245\" /><line stroke=\"rgb(10%,10%,16%)\" stroke-dasharray=\"5 5\" x1=\"300\" x2=\"300\" y1=\"55\" y2=\"95\" /><line stroke=\"rgb(10%,10%,16%)\" stroke-dasharray=\"5 5\" x1=\"300\" x2=\"300\" y1=\"105\" y2=\"145\" /><line stroke=\"rgb(10%,10%,16%)\" stroke-dasharray=\"5 5\" x1=\"300\" x2=\"300\" y1=\"155\" y2=\"195\" /><line stroke=\"rgb(10%,10%,16%)\" stroke-dasharray=\"5 5\" x1=\"300\" x2=\"300\" y1=\"205\" y2=\"245\" /><line stroke=\"rgb(10%,10%,16%)\" stroke-dasharray=\"5 5\" x1=\"400\" x2=\"400\" y1=\"55\" y2=\"95\" /><line stroke=\"rgb(10%,10%,16%)\" stroke-dasharray=\"5 5\" x1=\"400\" x2=\"400\" y1=\"105\" y2=\"145\" /><line stroke=\"rgb(10%,10%,16%)\" stroke-dasharray=\"5 5\" x1=\"400\" x2=\"400\" y1=\"155\" y2=\"195\" /><line stroke=\"rgb(10%,10%,16%)\" stroke-dasharray=\"5 5\" x1=\"400\" x2=\"400\" y1=\"205\" y2=\"245\" /></svg></div>\n",
       "<div class=\"item\"><svg baseProfile=\"full\" height=\"315.0\" version=\"1.1\" width=\"500\" xmlns=\"http://www.w3.org/2000/svg\" xmlns:ev=\"http://www.w3.org/2001/xml-events\" xmlns:xlink=\"http://www.w3.org/1999/xlink\"><defs><marker id=\"id19\" markerHeight=\"10\" markerWidth=\"10\" orient=\"auto\" refX=\"5\" refY=\"5\"><path d=\"M 0 0 L 10 5 L 0 10 z\" fill=\"blue\" /></marker></defs><text style=\"font-size:25px; font-weight:bold; font-family:Lato\" x=\"0\" y=\"50\">Noun</text><text style=\"font-size:25px; font-weight:bold; font-family:Lato\" x=\"0\" y=\"100\">Verb</text><text style=\"font-size:25px; font-weight:bold; font-family:Lato\" x=\"0\" y=\"150\">Modal</text><text style=\"font-size:25px; font-weight:bold; font-family:Lato\" x=\"0\" y=\"200\">Pronoun</text><text style=\"font-size:25px; font-weight:bold; font-family:Lato\" x=\"0\" y=\"250\">NULL</text><text style=\"font-size:25px; font-family:Lato\" x=\"100\" y=\"300\">NULL</text><text style=\"font-size:25px; font-family:Lato\" x=\"200\" y=\"300\">I</text><text style=\"font-size:25px; font-family:Lato\" x=\"300\" y=\"300\">can</text><text style=\"font-size:25px; font-family:Lato\" x=\"400\" y=\"300\">fly</text><line marker-end=\"url(#id19)\" stroke=\"rgb(10%,10%,16%)\" stroke-width=\"2.5\" x1=\"100\" x2=\"200\" y1=\"250\" y2=\"200\" /><line marker-end=\"url(#id19)\" stroke=\"rgb(10%,10%,16%)\" stroke-width=\"2.5\" x1=\"200\" x2=\"300\" y1=\"200\" y2=\"200\" /><line marker-end=\"url(#id19)\" stroke=\"rgb(10%,10%,16%)\" stroke-width=\"2.5\" x1=\"300\" x2=\"400\" y1=\"200\" y2=\"100\" /><text style=\"font-size:25px; font-weight:bold; font-family:Lato\" x=\"410\" y=\"100\">cost = 1</text><text style=\"font-size:25px; font-weight:bold; font-family:Lato\" x=\"185\" y=\"185\">rollin</text><text style=\"font-size:25px; font-weight:bold; font-family:Lato\" x=\"285\" y=\"185\">explore</text><text style=\"font-size:25px; font-weight:bold; font-family:Lato\" x=\"385\" y=\"35\">rollout</text><line stroke=\"rgb(10%,10%,16%)\" stroke-dasharray=\"5 5\" x1=\"105\" x2=\"195\" y1=\"50\" y2=\"50\" /><line stroke=\"rgb(10%,10%,16%)\" stroke-dasharray=\"5 5\" x1=\"105\" x2=\"195\" y1=\"100\" y2=\"100\" /><line stroke=\"rgb(10%,10%,16%)\" stroke-dasharray=\"5 5\" x1=\"105\" x2=\"195\" y1=\"150\" y2=\"150\" /><line stroke=\"rgb(10%,10%,16%)\" stroke-dasharray=\"5 5\" x1=\"105\" x2=\"195\" y1=\"200\" y2=\"200\" /><line stroke=\"rgb(10%,10%,16%)\" stroke-dasharray=\"5 5\" x1=\"105\" x2=\"195\" y1=\"250\" y2=\"250\" /><line stroke=\"rgb(10%,10%,16%)\" stroke-dasharray=\"5 5\" x1=\"205\" x2=\"295\" y1=\"50\" y2=\"50\" /><line stroke=\"rgb(10%,10%,16%)\" stroke-dasharray=\"5 5\" x1=\"205\" x2=\"295\" y1=\"100\" y2=\"100\" /><line stroke=\"rgb(10%,10%,16%)\" stroke-dasharray=\"5 5\" x1=\"205\" x2=\"295\" y1=\"150\" y2=\"150\" /><line stroke=\"rgb(10%,10%,16%)\" stroke-dasharray=\"5 5\" x1=\"205\" x2=\"295\" y1=\"200\" y2=\"200\" /><line stroke=\"rgb(10%,10%,16%)\" stroke-dasharray=\"5 5\" x1=\"205\" x2=\"295\" y1=\"250\" y2=\"250\" /><line stroke=\"rgb(10%,10%,16%)\" stroke-dasharray=\"5 5\" x1=\"305\" x2=\"395\" y1=\"50\" y2=\"50\" /><line stroke=\"rgb(10%,10%,16%)\" stroke-dasharray=\"5 5\" x1=\"305\" x2=\"395\" y1=\"100\" y2=\"100\" /><line stroke=\"rgb(10%,10%,16%)\" stroke-dasharray=\"5 5\" x1=\"305\" x2=\"395\" y1=\"150\" y2=\"150\" /><line stroke=\"rgb(10%,10%,16%)\" stroke-dasharray=\"5 5\" x1=\"305\" x2=\"395\" y1=\"200\" y2=\"200\" /><line stroke=\"rgb(10%,10%,16%)\" stroke-dasharray=\"5 5\" x1=\"305\" x2=\"395\" y1=\"250\" y2=\"250\" /><line stroke=\"rgb(10%,10%,16%)\" stroke-dasharray=\"5 5\" x1=\"100\" x2=\"100\" y1=\"55\" y2=\"95\" /><line stroke=\"rgb(10%,10%,16%)\" stroke-dasharray=\"5 5\" x1=\"100\" x2=\"100\" y1=\"105\" y2=\"145\" /><line stroke=\"rgb(10%,10%,16%)\" stroke-dasharray=\"5 5\" x1=\"100\" x2=\"100\" y1=\"155\" y2=\"195\" /><line stroke=\"rgb(10%,10%,16%)\" stroke-dasharray=\"5 5\" x1=\"100\" x2=\"100\" y1=\"205\" y2=\"245\" /><line stroke=\"rgb(10%,10%,16%)\" stroke-dasharray=\"5 5\" x1=\"200\" x2=\"200\" y1=\"55\" y2=\"95\" /><line stroke=\"rgb(10%,10%,16%)\" stroke-dasharray=\"5 5\" x1=\"200\" x2=\"200\" y1=\"105\" y2=\"145\" /><line stroke=\"rgb(10%,10%,16%)\" stroke-dasharray=\"5 5\" x1=\"200\" x2=\"200\" y1=\"155\" y2=\"195\" /><line stroke=\"rgb(10%,10%,16%)\" stroke-dasharray=\"5 5\" x1=\"200\" x2=\"200\" y1=\"205\" y2=\"245\" /><line stroke=\"rgb(10%,10%,16%)\" stroke-dasharray=\"5 5\" x1=\"300\" x2=\"300\" y1=\"55\" y2=\"95\" /><line stroke=\"rgb(10%,10%,16%)\" stroke-dasharray=\"5 5\" x1=\"300\" x2=\"300\" y1=\"105\" y2=\"145\" /><line stroke=\"rgb(10%,10%,16%)\" stroke-dasharray=\"5 5\" x1=\"300\" x2=\"300\" y1=\"155\" y2=\"195\" /><line stroke=\"rgb(10%,10%,16%)\" stroke-dasharray=\"5 5\" x1=\"300\" x2=\"300\" y1=\"205\" y2=\"245\" /><line stroke=\"rgb(10%,10%,16%)\" stroke-dasharray=\"5 5\" x1=\"400\" x2=\"400\" y1=\"55\" y2=\"95\" /><line stroke=\"rgb(10%,10%,16%)\" stroke-dasharray=\"5 5\" x1=\"400\" x2=\"400\" y1=\"105\" y2=\"145\" /><line stroke=\"rgb(10%,10%,16%)\" stroke-dasharray=\"5 5\" x1=\"400\" x2=\"400\" y1=\"155\" y2=\"195\" /><line stroke=\"rgb(10%,10%,16%)\" stroke-dasharray=\"5 5\" x1=\"400\" x2=\"400\" y1=\"205\" y2=\"245\" /></svg></div>\n",
       "          </div>\n",
       "          <!-- Controls -->\n",
       "          <a href=\"#8e3a0cfc-badf-11e7-88c6-02426d5d0a97\" role=\"button2\" data-slide=\"prev\">Previous</a>\n",
       "          &nbsp\n",
       "          <a  href=\"#8e3a0cfc-badf-11e7-88c6-02426d5d0a97\" role=\"button2\" data-slide=\"next\">Next</a>\n",
       "        </div>\n",
       "        "
      ],
      "text/plain": [
       "<il_tutorial.util.Carousel at 0x7fdfb453f7b8>"
      ]
     },
     "execution_count": 9,
     "metadata": {},
     "output_type": "execute_result"
    }
   ],
   "source": [
    "cb_mix_costs = []\n",
    "cb_mix_costs.append(cg.draw_cost_breakdown(rows, columns, [(0,4),(1,3)], roll_in_cell=p[1]))\n",
    "cb_mix_costs.append(cg.draw_cost_breakdown(rows, columns, [(0,4),(1,3),(2,0)], roll_in_cell=p[1], explore_cell=(2,0)))\n",
    "for i in range(4):\n",
    "    p = gold_path.copy()\n",
    "    p[2] = (gold_path[2][0],i)\n",
    "    if p == gold_path:\n",
    "        cost = 0\n",
    "    elif i==1:\n",
    "        cost =2\n",
    "        p[3] = (3,0)\n",
    "    else:\n",
    "        cost = 1\n",
    "    cb_mix_costs.append(cg.draw_cost_breakdown(rows, columns, p, cost, p[3], roll_in_cell=p[1],roll_out_cell=(3,0), explore_cell=p[2]))\n",
    "util.Carousel(cb_mix_costs)"
   ]
  },
  {
   "cell_type": "markdown",
   "metadata": {
    "deletable": true,
    "editable": true,
    "slideshow": {
     "slide_type": "fragment"
    }
   },
   "source": [
    "<table style=\"border-style: hidden; border-collapse: collapse; padding: 50px;\">\n",
    "<thead>\n",
    "<tr>\n",
    "<th><b>Pronoun</b></th>\n",
    "<th><b>Modal</b></th>\n",
    "<th><b>Verb</b></th>\n",
    "<th><b>Noun</b></th>\n",
    "<th>features</th>\n",
    "</tr>\n",
    "</thead>\n",
    "<tbody>\n",
    "<tr>\n",
    "<td>1</td>\n",
    "<td>0</td>\n",
    "<td>2</td>\n",
    "<td>1</td>\n",
    "<td>token=can, prev=<b>Pronoun</b>...</td>\n",
    "</tr>\n",
    "</tbody>\n",
    "</table>"
   ]
  },
  {
   "cell_type": "markdown",
   "metadata": {
    "deletable": true,
    "editable": true,
    "slideshow": {
     "slide_type": "slide"
    }
   },
   "source": [
    "### DAgger with roll-outs\n",
    "\n",
    "<p style=\"border:3px; border-radius: 25px; background-color:lightgrey; border-style:solid; border-color:black; padding: 0.3em; font-size: 70%\">\n",
    "\\begin{align}\n",
    "& \\textbf{Input:} \\; D_{train} = \\{(\\mathbf{x}^1,\\mathbf{y}^1)...(\\mathbf{x}^M,\\mathbf{y}^M)\\}, \\; \\text{expert}\\; \\pi^{\\star}, \\; \\text{classifier} \\; H, \\; \\text{loss} \\; L\\\\\n",
    "& \\text{set training examples}\\; \\cal E = \\emptyset, \\; \\pi^{\\star}\\; \\mathrm{probability}\\; \\beta=1\\\\\n",
    "& \\mathbf{while}\\; \\text{termination condition not reached}\\; \\mathbf{do}\\\\\n",
    "& \\quad \\color{red}{\\text{set rollin/out policy} \\; \\pi^{in/out} = \\beta\\pi^{\\star} + (1-\\beta)H}\\\\\n",
    "& \\quad \\mathbf{for} \\; (\\mathbf{x},\\mathbf{y}) \\in D_{train} \\; \\mathbf{do}\\\\\n",
    "& \\quad \\quad \\text{rollin to predict} \\; \\hat \\alpha_1\\dots\\hat \\alpha_T  = \\pi^{in/out}(\\mathbf{x},\\mathbf{y})\\\\\n",
    "& \\quad \\quad \\mathbf{for} \\; \\hat \\alpha_t \\in \\hat \\alpha_1\\dots\\hat \\alpha_T \\; \\mathbf{do}\\\\\n",
    "& \\quad \\quad \\quad \\mathbf{for} \\; \\alpha \\in {\\cal A} \\; \\mathbf{do}\\\\\n",
    "& \\quad \\quad \\quad \\quad \\color{red}{\\text{rollout} \\; S_{final} = \\pi^{in/out}(S_{t-1}, \\alpha, \\mathbf{x})}\\\\\n",
    "& \\quad \\quad \\quad \\quad \\color{red}{\\text{cost}\\; c_{\\alpha}=L(S_{final}, \\mathbf{y})}\\\\\n",
    "& \\quad \\quad \\quad \\text{extract features}\\; \\mathit{feat}=\\phi(\\mathbf{x}, S_{t-1}) \\\\\n",
    "& \\quad \\quad \\quad \\cal E = \\cal E \\cup (\\mathit{feat},\\mathbf{c})\\\\\n",
    "& \\quad \\text{learn} \\;H \\; \\text{from}\\; \\cal E\\\\\n",
    "& \\quad \\text{decrease} \\; \\beta\\\\\n",
    "\\end{align}\n",
    "</p>"
   ]
  },
  {
   "cell_type": "markdown",
   "metadata": {
    "deletable": true,
    "editable": true,
    "slideshow": {
     "slide_type": "subslide"
    }
   },
   "source": [
    "### Roll-outs\n",
    "\n",
    "- non-decomposable loss only used on complete outputs\n",
    "- first proposed in SEARN ([Daumé III et al., 2009](http://hunch.net/~jl/projects/reductions/searn/searn.pdf))\n",
    "- used to hybridise DAgger by [Vlachos and Clark (2014)](http://www.aclweb.org/anthology/Q14-1042), referred to later as V-DAgger ([Goodman et al. 2016](http://aclweb.org/anthology/P16-1001))\n",
    "- also proposed as look-aheads ([Tsuruoka et al. 2011](http://www.anthology.aclweb.org/W/W11/W11-0328.pdf))\n",
    "- expensive with high variance when long sequences with many actions are possible \n",
    "- approximated ([Daumé III et al., 2009](http://hunch.net/~jl/projects/reductions/searn/searn.pdf)), focused ([Vlachos and Craven, 2011](http://www.aclweb.org/anthology/W/W11/W11-0307.pdf)) or used selectively ([Goodman et al. 2016](http://aclweb.org/anthology/P16-1001))"
   ]
  },
  {
   "cell_type": "markdown",
   "metadata": {
    "deletable": true,
    "editable": true,
    "slideshow": {
     "slide_type": "slide"
    }
   },
   "source": [
    "### Locally Optimal Learning to Search (LOLS, [Chang et al., 2015](https://arxiv.org/pdf/1502.02206.pdf))\n",
    "\n",
    "<img src=\"images/lols.png\" style=\"width:60%;\">\n",
    "- rollin always with the classifier\n",
    "- each rollout uses only the expert or the classifier "
   ]
  },
  {
   "cell_type": "markdown",
   "metadata": {
    "deletable": true,
    "editable": true,
    "slideshow": {
     "slide_type": "skip"
    }
   },
   "source": [
    "### Cost-sensitive classification\n",
    "\n",
    "Each action has a different cost:\n",
    "\n",
    "<table style=\"border-style: hidden; border-collapse: collapse; padding: 50px\">\n",
    "<thead>\n",
    "<tr>\n",
    "<th>O</th> \n",
    "<th>B-PER</th>\n",
    "<th>I-PER</th>\n",
    "<th>B-LOC</th>\n",
    "<th>I-LOC</th>\n",
    "<th>B-ORG</th>\n",
    "<th>I-ORG</th>\n",
    "</tr>\n",
    "</thead>\n",
    "<tbody>\n",
    "<tr>\n",
    "<td>2</td>\n",
    "<td>3</td>\n",
    "<td>0</td>\n",
    "<td>3</td>\n",
    "<td>3</td>\n",
    "<td>3</td>\n",
    "<td>3</td>\n",
    "</tr>\n",
    "</tbody>\n",
    "</table>"
   ]
  },
  {
   "cell_type": "markdown",
   "metadata": {
    "deletable": true,
    "editable": true,
    "slideshow": {
     "slide_type": "skip"
    }
   },
   "source": [
    "Learning classifier with costs:\n",
    "- sample instances according to their cost to train any classifier ([Abe et al., 2004](http://www.hunch.net/~jl/projects/reductions/mc2/p542-Abe.pdf))\n",
    "- in error-driven learning adjust the updates in proportion to the error cost ([Crammer et al., 2006](http://jmlr.csail.mit.edu/papers/volume7/crammer06a/crammer06a.pdf))"
   ]
  },
  {
   "cell_type": "markdown",
   "metadata": {
    "deletable": true,
    "editable": true,
    "slideshow": {
     "slide_type": "skip"
    }
   },
   "source": [
    "<h3>Generic imitation learning</h3>\n",
    "\n",
    "<p style=\"border:3px; border-radius: 25px; background-color:lightgrey; border-style:solid; border-color:black; padding: 0.3em; font-size: 75%\">\n",
    "\\begin{align}\n",
    "& \\textbf{Input:} \\; D_{train} = \\{(\\mathbf{x}^1,\\mathbf{y}^1)...(\\mathbf{x}^M,\\mathbf{y}^M)\\}, \\; \\text{expert}\\; \\pi^{\\star}, \\text{classifier} \\; H, \\; \\text{loss} \\; L\\\\\n",
    "& \\text{set training examples}\\; \\cal E = \\emptyset\\\\\n",
    "& \\mathbf{while}\\; \\text{termination condition not reached}\\; \\mathbf{do}\\\\\n",
    "& \\quad \\color{red}{\\text{set rollin policy} \\; \\pi^{in} = mix(H,\\pi^{\\star})}\\\\\n",
    "& \\quad \\color{red}{\\text{set rollout policy} \\; \\pi^{out} = mix(H,\\pi^{\\star})}\\\\\n",
    "& \\quad \\mathbf{for} \\; (\\mathbf{x},\\mathbf{y}) \\in D_{train} \\; \\mathbf{do}\\\\\n",
    "& \\quad \\quad \\color{red}{\\text{rollin to predict} \\; \\hat \\alpha_1\\dots\\hat \\alpha_T  = \\pi^{in}(\\mathbf{x},\\mathbf{y})}\\\\\n",
    "& \\quad \\quad \\mathbf{for} \\; \\hat \\alpha_t \\in \\hat \\alpha_1\\dots\\hat \\alpha_T \\; \\mathbf{do}\\\\\n",
    "& \\quad \\quad \\quad \\color{red}{\\text{rollout to obtain costs}\\; c \\; \\text{for all possible actions using}\\; L}\\\\\n",
    "& \\quad \\quad \\quad \\text{extract features}\\; \\mathit{feat}=\\phi(\\mathbf{x},S_{t-1}) \\\\\n",
    "& \\quad \\quad \\quad \\cal E = \\cal E \\cup (\\mathit{feat},c)\\\\\n",
    "& \\quad \\text{learn}\\; H \\; \\text{from}\\; \\cal E\\\\\n",
    "\\end{align}\n",
    "</p>"
   ]
  },
  {
   "cell_type": "markdown",
   "metadata": {
    "deletable": true,
    "editable": true,
    "slideshow": {
     "slide_type": "skip"
    }
   },
   "source": [
    "### Overview\n",
    "\n",
    "<table style=\"border-style: hidden\">\n",
    "<thead>\n",
    "<tr>\n",
    "<th style=\"padding: 10px;\">Method</th>\n",
    "<th style=\"padding: 10px;\">rollin</th>\n",
    "<th style=\"padding: 10px;\">rollout</th>\n",
    "<!--<th style=\"padding: 10px;\">loss</th>-->\n",
    "<th style=\"padding: 10px;\">expert decay</th>\n",
    "<th style=\"padding: 10px;\">training data</th>\n",
    "</tr>\n",
    "</thead>\n",
    "<tbody>\n",
    "<tr>\n",
    "<td style=\"padding: 10px;\">classification</td>\n",
    "<td style=\"padding: 10px;\">expert</td>\n",
    "<td style=\"padding: 10px;\">N/A</td>\n",
    "<!--<td style=\"padding: 10px;\">0/1</td>-->\n",
    "<td style=\"padding: 10px;\">N/A</td>\n",
    "<td style=\"padding: 10px;\">single iteration</td>\n",
    "</tr>\n",
    "<tr>\n",
    "<td style=\"padding: 10px;\">DAgger</td>\n",
    "<td style=\"padding: 10px;\">mix</td>\n",
    "<td style=\"padding: 10px;\">N/A</td>\n",
    "<!--<td style=\"padding: 10px;\">0/1</td>-->\n",
    "<td style=\"padding: 10px;\">decrease</td>\n",
    "<td style=\"padding: 10px;\">all iterations</td>\n",
    "</tr>\n",
    "<tr>\n",
    "<td style=\"padding: 10px;\">SEARN</td>\n",
    "<td style=\"padding: 10px;\">mix</td>\n",
    "<td style=\"padding: 10px;\">mix</td>\n",
    "<!--<td style=\"padding: 10px;\">task</td>-->\n",
    "<td style=\"padding: 10px;\">exponential</td>\n",
    "<td style=\"padding: 10px;\">weighted average across iterations</td>\n",
    "</tr>\n",
    "<tr>\n",
    "<td style=\"padding: 10px;\">V-DAgger</td>\n",
    "<td style=\"padding: 10px;\">mix</td>\n",
    "<td style=\"padding: 10px;\">mix</td>\n",
    "<!--<td style=\"padding: 10px;\">task</td>-->\n",
    "<td style=\"padding: 10px;\">exponential</td>\n",
    "<td style=\"padding: 10px;\">all iterations</td>\n",
    "</tr>\n",
    "<tr>\n",
    "<td style=\"padding: 10px;\">LOLS</td>\n",
    "<td style=\"padding: 10px;\">classifier</td>\n",
    "<td style=\"padding: 10px;\">action-level mix</td>\n",
    "<!--<td style=\"padding: 10px;\">task</td>-->\n",
    "<td style=\"padding: 10px;\">no decay</td>\n",
    "<td style=\"padding: 10px;\">averaged across iterations</td>\n",
    "</tr>\n",
    "</tbody>\n",
    "</table>"
   ]
  },
  {
   "cell_type": "markdown",
   "metadata": {
    "deletable": true,
    "editable": true,
    "slideshow": {
     "slide_type": "slide"
    }
   },
   "source": [
    "### Summary so far\n",
    "\n",
    "- basic intuition behind IL\n",
    "- rollin and the DAgger algorithm \n",
    "- rollouts, V-DAgger, SEARN and LOLS"
   ]
  },
  {
   "cell_type": "markdown",
   "metadata": {
    "deletable": true,
    "editable": true,
    "slideshow": {
     "slide_type": "slide"
    }
   },
   "source": [
    "<center>\n",
    "<h2>Applications</h2>\n",
    "</center>"
   ]
  },
  {
   "cell_type": "markdown",
   "metadata": {
    "deletable": true,
    "editable": true,
    "slideshow": {
     "slide_type": "slide"
    }
   },
   "source": [
    "<h3>Natural Language Generation (NLG)</h3>\n",
    "<img src=\"images/nlg.png\" style=\"width:80%; background:white;\" />\n",
    "<p>\n",
    "Like machine translation but the training data is rather limited\n",
    "</p>"
   ]
  },
  {
   "cell_type": "markdown",
   "metadata": {
    "deletable": true,
    "editable": true,
    "slideshow": {
     "slide_type": "subslide"
    }
   },
   "source": [
    "<h3>Learning NLG</h3>\n",
    "<img src=\"images/ContentAndWord.png\" style=\"width:100%; background:white;\" />\n",
    "<p>\n",
    "<ul>\n",
    "<li>Two types of actions: content selection and word prediction</li>\n",
    "<li>Unaligned training data underspecifies expert policy</li>\n",
    "</ul>\n",
    "</p>"
   ]
  },
  {
   "cell_type": "markdown",
   "metadata": {
    "deletable": true,
    "editable": true,
    "slideshow": {
     "slide_type": "slide"
    }
   },
   "source": [
    "### Imitation learning for NLG ([Lampouras and Vlachos, 2016](https://aclweb.org/anthology/C/C16/C16-1105.pdf))\n",
    "\n",
    "Combined elements of [SEARN](http://www.umiacs.umd.edu/~hal/docs/daume09searn.pdf) and [LOLS](https://arxiv.org/abs/1502.02206):\n",
    "- **rollin** using the classifier (LOLS)\n",
    "- at each timestep **rollout** with expert or classifier exclusively (LOLS) with decaying probability for the former (SEARN)\n",
    "\n",
    "Improved performance further by **sequence correction**:\n",
    "- avoiding generating training examples from very bad rollins\n",
    "- correct them instead and rollin again"
   ]
  },
  {
   "cell_type": "markdown",
   "metadata": {
    "deletable": true,
    "editable": true,
    "slideshow": {
     "slide_type": "subslide"
    }
   },
   "source": [
    "### Sequence correction ### \n",
    "<center>\n",
    "<img src=\"images/seqCorrection3.png\" width=\"70%\">\n",
    "</center>\n",
    "<br>\n",
    "<br>\n",
    "<div style=\"display:inline-block;\">\n",
    "<small>\n",
    "        <p style=\"border:2px; border-radius: 15px; background-color:white; border-style:solid; border-color:black; padding: 0.5em; font-size: 80%; display: inline-block\">\n",
    "        \\begin{align}\n",
    "        & \\text{Predicate: INFORM}\\\\\n",
    "        & \\text{______________________}\\\\\n",
    "        & \\text{name = X-name-1}\\\\\n",
    "        & \\text{dogs_allowed = yes}\n",
    "        \\end{align}\n",
    "        </p>\n",
    "</small>\n",
    "</div>"
   ]
  },
  {
   "cell_type": "markdown",
   "metadata": {
    "deletable": true,
    "editable": true,
    "slideshow": {
     "slide_type": "subslide"
    }
   },
   "source": [
    "### Sequence correction ### \n",
    "<center>\n",
    "<img src=\"images/seqCorrection4.png\" width=\"70%\">\n",
    "</center>\n",
    "<br>\n",
    "<br>\n",
    "<div style=\"display:inline-block;\">\n",
    "<small>\n",
    "        <p style=\"border:2px; border-radius: 15px; background-color:white; border-style:solid; border-color:black; padding: 0.5em; font-size: 80%; display: inline-block\">\n",
    "        \\begin{align}\n",
    "        & \\text{Predicate: INFORM}\\\\\n",
    "        & \\text{______________________}\\\\\n",
    "        & \\text{name = X-name-1}\\\\\n",
    "        & \\text{dogs_allowed = yes}\n",
    "        \\end{align}\n",
    "        </p>\n",
    "</small>\n",
    "</div>"
   ]
  },
  {
   "cell_type": "markdown",
   "metadata": {
    "deletable": true,
    "editable": true,
    "slideshow": {
     "slide_type": "subslide"
    }
   },
   "source": [
    "### Sequence correction ### \n",
    "\n",
    "<center>\n",
    "<img src=\"images/seqCorrection5.png\" width=\"70%\">\n",
    "</center>\n",
    "<br>\n",
    "<br>\n",
    "<div style=\"display:inline-block;\">\n",
    "<small>\n",
    "        <p style=\"border:2px; border-radius: 15px; background-color:white; border-style:solid; border-color:black; padding: 0.5em; font-size: 80%; display: inline-block\">\n",
    "        \\begin{align}\n",
    "        & \\text{Predicate: INFORM}\\\\\n",
    "        & \\text{______________________}\\\\\n",
    "        & \\text{name = X-name-1}\\\\\n",
    "        & \\text{dogs_allowed = yes}\n",
    "        \\end{align}\n",
    "        </p>\n",
    "</small>\n",
    "</div>"
   ]
  },
  {
   "cell_type": "markdown",
   "metadata": {
    "deletable": true,
    "editable": true,
    "slideshow": {
     "slide_type": "subslide"
    }
   },
   "source": [
    "### Sequence correction ### \n",
    "\n",
    "After a suboptimal action, correct the rollin using $\\pi^{\\star}$.\n",
    "<br>\n",
    "<br>\n",
    "<br>\n",
    "<br>\n",
    "<center>\n",
    "<img src=\"images/seqCorrection0.png\" width=\"70%\">\n",
    "</center>\n",
    "<br>\n",
    "<br>"
   ]
  },
  {
   "cell_type": "markdown",
   "metadata": {
    "deletable": true,
    "editable": true,
    "slideshow": {
     "slide_type": "subslide"
    }
   },
   "source": [
    "### Sequence correction ###\n",
    "\n",
    "After a suboptimal action, correct the rollin using $\\pi^{\\star}$.\n",
    "<br>\n",
    "<br>\n",
    "And re-rollin the rest of the sequence using the classifier $H$.\n",
    "<br>\n",
    "<br>\n",
    "<center>\n",
    "<img src=\"images/seqCorrection2.png\" width=\"70%\">\n",
    "</center>\n",
    "<br>\n",
    "<br>"
   ]
  },
  {
   "cell_type": "markdown",
   "metadata": {
    "deletable": true,
    "editable": true,
    "slideshow": {
     "slide_type": "slide"
    }
   },
   "source": [
    "### Sequence correction ###\n",
    "\n",
    "After a suboptimal action, correct the rollin using $\\pi^{\\star}$.\n",
    "<br>\n",
    "<br>\n",
    "And re-rollin the rest of the sequence using the classifier $H$.\n",
    "<br>\n",
    "<br>\n",
    "<center>\n",
    "<img src=\"images/seqCorrection2.png\" width=\"70%\">\n",
    "</center>\n",
    "<br>\n",
    "Before correcting, allow a number of actions after the suboptimal one.\n"
   ]
  },
  {
   "cell_type": "markdown",
   "metadata": {
    "deletable": true,
    "editable": true,
    "slideshow": {
     "slide_type": "subslide"
    }
   },
   "source": [
    "### NLG automatic evaluation\n",
    "<br>\n",
    "<center>\n",
    "<img src=\"images/seqCorrectResults.png\" style=\"width:40%; float: left; transform: translateY(40%);\">\n",
    "<br>\n",
    "<img src=\"images/NLG_policyResults.jpg\" style=\"width:50%; float: right;\" class=\"fragment\">\n",
    "</center>\n",
    "<!--<img src=\"images/NLG_policyResults.jpg\" style=\"width:70%;\">-->"
   ]
  },
  {
   "cell_type": "markdown",
   "metadata": {
    "deletable": true,
    "editable": true,
    "slideshow": {
     "slide_type": "subslide"
    }
   },
   "source": [
    "### Comparison against state of the art\n",
    "<img src=\"images/NLGResults.png\">\n",
    "<p>\n",
    "<ul>\n",
    "<li>SFO datasets have overlap in training/dev/test</li>\n",
    "<li>Dusek and Jurcicek used manually engineered templates</li>\n",
    "</ul>\n",
    "</p>"
   ]
  },
  {
   "cell_type": "markdown",
   "metadata": {
    "deletable": true,
    "editable": true,
    "slideshow": {
     "slide_type": "slide"
    }
   },
   "source": [
    "<h3>Abstract meaning representation (AMR) parsing</h3>\n",
    "<img src=\"images/amr.png\" style=\"width:70%; background:white;\" />\n",
    "<p>\n",
    "<ul>\n",
    "<li>Designed for semantics-based MT\n",
    "(<a href=\"http://amr.isi.edu/a.pdf)\">Banarescu et al. 2013</a>)</li>\n",
    "<li>Many applications: summarization, generation, etc.</li>\n",
    "<li>See recent tutorial by <a href=\"http://naacl.org/naacl-hlt-2015/tutorial-amr-semantics.html\">Schneider et al. (2015)</a></li>\n",
    "</ul>\n",
    "</p>"
   ]
  },
  {
   "cell_type": "markdown",
   "metadata": {
    "deletable": true,
    "editable": true,
    "slideshow": {
     "slide_type": "subslide"
    }
   },
   "source": [
    "<h3>Dependency parse to AMR (Wang et al., 2015)</h3>\n",
    "<img src=\"images/dep2amr.png\" style=\"width:90%; background:white;\" />\n",
    "\n",
    "<ul>\n",
    "<li>Start from the dependency parse instead of the sentence</li>\n",
    "<li>Convert it to AMR by taking a sequence of actions</li>\n",
    "</ul>"
   ]
  },
  {
   "cell_type": "markdown",
   "metadata": {
    "deletable": true,
    "editable": true,
    "slideshow": {
     "slide_type": "subslide"
    }
   },
   "source": [
    "### Similar to transition-based dependency parsing\n",
    "<center>\n",
    "<img src=\"images/stateTransitExpert.png\">\n",
    "</center>"
   ]
  },
  {
   "cell_type": "markdown",
   "metadata": {
    "deletable": true,
    "editable": true,
    "slideshow": {
     "slide_type": "fragment"
    }
   },
   "source": [
    "but harder:\n",
    "- long action sequences (50-200), theoretically unbounded\n",
    "- many possible actions (~10^4)"
   ]
  },
  {
   "cell_type": "markdown",
   "metadata": {
    "deletable": true,
    "editable": true,
    "slideshow": {
     "slide_type": "slide"
    }
   },
   "source": [
    "### Imitation learning for AMR parsing ([Goodman et al., 2016](http://aclweb.org/anthology/P16-1001))\n",
    "\n",
    "Improved transition-based AMR pasing with\n",
    "- DAgger (rollins)\n",
    "- V-DAgger (rollouts)\n",
    "\n",
    "Novel ingredient to help: **targeted exploration**"
   ]
  },
  {
   "cell_type": "markdown",
   "metadata": {
    "deletable": true,
    "editable": true,
    "slideshow": {
     "slide_type": "skip"
    }
   },
   "source": [
    "<h3>Generic imitation learning (repeat)</h3>\n",
    "\n",
    "<p style=\"border:3px; border-radius: 25px; background-color:lightgrey; border-style:solid; border-color:black; padding: 0.3em; font-size: 75%\">\n",
    "\\begin{align}\n",
    "& \\textbf{Input:} \\; D_{train} = \\{(\\mathbf{x}^1,\\mathbf{y}^1)...(\\mathbf{x}^M,\\mathbf{y}^M)\\}, \\; \\text{expert}\\; \\pi^{\\star}, \\text{classifier} \\; H, \\; \\text{loss} \\; L\\\\\n",
    "& \\text{set training examples}\\; \\cal E = \\emptyset\\\\\n",
    "& \\mathbf{while}\\; \\text{termination condition not reached}\\; \\mathbf{do}\\\\\n",
    "& \\quad \\color{red}{\\text{set rollin policy} \\; \\pi^{in} = mix(H,\\pi^{\\star})}\\\\\n",
    "& \\quad \\color{red}{\\text{set rollout policy} \\; \\pi^{out} = mix(H,\\pi^{\\star})}\\\\\n",
    "& \\quad \\mathbf{for} \\; (\\mathbf{x},\\mathbf{y}) \\in D_{train} \\; \\mathbf{do}\\\\\n",
    "& \\quad \\quad \\color{red}{\\text{rollin to predict} \\; \\hat \\alpha_1\\dots\\hat \\alpha_T  = \\pi^{in}(\\mathbf{x},\\mathbf{y})}\\\\\n",
    "& \\quad \\quad \\mathbf{for} \\; \\hat \\alpha_t \\in \\hat \\alpha_1\\dots\\hat \\alpha_T \\; \\mathbf{do}\\\\\n",
    "& \\quad \\quad \\quad \\color{red}{\\text{rollout to obtain costs}\\; c \\; \\text{for all possible actions using}\\; L}\\\\\n",
    "& \\quad \\quad \\quad \\text{extract features}\\; \\mathit{feat}=\\phi(\\mathbf{x},S_{t-1}) \\\\\n",
    "& \\quad \\quad \\quad \\cal E = \\cal E \\cup (\\mathit{feat},c)\\\\\n",
    "& \\quad \\text{learn}\\; H \\; \\text{from}\\; \\cal E\\\\\n",
    "\\end{align}\n",
    "</p>"
   ]
  },
  {
   "cell_type": "markdown",
   "metadata": {
    "deletable": true,
    "editable": true,
    "slideshow": {
     "slide_type": "skip"
    }
   },
   "source": [
    "<h3>Noise reduction</h3>\n",
    "\n",
    "<p>$\\phi(\\mathbf{x},\\hat y_1\\dots \\hat y_{n-1})$ describes input and\n",
    "past actions with discrete features.</p>\n",
    "\n",
    "<p>Long action histories are difficult to capture:\n",
    "<ul>\n",
    "<li>simple features (e.g. previous action) are not discriminative</li>\n",
    "<li>complex features are sparse and difficult to learn weights for</li>\n",
    "</ul>\n",
    "</p>\n",
    "\n",
    "<p class=\"fragment\" data-fragment-index=\"1\">Badly described instances act as noise during training.</p>\n",
    "\n",
    "<p class=\"fragment\" data-fragment-index=\"1\">\n",
    "Used the $\\alpha$-bound (<a href=\"http://www.jmlr.org/papers/volume8/khardon07a/khardon07a.pdf\">Khardon and Wachman, 2007</a>):\n",
    "</br>in error-driven training if an instance is misclassified $\\alpha$ times, remove it.\n",
    "</p>"
   ]
  },
  {
   "cell_type": "markdown",
   "metadata": {
    "deletable": true,
    "editable": true,
    "slideshow": {
     "slide_type": "skip"
    }
   },
   "source": [
    "### $\\alpha$-bound results ###\n",
    "<br>\n",
    "<img src=\"images/aboundResults.png\" width=\"80%\">"
   ]
  },
  {
   "cell_type": "markdown",
   "metadata": {
    "deletable": true,
    "editable": true,
    "slideshow": {
     "slide_type": "subslide"
    }
   },
   "source": [
    "### Targeted exploration\n",
    "\n",
    "Rolling out all possible actions can be useful but impractical:\n",
    "- long action sequences (50-200)\n",
    "- many possible actions (~10^4)\n",
    "\n",
    "Rollout (and evaluate the loss) only of:\n",
    "- the action returned by the expert\n",
    "- the actions scored by the classifier within a threshold $\\tau$ from the highest scoring action"
   ]
  },
  {
   "cell_type": "markdown",
   "metadata": {
    "deletable": true,
    "editable": true,
    "slideshow": {
     "slide_type": "subslide"
    }
   },
   "source": [
    "<h3>Targeted exploration</h3>\n",
    "\n",
    "<img style=\"float: left;\" width=\"45%\" src=\"images/ReducedExplorationIter.png\" style=\"padding: 0.3em; background:white;\">\n",
    "<img width=\"47%\" src=\"images/ReducedExploration.png\" style=\"padding: 0.3em; background:white;\">\n",
    "<p>\n",
    "<ul>\n",
    "<li>3 iterations of standard V-DAgger (9.6K mins): 65.2</li>\n",
    "<li>narrow exploration has quick benefits but not optimal</li>\n",
    "</ul></p>"
   ]
  },
  {
   "cell_type": "markdown",
   "metadata": {
    "deletable": true,
    "editable": true,
    "slideshow": {
     "slide_type": "slide"
    }
   },
   "source": [
    "### Comparison between IL approaches ###\n",
    "\n",
    "<center>\n",
    "<img src=\"images/amrResults_otherIL.png\">\n",
    "</center>"
   ]
  },
  {
   "cell_type": "markdown",
   "metadata": {
    "deletable": true,
    "editable": true,
    "slideshow": {
     "slide_type": "subslide"
    }
   },
   "source": [
    "### Comparison against state of the art ###\n",
    "\n",
    "<img src=\"images/semParseRes.png\">\n",
    "\n",
    "<p>Wang et al. (2015b) also used a semantic role labeler, coreference resolver, a word sense disambiguation system, etc.</p>"
   ]
  },
  {
   "cell_type": "markdown",
   "metadata": {
    "deletable": true,
    "editable": true,
    "slideshow": {
     "slide_type": "slide"
    }
   },
   "source": [
    "<center>\n",
    "<h2>Related work</h2>\n",
    "</center>"
   ]
  },
  {
   "cell_type": "markdown",
   "metadata": {
    "deletable": true,
    "editable": true,
    "slideshow": {
     "slide_type": "subslide"
    }
   },
   "source": [
    "### Reinforcement learning\n",
    "\n",
    "<p style=\"float: left;\">\n",
    "<ul style=\"float: left;\">\n",
    "<li>states defined via features</li>\n",
    "<li>the agent is a classifier</li>\n",
    "<li>rewards?</li>\n",
    "</ul>\n",
    "</p>\n",
    "\n",
    "<a href=\"https://webdocs.cs.ualberta.ca/~sutton/book/ebook/node28.html\"><img src=\"images/RL_sutton.png\" style=\"width:40%; float: right;\"></a>"
   ]
  },
  {
   "cell_type": "markdown",
   "metadata": {
    "deletable": true,
    "editable": true,
    "slideshow": {
     "slide_type": "fragment"
    }
   },
   "source": [
    "**Inverse reinforcement learning**\n",
    "\n",
    "- we have the expert policy (inferred from the gold standard in the training data)\n",
    "- we infer the per-action reward function (rollin/out)\t\t\t\t\n",
    "\n",
    "\n",
    "LOLS with classifier only rollouts is RL ([Chang et al., 2015](https://arxiv.org/pdf/1502.02206.pdf))"
   ]
  },
  {
   "cell_type": "markdown",
   "metadata": {
    "deletable": true,
    "editable": true,
    "slideshow": {
     "slide_type": "subslide"
    }
   },
   "source": [
    "<h3> What about Recurrent Neural Networks?</h3>\n",
    "\n",
    "<img src=\"images/rnn.png\" width=\"60%\"  style=\"background:none;\" />\n",
    "\n",
    "<p>They face similar problems:\n",
    "\t\t\t\t<ul>\n",
    "\t\t\t\t<li>trained at the word rather than sentence level</li>\n",
    "\t\t\t\t<li>assume previous predictions are correct</li>\n",
    "\t\t\t</ul>\n",
    "\t\t\t</p>"
   ]
  },
  {
   "cell_type": "markdown",
   "metadata": {
    "deletable": true,
    "editable": true,
    "slideshow": {
     "slide_type": "subslide"
    }
   },
   "source": [
    "### Imitation learning and RNNs\n",
    "\n",
    "<img src=\"images/mixer.png\" width=\"70%\"  style=\"background:none;\" />\n",
    "\n",
    "\n",
    "- DAgger mixed rollins, similar to scheduled sampling ([Bengio et al., 2015](http://arxiv.org/abs/1506.03099))\n",
    "- MIXER  (<a href=\"https://arxiv.org/abs/1511.06732\">Ranzato et al., 2016</a>): Mix REINFORCE-ment learning with imitation: we have the expert policy!\n",
    "- no rollouts, learn a  regressor to estimate action costs\n",
    "- end-to-end back propagation through the sequence"
   ]
  },
  {
   "cell_type": "markdown",
   "metadata": {
    "deletable": true,
    "editable": true,
    "slideshow": {
     "slide_type": "subslide"
    }
   },
   "source": [
    "### Actor-critic\n",
    "\n",
    "![](images/actorcritic.png)\n",
    "\n",
    "[Bahdanau et al. (2017)](https://arxiv.org/pdf/1607.07086.pdf):\n",
    "- actor: the RNN we are learning to use during testing\n",
    "- critic: another RNN that is trained to predict the value of the actions of the critic"
   ]
  },
  {
   "cell_type": "markdown",
   "metadata": {
    "deletable": true,
    "editable": true,
    "slideshow": {
     "slide_type": "slide"
    }
   },
   "source": [
    "### Summary\n",
    "\n",
    "Imitation learning:\n",
    "- better training data for incremental predictors via appropriate training data generation\n",
    "- addresses error propagation and takes into account the  non-decomposable task loss\n",
    "- many successful applications\n",
    "- connections with RL and RNNs"
   ]
  },
  {
   "cell_type": "markdown",
   "metadata": {
    "deletable": true,
    "editable": true,
    "slideshow": {
     "slide_type": "slide"
    }
   },
   "source": [
    "### Practical advice\n",
    "\n",
    "Check: \n",
    "- the expert policy is a good (suboptimal is fine) teacher\n",
    "- the (often approximated) loss function is sensible\n",
    "- the rollouts are informative\n",
    "\n",
    "Most improvements were inspired by these!"
   ]
  },
  {
   "cell_type": "markdown",
   "metadata": {
    "deletable": true,
    "editable": true,
    "slideshow": {
     "slide_type": "fragment"
    }
   },
   "source": [
    "When **not to use imitation learning**: when you can argmax over the structured output without sacrifices"
   ]
  },
  {
   "cell_type": "markdown",
   "metadata": {
    "deletable": true,
    "editable": true,
    "slideshow": {
     "slide_type": "subslide"
    }
   },
   "source": [
    "### Some more links\n",
    "\n",
    "Based on the <a href=\"http://sheffieldnlp.github.io/ImitationLearningTutorialEACL2017/\">EACL2017 tutorial</a> with <a href=\"http://glampouras.github.io\">Gerasimos Lampouras</a> and \n",
    "<a href=\"http://www.riedelcastro.org/\">Sebastian Riedel</a>\n",
    "\n",
    "Code:\n",
    "<ul>\n",
    "<li>Vowpal Wabbit Credit assignment compiler ([in Python](http://hunch.net/~vw))</li>\n",
    "<li>V-DAgger ([in Scala](https://github.com/hopshackle/dagger-AMR)) ([in Python](https://github.com/sheffieldnlp/APEimitaion))</li> \n",
    "<li>LOLS ([in Java](https://github.com/glampouras/JLOLS_NLG))\n",
    "</li> \n",
    "<li>MIXER ([in Lua](https://research.fb.com/downloads/mixer/))</li>\n",
    "<li>Upcoming Python3+scikit learn library</li>\n",
    "</ul>\n",
    "</p>"
   ]
  }
 ],
 "metadata": {
  "celltoolbar": "Slideshow",
  "kernelspec": {
   "display_name": "Python 3",
   "language": "python",
   "name": "python3"
  },
  "language_info": {
   "codemirror_mode": {
    "name": "ipython",
    "version": 3
   },
   "file_extension": ".py",
   "mimetype": "text/x-python",
   "name": "python",
   "nbconvert_exporter": "python",
   "pygments_lexer": "ipython3",
   "version": "3.5.2"
  },
  "livereveal": {
   "start_slideshow_at": "selected",
   "theme": "solarized",
   "transition": "fade"
  }
 },
 "nbformat": 4,
 "nbformat_minor": 2
}
