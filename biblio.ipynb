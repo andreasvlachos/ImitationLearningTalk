{
 "cells": [
  {
   "cell_type": "code",
   "execution_count": 8,
   "metadata": {
    "collapsed": false,
    "deletable": true,
    "editable": true,
    "slideshow": {
     "slide_type": "skip"
    }
   },
   "outputs": [
    {
     "data": {
      "text/plain": [
       "{'progress': 'true',\n",
       " 'scroll': 'true',\n",
       " 'start_slideshow_at': 'selected',\n",
       " 'theme': 'solarized',\n",
       " 'transition': 'slide'}"
      ]
     },
     "execution_count": 8,
     "metadata": {},
     "output_type": "execute_result"
    }
   ],
   "source": [
    "from IPython.html.services.config import ConfigManager\n",
    "from IPython.paths import locate_profile\n",
    "cm = ConfigManager(profile_dir=locate_profile(get_ipython().profile))\n",
    "cm.update('livereveal', {\n",
    "              'theme': 'solarized',\n",
    "              'transition': 'slide',\n",
    "              'start_slideshow_at': 'selected',\n",
    "              'progress': 'true',\n",
    "})"
   ]
  },
  {
   "cell_type": "markdown",
   "metadata": {
    "deletable": true,
    "editable": true,
    "slideshow": {
     "slide_type": "slide"
    }
   },
   "source": [
    "### Annotated bibliography \n",
    "\n",
    "#### PhD theses\n",
    "\n",
    "- [Hal Daumé III](http://www.umiacs.umd.edu/~hal/docs/daume06thesis.pdf): Practical Structured Learning Techniques for Natural Language Processing\n",
    "- [Stéphane Ross](http://www.cs.cmu.edu/~sross1/publications/ross_phdthesis.pdf): Interactive Learning for Sequential Decisions and Predictions\n",
    "- Abeel"
   ]
  },
  {
   "cell_type": "markdown",
   "metadata": {
    "deletable": true,
    "editable": true,
    "slideshow": {
     "slide_type": "slide"
    }
   },
   "source": [
    "#### Papers\n",
    "\n",
    "[Viera and Eisner, 2016](http://timvieira.github.io/doc/2016-tacl-pruning.pdf): Learning to Prune: Exploring the Frontier of Fast and Accurate Parsing *(LOLS with random expert=RL, changeprop)*\n",
    "\n",
    "[Goldberg and Nivre, 2012](http://www.aclweb.org/anthology/C12-1059): A Dynamic Oracle for Arc-Eager Dependency Parsing *(DAgger for dependency parsing)*\n",
    "\n",
    "[Ballesteros et al., 2016](https://arxiv.org/pdf/1603.03793.pdf): Training with Exploration Improves a Greedy Stack LSTM Parser *(DAgger for LSTM-based dependency parsing)*\n",
    "\n",
    "[Ranzato et al., 2016](https://arxiv.org/pdf/1511.06732.pdf): Sequence Level Training with Recurrent Neural Networks *(Imitation learning for RNNs, learns a cost estimator instead of using roll-outs)*\n",
    "\n",
    "[Daumé III et al., 2009](http://hunch.net/~jl/projects/reductions/searn/searn.pdf): Search-based structured prediction *(SEARN algorithm)*"
   ]
  },
  {
   "cell_type": "code",
   "execution_count": null,
   "metadata": {
    "collapsed": true,
    "deletable": true,
    "editable": true
   },
   "outputs": [],
   "source": []
  }
 ],
 "metadata": {
  "celltoolbar": "Slideshow",
  "kernelspec": {
   "display_name": "Python 3",
   "language": "python",
   "name": "python3"
  },
  "language_info": {
   "codemirror_mode": {
    "name": "ipython",
    "version": 3
   },
   "file_extension": ".py",
   "mimetype": "text/x-python",
   "name": "python",
   "nbconvert_exporter": "python",
   "pygments_lexer": "ipython3",
   "version": "3.5.2"
  }
 },
 "nbformat": 4,
 "nbformat_minor": 2
}
