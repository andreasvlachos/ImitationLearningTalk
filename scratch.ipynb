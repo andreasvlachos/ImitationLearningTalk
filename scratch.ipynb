{
 "cells": [
  {
   "cell_type": "code",
   "execution_count": null,
   "metadata": {
    "collapsed": true
   },
   "outputs": [],
   "source": [
    "%load_ext autoreload\n",
    "%autoreload 2"
   ]
  },
  {
   "cell_type": "code",
   "execution_count": 4,
   "metadata": {
    "collapsed": false
   },
   "outputs": [],
   "source": [
    "import il_tutorial.cost_graphs as cg"
   ]
  },
  {
   "cell_type": "code",
   "execution_count": 80,
   "metadata": {
    "collapsed": false
   },
   "outputs": [
    {
     "data": {
      "text/html": [
       "<svg baseProfile=\"full\" height=\"240\" version=\"1.1\" width=\"320\" xmlns=\"http://www.w3.org/2000/svg\" xmlns:ev=\"http://www.w3.org/2001/xml-events\" xmlns:xlink=\"http://www.w3.org/1999/xlink\"><defs><marker id=\"id33\" markerHeight=\"10\" markerWidth=\"10\" orient=\"auto\" refX=\"5\" refY=\"5\"><path d=\"M 0 0 L 10 5 L 0 10 z\" fill=\"blue\" /></marker></defs><text x=\"0\" y=\"40\">Noun</text><text x=\"0\" y=\"80\">Verb</text><text x=\"0\" y=\"120\">Modal</text><text x=\"0\" y=\"160\">Pronoun</text><text x=\"80\" y=\"200\">I</text><text x=\"160\" y=\"200\">can</text><text x=\"240\" y=\"200\">fly</text><line marker-end=\"url(#id33)\" stroke=\"rgb(10%,10%,16%)\" x1=\"80\" x2=\"160\" y1=\"160\" y2=\"120\" /><line marker-end=\"url(#id33)\" stroke=\"rgb(10%,10%,16%)\" x1=\"160\" x2=\"240\" y1=\"120\" y2=\"80\" /><text x=\"250\" y=\"80\">cost = 0</text><text x=\"80\" y=\"120\">rollin</text><text x=\"240\" y=\"120\">rollout</text></svg>"
      ],
      "text/plain": [
       "<IPython.core.display.HTML object>"
      ]
     },
     "execution_count": 80,
     "metadata": {},
     "output_type": "execute_result"
    }
   ],
   "source": [
    "rows = ['Noun', 'Verb', 'Modal', 'Pronoun']\n",
    "columns = ['I', 'can', 'fly']\n",
    "path = [(0,3),(1,2),(2,1)]\n",
    "cost = 0\n",
    "cost_cell = (2,1)\n",
    "cg.draw_cost_breakdown(rows, columns, path, cost, cost_cell, roll_in_cell=(0,2), roll_out_cell=(2,2))"
   ]
  }
 ],
 "metadata": {
  "kernelspec": {
   "display_name": "Python 3",
   "language": "python",
   "name": "python3"
  },
  "language_info": {
   "codemirror_mode": {
    "name": "ipython",
    "version": 3
   },
   "file_extension": ".py",
   "mimetype": "text/x-python",
   "name": "python",
   "nbconvert_exporter": "python",
   "pygments_lexer": "ipython3",
   "version": "3.5.1"
  }
 },
 "nbformat": 4,
 "nbformat_minor": 0
}
