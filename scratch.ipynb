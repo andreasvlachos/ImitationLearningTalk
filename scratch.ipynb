{
 "cells": [
  {
   "cell_type": "code",
   "execution_count": 1,
   "metadata": {
    "collapsed": false,
    "deletable": true,
    "editable": true,
    "slideshow": {
     "slide_type": "skip"
    }
   },
   "outputs": [],
   "source": [
    "%load_ext autoreload\n",
    "%autoreload 2"
   ]
  },
  {
   "cell_type": "code",
   "execution_count": 2,
   "metadata": {
    "collapsed": false,
    "deletable": true,
    "editable": true,
    "slideshow": {
     "slide_type": "skip"
    }
   },
   "outputs": [],
   "source": [
    "import il_tutorial.cost_graphs as cg\n",
    "import il_tutorial.util as util"
   ]
  },
  {
   "cell_type": "code",
   "execution_count": 5,
   "metadata": {
    "collapsed": false,
    "deletable": true,
    "editable": true,
    "slideshow": {
     "slide_type": "slide"
    }
   },
   "outputs": [
    {
     "data": {
      "text/html": [
       "<svg baseProfile=\"full\" height=\"240\" version=\"1.1\" width=\"320\" xmlns=\"http://www.w3.org/2000/svg\" xmlns:ev=\"http://www.w3.org/2001/xml-events\" xmlns:xlink=\"http://www.w3.org/1999/xlink\"><defs><marker id=\"id3\" markerHeight=\"10\" markerWidth=\"10\" orient=\"auto\" refX=\"5\" refY=\"5\"><path d=\"M 0 0 L 10 5 L 0 10 z\" fill=\"blue\" /></marker></defs><text x=\"0\" y=\"40\">Noun</text><text x=\"0\" y=\"80\">Verb</text><text x=\"0\" y=\"120\">Modal</text><text x=\"0\" y=\"160\">Pronoun</text><text x=\"80\" y=\"200\">I</text><text x=\"160\" y=\"200\">can</text><text x=\"240\" y=\"200\">fly</text><line marker-end=\"url(#id3)\" stroke=\"rgb(10%,10%,16%)\" x1=\"80\" x2=\"160\" y1=\"160\" y2=\"120\" /><line marker-end=\"url(#id3)\" stroke=\"rgb(10%,10%,16%)\" x1=\"160\" x2=\"240\" y1=\"120\" y2=\"80\" /><text x=\"250\" y=\"80\">cost = 0</text><text x=\"80\" y=\"115\">rollin</text><text x=\"240\" y=\"115\">rollout</text><line stroke=\"rgb(10%,10%,16%)\" stroke-dasharray=\"5 5\" x1=\"85\" x2=\"155\" y1=\"40\" y2=\"40\" /><line stroke=\"rgb(10%,10%,16%)\" stroke-dasharray=\"5 5\" x1=\"85\" x2=\"155\" y1=\"80\" y2=\"80\" /><line stroke=\"rgb(10%,10%,16%)\" stroke-dasharray=\"5 5\" x1=\"85\" x2=\"155\" y1=\"120\" y2=\"120\" /><line stroke=\"rgb(10%,10%,16%)\" stroke-dasharray=\"5 5\" x1=\"85\" x2=\"155\" y1=\"160\" y2=\"160\" /><line stroke=\"rgb(10%,10%,16%)\" stroke-dasharray=\"5 5\" x1=\"165\" x2=\"235\" y1=\"40\" y2=\"40\" /><line stroke=\"rgb(10%,10%,16%)\" stroke-dasharray=\"5 5\" x1=\"165\" x2=\"235\" y1=\"80\" y2=\"80\" /><line stroke=\"rgb(10%,10%,16%)\" stroke-dasharray=\"5 5\" x1=\"165\" x2=\"235\" y1=\"120\" y2=\"120\" /><line stroke=\"rgb(10%,10%,16%)\" stroke-dasharray=\"5 5\" x1=\"165\" x2=\"235\" y1=\"160\" y2=\"160\" /><line stroke=\"rgb(10%,10%,16%)\" stroke-dasharray=\"5 5\" x1=\"80\" x2=\"80\" y1=\"45\" y2=\"75\" /><line stroke=\"rgb(10%,10%,16%)\" stroke-dasharray=\"5 5\" x1=\"80\" x2=\"80\" y1=\"85\" y2=\"115\" /><line stroke=\"rgb(10%,10%,16%)\" stroke-dasharray=\"5 5\" x1=\"80\" x2=\"80\" y1=\"125\" y2=\"155\" /><line stroke=\"rgb(10%,10%,16%)\" stroke-dasharray=\"5 5\" x1=\"160\" x2=\"160\" y1=\"45\" y2=\"75\" /><line stroke=\"rgb(10%,10%,16%)\" stroke-dasharray=\"5 5\" x1=\"160\" x2=\"160\" y1=\"85\" y2=\"115\" /><line stroke=\"rgb(10%,10%,16%)\" stroke-dasharray=\"5 5\" x1=\"160\" x2=\"160\" y1=\"125\" y2=\"155\" /><line stroke=\"rgb(10%,10%,16%)\" stroke-dasharray=\"5 5\" x1=\"240\" x2=\"240\" y1=\"45\" y2=\"75\" /><line stroke=\"rgb(10%,10%,16%)\" stroke-dasharray=\"5 5\" x1=\"240\" x2=\"240\" y1=\"85\" y2=\"115\" /><line stroke=\"rgb(10%,10%,16%)\" stroke-dasharray=\"5 5\" x1=\"240\" x2=\"240\" y1=\"125\" y2=\"155\" /></svg>"
      ],
      "text/plain": [
       "<IPython.core.display.HTML object>"
      ]
     },
     "execution_count": 5,
     "metadata": {},
     "output_type": "execute_result"
    }
   ],
   "source": [
    "rows = ['Noun', 'Verb', 'Modal', 'Pronoun']\n",
    "columns = ['I', 'can', 'fly']\n",
    "path = [(0,3),(1,2),(2,1)]\n",
    "cost = 0\n",
    "cost_cell = (2,1)\n",
    "cb1 = cg.draw_cost_breakdown(rows, columns, path, cost, cost_cell, roll_in_cell=(0,2), roll_out_cell=(2,2))\n",
    "cb1"
   ]
  },
  {
   "cell_type": "code",
   "execution_count": 6,
   "metadata": {
    "collapsed": false,
    "deletable": true,
    "editable": true,
    "slideshow": {
     "slide_type": "slide"
    }
   },
   "outputs": [
    {
     "data": {
      "text/html": [
       "\n",
       "        <div id=\"b6fdaafe-0d01-11e7-aed3-87cb68b3ef4a\" class=\"carousel\" data-ride=\"carousel\" data-interval=\"false\">\n",
       "          <div class=\"carousel-inner\" role=\"listbox\">\n",
       "          <div class=\"item active\"><svg baseProfile=\"full\" height=\"240\" version=\"1.1\" width=\"320\" xmlns=\"http://www.w3.org/2000/svg\" xmlns:ev=\"http://www.w3.org/2001/xml-events\" xmlns:xlink=\"http://www.w3.org/1999/xlink\"><defs><marker id=\"id3\" markerHeight=\"10\" markerWidth=\"10\" orient=\"auto\" refX=\"5\" refY=\"5\"><path d=\"M 0 0 L 10 5 L 0 10 z\" fill=\"blue\" /></marker></defs><text x=\"0\" y=\"40\">Noun</text><text x=\"0\" y=\"80\">Verb</text><text x=\"0\" y=\"120\">Modal</text><text x=\"0\" y=\"160\">Pronoun</text><text x=\"80\" y=\"200\">I</text><text x=\"160\" y=\"200\">can</text><text x=\"240\" y=\"200\">fly</text><line marker-end=\"url(#id3)\" stroke=\"rgb(10%,10%,16%)\" x1=\"80\" x2=\"160\" y1=\"160\" y2=\"120\" /><line marker-end=\"url(#id3)\" stroke=\"rgb(10%,10%,16%)\" x1=\"160\" x2=\"240\" y1=\"120\" y2=\"80\" /><text x=\"250\" y=\"80\">cost = 0</text><text x=\"80\" y=\"115\">rollin</text><text x=\"240\" y=\"115\">rollout</text><line stroke=\"rgb(10%,10%,16%)\" stroke-dasharray=\"5 5\" x1=\"85\" x2=\"155\" y1=\"40\" y2=\"40\" /><line stroke=\"rgb(10%,10%,16%)\" stroke-dasharray=\"5 5\" x1=\"85\" x2=\"155\" y1=\"80\" y2=\"80\" /><line stroke=\"rgb(10%,10%,16%)\" stroke-dasharray=\"5 5\" x1=\"85\" x2=\"155\" y1=\"120\" y2=\"120\" /><line stroke=\"rgb(10%,10%,16%)\" stroke-dasharray=\"5 5\" x1=\"85\" x2=\"155\" y1=\"160\" y2=\"160\" /><line stroke=\"rgb(10%,10%,16%)\" stroke-dasharray=\"5 5\" x1=\"165\" x2=\"235\" y1=\"40\" y2=\"40\" /><line stroke=\"rgb(10%,10%,16%)\" stroke-dasharray=\"5 5\" x1=\"165\" x2=\"235\" y1=\"80\" y2=\"80\" /><line stroke=\"rgb(10%,10%,16%)\" stroke-dasharray=\"5 5\" x1=\"165\" x2=\"235\" y1=\"120\" y2=\"120\" /><line stroke=\"rgb(10%,10%,16%)\" stroke-dasharray=\"5 5\" x1=\"165\" x2=\"235\" y1=\"160\" y2=\"160\" /><line stroke=\"rgb(10%,10%,16%)\" stroke-dasharray=\"5 5\" x1=\"80\" x2=\"80\" y1=\"45\" y2=\"75\" /><line stroke=\"rgb(10%,10%,16%)\" stroke-dasharray=\"5 5\" x1=\"80\" x2=\"80\" y1=\"85\" y2=\"115\" /><line stroke=\"rgb(10%,10%,16%)\" stroke-dasharray=\"5 5\" x1=\"80\" x2=\"80\" y1=\"125\" y2=\"155\" /><line stroke=\"rgb(10%,10%,16%)\" stroke-dasharray=\"5 5\" x1=\"160\" x2=\"160\" y1=\"45\" y2=\"75\" /><line stroke=\"rgb(10%,10%,16%)\" stroke-dasharray=\"5 5\" x1=\"160\" x2=\"160\" y1=\"85\" y2=\"115\" /><line stroke=\"rgb(10%,10%,16%)\" stroke-dasharray=\"5 5\" x1=\"160\" x2=\"160\" y1=\"125\" y2=\"155\" /><line stroke=\"rgb(10%,10%,16%)\" stroke-dasharray=\"5 5\" x1=\"240\" x2=\"240\" y1=\"45\" y2=\"75\" /><line stroke=\"rgb(10%,10%,16%)\" stroke-dasharray=\"5 5\" x1=\"240\" x2=\"240\" y1=\"85\" y2=\"115\" /><line stroke=\"rgb(10%,10%,16%)\" stroke-dasharray=\"5 5\" x1=\"240\" x2=\"240\" y1=\"125\" y2=\"155\" /></svg> 1 / 2</div>\n",
       "<div class=\"item\"><svg baseProfile=\"full\" height=\"240\" version=\"1.1\" width=\"320\" xmlns=\"http://www.w3.org/2000/svg\" xmlns:ev=\"http://www.w3.org/2001/xml-events\" xmlns:xlink=\"http://www.w3.org/1999/xlink\"><defs><marker id=\"id4\" markerHeight=\"10\" markerWidth=\"10\" orient=\"auto\" refX=\"5\" refY=\"5\"><path d=\"M 0 0 L 10 5 L 0 10 z\" fill=\"blue\" /></marker></defs><text x=\"0\" y=\"40\">Noun</text><text x=\"0\" y=\"80\">Verb</text><text x=\"0\" y=\"120\">Modal</text><text x=\"0\" y=\"160\">Pronoun</text><text x=\"80\" y=\"200\">I</text><text x=\"160\" y=\"200\">can</text><text x=\"240\" y=\"200\">fly</text><line marker-end=\"url(#id4)\" stroke=\"rgb(10%,10%,16%)\" x1=\"80\" x2=\"160\" y1=\"160\" y2=\"120\" /><line marker-end=\"url(#id4)\" stroke=\"rgb(10%,10%,16%)\" x1=\"160\" x2=\"240\" y1=\"120\" y2=\"120\" /><text x=\"250\" y=\"80\">cost = 0</text><text x=\"80\" y=\"115\">rollin</text><text x=\"240\" y=\"115\">rollout</text><line stroke=\"rgb(10%,10%,16%)\" stroke-dasharray=\"5 5\" x1=\"85\" x2=\"155\" y1=\"40\" y2=\"40\" /><line stroke=\"rgb(10%,10%,16%)\" stroke-dasharray=\"5 5\" x1=\"85\" x2=\"155\" y1=\"80\" y2=\"80\" /><line stroke=\"rgb(10%,10%,16%)\" stroke-dasharray=\"5 5\" x1=\"85\" x2=\"155\" y1=\"120\" y2=\"120\" /><line stroke=\"rgb(10%,10%,16%)\" stroke-dasharray=\"5 5\" x1=\"85\" x2=\"155\" y1=\"160\" y2=\"160\" /><line stroke=\"rgb(10%,10%,16%)\" stroke-dasharray=\"5 5\" x1=\"165\" x2=\"235\" y1=\"40\" y2=\"40\" /><line stroke=\"rgb(10%,10%,16%)\" stroke-dasharray=\"5 5\" x1=\"165\" x2=\"235\" y1=\"80\" y2=\"80\" /><line stroke=\"rgb(10%,10%,16%)\" stroke-dasharray=\"5 5\" x1=\"165\" x2=\"235\" y1=\"120\" y2=\"120\" /><line stroke=\"rgb(10%,10%,16%)\" stroke-dasharray=\"5 5\" x1=\"165\" x2=\"235\" y1=\"160\" y2=\"160\" /><line stroke=\"rgb(10%,10%,16%)\" stroke-dasharray=\"5 5\" x1=\"80\" x2=\"80\" y1=\"45\" y2=\"75\" /><line stroke=\"rgb(10%,10%,16%)\" stroke-dasharray=\"5 5\" x1=\"80\" x2=\"80\" y1=\"85\" y2=\"115\" /><line stroke=\"rgb(10%,10%,16%)\" stroke-dasharray=\"5 5\" x1=\"80\" x2=\"80\" y1=\"125\" y2=\"155\" /><line stroke=\"rgb(10%,10%,16%)\" stroke-dasharray=\"5 5\" x1=\"160\" x2=\"160\" y1=\"45\" y2=\"75\" /><line stroke=\"rgb(10%,10%,16%)\" stroke-dasharray=\"5 5\" x1=\"160\" x2=\"160\" y1=\"85\" y2=\"115\" /><line stroke=\"rgb(10%,10%,16%)\" stroke-dasharray=\"5 5\" x1=\"160\" x2=\"160\" y1=\"125\" y2=\"155\" /><line stroke=\"rgb(10%,10%,16%)\" stroke-dasharray=\"5 5\" x1=\"240\" x2=\"240\" y1=\"45\" y2=\"75\" /><line stroke=\"rgb(10%,10%,16%)\" stroke-dasharray=\"5 5\" x1=\"240\" x2=\"240\" y1=\"85\" y2=\"115\" /><line stroke=\"rgb(10%,10%,16%)\" stroke-dasharray=\"5 5\" x1=\"240\" x2=\"240\" y1=\"125\" y2=\"155\" /></svg> 2 / 2</div>\n",
       "          </div>\n",
       "          <!-- Controls -->\n",
       "          <a href=\"#b6fdaafe-0d01-11e7-aed3-87cb68b3ef4a\" role=\"button2\" data-slide=\"prev\">Previous</a>\n",
       "          &nbsp\n",
       "          <a  href=\"#b6fdaafe-0d01-11e7-aed3-87cb68b3ef4a\" role=\"button2\" data-slide=\"next\">Next</a>\n",
       "        </div>\n",
       "        "
      ],
      "text/plain": [
       "<il_tutorial.util.Carousel at 0x7fd9d01e30b8>"
      ]
     },
     "execution_count": 6,
     "metadata": {},
     "output_type": "execute_result"
    }
   ],
   "source": [
    "cb2 = cg.draw_cost_breakdown(rows, columns, [(0,3),(1,2),(2,2)], \n",
    "                             cost, cost_cell, roll_in_cell=(0,2), roll_out_cell=(2,2))\n",
    "util.Carousel([cb1,cb2])"
   ]
  },
  {
   "cell_type": "code",
   "execution_count": null,
   "metadata": {
    "collapsed": true,
    "deletable": true,
    "editable": true
   },
   "outputs": [],
   "source": []
  }
 ],
 "metadata": {
  "celltoolbar": "Slideshow",
  "kernelspec": {
   "display_name": "Python 3",
   "language": "python",
   "name": "python3"
  },
  "language_info": {
   "codemirror_mode": {
    "name": "ipython",
    "version": 3
   },
   "file_extension": ".py",
   "mimetype": "text/x-python",
   "name": "python",
   "nbconvert_exporter": "python",
   "pygments_lexer": "ipython3",
   "version": "3.5.2"
  }
 },
 "nbformat": 4,
 "nbformat_minor": 0
}
